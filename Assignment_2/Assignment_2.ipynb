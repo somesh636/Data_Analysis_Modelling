{
 "cells": [
  {
   "cell_type": "code",
   "execution_count": 1,
   "metadata": {},
   "outputs": [],
   "source": [
    "# Import Packages\n",
    "import pandas as pd \n",
    "import numpy as np \n",
    "from scipy.io import loadmat \n",
    "from sklearn.preprocessing import StandardScaler\n",
    "from sklearn.model_selection import train_test_split\n",
    "from sklearn.model_selection import KFold\n",
    "from sklearn.neighbors import KNeighborsClassifier\n",
    "from sklearn import metrics\n",
    "from sklearn.model_selection import cross_val_score\n",
    "import matplotlib.pyplot as plt\n",
    "from sklearn.model_selection import GridSearchCV\n",
    "from sklearn import svm\n",
    "from sklearn.svm import SVC\n",
    "from sklearn.naive_bayes import GaussianNB\n",
    "from sklearn.tree import DecisionTreeClassifier\n",
    "import seaborn as sns\n",
    "from sklearn.metrics import classification_report"
   ]
  },
  {
   "cell_type": "markdown",
   "metadata": {},
   "source": [
    "# Question 1"
   ]
  },
  {
   "cell_type": "code",
   "execution_count": 2,
   "metadata": {},
   "outputs": [],
   "source": [
    "# Load the Dataset DataA.mat\n",
    "mat_dataA = loadmat(r'C:\\Users\\tonkh\\OneDrive\\Desktop\\ECE 657A\\Assignment\\Assignment2\\Assignment2\\Datasets\\DataA.mat')\n",
    "    "
   ]
  },
  {
   "cell_type": "code",
   "execution_count": 3,
   "metadata": {
    "tags": []
   },
   "outputs": [
    {
     "name": "stdout",
     "output_type": "stream",
     "text": [
      "Dataset A: \n",
      " {'__header__': b'MATLAB 5.0 MAT-file, Platform: PCWIN64, Created on: Tue Oct 21 15:46:48 2014', '__version__': '1.0', '__globals__': [], 'fea': array([[1, 2, 1, ..., 2, 2, 1],\n",
      "       [3, 3, 4, ..., 1, 3, 4],\n",
      "       [4, 1, 4, ..., 2, 4, 4],\n",
      "       ...,\n",
      "       [3, 4, 4, ..., 3, 1, 2],\n",
      "       [1, 4, 3, ..., 4, 3, 4],\n",
      "       [4, 3, 1, ..., 2, 4, 3]], dtype=uint8), 'gnd': array([[1],\n",
      "       [1],\n",
      "       [1],\n",
      "       ...,\n",
      "       [1],\n",
      "       [1],\n",
      "       [1]], dtype=int16)}\n"
     ]
    }
   ],
   "source": [
    "# DataA.mat\n",
    "print(\"Dataset A: \\n\", mat_dataA)"
   ]
  },
  {
   "cell_type": "code",
   "execution_count": 4,
   "metadata": {},
   "outputs": [],
   "source": [
    "# Get the Features from the matrix \n",
    "mat_features_datA = mat_dataA['fea']"
   ]
  },
  {
   "cell_type": "code",
   "execution_count": 5,
   "metadata": {},
   "outputs": [],
   "source": [
    "# Get the Labels from the Matrix \n",
    "mat_label_dataA = mat_dataA['gnd']"
   ]
  },
  {
   "cell_type": "code",
   "execution_count": 6,
   "metadata": {
    "tags": []
   },
   "outputs": [
    {
     "name": "stdout",
     "output_type": "stream",
     "text": [
      "Features from the Dataset: \n",
      "       0   1   2   3   4   5   6   7   8   9   ...  47  48  49  50  51  52  53  \\\n",
      "0      1   2   1   2   1   2   3   3   3   3  ...   4   3   2   3   4   2   2   \n",
      "1      3   3   4   2   1   2   2   4   3   2  ...   3   1   4   3   4   4   4   \n",
      "2      4   1   4   4   4   4   1   1   2   1  ...   1   1   2   1   1   4   2   \n",
      "3      1   4   1   1   3   3   4   4   3   4  ...   2   1   3   3   4   1   3   \n",
      "4      3   4   4   3   1   1   4   4   4   1  ...   4   3   1   3   2   1   4   \n",
      "...   ..  ..  ..  ..  ..  ..  ..  ..  ..  ..  ...  ..  ..  ..  ..  ..  ..  ..   \n",
      "2195   3   3   3   4   2   2   3   3   4   4  ...   2   1   4   3   3   4   1   \n",
      "2196   3   3   1   1   2   3   3   4   3   1  ...   4   2   1   3   1   2   3   \n",
      "2197   3   4   4   3   3   3   1   2   4   3  ...   2   4   3   3   4   1   2   \n",
      "2198   1   4   3   4   1   3   4   2   4   3  ...   4   2   4   2   2   2   4   \n",
      "2199   4   3   1   2   2   3   3   3   3   4  ...   3   4   3   3   4   3   4   \n",
      "\n",
      "      54  55  56  \n",
      "0      2   2   1  \n",
      "1      1   3   4  \n",
      "2      2   4   4  \n",
      "3      3   4   2  \n",
      "4      2   1   1  \n",
      "...   ..  ..  ..  \n",
      "2195   2   1   3  \n",
      "2196   4   2   3  \n",
      "2197   3   1   2  \n",
      "2198   4   3   4  \n",
      "2199   2   4   3  \n",
      "\n",
      "[2200 rows x 57 columns]\n"
     ]
    }
   ],
   "source": [
    "# Convert the Feature Matrix data into Pandas Dataframe\n",
    "df_features_dataA = pd.DataFrame(mat_features_datA)\n",
    "print(\"Features from the Dataset: \\n\", df_features_dataA)"
   ]
  },
  {
   "cell_type": "code",
   "execution_count": 7,
   "metadata": {
    "tags": []
   },
   "outputs": [
    {
     "name": "stdout",
     "output_type": "stream",
     "text": [
      "                0            1            2            3            4   \\\n",
      "count  2200.000000  2200.000000  2200.000000  2200.000000  2200.000000   \n",
      "mean      2.493182     2.529545     2.506818     2.526818     2.547727   \n",
      "std       1.103943     1.086542     1.098160     1.118780     1.081699   \n",
      "min       1.000000     1.000000     1.000000     1.000000     1.000000   \n",
      "25%       2.000000     2.000000     2.000000     2.000000     2.000000   \n",
      "50%       3.000000     3.000000     3.000000     3.000000     3.000000   \n",
      "75%       3.000000     3.000000     3.000000     4.000000     3.000000   \n",
      "max       4.000000     4.000000     4.000000     4.000000     4.000000   \n",
      "\n",
      "                5            6            7            8           9   ...  \\\n",
      "count  2200.000000  2200.000000  2200.000000  2200.000000  2200.00000  ...   \n",
      "mean      2.492727     2.550000     2.541364     2.553182     2.56500  ...   \n",
      "std       1.099399     1.109818     1.103600     1.126751     1.10822  ...   \n",
      "min       1.000000     1.000000     1.000000     1.000000     1.00000  ...   \n",
      "25%       2.000000     2.000000     2.000000     2.000000     2.00000  ...   \n",
      "50%       3.000000     3.000000     3.000000     3.000000     3.00000  ...   \n",
      "75%       3.000000     4.000000     3.000000     4.000000     4.00000  ...   \n",
      "max       4.000000     4.000000     4.000000     4.000000     4.00000  ...   \n",
      "\n",
      "                47           48           49           50           51  \\\n",
      "count  2200.000000  2200.000000  2200.000000  2200.000000  2200.000000   \n",
      "mean      2.475000     2.498636     2.497273     2.439091     2.495909   \n",
      "std       1.070635     1.104786     1.070499     1.093583     1.087354   \n",
      "min       1.000000     1.000000     1.000000     1.000000     1.000000   \n",
      "25%       2.000000     2.000000     2.000000     1.000000     2.000000   \n",
      "50%       2.000000     3.000000     2.000000     2.000000     2.000000   \n",
      "75%       3.000000     3.000000     3.000000     3.000000     3.000000   \n",
      "max       4.000000     4.000000     4.000000     4.000000     4.000000   \n",
      "\n",
      "                52           53           54           55           56  \n",
      "count  2200.000000  2200.000000  2200.000000  2200.000000  2200.000000  \n",
      "mean      2.482273     2.435909     2.500455     2.456364     2.512273  \n",
      "std       1.065672     1.089652     1.091952     1.093162     1.086456  \n",
      "min       1.000000     1.000000     1.000000     1.000000     1.000000  \n",
      "25%       2.000000     1.000000     2.000000     2.000000     2.000000  \n",
      "50%       2.000000     2.000000     3.000000     2.000000     3.000000  \n",
      "75%       3.000000     3.000000     3.000000     3.000000     3.000000  \n",
      "max       4.000000     4.000000     4.000000     4.000000     4.000000  \n",
      "\n",
      "[8 rows x 57 columns]\n"
     ]
    }
   ],
   "source": [
    "# Statistical Description of the Dataset\n",
    "print(df_features_dataA.describe())"
   ]
  },
  {
   "cell_type": "markdown",
   "metadata": {},
   "source": [
    "## Check For Missing Values in the Dataset  "
   ]
  },
  {
   "cell_type": "code",
   "execution_count": 8,
   "metadata": {
    "tags": []
   },
   "outputs": [
    {
     "name": "stdout",
     "output_type": "stream",
     "text": [
      "Total Number of Missing Values in the Dataset:  0\n"
     ]
    }
   ],
   "source": [
    "# Number of Missing Values in the Dataset \n",
    "print(\"Total Number of Missing Values in the Dataset: \",df_features_dataA.isna().sum().sum())\n"
   ]
  },
  {
   "cell_type": "markdown",
   "metadata": {},
   "source": [
    "#### There are no missing values in the dataset"
   ]
  },
  {
   "cell_type": "code",
   "execution_count": 9,
   "metadata": {
    "tags": []
   },
   "outputs": [
    {
     "name": "stdout",
     "output_type": "stream",
     "text": [
      "Number of Unique Lables in the Dataset:  [ 1 -1]\n"
     ]
    }
   ],
   "source": [
    "# Convert the Labels to Dataframe and Check for Unique Values \n",
    "df_label_dataA = pd.DataFrame(mat_label_dataA)\n",
    "print(\"Number of Unique Lables in the Dataset: \", df_label_dataA[0].unique())"
   ]
  },
  {
   "cell_type": "markdown",
   "metadata": {},
   "source": [
    "#### There are two unique labels in the data set -1 and 1"
   ]
  },
  {
   "cell_type": "markdown",
   "metadata": {},
   "source": [
    "## Question 1.1: - Z-Score Normalization"
   ]
  },
  {
   "cell_type": "code",
   "execution_count": 10,
   "metadata": {},
   "outputs": [],
   "source": [
    "# Z-Score Normalization\n",
    "ss = StandardScaler()\n",
    "ss.fit(df_features_dataA)\n",
    "z_standardized_dataA = ss.transform(df_features_dataA)"
   ]
  },
  {
   "cell_type": "code",
   "execution_count": 11,
   "metadata": {
    "tags": []
   },
   "outputs": [
    {
     "name": "stdout",
     "output_type": "stream",
     "text": [
      "Standardised DataA: \n",
      " [[-1.35289759 -0.48747864 -1.37244139 ... -0.4584159  -0.41756618\n",
      "  -1.39224875]\n",
      " [ 0.45920268  0.43308188  1.36002111 ... -1.37441497  0.49741947\n",
      "   1.36965138]\n",
      " [ 1.36525282 -1.40803915  1.36002111 ... -0.4584159   1.41240513\n",
      "   1.36965138]\n",
      " ...\n",
      " [ 0.45920268  1.35364239  1.36002111 ...  0.45758317 -1.33255183\n",
      "  -0.47161537]\n",
      " [-1.35289759  1.35364239  0.44920027 ...  1.37358225  0.49741947\n",
      "   1.36965138]\n",
      " [ 1.36525282  0.43308188 -1.37244139 ... -0.4584159   1.41240513\n",
      "   0.44901801]]\n"
     ]
    }
   ],
   "source": [
    "# Standardised Dataset \n",
    "print(\"Standardised DataA: \\n\",z_standardized_dataA)"
   ]
  },
  {
   "cell_type": "code",
   "execution_count": 12,
   "metadata": {
    "tags": []
   },
   "outputs": [
    {
     "name": "stdout",
     "output_type": "stream",
     "text": [
      "converted array is : [[1]\n",
      " [1]\n",
      " [1]\n",
      " ...\n",
      " [1]\n",
      " [1]\n",
      " [1]]\n"
     ]
    }
   ],
   "source": [
    "# Convert Labels to numpy array\n",
    "np_label_dataA = df_label_dataA.to_numpy()\n",
    "print(\"converted array is :\",np_label_dataA)"
   ]
  },
  {
   "cell_type": "markdown",
   "metadata": {},
   "source": [
    "### Randomnly spliting the data 70% of samples for taining and other 30% for testing\n",
    "### using hold-out scheme"
   ]
  },
  {
   "cell_type": "code",
   "execution_count": 13,
   "metadata": {
    "tags": []
   },
   "outputs": [
    {
     "name": "stdout",
     "output_type": "stream",
     "text": [
      " \n",
      " Features for Train Dataset: \n",
      " [[ 1.36525282 -0.48747864  0.44920027 ...  1.37358225  1.41240513\n",
      "   1.36965138]\n",
      " [-0.44684745 -0.48747864 -1.37244139 ...  1.37358225 -1.33255183\n",
      "   1.36965138]\n",
      " [-0.44684745  1.35364239 -1.37244139 ...  0.45758317 -1.33255183\n",
      "   0.44901801]\n",
      " ...\n",
      " [ 1.36525282 -0.48747864 -0.46162056 ... -0.4584159  -0.41756618\n",
      "   0.44901801]\n",
      " [ 0.45920268  0.43308188  0.44920027 ... -1.37441497  0.49741947\n",
      "   0.44901801]\n",
      " [-0.44684745  1.35364239 -0.46162056 ... -1.37441497 -0.41756618\n",
      "  -0.47161537]]\n",
      " \n",
      " Labels for the Train Dataset: \n",
      " [ 1  1 -1 ... -1 -1  1]\n"
     ]
    }
   ],
   "source": [
    "# Split the Dataset using Train Test Split \n",
    "x_train_dataA, x_test_dataA, y_train_dataA, y_test_dataA = train_test_split(z_standardized_dataA,np_label_dataA.ravel(),test_size = 0.3, random_state = 42)\n",
    "\n",
    "print(\" \\n Features for Train Dataset: \\n\", x_train_dataA)\n",
    "print(\" \\n Labels for the Train Dataset: \\n\", y_train_dataA)"
   ]
  },
  {
   "cell_type": "markdown",
   "metadata": {},
   "source": [
    "#### The hold out method is kind of cross validation method where the dataset is split into training and test set. Later the model is trained on only traning set and then output values are predicted using the same model for the Test set. \n",
    "\n",
    "#### Advantages:\n",
    "Easier to compute\n",
    "\n",
    "#### Disadvantage:\n",
    "1. Sometimes evaluation has higher variance\n",
    "2. It depends on what datapoints are in test set and what in training set so it depends on split heavily."
   ]
  },
  {
   "cell_type": "markdown",
   "metadata": {},
   "source": [
    "## Question 1.2: 5-fold Cross Validation on Training set to select the Parameters k for k_NN from given set and plot"
   ]
  },
  {
   "cell_type": "code",
   "execution_count": 14,
   "metadata": {
    "tags": []
   },
   "outputs": [
    {
     "name": "stdout",
     "output_type": "stream",
     "text": [
      "Set of parameters for k value is: \n",
      " [1, 3, 5, 7, 9, 11, 13, 15, 17, 19, 21, 23, 25, 27, 29, 31]\n"
     ]
    }
   ],
   "source": [
    "# Create a list for k from 1 to 31 \n",
    "k_list=list(range(1,32,2))\n",
    "print(\"Set of parameters for k value is: \\n\",k_list)"
   ]
  },
  {
   "cell_type": "code",
   "execution_count": 15,
   "metadata": {
    "tags": []
   },
   "outputs": [
    {
     "name": "stdout",
     "output_type": "stream",
     "text": [
      "For k: 1, Accuracies: [0.69805195 0.69805195 0.69155844 0.72077922 0.72402597]\n",
      "For k: 3, Accuracies: [0.7012987  0.73376623 0.70779221 0.73701299 0.71753247]\n",
      "For k: 5, Accuracies: [0.72727273 0.73376623 0.75324675 0.72402597 0.71103896]\n",
      "For k: 7, Accuracies: [0.73701299 0.74675325 0.73376623 0.73051948 0.7012987 ]\n",
      "For k: 9, Accuracies: [0.74675325 0.75324675 0.73701299 0.72402597 0.69805195]\n",
      "For k: 11, Accuracies: [0.75649351 0.76298701 0.71103896 0.73051948 0.69805195]\n",
      "For k: 13, Accuracies: [0.73701299 0.77272727 0.71103896 0.74350649 0.71428571]\n",
      "For k: 15, Accuracies: [0.72727273 0.75324675 0.73376623 0.75324675 0.72077922]\n",
      "For k: 17, Accuracies: [0.72077922 0.75       0.72727273 0.76298701 0.71428571]\n",
      "For k: 19, Accuracies: [0.72077922 0.73701299 0.72077922 0.75       0.70454545]\n",
      "For k: 21, Accuracies: [0.71103896 0.75       0.70779221 0.75974026 0.69805195]\n",
      "For k: 23, Accuracies: [0.68831169 0.75       0.71103896 0.76623377 0.71103896]\n",
      "For k: 25, Accuracies: [0.69155844 0.75974026 0.71428571 0.74350649 0.71103896]\n",
      "For k: 27, Accuracies: [0.69155844 0.76298701 0.71753247 0.74025974 0.7012987 ]\n",
      "For k: 29, Accuracies: [0.69805195 0.74025974 0.71428571 0.73701299 0.71103896]\n",
      "For k: 31, Accuracies: [0.69805195 0.74350649 0.70454545 0.73376623 0.71103896]\n",
      "Mean of accuracy scores: \n",
      " [0.7064935064935064, 0.7194805194805195, 0.7298701298701299, 0.7298701298701298, 0.7318181818181817, 0.7318181818181817, 0.7357142857142858, 0.7376623376623377, 0.7350649350649351, 0.7266233766233767, 0.7253246753246754, 0.7253246753246754, 0.724025974025974, 0.7227272727272728, 0.7201298701298702, 0.7181818181818181]\n"
     ]
    }
   ],
   "source": [
    "# empty list to store accuracy\n",
    "K_accuracy=[]\n",
    "\n",
    "# looping through given values of k\n",
    "for k in k_list:\n",
    "    # 2. KNeighborsClassifier with k neighbours\n",
    "    knn = KNeighborsClassifier(n_neighbors = k)\n",
    "    # 3. cross_val_score for KNeighborsClassifier with k neighbours\n",
    "    accuracy = cross_val_score(knn, x_train_dataA, y_train_dataA, cv=5, scoring = 'accuracy')\n",
    "    print(\"For k: {0}, Accuracies: {1}\".format(k, accuracy))\n",
    "    #4. append mean of scores for k neighbours to k_accuracy list\n",
    "    K_accuracy.append(accuracy.mean())\n",
    "\n",
    "print(\"Mean of accuracy scores: \\n\", K_accuracy)\n"
   ]
  },
  {
   "cell_type": "code",
   "execution_count": 16,
   "metadata": {},
   "outputs": [
    {
     "data": {
      "image/png": "[encoded data removed]",
      "text/plain": [
       "<Figure size 432x288 with 1 Axes>"
      ]
     },
     "metadata": {
      "needs_background": "light"
     },
     "output_type": "display_data"
    }
   ],
   "source": [
    "plt.plot(k_list, K_accuracy, label = 'Accuracy')\n",
    "plt.xlabel('Value of K for KNN (K) ')\n",
    "plt.ylabel('Cross-validated Accuracy')\n",
    "plt.title('Relationship between Accuracy and Parameter K')\n",
    "plt.legend(loc = 'best')\n",
    "plt.show()"
   ]
  },
  {
   "cell_type": "code",
   "execution_count": 17,
   "metadata": {
    "tags": []
   },
   "outputs": [
    {
     "name": "stdout",
     "output_type": "stream",
     "text": [
      "The best Calculation accuracy is : 0.7376623376623377\n"
     ]
    }
   ],
   "source": [
    "# Get the Maximum Value of Accuracy Score \n",
    "print('The best Calculation accuracy is :' , max(K_accuracy))\n"
   ]
  },
  {
   "cell_type": "markdown",
   "metadata": {},
   "source": [
    "#### The Best Calculation accuracy of 0.7376623376623377 ie. 73.77% is best for value of K = 15\n",
    "\n",
    "#### Hence the Best K in term of Classification Accuracy is 15. "
   ]
  },
  {
   "cell_type": "markdown",
   "metadata": {},
   "source": [
    "## Question 1.3: RBF Kernel best parameter selection in terms of classification accuracy"
   ]
  },
  {
   "cell_type": "code",
   "execution_count": 18,
   "metadata": {
    "tags": []
   },
   "outputs": [
    {
     "name": "stdout",
     "output_type": "stream",
     "text": [
      "Dicitionary of Parameters C and Gamma: \n",
      "  {'C': [0.1, 0.5, 1, 2, 5, 10, 20, 50], 'gamma': [0.01, 0.05, 0.1, 0.5, 1, 2, 5, 10]}\n"
     ]
    }
   ],
   "source": [
    "# Dicitionary of Parameters C and Gamma\n",
    "c = [0.1, 0.5, 1, 2, 5, 10, 20, 50]\n",
    "gamma = [0.01, 0.05 , 0.1, 0.5, 1, 2, 5, 10]\n",
    "param_dict = dict(C = c, gamma = gamma)\n",
    "print(\"Dicitionary of Parameters C and Gamma: \\n \",param_dict)"
   ]
  },
  {
   "cell_type": "code",
   "execution_count": 19,
   "metadata": {},
   "outputs": [],
   "source": [
    "# Data fitted with best parameters \n",
    "clf = svm.SVC(kernel = 'rbf')\n",
    "search = GridSearchCV(clf, param_dict, cv = 5, scoring = 'accuracy').fit(x_train_dataA, y_train_dataA)"
   ]
  },
  {
   "cell_type": "code",
   "execution_count": 20,
   "metadata": {
    "tags": []
   },
   "outputs": [
    {
     "name": "stdout",
     "output_type": "stream",
     "text": [
      " Best Score from Grid Search:  0.9045454545454547\n"
     ]
    }
   ],
   "source": [
    "# Best Score for the Search \n",
    "print(\" Best Score from Grid Search: \",search.best_score_)\n",
    "    "
   ]
  },
  {
   "cell_type": "code",
   "execution_count": 21,
   "metadata": {
    "tags": []
   },
   "outputs": [
    {
     "name": "stdout",
     "output_type": "stream",
     "text": [
      "Best Parameters from the Grid Search: \n",
      " {'C': 10, 'gamma': 0.01}\n"
     ]
    }
   ],
   "source": [
    "# Best Parameters from the Grid Search \n",
    "print(\"Best Parameters from the Grid Search: \\n\", search.best_params_)\n",
    "           "
   ]
  },
  {
   "cell_type": "markdown",
   "metadata": {},
   "source": [
    "#### The best parameters are : The best Soft Margin penality 'c' is 10 and gamma is 0.01"
   ]
  },
  {
   "cell_type": "markdown",
   "metadata": {},
   "source": [
    "## Question 1.4:  "
   ]
  },
  {
   "cell_type": "code",
   "execution_count": 22,
   "metadata": {
    "tags": []
   },
   "outputs": [
    {
     "name": "stdout",
     "output_type": "stream",
     "text": [
      "Feature Test Set: \n",
      " [[ 1.36525282 -0.48747864 -0.46162056 ... -1.37441497 -0.41756618\n",
      "   0.44901801]\n",
      " [-1.35289759  1.35364239 -1.37244139 ...  1.37358225  0.49741947\n",
      "  -1.39224875]\n",
      " [ 0.45920268  0.43308188  1.36002111 ...  1.37358225  1.41240513\n",
      "   0.44901801]\n",
      " ...\n",
      " [ 1.36525282 -1.40803915  1.36002111 ...  1.37358225 -0.41756618\n",
      "   1.36965138]\n",
      " [ 0.45920268  1.35364239  0.44920027 ...  1.37358225  1.41240513\n",
      "   0.44901801]\n",
      " [ 1.36525282  1.35364239  0.44920027 ...  0.45758317  1.41240513\n",
      "   0.44901801]]\n",
      "Label Test Set: \n",
      " [-1  1  1 -1  1 -1  1 -1 -1 -1 -1 -1  1  1  1 -1  1  1  1 -1 -1  1 -1 -1\n",
      " -1  1  1  1  1 -1  1 -1 -1  1 -1 -1 -1  1 -1 -1  1 -1  1 -1  1  1 -1 -1\n",
      "  1 -1  1  1  1 -1  1 -1  1  1  1 -1  1  1 -1 -1 -1  1 -1 -1  1  1  1 -1\n",
      " -1 -1  1  1  1  1 -1  1  1  1  1 -1 -1  1  1 -1 -1 -1 -1  1  1  1 -1 -1\n",
      "  1  1 -1  1  1 -1  1  1  1 -1  1 -1 -1  1 -1  1 -1  1  1 -1  1 -1  1 -1\n",
      "  1 -1 -1  1  1  1 -1 -1  1 -1  1 -1 -1 -1 -1  1  1  1  1  1  1  1  1 -1\n",
      "  1  1  1  1  1  1 -1 -1 -1  1 -1  1  1 -1 -1  1  1  1 -1  1  1 -1 -1 -1\n",
      "  1  1 -1  1  1  1 -1  1 -1 -1 -1 -1 -1 -1  1 -1  1 -1  1  1  1 -1 -1  1\n",
      " -1  1  1  1  1  1 -1  1  1  1 -1 -1 -1  1 -1  1 -1 -1  1  1  1  1 -1 -1\n",
      " -1 -1 -1  1 -1 -1  1 -1  1 -1  1 -1  1 -1  1  1 -1  1  1 -1  1 -1 -1  1\n",
      " -1 -1  1 -1  1  1  1  1 -1  1  1 -1 -1  1  1  1 -1 -1 -1 -1 -1 -1 -1 -1\n",
      " -1 -1 -1  1 -1  1  1 -1  1  1 -1 -1  1 -1  1 -1 -1 -1  1  1 -1  1 -1 -1\n",
      "  1 -1  1  1  1  1 -1 -1 -1 -1  1 -1  1  1 -1 -1  1  1  1 -1 -1 -1  1  1\n",
      " -1 -1 -1 -1  1  1 -1  1  1 -1  1 -1  1  1 -1 -1  1  1  1 -1  1  1  1 -1\n",
      " -1 -1 -1  1 -1 -1  1  1  1  1  1  1  1 -1 -1  1 -1 -1  1 -1 -1  1 -1  1\n",
      "  1 -1  1  1  1 -1  1 -1 -1  1  1 -1  1 -1 -1 -1 -1 -1 -1 -1  1 -1  1 -1\n",
      " -1  1 -1  1  1 -1 -1 -1  1 -1  1  1  1  1  1 -1 -1  1 -1  1 -1 -1  1  1\n",
      " -1  1 -1 -1  1  1  1 -1  1 -1 -1 -1 -1 -1 -1 -1 -1 -1 -1 -1  1  1 -1 -1\n",
      " -1 -1 -1 -1 -1  1 -1  1  1  1 -1 -1  1  1 -1 -1 -1 -1 -1  1 -1  1  1  1\n",
      "  1 -1 -1 -1 -1 -1 -1  1  1 -1 -1  1 -1 -1 -1  1  1 -1  1 -1 -1 -1 -1  1\n",
      " -1  1 -1  1 -1  1 -1 -1  1  1 -1 -1  1  1  1 -1  1  1  1 -1  1  1  1 -1\n",
      " -1 -1  1  1 -1 -1  1 -1  1  1 -1  1  1 -1 -1 -1  1  1  1  1  1 -1 -1 -1\n",
      " -1 -1  1  1  1 -1 -1  1 -1  1  1  1 -1 -1  1 -1 -1 -1  1  1 -1 -1  1  1\n",
      "  1 -1 -1 -1 -1 -1  1  1 -1 -1  1 -1  1  1 -1  1  1 -1 -1  1  1 -1 -1  1\n",
      "  1  1 -1  1 -1 -1  1 -1 -1 -1  1 -1  1 -1 -1  1 -1  1 -1 -1 -1 -1 -1  1\n",
      "  1 -1  1 -1  1 -1 -1 -1  1  1  1  1 -1 -1  1 -1  1  1  1 -1 -1 -1  1  1\n",
      "  1  1  1 -1  1  1 -1 -1 -1 -1  1  1 -1 -1  1 -1 -1  1  1  1  1 -1  1  1\n",
      " -1 -1 -1  1 -1 -1 -1  1 -1  1 -1  1]\n"
     ]
    }
   ],
   "source": [
    "# Feature Test set and Label Test Set \n",
    "print(\"Feature Test Set: \\n\",x_test_dataA)\n",
    "print(\"Label Test Set: \\n\",y_test_dataA)"
   ]
  },
  {
   "cell_type": "markdown",
   "metadata": {},
   "source": [
    "### KNN Classifier"
   ]
  },
  {
   "cell_type": "code",
   "execution_count": 23,
   "metadata": {
    "tags": []
   },
   "outputs": [
    {
     "name": "stdout",
     "output_type": "stream",
     "text": [
      "Accuracy is : 0.75\n",
      "Precision is : 0.9202127659574468\n",
      "Recall is : 0.5356037151702786\n",
      "F1-Score is : 0.6771037181996086\n"
     ]
    }
   ],
   "source": [
    "# For K-NN using above parameters to classify the test set \n",
    "# k = 15 gave best classification accuracy\n",
    "\n",
    "Knn_model = KNeighborsClassifier(n_neighbors = 15)\n",
    "Knn_model.fit(x_train_dataA,y_train_dataA)\n",
    "\n",
    "y_pred_KNN = Knn_model.predict(x_test_dataA)\n",
    "\n",
    "# comparison between actual and predicted response\n",
    "print(\"Accuracy is :\",metrics.accuracy_score(y_test_dataA, y_pred_KNN))\n",
    "print(\"Precision is :\",metrics.precision_score(y_test_dataA, y_pred_KNN))\n",
    "print(\"Recall is :\",metrics.recall_score(y_test_dataA, y_pred_KNN))\n",
    "print(\"F1-Score is :\",metrics.f1_score(y_test_dataA, y_pred_KNN))"
   ]
  },
  {
   "cell_type": "code",
   "execution_count": 24,
   "metadata": {
    "tags": []
   },
   "outputs": [
    {
     "name": "stdout",
     "output_type": "stream",
     "text": [
      "Classification Report for KNN: \n",
      "               precision    recall  f1-score   support\n",
      "\n",
      "          -1       0.68      0.96      0.80       337\n",
      "           1       0.92      0.54      0.68       323\n",
      "\n",
      "    accuracy                           0.75       660\n",
      "   macro avg       0.80      0.75      0.74       660\n",
      "weighted avg       0.80      0.75      0.74       660\n",
      "\n"
     ]
    }
   ],
   "source": [
    "# Classification Report for Each Class for KNN\n",
    "print(\"Classification Report for KNN: \\n\", classification_report(y_test_dataA, y_pred_KNN))"
   ]
  },
  {
   "cell_type": "markdown",
   "metadata": {},
   "source": [
    "### SVM Classifier "
   ]
  },
  {
   "cell_type": "code",
   "execution_count": 25,
   "metadata": {
    "tags": []
   },
   "outputs": [
    {
     "name": "stdout",
     "output_type": "stream",
     "text": [
      "Accuracy is : 0.9075757575757576\n",
      "Precision is : 0.9145569620253164\n",
      "Recall is : 0.8947368421052632\n",
      "F1-Score is : 0.9045383411580594\n"
     ]
    }
   ],
   "source": [
    "# For SVM using above parameters to classify the test set\n",
    "SVN_model = SVC(C = 10,gamma = 0.01)\n",
    "SVN_model.fit(x_train_dataA,y_train_dataA)\n",
    "\n",
    "y_pred_SVN = SVN_model.predict(x_test_dataA)\n",
    "\n",
    "# comparison between actual and predicted response\n",
    "print(\"Accuracy is :\",metrics.accuracy_score(y_test_dataA, y_pred_SVN))\n",
    "print(\"Precision is :\",metrics.precision_score(y_test_dataA, y_pred_SVN))\n",
    "print(\"Recall is :\",metrics.recall_score(y_test_dataA, y_pred_SVN))\n",
    "print(\"F1-Score is :\",metrics.f1_score(y_test_dataA, y_pred_SVN))"
   ]
  },
  {
   "cell_type": "code",
   "execution_count": 26,
   "metadata": {
    "tags": []
   },
   "outputs": [
    {
     "name": "stdout",
     "output_type": "stream",
     "text": [
      "Classification Report for SVM: \n",
      "               precision    recall  f1-score   support\n",
      "\n",
      "          -1       0.90      0.92      0.91       337\n",
      "           1       0.91      0.89      0.90       323\n",
      "\n",
      "    accuracy                           0.91       660\n",
      "   macro avg       0.91      0.91      0.91       660\n",
      "weighted avg       0.91      0.91      0.91       660\n",
      "\n"
     ]
    }
   ],
   "source": [
    "# Classification Report for Each Class for SVM\n",
    "print(\"Classification Report for SVM: \\n\", classification_report(y_test_dataA, y_pred_SVN))"
   ]
  },
  {
   "cell_type": "markdown",
   "metadata": {},
   "source": [
    "### Gaussian Naive Bayes "
   ]
  },
  {
   "cell_type": "code",
   "execution_count": 27,
   "metadata": {
    "tags": []
   },
   "outputs": [
    {
     "name": "stdout",
     "output_type": "stream",
     "text": [
      "Accuracy is : 0.8818181818181818\n",
      "Precision is : 0.8792569659442725\n",
      "Recall is : 0.8792569659442725\n",
      "F1-Score is : 0.8792569659442725\n"
     ]
    }
   ],
   "source": [
    "# Using default setups for Naive Bayes Classifier to classify test set\n",
    "NB_model = GaussianNB()\n",
    "NB_model.fit(x_train_dataA,y_train_dataA)\n",
    "\n",
    "y_pred_NB = NB_model.predict(x_test_dataA)\n",
    "\n",
    "# comparison between actual and predicted response\n",
    "print(\"Accuracy is :\",metrics.accuracy_score(y_test_dataA, y_pred_NB))\n",
    "print(\"Precision is :\",metrics.precision_score(y_test_dataA, y_pred_NB))\n",
    "print(\"Recall is :\",metrics.recall_score(y_test_dataA, y_pred_NB))\n",
    "print(\"F1-Score is :\",metrics.f1_score(y_test_dataA, y_pred_NB))"
   ]
  },
  {
   "cell_type": "code",
   "execution_count": 28,
   "metadata": {
    "tags": []
   },
   "outputs": [
    {
     "name": "stdout",
     "output_type": "stream",
     "text": [
      "Classification Report for  Gaussian Naive Bayes: \n",
      "               precision    recall  f1-score   support\n",
      "\n",
      "          -1       0.88      0.88      0.88       337\n",
      "           1       0.88      0.88      0.88       323\n",
      "\n",
      "    accuracy                           0.88       660\n",
      "   macro avg       0.88      0.88      0.88       660\n",
      "weighted avg       0.88      0.88      0.88       660\n",
      "\n"
     ]
    }
   ],
   "source": [
    "# Classification Report for Each Class for Gaussian Naive Bayes\n",
    "print(\"Classification Report for  Gaussian Naive Bayes: \\n\", classification_report(y_test_dataA, y_pred_NB))"
   ]
  },
  {
   "cell_type": "markdown",
   "metadata": {},
   "source": [
    "### Decision Tree"
   ]
  },
  {
   "cell_type": "code",
   "execution_count": 29,
   "metadata": {
    "tags": []
   },
   "outputs": [
    {
     "name": "stdout",
     "output_type": "stream",
     "text": [
      "Accuracy is : 0.9272727272727272\n",
      "Precision is : 0.9310344827586207\n",
      "Recall is : 0.9195046439628483\n",
      "F1-Score is : 0.9252336448598131\n"
     ]
    }
   ],
   "source": [
    "# Using default setups for Decision Trees to classify test set\n",
    "DT_model = DecisionTreeClassifier()\n",
    "DT_model.fit(x_train_dataA,y_train_dataA)\n",
    "\n",
    "y_pred_DT = DT_model.predict(x_test_dataA)\n",
    "\n",
    "# comparison between actual and predicted response\n",
    "print(\"Accuracy is :\",metrics.accuracy_score(y_test_dataA, y_pred_DT))\n",
    "print(\"Precision is :\",metrics.precision_score(y_test_dataA, y_pred_DT))\n",
    "print(\"Recall is :\",metrics.recall_score(y_test_dataA, y_pred_DT))\n",
    "print(\"F1-Score is :\",metrics.f1_score(y_test_dataA, y_pred_DT))"
   ]
  },
  {
   "cell_type": "code",
   "execution_count": 30,
   "metadata": {
    "tags": []
   },
   "outputs": [
    {
     "name": "stdout",
     "output_type": "stream",
     "text": [
      "Classification Report for Decision Trees: \n",
      "               precision    recall  f1-score   support\n",
      "\n",
      "          -1       0.92      0.93      0.93       337\n",
      "           1       0.93      0.92      0.93       323\n",
      "\n",
      "    accuracy                           0.93       660\n",
      "   macro avg       0.93      0.93      0.93       660\n",
      "weighted avg       0.93      0.93      0.93       660\n",
      "\n"
     ]
    }
   ],
   "source": [
    "# Classification Report for Each Class for Decision Trees\n",
    "print(\"Classification Report for Decision Trees: \\n\", classification_report(y_test_dataA, y_pred_DT))"
   ]
  },
  {
   "cell_type": "markdown",
   "metadata": {},
   "source": [
    "### KNN Classifier with 20 Iterations"
   ]
  },
  {
   "cell_type": "code",
   "execution_count": 38,
   "metadata": {
    "tags": []
   },
   "outputs": [
    {
     "name": "stdout",
     "output_type": "stream",
     "text": [
      "Acuracy list is : [0.7818181818181819, 0.7545454545454545, 0.7227272727272728, 0.759090909090909, 0.7575757575757576, 0.7378787878787879, 0.7803030303030303, 0.75, 0.7272727272727273, 0.7757575757575758, 0.7151515151515152, 0.7045454545454546, 0.7166666666666667, 0.7681818181818182, 0.7439393939393939, 0.7484848484848485, 0.7424242424242424, 0.7242424242424242, 0.7333333333333333, 0.746969696969697, 0.7378787878787879]\n",
      "\n",
      "\n",
      "Precision list is : [0.9748743718592965, 0.9572192513368984, 0.9714285714285714, 0.9637305699481865, 0.9575471698113207, 0.9521276595744681, 0.9660194174757282, 0.9651741293532339, 0.9421052631578948, 0.9690721649484536, 0.9828571428571429, 0.9378531073446328, 0.9662921348314607, 0.9635416666666666, 0.9896907216494846, 0.9567567567567568, 0.9646464646464646, 0.9651162790697675, 0.9606741573033708, 0.9646464646464646, 0.9779005524861878]\n",
      "\n",
      "\n",
      "Recall list is: [0.5825825825825826, 0.5375375375375375, 0.4885057471264368, 0.5502958579881657, 0.5734463276836158, 0.521865889212828, 0.5905044510385756, 0.5511363636363636, 0.514367816091954, 0.5696969696969697, 0.48179271708683474, 0.4742857142857143, 0.48725212464589235, 0.5589123867069486, 0.5348189415041783, 0.5283582089552239, 0.53954802259887, 0.4853801169590643, 0.5029411764705882, 0.5441595441595442, 0.5115606936416185]\n",
      "\n",
      "\n",
      "F1-Score list is: [0.7293233082706767, 0.6884615384615385, 0.6500956022944551, 0.7005649717514124, 0.7173144876325089, 0.6741996233521657, 0.732965009208103, 0.7016274864376131, 0.6654275092936803, 0.717557251908397, 0.6466165413533834, 0.6299810246679318, 0.647834274952919, 0.7074569789674953, 0.6943942133815553, 0.6807692307692309, 0.6920289855072463, 0.6459143968871596, 0.6602316602316602, 0.6958105646630237, 0.6717267552182162]\n",
      "\n",
      " Mean for accuracy in case of KNN is:  0.7442279942279942\n",
      "\n",
      " Standard Deviation for accuracy in case of KNN is:  0.021132705635035186\n",
      "\n",
      "\n",
      "mean for precision list in case of KNN is 0.9642511436739261\n",
      "\n",
      "\n",
      "Standard Deviation for precision list in case of KNN is 0.011700384104702295\n",
      "\n",
      "\n",
      "mean for recall score in case of KNN is 0.5299499614099764\n",
      "\n",
      "\n",
      "Standard Deviation for recall score in case of KNN is 0.03402303748050454\n",
      "\n",
      "\n",
      "mean for f1 score in case of KNN is 0.6833476864385892\n",
      "\n",
      "\n",
      "Standard Deviation for f1 score in case of KNN is 0.02889766938216869\n",
      "\n",
      "\n"
     ]
    }
   ],
   "source": [
    "# Repeating above steps 20 times by varying the split of training-test set as in Step 1\n",
    "\n",
    "# for KNN\n",
    "Knn_model2 = KNeighborsClassifier(n_neighbors=15)\n",
    "# Classification based on KNN\n",
    "random_seed_iterations = range(1,42,2)\n",
    "KNN_accuracy_list=[] \n",
    "KNN_precision_list=[]\n",
    "KNN_recall_list=[]\n",
    "KNN_f1_list=[]\n",
    "\n",
    "# Iteration for Retraining\n",
    "for i in random_seed_iterations:\n",
    "\n",
    "    # Random Dataset Split\n",
    "    x_train_dataA_KNN, x_test_dataA_KNN, y_train_dataA_KNN, y_test_dataA_KNN = train_test_split(z_standardized_dataA,np_label_dataA.ravel(),test_size =0.3, random_state = i)\n",
    "\n",
    "    # Training the Model\n",
    "    Knn_model2.fit(x_train_dataA_KNN, y_train_dataA_KNN)\n",
    "\n",
    "    # Test Dataset Prediction\n",
    "    y_predict_KNN_list = Knn_model2.predict(x_test_dataA_KNN)\n",
    "    \n",
    "    # Classification Accuracy\n",
    "    accuracy = metrics.accuracy_score(y_test_dataA_KNN, y_predict_KNN_list)\n",
    "    KNN_accuracy_list.append(accuracy)\n",
    "    \n",
    "    # Precision\n",
    "    precision = metrics.precision_score(y_test_dataA_KNN, y_predict_KNN_list)\n",
    "    KNN_precision_list.append(precision)\n",
    "                                    \n",
    "    # Recall\n",
    "    recall = metrics.recall_score(y_test_dataA_KNN, y_predict_KNN_list)\n",
    "    KNN_recall_list.append(recall)\n",
    "    \n",
    "    # F1-score\n",
    "    f1score = metrics.f1_score(y_test_dataA_KNN, y_predict_KNN_list)\n",
    "    KNN_f1_list.append(f1score)\n",
    "\n",
    "\n",
    "print(\"Acuracy list is :\",KNN_accuracy_list)\n",
    "print(\"\\n\")\n",
    "print(\"Precision list is :\",KNN_precision_list)\n",
    "print(\"\\n\")\n",
    "print(\"Recall list is:\",KNN_recall_list)\n",
    "print(\"\\n\")\n",
    "print(\"F1-Score list is:\",KNN_f1_list)\n",
    "\n",
    "# Average and standard Deviation of Classification values\n",
    "\n",
    "mean_accuracy_list_KNN = sum(KNN_accuracy_list)/len(KNN_accuracy_list)\n",
    "variance_accuracy_list_KNN = sum([((x-mean_accuracy_list_KNN)**2) for x in KNN_accuracy_list])/len(KNN_accuracy_list)\n",
    "sd_accuracy_list_KNN = variance_accuracy_list_KNN**0.5\n",
    "\n",
    "print(\"\\n Mean for accuracy in case of KNN is: \",mean_accuracy_list_KNN)\n",
    "print(\"\\n Standard Deviation for accuracy in case of KNN is: \",sd_accuracy_list_KNN)\n",
    "print(\"\\n\")\n",
    "\n",
    "mean_precision_list_KNN=sum(KNN_precision_list)/len(KNN_precision_list)\n",
    "variance_precision_list_KNN=sum([((x-mean_precision_list_KNN)**2) for x in KNN_precision_list])/len(KNN_precision_list)\n",
    "sd_precision_list_KNN=variance_precision_list_KNN**0.5\n",
    "\n",
    "print(\"mean for precision list in case of KNN is\",mean_precision_list_KNN)\n",
    "print(\"\\n\")\n",
    "print(\"Standard Deviation for precision list in case of KNN is\",sd_precision_list_KNN)\n",
    "print(\"\\n\")\n",
    "\n",
    "mean_recall_score_list_KNN=sum(KNN_recall_list)/len(KNN_recall_list)\n",
    "variance_recall_score_list_KNN=sum([((x-mean_recall_score_list_KNN)**2) for x in KNN_recall_list])/len(KNN_recall_list)\n",
    "sd_recall_score_list_KNN=variance_recall_score_list_KNN**0.5\n",
    "\n",
    "print(\"mean for recall score in case of KNN is\",mean_recall_score_list_KNN)\n",
    "print(\"\\n\")\n",
    "print(\"Standard Deviation for recall score in case of KNN is\",sd_recall_score_list_KNN)\n",
    "print(\"\\n\")\n",
    "\n",
    "mean_f1_score_list_KNN=sum(KNN_f1_list)/len(KNN_f1_list)\n",
    "variance_f1_score_list_KNN=sum([((x-mean_f1_score_list_KNN)**2) for x in KNN_f1_list])/len(KNN_f1_list)\n",
    "sd_f1_score_list_KNN=variance_f1_score_list_KNN**0.5\n",
    "\n",
    "print(\"mean for f1 score in case of KNN is\",mean_f1_score_list_KNN)\n",
    "print(\"\\n\")\n",
    "print(\"Standard Deviation for f1 score in case of KNN is\",sd_f1_score_list_KNN)\n",
    "print(\"\\n\")\n"
   ]
  },
  {
   "cell_type": "markdown",
   "metadata": {},
   "source": [
    "### SVM Classifier with 20 Iterations"
   ]
  },
  {
   "cell_type": "code",
   "execution_count": 42,
   "metadata": {
    "tags": []
   },
   "outputs": [
    {
     "name": "stdout",
     "output_type": "stream",
     "text": [
      "Acuracy list is : [0.9227272727272727, 0.9121212121212121, 0.9121212121212121, 0.9075757575757576, 0.9, 0.8742424242424243, 0.8939393939393939, 0.9181818181818182, 0.906060606060606, 0.9136363636363637, 0.8893939393939394, 0.8893939393939394, 0.9090909090909091, 0.9166666666666666, 0.9196969696969697, 0.9136363636363637, 0.9075757575757576, 0.9, 0.8954545454545455, 0.9045454545454545, 0.9106060606060606]\n",
      "\n",
      "\n",
      "Precision list is : [0.937888198757764, 0.8962536023054755, 0.9289940828402367, 0.9287925696594427, 0.9022346368715084, 0.8846153846153846, 0.8985074626865671, 0.9408284023668639, 0.9255952380952381, 0.9174311926605505, 0.9303030303030303, 0.9134328358208955, 0.9347181008902077, 0.9394904458598726, 0.9371428571428572, 0.9237804878048781, 0.9197707736389685, 0.8942857142857142, 0.9118541033434651, 0.9285714285714286, 0.9309309309309309]\n",
      "\n",
      "\n",
      "Recall list is: [0.9069069069069069, 0.933933933933934, 0.9022988505747126, 0.8875739644970414, 0.9124293785310734, 0.8717201166180758, 0.8931750741839762, 0.9034090909090909, 0.8936781609195402, 0.9090909090909091, 0.8599439775910365, 0.8742857142857143, 0.8923512747875354, 0.8912386706948641, 0.9136490250696379, 0.9044776119402985, 0.9067796610169492, 0.9152046783625731, 0.8823529411764706, 0.8888888888888888, 0.8959537572254336]\n",
      "\n",
      "\n",
      "F1-Score list is: [0.9221374045801528, 0.9147058823529413, 0.9154518950437318, 0.9077155824508321, 0.9073033707865168, 0.8781204111600587, 0.8958333333333333, 0.9217391304347827, 0.9093567251461988, 0.9132420091324202, 0.8937409024745271, 0.8934306569343066, 0.9130434782608695, 0.9147286821705426, 0.9252468265162199, 0.914027149321267, 0.9132290184921764, 0.9046242774566474, 0.8968609865470851, 0.9082969432314411, 0.9131075110456554]\n",
      "\n",
      "\n",
      "mean for accuracy in case of SVM is:  0.9055555555555556\n",
      "\n",
      "\n",
      "Standard Deviation for accuracy in case of SVM is:  0.011636533989453692\n",
      "\n",
      "\n",
      "mean for precision list in case of SVM is 0.9202581656881561\n",
      "\n",
      "\n",
      "Standard Deviation for precision list in case of SVM is 0.01620781017136178\n",
      "\n",
      "\n",
      "mean for recall score in case of SVM is 0.8971115517716507\n",
      "\n",
      "\n",
      "Standard Deviation for recall score in case of SVM is 0.01640915447683593\n",
      "\n",
      "\n",
      "mean for f1 score in case of SVM is 0.9083781988986527\n",
      "\n",
      "\n",
      "Standard Deviation for f1 score in case of SVM is 0.011053761601686089\n",
      "\n",
      "\n"
     ]
    }
   ],
   "source": [
    "# For SVM\n",
    "SVM_model2 = SVC(C = 10,gamma = 0.01)\n",
    "\n",
    "# Classification based on SVM\n",
    "SVM_accuracy_list=[]\n",
    "SVM_precision_list=[]\n",
    "SVM_recall_list=[]\n",
    "SVM_f1_list=[]\n",
    "\n",
    "# Iteration for Retraining\n",
    "for i in random_seed_iterations:\n",
    "    # Random Dataset Split\n",
    "    x_train_dataA_SVM, x_test_dataA_SVM, y_train_dataA_SVM, y_test_dataA_SVM = train_test_split(z_standardized_dataA, np_label_dataA.ravel(), test_size =0.3, random_state = i)\n",
    "    # Training the Model\n",
    "    SVM_model2.fit(x_train_dataA_SVM, y_train_dataA_SVM)\n",
    "\n",
    "    # Test Dataset Prediction\n",
    "    y_predict_SVM_list = SVM_model2.predict(x_test_dataA_SVM)\n",
    "\n",
    "    # Classification Accuracy\n",
    "    accuracy = metrics.accuracy_score(y_test_dataA_SVM, y_predict_SVM_list)\n",
    "    SVM_accuracy_list.append(accuracy)\n",
    "    \n",
    "    #Precision\n",
    "    precision = metrics.precision_score(y_test_dataA_SVM, y_predict_SVM_list)\n",
    "    SVM_precision_list.append(precision)\n",
    "                                    \n",
    "    #Recall\n",
    "    recall = metrics.recall_score(y_test_dataA_SVM, y_predict_SVM_list)\n",
    "    SVM_recall_list.append(recall)\n",
    "    \n",
    "    #F1-score\n",
    "    f1score = metrics.f1_score(y_test_dataA_SVM, y_predict_SVM_list)\n",
    "    SVM_f1_list.append(f1score)\n",
    "\n",
    "print(\"Acuracy list is :\",SVM_accuracy_list)\n",
    "print(\"\\n\")\n",
    "print(\"Precision list is :\",SVM_precision_list)\n",
    "print(\"\\n\")\n",
    "print(\"Recall list is:\",SVM_recall_list)\n",
    "print(\"\\n\")\n",
    "print(\"F1-Score list is:\",SVM_f1_list)\n",
    "print(\"\\n\")\n",
    "\n",
    "#Average and standard Deviation of Classification values\n",
    "mean_accuracy_list_SVM = sum(SVM_accuracy_list)/len(SVM_accuracy_list)\n",
    "variance_accuracy_list_SVM = sum([((x-mean_accuracy_list_SVM)**2) for x in SVM_accuracy_list])/len(SVM_accuracy_list)\n",
    "sd_accuracy_list_SVM = variance_accuracy_list_SVM**0.5\n",
    "\n",
    "print(\"mean for accuracy in case of SVM is: \",mean_accuracy_list_SVM)\n",
    "print(\"\\n\")\n",
    "print(\"Standard Deviation for accuracy in case of SVM is: \",sd_accuracy_list_SVM)\n",
    "print(\"\\n\")\n",
    "mean_precision_list_SVM=sum(SVM_precision_list)/len(SVM_precision_list)\n",
    "variance_precision_list_SVM=sum([((x-mean_precision_list_SVM)**2) for x in SVM_precision_list])/len(SVM_precision_list)\n",
    "sd_precision_list_SVM=variance_precision_list_SVM**0.5\n",
    "\n",
    "print(\"mean for precision list in case of SVM is\",mean_precision_list_SVM)\n",
    "print(\"\\n\")\n",
    "print(\"Standard Deviation for precision list in case of SVM is\",sd_precision_list_SVM)\n",
    "print(\"\\n\")\n",
    "\n",
    "mean_recall_score_list_SVM=sum(SVM_recall_list)/len(SVM_recall_list)\n",
    "variance_recall_score_list_SVM=sum([((x-mean_recall_score_list_SVM)**2) for x in SVM_recall_list])/len(SVM_recall_list)\n",
    "sd_recall_score_list_SVM=variance_recall_score_list_SVM**0.5\n",
    "\n",
    "print(\"mean for recall score in case of SVM is\",mean_recall_score_list_SVM)\n",
    "print(\"\\n\")\n",
    "print(\"Standard Deviation for recall score in case of SVM is\",sd_recall_score_list_SVM)\n",
    "print(\"\\n\")\n",
    "\n",
    "mean_f1_score_list_SVM=sum(SVM_f1_list)/len(SVM_f1_list)\n",
    "variance_f1_score_list_SVM=sum([((x-mean_f1_score_list_SVM)**2) for x in SVM_f1_list])/len(SVM_f1_list)\n",
    "sd_f1_score_list_SVM=variance_f1_score_list_SVM**0.5\n",
    "\n",
    "print(\"mean for f1 score in case of SVM is\",mean_f1_score_list_SVM)\n",
    "print(\"\\n\")\n",
    "print(\"Standard Deviation for f1 score in case of SVM is\",sd_f1_score_list_SVM)\n",
    "print(\"\\n\")"
   ]
  },
  {
   "cell_type": "markdown",
   "metadata": {},
   "source": [
    "### Naive Bayes Classifier with 20 Iterations"
   ]
  },
  {
   "cell_type": "code",
   "execution_count": 41,
   "metadata": {
    "tags": []
   },
   "outputs": [
    {
     "name": "stdout",
     "output_type": "stream",
     "text": [
      "Acuracy list is : [0.8772727272727273, 0.8590909090909091, 0.8787878787878788, 0.8742424242424243, 0.853030303030303, 0.8545454545454545, 0.8712121212121212, 0.8696969696969697, 0.8878787878787879, 0.8727272727272727, 0.8742424242424243, 0.8742424242424243, 0.8590909090909091, 0.8909090909090909, 0.8727272727272727, 0.8681818181818182, 0.8772727272727273, 0.8575757575757575, 0.8469696969696969, 0.8681818181818182, 0.8696969696969697]\n",
      "\n",
      "\n",
      "Precision list is : [0.8539325842696629, 0.835195530726257, 0.8806818181818182, 0.8875379939209727, 0.8599439775910365, 0.8518518518518519, 0.8442622950819673, 0.882183908045977, 0.8914285714285715, 0.8514285714285714, 0.8870056497175142, 0.8803418803418803, 0.8611111111111112, 0.8888888888888888, 0.862796833773087, 0.8583815028901735, 0.8601583113456465, 0.8463687150837989, 0.8385269121813032, 0.8771428571428571, 0.8651685393258427]\n",
      "\n",
      "\n",
      "Recall list is: [0.9129129129129129, 0.8978978978978979, 0.8908045977011494, 0.863905325443787, 0.867231638418079, 0.8717201166180758, 0.9169139465875371, 0.8721590909090909, 0.896551724137931, 0.9030303030303031, 0.8795518207282913, 0.8828571428571429, 0.8781869688385269, 0.8942598187311178, 0.9108635097493036, 0.8865671641791045, 0.9209039548022598, 0.8859649122807017, 0.8705882352941177, 0.8746438746438746, 0.8901734104046243]\n",
      "\n",
      "\n",
      "F1-Score list is: [0.8824383164005805, 0.8654124457308249, 0.8857142857142858, 0.8755622188905547, 0.8635724331926863, 0.861671469740634, 0.8790896159317213, 0.8771428571428572, 0.8939828080229227, 0.8764705882352941, 0.8832630098452883, 0.8815977175463623, 0.8695652173913044, 0.8915662650602408, 0.8861788617886179, 0.8722466960352423, 0.8894952251023192, 0.8657142857142858, 0.8542568542568543, 0.8758915834522111, 0.8774928774928775]\n",
      "\n",
      "\n",
      "mean for accuracy in case of Naive Bayes is:  0.8694083694083694\n",
      "\n",
      "\n",
      "Standard Deviation for accuracy in case of Naive Bayes is:  0.01082154877878943\n",
      "\n",
      "\n",
      "mean for precision list in case of Naive Bayes is 0.8649684906823234\n",
      "\n",
      "\n",
      "Standard Deviation for precision list in case of Naive Bayes is 0.017104767454261264\n",
      "\n",
      "\n",
      "mean for recall score in case of Naive Bayes is 0.8889375412459919\n",
      "\n",
      "\n",
      "Standard Deviation for recall score in case of Naive Bayes is 0.016478153080216752\n",
      "\n",
      "\n",
      "mean for f1 score in case of Naive Bayes is 0.8765869348899032\n",
      "\n",
      "\n",
      "Standard Deviation for f1 score in case of Naive Bayes is 0.010196866726204193\n",
      "\n",
      "\n"
     ]
    }
   ],
   "source": [
    "# For Naive Bayes\n",
    "NB_model2 = GaussianNB()\n",
    "\n",
    "# Classification based on NB\n",
    "NB_accuracy_list = []\n",
    "NB_precision_list = []\n",
    "NB_recall_list = []\n",
    "NB_f1_list = []\n",
    "\n",
    "# Iteration for Retraining\n",
    "for i in random_seed_iterations:\n",
    "    # Random Dataset Split\n",
    "    x_train_dataA_NB, x_test_dataA_NB, y_train_dataA_NB, y_test_dataA_NB = train_test_split(z_standardized_dataA, np_label_dataA.ravel(), test_size = 0.3, random_state = i)\n",
    "\n",
    "    #Training the Model\n",
    "    NB_model2.fit(x_train_dataA_NB, y_train_dataA_NB)\n",
    "\n",
    "    #Test Dataset Prediction\n",
    "    y_predict_NB_list = NB_model2.predict(x_test_dataA_NB)\n",
    "\n",
    "    #Classification Accuracy\n",
    "    accuracy = metrics.accuracy_score(y_test_dataA_NB, y_predict_NB_list)\n",
    "    NB_accuracy_list.append(accuracy)\n",
    "    \n",
    "    #Precision\n",
    "    precision = metrics.precision_score(y_test_dataA_NB, y_predict_NB_list)\n",
    "    NB_precision_list.append(precision)\n",
    "                                    \n",
    "    #Recall\n",
    "    recall = metrics.recall_score(y_test_dataA_NB, y_predict_NB_list)\n",
    "    NB_recall_list.append(recall)\n",
    "    \n",
    "    #F1-score\n",
    "    f1score = metrics.f1_score(y_test_dataA_NB, y_predict_NB_list)\n",
    "    NB_f1_list.append(f1score)\n",
    "\n",
    "print(\"Acuracy list is :\",NB_accuracy_list)\n",
    "print(\"\\n\")\n",
    "print(\"Precision list is :\",NB_precision_list)\n",
    "print(\"\\n\")\n",
    "print(\"Recall list is:\",NB_recall_list)\n",
    "print(\"\\n\")\n",
    "print(\"F1-Score list is:\",NB_f1_list)\n",
    "print(\"\\n\")\n",
    "\n",
    "#Average and standard Deviation of Classification values\n",
    "mean_accuracy_list_NB = sum(NB_accuracy_list)/len(NB_accuracy_list)\n",
    "variance_accuracy_list_NB = sum([((x-mean_accuracy_list_NB)**2) for x in NB_accuracy_list])/len(NB_accuracy_list)\n",
    "sd_accuracy_list_NB = variance_accuracy_list_NB**0.5\n",
    "\n",
    "print(\"mean for accuracy in case of Naive Bayes is: \",mean_accuracy_list_NB)\n",
    "print(\"\\n\")\n",
    "print(\"Standard Deviation for accuracy in case of Naive Bayes is: \",sd_accuracy_list_NB)\n",
    "print(\"\\n\")\n",
    "mean_precision_list_NB=sum(NB_precision_list)/len(NB_precision_list)\n",
    "variance_precision_list_NB=sum([((x-mean_precision_list_NB)**2) for x in NB_precision_list])/len(NB_precision_list)\n",
    "sd_precision_list_NB=variance_precision_list_NB**0.5\n",
    "\n",
    "print(\"mean for precision list in case of Naive Bayes is\",mean_precision_list_NB)\n",
    "print(\"\\n\")\n",
    "print(\"Standard Deviation for precision list in case of Naive Bayes is\",sd_precision_list_NB)\n",
    "print(\"\\n\")\n",
    "\n",
    "mean_recall_score_list_NB=sum(NB_recall_list)/len(NB_recall_list)\n",
    "variance_recall_score_list_NB=sum([((x-mean_recall_score_list_NB)**2) for x in NB_recall_list])/len(NB_recall_list)\n",
    "sd_recall_score_list_NB=variance_recall_score_list_NB**0.5\n",
    "\n",
    "print(\"mean for recall score in case of Naive Bayes is\",mean_recall_score_list_NB)\n",
    "print(\"\\n\")\n",
    "print(\"Standard Deviation for recall score in case of Naive Bayes is\",sd_recall_score_list_NB)\n",
    "print(\"\\n\")\n",
    "\n",
    "mean_f1_score_list_NB=sum(NB_f1_list)/len(NB_f1_list)\n",
    "variance_f1_score_list_NB=sum([((x-mean_f1_score_list_NB)**2) for x in NB_f1_list])/len(NB_f1_list)\n",
    "sd_f1_score_list_NB=variance_f1_score_list_NB**0.5\n",
    "\n",
    "print(\"mean for f1 score in case of Naive Bayes is\",mean_f1_score_list_NB)\n",
    "print(\"\\n\")\n",
    "print(\"Standard Deviation for f1 score in case of Naive Bayes is\",sd_f1_score_list_NB)\n",
    "print(\"\\n\")"
   ]
  },
  {
   "cell_type": "markdown",
   "metadata": {},
   "source": [
    "### Decision Tree with 20 Iterations"
   ]
  },
  {
   "cell_type": "code",
   "execution_count": 43,
   "metadata": {
    "tags": []
   },
   "outputs": [
    {
     "name": "stdout",
     "output_type": "stream",
     "text": [
      "Acuracy list is : [0.9393939393939394, 0.9227272727272727, 0.9303030303030303, 0.9424242424242424, 0.9181818181818182, 0.9318181818181818, 0.9075757575757576, 0.9257575757575758, 0.9318181818181818, 0.9196969696969697, 0.9409090909090909, 0.9363636363636364, 0.9348484848484848, 0.943939393939394, 0.9378787878787879, 0.9272727272727272, 0.9303030303030303, 0.9242424242424242, 0.9242424242424242, 0.9090909090909091, 0.9318181818181818]\n",
      "\n",
      "\n",
      "Precision list is : [0.9452887537993921, 0.9246987951807228, 0.938953488372093, 0.9518072289156626, 0.9385964912280702, 0.9408284023668639, 0.9035087719298246, 0.9442815249266863, 0.9267605633802817, 0.906158357771261, 0.9568965517241379, 0.9529411764705882, 0.9378531073446328, 0.948170731707317, 0.9416666666666667, 0.9361702127659575, 0.9476744186046512, 0.9269005847953217, 0.9420731707317073, 0.9193083573487032, 0.9387755102040817]\n",
      "\n",
      "\n",
      "Recall is list : [0.933933933933934, 0.9219219219219219, 0.9281609195402298, 0.9349112426035503, 0.9067796610169492, 0.9271137026239067, 0.9169139465875371, 0.9147727272727273, 0.9454022988505747, 0.9363636363636364, 0.9327731092436975, 0.9257142857142857, 0.9405099150141643, 0.9395770392749244, 0.9442896935933147, 0.9194029850746268, 0.9209039548022598, 0.9269005847953217, 0.9088235294117647, 0.9088319088319088, 0.930635838150289]\n",
      "\n",
      "\n",
      "F1-Score is list : [0.9395770392749244, 0.9233082706766917, 0.9335260115606936, 0.9432835820895522, 0.9224137931034483, 0.933920704845815, 0.9101620029455081, 0.9292929292929293, 0.9359886201991465, 0.9210134128166915, 0.9446808510638298, 0.9391304347826087, 0.9391796322489392, 0.9438543247344461, 0.9429763560500696, 0.927710843373494, 0.9340974212034383, 0.9269005847953217, 0.9251497005988023, 0.9140401146131805, 0.9346879535558782]\n",
      "\n",
      "\n",
      "mean for accuracy in case of Decision Tree is:  0.9290764790764793\n",
      "\n",
      "\n",
      "Standard Deviation for accuracy in case of Decision Tree is:  0.009770409220022326\n",
      "\n",
      "\n",
      "mean for precision list in case of Decision Tree is 0.9366339460111723\n",
      "\n",
      "\n",
      "Standard Deviation for precision list in case of Decision Tree is 0.01387704347363387\n",
      "\n",
      "\n",
      "mean for recall score in case of Decision Tree is 0.9268874683153108\n",
      "\n",
      "\n",
      "Standard Deviation for recall score in case of Decision Tree is 0.011269749181363706\n",
      "\n",
      "\n",
      "mean for f1 score in case of Decision Tree is 0.9316616468488289\n",
      "\n",
      "\n",
      "Standard Deviation for f1 score in case of Decision Tree is 0.009577591281963452\n",
      "\n",
      "\n"
     ]
    }
   ],
   "source": [
    "# Initialize Decision Tree\n",
    "DT_model2 = DecisionTreeClassifier()\n",
    "\n",
    "# Classification based on DT\n",
    "DT_accuracy_list = []\n",
    "DT_precision_list = []\n",
    "DT_recall_list = []\n",
    "DT_f1_list = []\n",
    "\n",
    "#Iteration for Retraining\n",
    "for i in random_seed_iterations:\n",
    "    #Random Dataset Split\n",
    "    x_train_dataA_DT, x_test_dataA_DT, y_train_dataA_DT, y_test_dataA_DT = train_test_split(z_standardized_dataA, np_label_dataA.ravel(),test_size = 0.3, random_state = i)\n",
    "\n",
    "    # Training the Model\n",
    "    DT_model2.fit(x_train_dataA_DT, y_train_dataA_DT)\n",
    "\n",
    "    # Test Dataset Prediction\n",
    "    y_predict_DT_list = DT_model2.predict(x_test_dataA_DT)\n",
    "\n",
    "    # Classification Accuracy\n",
    "    accuracy = metrics.accuracy_score(y_test_dataA_DT, y_predict_DT_list)\n",
    "    DT_accuracy_list.append(accuracy)\n",
    "    \n",
    "    #Precision\n",
    "    precision = metrics.precision_score(y_test_dataA_DT, y_predict_DT_list)\n",
    "    DT_precision_list.append(precision)\n",
    "                                    \n",
    "    #Recall\n",
    "    recall = metrics.recall_score(y_test_dataA_DT, y_predict_DT_list)\n",
    "    DT_recall_list.append(recall)\n",
    "    \n",
    "    #F1-score\n",
    "    f1score = metrics.f1_score(y_test_dataA_DT, y_predict_DT_list)\n",
    "    DT_f1_list.append(f1score)\n",
    "\n",
    "print(\"Acuracy list is :\",DT_accuracy_list)\n",
    "print(\"\\n\")\n",
    "print(\"Precision list is :\",DT_precision_list)\n",
    "print(\"\\n\")\n",
    "print(\"Recall is list :\",DT_recall_list)\n",
    "print(\"\\n\")\n",
    "print(\"F1-Score is list :\",DT_f1_list)\n",
    "print(\"\\n\")\n",
    "\n",
    "#Average and standard Deviation of Classification values\n",
    "mean_accuracy_list_DT=sum(DT_accuracy_list)/len(DT_accuracy_list)\n",
    "variance_accuracy_list_DT=sum([((x-mean_accuracy_list_DT)**2) for x in DT_accuracy_list])/len(DT_accuracy_list)\n",
    "sd_accuracy_list_DT=variance_accuracy_list_DT**0.5\n",
    "\n",
    "print(\"mean for accuracy in case of Decision Tree is: \",mean_accuracy_list_DT)\n",
    "print(\"\\n\")\n",
    "print(\"Standard Deviation for accuracy in case of Decision Tree is: \",sd_accuracy_list_DT)\n",
    "print(\"\\n\")\n",
    "mean_precision_list_DT=sum(DT_precision_list)/len(DT_precision_list)\n",
    "variance_precision_list_DT=sum([((x-mean_precision_list_DT)**2) for x in DT_precision_list])/len(DT_precision_list)\n",
    "sd_precision_list_DT=variance_precision_list_DT**0.5\n",
    "\n",
    "print(\"mean for precision list in case of Decision Tree is\",mean_precision_list_DT)\n",
    "print(\"\\n\")\n",
    "print(\"Standard Deviation for precision list in case of Decision Tree is\",sd_precision_list_DT)\n",
    "print(\"\\n\")\n",
    "\n",
    "mean_recall_score_list_DT=sum(DT_recall_list)/len(DT_recall_list)\n",
    "variance_recall_score_list_DT=sum([((x-mean_recall_score_list_DT)**2) for x in DT_recall_list])/len(DT_recall_list)\n",
    "sd_recall_score_list_DT=variance_recall_score_list_DT**0.5\n",
    "\n",
    "print(\"mean for recall score in case of Decision Tree is\",mean_recall_score_list_DT)\n",
    "print(\"\\n\")\n",
    "print(\"Standard Deviation for recall score in case of Decision Tree is\",sd_recall_score_list_DT)\n",
    "print(\"\\n\")\n",
    "\n",
    "mean_f1_score_list_DT=sum(DT_f1_list)/len(DT_f1_list)\n",
    "variance_f1_score_list_DT=sum([((x-mean_f1_score_list_DT)**2) for x in DT_f1_list])/len(DT_f1_list)\n",
    "sd_f1_score_list_DT=variance_f1_score_list_DT**0.5\n",
    "\n",
    "print(\"mean for f1 score in case of Decision Tree is\",mean_f1_score_list_DT)\n",
    "print(\"\\n\")\n",
    "print(\"Standard Deviation for f1 score in case of Decision Tree is\",sd_f1_score_list_DT)\n",
    "print(\"\\n\")"
   ]
  },
  {
   "cell_type": "markdown",
   "metadata": {},
   "source": [
    "## Question 1.5: Comment on obtained results\n",
    "\n",
    "#### In Question 1.2, the best k for k-NN from the given set is 15.    "
   ]
  },
  {
   "cell_type": "markdown",
   "metadata": {},
   "source": []
  }
 ],
 "metadata": {
  "kernelspec": {
   "display_name": "Python 3",
   "language": "python",
   "name": "python3"
  },
  "language_info": {
   "codemirror_mode": {
    "name": "ipython",
    "version": 3
   },
   "file_extension": ".py",
   "mimetype": "text/x-python",
   "name": "python",
   "nbconvert_exporter": "python",
   "pygments_lexer": "ipython3",
   "version": "3.7.6"
  }
 },
 "nbformat": 4,
 "nbformat_minor": 4
}
