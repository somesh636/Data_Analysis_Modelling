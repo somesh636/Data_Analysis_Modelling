{
 "cells": [
  {
   "cell_type": "code",
   "execution_count": 1,
   "metadata": {},
   "outputs": [],
   "source": [
    "import pandas as pd \n",
    "import numpy as np \n",
    "import scipy.io\n",
    "from sklearn.preprocessing import StandardScaler\n",
    "from sklearn.model_selection import train_test_split\n",
    "from sklearn.model_selection import KFold\n",
    "from sklearn.neighbors import KNeighborsClassifier\n",
    "from sklearn import metrics\n",
    "from sklearn.model_selection import cross_val_score\n",
    "import matplotlib.pyplot as plt\n",
    "from sklearn.model_selection import GridSearchCV\n",
    "from sklearn import svm\n",
    "from sklearn.svm import SVC\n",
    "from sklearn.naive_bayes import GaussianNB\n",
    "from sklearn.tree import DecisionTreeClassifier\n",
    "import seaborn as sns"
   ]
  },
  {
   "cell_type": "markdown",
   "metadata": {},
   "source": [
    "# Question 1"
   ]
  },
  {
   "cell_type": "code",
   "execution_count": 2,
   "metadata": {},
   "outputs": [],
   "source": [
    "mat_dataA = scipy.io.loadmat(r'C:\\Users\\tonkh\\OneDrive\\Desktop\\ECE 657A\\Assignment\\Assignment2\\Assignment2\\Datasets\\DataA.mat')\n",
    "#dataB = pd.read_csv(r'C:\\Users\\tonkh\\OneDrive\\Desktop\\ECE 657A\\Assignment\\Assignment2\\Assignment2\\Datasets\\DataA.mat')"
   ]
  },
  {
   "cell_type": "code",
   "execution_count": 3,
   "metadata": {},
   "outputs": [
    {
     "data": {
      "text/plain": [
       "{'__header__': b'MATLAB 5.0 MAT-file, Platform: PCWIN64, Created on: Tue Oct 21 15:46:48 2014',\n",
       " '__version__': '1.0',\n",
       " '__globals__': [],\n",
       " 'fea': array([[1, 2, 1, ..., 2, 2, 1],\n",
       "        [3, 3, 4, ..., 1, 3, 4],\n",
       "        [4, 1, 4, ..., 2, 4, 4],\n",
       "        ...,\n",
       "        [3, 4, 4, ..., 3, 1, 2],\n",
       "        [1, 4, 3, ..., 4, 3, 4],\n",
       "        [4, 3, 1, ..., 2, 4, 3]], dtype=uint8),\n",
       " 'gnd': array([[1],\n",
       "        [1],\n",
       "        [1],\n",
       "        ...,\n",
       "        [1],\n",
       "        [1],\n",
       "        [1]], dtype=int16)}"
      ]
     },
     "execution_count": 3,
     "metadata": {},
     "output_type": "execute_result"
    }
   ],
   "source": [
    "mat_dataA"
   ]
  },
  {
   "cell_type": "code",
   "execution_count": 4,
   "metadata": {},
   "outputs": [],
   "source": [
    "df_dataA=pd.DataFrame.from_dict(mat_dataA,orient='index')"
   ]
  },
  {
   "cell_type": "code",
   "execution_count": 5,
   "metadata": {},
   "outputs": [
    {
     "data": {
      "text/html": [
       "<div>\n",
       "<style scoped>\n",
       "    .dataframe tbody tr th:only-of-type {\n",
       "        vertical-align: middle;\n",
       "    }\n",
       "\n",
       "    .dataframe tbody tr th {\n",
       "        vertical-align: top;\n",
       "    }\n",
       "\n",
       "    .dataframe thead th {\n",
       "        text-align: right;\n",
       "    }\n",
       "</style>\n",
       "<table border=\"1\" class=\"dataframe\">\n",
       "  <thead>\n",
       "    <tr style=\"text-align: right;\">\n",
       "      <th></th>\n",
       "      <th>0</th>\n",
       "    </tr>\n",
       "  </thead>\n",
       "  <tbody>\n",
       "    <tr>\n",
       "      <th>__header__</th>\n",
       "      <td>b'MATLAB 5.0 MAT-file, Platform: PCWIN64, Crea...</td>\n",
       "    </tr>\n",
       "    <tr>\n",
       "      <th>__version__</th>\n",
       "      <td>1.0</td>\n",
       "    </tr>\n",
       "    <tr>\n",
       "      <th>__globals__</th>\n",
       "      <td>[]</td>\n",
       "    </tr>\n",
       "    <tr>\n",
       "      <th>fea</th>\n",
       "      <td>[[1, 2, 1, 2, 1, 2, 3, 3, 3, 3, 1, 2, 1, 3, 4,...</td>\n",
       "    </tr>\n",
       "    <tr>\n",
       "      <th>gnd</th>\n",
       "      <td>[[1], [1], [1], [-1], [-1], [-1], [1], [1], [1...</td>\n",
       "    </tr>\n",
       "  </tbody>\n",
       "</table>\n",
       "</div>"
      ],
      "text/plain": [
       "                                                             0\n",
       "__header__   b'MATLAB 5.0 MAT-file, Platform: PCWIN64, Crea...\n",
       "__version__                                                1.0\n",
       "__globals__                                                 []\n",
       "fea          [[1, 2, 1, 2, 1, 2, 3, 3, 3, 3, 1, 2, 1, 3, 4,...\n",
       "gnd          [[1], [1], [1], [-1], [-1], [-1], [1], [1], [1..."
      ]
     },
     "execution_count": 5,
     "metadata": {},
     "output_type": "execute_result"
    }
   ],
   "source": [
    "df_dataA"
   ]
  },
  {
   "cell_type": "code",
   "execution_count": 6,
   "metadata": {},
   "outputs": [
    {
     "data": {
      "text/plain": [
       "{'__header__': b'MATLAB 5.0 MAT-file, Platform: PCWIN64, Created on: Tue Oct 21 15:46:48 2014',\n",
       " '__version__': '1.0',\n",
       " '__globals__': [],\n",
       " 'fea': array([[1, 2, 1, ..., 2, 2, 1],\n",
       "        [3, 3, 4, ..., 1, 3, 4],\n",
       "        [4, 1, 4, ..., 2, 4, 4],\n",
       "        ...,\n",
       "        [3, 4, 4, ..., 3, 1, 2],\n",
       "        [1, 4, 3, ..., 4, 3, 4],\n",
       "        [4, 3, 1, ..., 2, 4, 3]], dtype=uint8),\n",
       " 'gnd': array([[1],\n",
       "        [1],\n",
       "        [1],\n",
       "        ...,\n",
       "        [1],\n",
       "        [1],\n",
       "        [1]], dtype=int16)}"
      ]
     },
     "execution_count": 6,
     "metadata": {},
     "output_type": "execute_result"
    }
   ],
   "source": [
    "mat_dataA"
   ]
  },
  {
   "cell_type": "code",
   "execution_count": 7,
   "metadata": {},
   "outputs": [],
   "source": [
    "mat_features_datA=mat_dataA['fea']"
   ]
  },
  {
   "cell_type": "code",
   "execution_count": 8,
   "metadata": {},
   "outputs": [],
   "source": [
    "mat_label_dataA=mat_dataA['gnd']"
   ]
  },
  {
   "cell_type": "code",
   "execution_count": 9,
   "metadata": {},
   "outputs": [
    {
     "data": {
      "text/html": [
       "<div>\n",
       "<style scoped>\n",
       "    .dataframe tbody tr th:only-of-type {\n",
       "        vertical-align: middle;\n",
       "    }\n",
       "\n",
       "    .dataframe tbody tr th {\n",
       "        vertical-align: top;\n",
       "    }\n",
       "\n",
       "    .dataframe thead th {\n",
       "        text-align: right;\n",
       "    }\n",
       "</style>\n",
       "<table border=\"1\" class=\"dataframe\">\n",
       "  <thead>\n",
       "    <tr style=\"text-align: right;\">\n",
       "      <th></th>\n",
       "      <th>0</th>\n",
       "      <th>1</th>\n",
       "      <th>2</th>\n",
       "      <th>3</th>\n",
       "      <th>4</th>\n",
       "      <th>5</th>\n",
       "      <th>6</th>\n",
       "      <th>7</th>\n",
       "      <th>8</th>\n",
       "      <th>9</th>\n",
       "      <th>...</th>\n",
       "      <th>47</th>\n",
       "      <th>48</th>\n",
       "      <th>49</th>\n",
       "      <th>50</th>\n",
       "      <th>51</th>\n",
       "      <th>52</th>\n",
       "      <th>53</th>\n",
       "      <th>54</th>\n",
       "      <th>55</th>\n",
       "      <th>56</th>\n",
       "    </tr>\n",
       "  </thead>\n",
       "  <tbody>\n",
       "    <tr>\n",
       "      <th>0</th>\n",
       "      <td>1</td>\n",
       "      <td>2</td>\n",
       "      <td>1</td>\n",
       "      <td>2</td>\n",
       "      <td>1</td>\n",
       "      <td>2</td>\n",
       "      <td>3</td>\n",
       "      <td>3</td>\n",
       "      <td>3</td>\n",
       "      <td>3</td>\n",
       "      <td>...</td>\n",
       "      <td>4</td>\n",
       "      <td>3</td>\n",
       "      <td>2</td>\n",
       "      <td>3</td>\n",
       "      <td>4</td>\n",
       "      <td>2</td>\n",
       "      <td>2</td>\n",
       "      <td>2</td>\n",
       "      <td>2</td>\n",
       "      <td>1</td>\n",
       "    </tr>\n",
       "    <tr>\n",
       "      <th>1</th>\n",
       "      <td>3</td>\n",
       "      <td>3</td>\n",
       "      <td>4</td>\n",
       "      <td>2</td>\n",
       "      <td>1</td>\n",
       "      <td>2</td>\n",
       "      <td>2</td>\n",
       "      <td>4</td>\n",
       "      <td>3</td>\n",
       "      <td>2</td>\n",
       "      <td>...</td>\n",
       "      <td>3</td>\n",
       "      <td>1</td>\n",
       "      <td>4</td>\n",
       "      <td>3</td>\n",
       "      <td>4</td>\n",
       "      <td>4</td>\n",
       "      <td>4</td>\n",
       "      <td>1</td>\n",
       "      <td>3</td>\n",
       "      <td>4</td>\n",
       "    </tr>\n",
       "    <tr>\n",
       "      <th>2</th>\n",
       "      <td>4</td>\n",
       "      <td>1</td>\n",
       "      <td>4</td>\n",
       "      <td>4</td>\n",
       "      <td>4</td>\n",
       "      <td>4</td>\n",
       "      <td>1</td>\n",
       "      <td>1</td>\n",
       "      <td>2</td>\n",
       "      <td>1</td>\n",
       "      <td>...</td>\n",
       "      <td>1</td>\n",
       "      <td>1</td>\n",
       "      <td>2</td>\n",
       "      <td>1</td>\n",
       "      <td>1</td>\n",
       "      <td>4</td>\n",
       "      <td>2</td>\n",
       "      <td>2</td>\n",
       "      <td>4</td>\n",
       "      <td>4</td>\n",
       "    </tr>\n",
       "    <tr>\n",
       "      <th>3</th>\n",
       "      <td>1</td>\n",
       "      <td>4</td>\n",
       "      <td>1</td>\n",
       "      <td>1</td>\n",
       "      <td>3</td>\n",
       "      <td>3</td>\n",
       "      <td>4</td>\n",
       "      <td>4</td>\n",
       "      <td>3</td>\n",
       "      <td>4</td>\n",
       "      <td>...</td>\n",
       "      <td>2</td>\n",
       "      <td>1</td>\n",
       "      <td>3</td>\n",
       "      <td>3</td>\n",
       "      <td>4</td>\n",
       "      <td>1</td>\n",
       "      <td>3</td>\n",
       "      <td>3</td>\n",
       "      <td>4</td>\n",
       "      <td>2</td>\n",
       "    </tr>\n",
       "    <tr>\n",
       "      <th>4</th>\n",
       "      <td>3</td>\n",
       "      <td>4</td>\n",
       "      <td>4</td>\n",
       "      <td>3</td>\n",
       "      <td>1</td>\n",
       "      <td>1</td>\n",
       "      <td>4</td>\n",
       "      <td>4</td>\n",
       "      <td>4</td>\n",
       "      <td>1</td>\n",
       "      <td>...</td>\n",
       "      <td>4</td>\n",
       "      <td>3</td>\n",
       "      <td>1</td>\n",
       "      <td>3</td>\n",
       "      <td>2</td>\n",
       "      <td>1</td>\n",
       "      <td>4</td>\n",
       "      <td>2</td>\n",
       "      <td>1</td>\n",
       "      <td>1</td>\n",
       "    </tr>\n",
       "    <tr>\n",
       "      <th>...</th>\n",
       "      <td>...</td>\n",
       "      <td>...</td>\n",
       "      <td>...</td>\n",
       "      <td>...</td>\n",
       "      <td>...</td>\n",
       "      <td>...</td>\n",
       "      <td>...</td>\n",
       "      <td>...</td>\n",
       "      <td>...</td>\n",
       "      <td>...</td>\n",
       "      <td>...</td>\n",
       "      <td>...</td>\n",
       "      <td>...</td>\n",
       "      <td>...</td>\n",
       "      <td>...</td>\n",
       "      <td>...</td>\n",
       "      <td>...</td>\n",
       "      <td>...</td>\n",
       "      <td>...</td>\n",
       "      <td>...</td>\n",
       "      <td>...</td>\n",
       "    </tr>\n",
       "    <tr>\n",
       "      <th>2195</th>\n",
       "      <td>3</td>\n",
       "      <td>3</td>\n",
       "      <td>3</td>\n",
       "      <td>4</td>\n",
       "      <td>2</td>\n",
       "      <td>2</td>\n",
       "      <td>3</td>\n",
       "      <td>3</td>\n",
       "      <td>4</td>\n",
       "      <td>4</td>\n",
       "      <td>...</td>\n",
       "      <td>2</td>\n",
       "      <td>1</td>\n",
       "      <td>4</td>\n",
       "      <td>3</td>\n",
       "      <td>3</td>\n",
       "      <td>4</td>\n",
       "      <td>1</td>\n",
       "      <td>2</td>\n",
       "      <td>1</td>\n",
       "      <td>3</td>\n",
       "    </tr>\n",
       "    <tr>\n",
       "      <th>2196</th>\n",
       "      <td>3</td>\n",
       "      <td>3</td>\n",
       "      <td>1</td>\n",
       "      <td>1</td>\n",
       "      <td>2</td>\n",
       "      <td>3</td>\n",
       "      <td>3</td>\n",
       "      <td>4</td>\n",
       "      <td>3</td>\n",
       "      <td>1</td>\n",
       "      <td>...</td>\n",
       "      <td>4</td>\n",
       "      <td>2</td>\n",
       "      <td>1</td>\n",
       "      <td>3</td>\n",
       "      <td>1</td>\n",
       "      <td>2</td>\n",
       "      <td>3</td>\n",
       "      <td>4</td>\n",
       "      <td>2</td>\n",
       "      <td>3</td>\n",
       "    </tr>\n",
       "    <tr>\n",
       "      <th>2197</th>\n",
       "      <td>3</td>\n",
       "      <td>4</td>\n",
       "      <td>4</td>\n",
       "      <td>3</td>\n",
       "      <td>3</td>\n",
       "      <td>3</td>\n",
       "      <td>1</td>\n",
       "      <td>2</td>\n",
       "      <td>4</td>\n",
       "      <td>3</td>\n",
       "      <td>...</td>\n",
       "      <td>2</td>\n",
       "      <td>4</td>\n",
       "      <td>3</td>\n",
       "      <td>3</td>\n",
       "      <td>4</td>\n",
       "      <td>1</td>\n",
       "      <td>2</td>\n",
       "      <td>3</td>\n",
       "      <td>1</td>\n",
       "      <td>2</td>\n",
       "    </tr>\n",
       "    <tr>\n",
       "      <th>2198</th>\n",
       "      <td>1</td>\n",
       "      <td>4</td>\n",
       "      <td>3</td>\n",
       "      <td>4</td>\n",
       "      <td>1</td>\n",
       "      <td>3</td>\n",
       "      <td>4</td>\n",
       "      <td>2</td>\n",
       "      <td>4</td>\n",
       "      <td>3</td>\n",
       "      <td>...</td>\n",
       "      <td>4</td>\n",
       "      <td>2</td>\n",
       "      <td>4</td>\n",
       "      <td>2</td>\n",
       "      <td>2</td>\n",
       "      <td>2</td>\n",
       "      <td>4</td>\n",
       "      <td>4</td>\n",
       "      <td>3</td>\n",
       "      <td>4</td>\n",
       "    </tr>\n",
       "    <tr>\n",
       "      <th>2199</th>\n",
       "      <td>4</td>\n",
       "      <td>3</td>\n",
       "      <td>1</td>\n",
       "      <td>2</td>\n",
       "      <td>2</td>\n",
       "      <td>3</td>\n",
       "      <td>3</td>\n",
       "      <td>3</td>\n",
       "      <td>3</td>\n",
       "      <td>4</td>\n",
       "      <td>...</td>\n",
       "      <td>3</td>\n",
       "      <td>4</td>\n",
       "      <td>3</td>\n",
       "      <td>3</td>\n",
       "      <td>4</td>\n",
       "      <td>3</td>\n",
       "      <td>4</td>\n",
       "      <td>2</td>\n",
       "      <td>4</td>\n",
       "      <td>3</td>\n",
       "    </tr>\n",
       "  </tbody>\n",
       "</table>\n",
       "<p>2200 rows × 57 columns</p>\n",
       "</div>"
      ],
      "text/plain": [
       "      0   1   2   3   4   5   6   7   8   9   ...  47  48  49  50  51  52  53  \\\n",
       "0      1   2   1   2   1   2   3   3   3   3  ...   4   3   2   3   4   2   2   \n",
       "1      3   3   4   2   1   2   2   4   3   2  ...   3   1   4   3   4   4   4   \n",
       "2      4   1   4   4   4   4   1   1   2   1  ...   1   1   2   1   1   4   2   \n",
       "3      1   4   1   1   3   3   4   4   3   4  ...   2   1   3   3   4   1   3   \n",
       "4      3   4   4   3   1   1   4   4   4   1  ...   4   3   1   3   2   1   4   \n",
       "...   ..  ..  ..  ..  ..  ..  ..  ..  ..  ..  ...  ..  ..  ..  ..  ..  ..  ..   \n",
       "2195   3   3   3   4   2   2   3   3   4   4  ...   2   1   4   3   3   4   1   \n",
       "2196   3   3   1   1   2   3   3   4   3   1  ...   4   2   1   3   1   2   3   \n",
       "2197   3   4   4   3   3   3   1   2   4   3  ...   2   4   3   3   4   1   2   \n",
       "2198   1   4   3   4   1   3   4   2   4   3  ...   4   2   4   2   2   2   4   \n",
       "2199   4   3   1   2   2   3   3   3   3   4  ...   3   4   3   3   4   3   4   \n",
       "\n",
       "      54  55  56  \n",
       "0      2   2   1  \n",
       "1      1   3   4  \n",
       "2      2   4   4  \n",
       "3      3   4   2  \n",
       "4      2   1   1  \n",
       "...   ..  ..  ..  \n",
       "2195   2   1   3  \n",
       "2196   4   2   3  \n",
       "2197   3   1   2  \n",
       "2198   4   3   4  \n",
       "2199   2   4   3  \n",
       "\n",
       "[2200 rows x 57 columns]"
      ]
     },
     "execution_count": 9,
     "metadata": {},
     "output_type": "execute_result"
    }
   ],
   "source": [
    "df_features_dataA=pd.DataFrame(mat_features_datA)\n",
    "df_features_dataA"
   ]
  },
  {
   "cell_type": "code",
   "execution_count": 10,
   "metadata": {},
   "outputs": [
    {
     "name": "stdout",
     "output_type": "stream",
     "text": [
      "                0            1            2            3            4   \\\n",
      "count  2200.000000  2200.000000  2200.000000  2200.000000  2200.000000   \n",
      "mean      2.493182     2.529545     2.506818     2.526818     2.547727   \n",
      "std       1.103943     1.086542     1.098160     1.118780     1.081699   \n",
      "min       1.000000     1.000000     1.000000     1.000000     1.000000   \n",
      "25%       2.000000     2.000000     2.000000     2.000000     2.000000   \n",
      "50%       3.000000     3.000000     3.000000     3.000000     3.000000   \n",
      "75%       3.000000     3.000000     3.000000     4.000000     3.000000   \n",
      "max       4.000000     4.000000     4.000000     4.000000     4.000000   \n",
      "\n",
      "                5            6            7            8           9   ...  \\\n",
      "count  2200.000000  2200.000000  2200.000000  2200.000000  2200.00000  ...   \n",
      "mean      2.492727     2.550000     2.541364     2.553182     2.56500  ...   \n",
      "std       1.099399     1.109818     1.103600     1.126751     1.10822  ...   \n",
      "min       1.000000     1.000000     1.000000     1.000000     1.00000  ...   \n",
      "25%       2.000000     2.000000     2.000000     2.000000     2.00000  ...   \n",
      "50%       3.000000     3.000000     3.000000     3.000000     3.00000  ...   \n",
      "75%       3.000000     4.000000     3.000000     4.000000     4.00000  ...   \n",
      "max       4.000000     4.000000     4.000000     4.000000     4.00000  ...   \n",
      "\n",
      "                47           48           49           50           51  \\\n",
      "count  2200.000000  2200.000000  2200.000000  2200.000000  2200.000000   \n",
      "mean      2.475000     2.498636     2.497273     2.439091     2.495909   \n",
      "std       1.070635     1.104786     1.070499     1.093583     1.087354   \n",
      "min       1.000000     1.000000     1.000000     1.000000     1.000000   \n",
      "25%       2.000000     2.000000     2.000000     1.000000     2.000000   \n",
      "50%       2.000000     3.000000     2.000000     2.000000     2.000000   \n",
      "75%       3.000000     3.000000     3.000000     3.000000     3.000000   \n",
      "max       4.000000     4.000000     4.000000     4.000000     4.000000   \n",
      "\n",
      "                52           53           54           55           56  \n",
      "count  2200.000000  2200.000000  2200.000000  2200.000000  2200.000000  \n",
      "mean      2.482273     2.435909     2.500455     2.456364     2.512273  \n",
      "std       1.065672     1.089652     1.091952     1.093162     1.086456  \n",
      "min       1.000000     1.000000     1.000000     1.000000     1.000000  \n",
      "25%       2.000000     1.000000     2.000000     2.000000     2.000000  \n",
      "50%       2.000000     2.000000     3.000000     2.000000     3.000000  \n",
      "75%       3.000000     3.000000     3.000000     3.000000     3.000000  \n",
      "max       4.000000     4.000000     4.000000     4.000000     4.000000  \n",
      "\n",
      "[8 rows x 57 columns]\n"
     ]
    }
   ],
   "source": [
    "print(df_features_dataA.describe())"
   ]
  },
  {
   "cell_type": "code",
   "execution_count": 11,
   "metadata": {},
   "outputs": [
    {
     "data": {
      "text/plain": [
       "0"
      ]
     },
     "execution_count": 11,
     "metadata": {},
     "output_type": "execute_result"
    }
   ],
   "source": [
    "#Check missing values\n",
    "df_features_dataA.isna().sum().sum()\n"
   ]
  },
  {
   "cell_type": "markdown",
   "metadata": {},
   "source": [
    "### There are no missing values in the dataset"
   ]
  },
  {
   "cell_type": "code",
   "execution_count": 12,
   "metadata": {},
   "outputs": [
    {
     "data": {
      "text/plain": [
       "array([ 1, -1], dtype=int16)"
      ]
     },
     "execution_count": 12,
     "metadata": {},
     "output_type": "execute_result"
    }
   ],
   "source": [
    "df_label_dataA=pd.DataFrame(mat_label_dataA)\n",
    "df_label_dataA[0].unique()"
   ]
  },
  {
   "cell_type": "markdown",
   "metadata": {},
   "source": [
    "### There are two unique labels in the data set -1 and 1"
   ]
  },
  {
   "cell_type": "code",
   "execution_count": 13,
   "metadata": {},
   "outputs": [
    {
     "data": {
      "text/plain": [
       "0"
      ]
     },
     "execution_count": 13,
     "metadata": {},
     "output_type": "execute_result"
    }
   ],
   "source": [
    "#checking missing labels\n",
    "df_label_dataA[0].isna().sum().sum()"
   ]
  },
  {
   "cell_type": "markdown",
   "metadata": {},
   "source": [
    "### There are no missing labels in the data set"
   ]
  },
  {
   "cell_type": "markdown",
   "metadata": {},
   "source": [
    "### Part 1 - Z-Score Normalization"
   ]
  },
  {
   "cell_type": "code",
   "execution_count": 14,
   "metadata": {},
   "outputs": [],
   "source": [
    " # Z-Score Normalization\n",
    "ss = StandardScaler()\n",
    "ss.fit(df_features_dataA)\n",
    "z_standardized_dataA = ss.transform(df_features_dataA)"
   ]
  },
  {
   "cell_type": "code",
   "execution_count": 15,
   "metadata": {},
   "outputs": [
    {
     "name": "stdout",
     "output_type": "stream",
     "text": [
      "[[-1.35289759 -0.48747864 -1.37244139 ... -0.4584159  -0.41756618\n",
      "  -1.39224875]\n",
      " [ 0.45920268  0.43308188  1.36002111 ... -1.37441497  0.49741947\n",
      "   1.36965138]\n",
      " [ 1.36525282 -1.40803915  1.36002111 ... -0.4584159   1.41240513\n",
      "   1.36965138]\n",
      " ...\n",
      " [ 0.45920268  1.35364239  1.36002111 ...  0.45758317 -1.33255183\n",
      "  -0.47161537]\n",
      " [-1.35289759  1.35364239  0.44920027 ...  1.37358225  0.49741947\n",
      "   1.36965138]\n",
      " [ 1.36525282  0.43308188 -1.37244139 ... -0.4584159   1.41240513\n",
      "   0.44901801]]\n"
     ]
    }
   ],
   "source": [
    "print(z_standardized_dataA)"
   ]
  },
  {
   "cell_type": "code",
   "execution_count": 16,
   "metadata": {},
   "outputs": [
    {
     "name": "stdout",
     "output_type": "stream",
     "text": [
      "converted array is : [[1]\n",
      " [1]\n",
      " [1]\n",
      " ...\n",
      " [1]\n",
      " [1]\n",
      " [1]]\n"
     ]
    }
   ],
   "source": [
    "#convert labels to numpy array\n",
    "np_label_dataA=df_label_dataA.to_numpy()\n",
    "print(\"converted array is :\",np_label_dataA)"
   ]
  },
  {
   "cell_type": "markdown",
   "metadata": {},
   "source": [
    "### Randomnly spliting the data 70% of samples for taining and other 30% for testing\n",
    "### using hold-out scheme"
   ]
  },
  {
   "cell_type": "code",
   "execution_count": 17,
   "metadata": {},
   "outputs": [
    {
     "name": "stdout",
     "output_type": "stream",
     "text": [
      "[[-0.44684745  1.35364239 -0.46162056 ... -0.4584159  -0.41756618\n",
      "   0.44901801]\n",
      " [ 0.45920268 -1.40803915  1.36002111 ...  0.45758317  0.49741947\n",
      "   1.36965138]\n",
      " [-1.35289759  1.35364239 -1.37244139 ...  0.45758317  1.41240513\n",
      "  -0.47161537]\n",
      " ...\n",
      " [ 1.36525282 -0.48747864 -0.46162056 ... -0.4584159   0.49741947\n",
      "   0.44901801]\n",
      " [ 0.45920268  1.35364239  0.44920027 ...  1.37358225  1.41240513\n",
      "  -0.47161537]\n",
      " [ 0.45920268  0.43308188  0.44920027 ...  0.45758317 -1.33255183\n",
      "  -0.47161537]]\n",
      "[ 1 -1 -1 ...  1 -1  1]\n"
     ]
    }
   ],
   "source": [
    "x_train_dataA, x_test_dataA, y_train_dataA, y_test_dataA = train_test_split(z_standardized_dataA,np_label_dataA.ravel(),test_size =\n",
    "0.3, random_state = 40)\n",
    "#model.fit(x_train_dataA, y_train_dataA)\n",
    "#y_predict_dataA = model.predict(x_test_dataA)\n",
    "print(x_train_dataA)\n",
    "print(y_train_dataA)"
   ]
  },
  {
   "cell_type": "markdown",
   "metadata": {},
   "source": [
    "### The holdout method is the simplest kind of cross validation. The data set is separated into two sets, called the training set and the testing set. The function approximator fits a function using the training set only. Then the function approximator is asked to predict the output values for the data in the testing set (it has never seen these output values before). The errors it makes are accumulated as before to give the mean absolute test set error, which is used to evaluate the model. The advantage of this method is that it is usually preferable to the residual method and takes no longer to compute. However, its evaluation can have a high variance. The evaluation may depend heavily on which data points end up in the training set and which end up in the test set, and thus the evaluation may be significantly different depending on how the division is made. --> need to reword it"
   ]
  },
  {
   "cell_type": "markdown",
   "metadata": {},
   "source": [
    "### 2. 5-fold cross validation on training set to select the parameters k for k_NN from given set and plot"
   ]
  },
  {
   "cell_type": "code",
   "execution_count": 18,
   "metadata": {},
   "outputs": [
    {
     "name": "stdout",
     "output_type": "stream",
     "text": [
      "Set of parameters for k value is: [1, 3, 5, 7, 9, 11, 13, 15, 17, 19, 21, 23, 25, 27, 29, 31]\n"
     ]
    }
   ],
   "source": [
    "k_list=list(range(1,32,2))\n",
    "print(\"Set of parameters for k value is:\",k_list)"
   ]
  },
  {
   "cell_type": "code",
   "execution_count": 19,
   "metadata": {},
   "outputs": [
    {
     "name": "stdout",
     "output_type": "stream",
     "text": [
      "For k= 1, Accuracies: [0.69805195 0.74350649 0.70454545 0.71753247 0.69805195]\n",
      "For k= 3, Accuracies: [0.73376623 0.73701299 0.72077922 0.74025974 0.71753247]\n",
      "For k= 5, Accuracies: [0.71428571 0.73701299 0.74025974 0.72727273 0.72077922]\n",
      "For k= 7, Accuracies: [0.73051948 0.74350649 0.71753247 0.75324675 0.70454545]\n",
      "For k= 9, Accuracies: [0.71428571 0.73376623 0.71753247 0.73376623 0.71103896]\n",
      "For k= 11, Accuracies: [0.72077922 0.74350649 0.71753247 0.74025974 0.71428571]\n",
      "For k= 13, Accuracies: [0.70779221 0.72402597 0.72402597 0.75324675 0.68181818]\n",
      "For k= 15, Accuracies: [0.72077922 0.73701299 0.70454545 0.75324675 0.68506494]\n",
      "For k= 17, Accuracies: [0.71428571 0.72727273 0.71753247 0.74675325 0.68831169]\n",
      "For k= 19, Accuracies: [0.72402597 0.73051948 0.73051948 0.73376623 0.68506494]\n",
      "For k= 21, Accuracies: [0.70779221 0.72727273 0.71753247 0.72077922 0.68506494]\n",
      "For k= 23, Accuracies: [0.71103896 0.71103896 0.71753247 0.72727273 0.68181818]\n",
      "For k= 25, Accuracies: [0.71753247 0.71428571 0.71753247 0.73051948 0.68181818]\n",
      "For k= 27, Accuracies: [0.71753247 0.71103896 0.69805195 0.72077922 0.68831169]\n",
      "For k= 29, Accuracies: [0.71103896 0.70779221 0.71103896 0.73376623 0.67857143]\n",
      "For k= 31, Accuracies: [0.71103896 0.7012987  0.71103896 0.73376623 0.67532468]\n",
      "Mean of accuracy scores: [0.7123376623376624, 0.7298701298701299, 0.7279220779220779, 0.72987012987013, 0.7220779220779221, 0.7272727272727273, 0.718181818181818, 0.7201298701298702, 0.7188311688311688, 0.7207792207792207, 0.7116883116883117, 0.7097402597402598, 0.7123376623376624, 0.7071428571428571, 0.7084415584415584, 0.7064935064935065]\n"
     ]
    }
   ],
   "source": [
    "# empty list to store accuracy\n",
    "K_accuracy=[]\n",
    "\n",
    "# looping through given values of k\n",
    "for k in k_list:\n",
    "    # 2. KNeighborsClassifier with k neighbours\n",
    "    knn = KNeighborsClassifier(n_neighbors=k)\n",
    "    # 3. cross_val_score for KNeighborsClassifier with k neighbours\n",
    "    accuracy = cross_val_score(knn, x_train_dataA, y_train_dataA, cv=5, scoring='accuracy')\n",
    "    print(\"For k= {}, Accuracies: {}\".format(k, accuracy))\n",
    "    #4. append mean of scores for k neighbours to k_accuracy list\n",
    "    K_accuracy.append(accuracy.mean())\n",
    "\n",
    "print(\"Mean of accuracy scores:\",K_accuracy)\n"
   ]
  },
  {
   "cell_type": "code",
   "execution_count": 20,
   "metadata": {},
   "outputs": [
    {
     "data": {
      "text/plain": [
       "Text(0, 0.5, 'Cross-validated accuracy')"
      ]
     },
     "execution_count": 20,
     "metadata": {},
     "output_type": "execute_result"
    },
    {
     "data": {
      "image/png": "[encoded data removed]",
      "text/plain": [
       "<Figure size 432x288 with 1 Axes>"
      ]
     },
     "metadata": {
      "needs_background": "light"
     },
     "output_type": "display_data"
    }
   ],
   "source": [
    "plt.plot(k_list, K_accuracy)\n",
    "plt.xlabel('Value of K for KNN')\n",
    "plt.ylabel('Cross-validated accuracy')"
   ]
  },
  {
   "cell_type": "code",
   "execution_count": 21,
   "metadata": {},
   "outputs": [
    {
     "name": "stdout",
     "output_type": "stream",
     "text": [
      "The best Calculation accuracy is : 0.72987012987013\n"
     ]
    }
   ],
   "source": [
    "print('The best Calculation accuracy is :' , max(K_accuracy))\n"
   ]
  },
  {
   "cell_type": "markdown",
   "metadata": {},
   "source": [
    "### The Best Calculation accuracy of 0.72987012987013 ie. 72.987012987013 % is best for value of K=3"
   ]
  },
  {
   "cell_type": "markdown",
   "metadata": {},
   "source": [
    "### 3. RBF Kernel best parameter selection in terms of classification accuracy"
   ]
  },
  {
   "cell_type": "code",
   "execution_count": 22,
   "metadata": {},
   "outputs": [
    {
     "name": "stdout",
     "output_type": "stream",
     "text": [
      "{'C': [0.1, 0.5, 1, 2, 5, 10, 20, 50], 'gamma': [0.01, 0.05, 0.1, 0.5, 1, 2, 5, 10]}\n"
     ]
    }
   ],
   "source": [
    "# Dictionary od possible parameters\n",
    "c=[0.1, 0.5, 1, 2, 5, 10, 20, 50]\n",
    "gamma=[0.01, 0.05 , 0.1, 0.5, 1, 2, 5, 10]\n",
    "param_dict=dict(C=c,gamma=gamma)\n",
    "print(param_dict)"
   ]
  },
  {
   "cell_type": "code",
   "execution_count": 23,
   "metadata": {},
   "outputs": [],
   "source": [
    "#Grid Search CV Object\n",
    "grid_rbf=GridSearchCV(SVC(), param_dict,cv=None)\n",
    "\n",
    "#z_standardized_dataA\n",
    "# c= None takes default 5-fold crossvalidation as given in documentation\n",
    "#print(grid_rbf)"
   ]
  },
  {
   "cell_type": "code",
   "execution_count": 24,
   "metadata": {},
   "outputs": [],
   "source": [
    "# Data fitted with best parameters \n",
    "clf=svm.SVC()\n",
    "#clf.fit(x_train_dataA, y_train_dataA)\n",
    "#grid_rbf.fit(x_train_dataA, y_train_dataA)\n",
    "#grid_rbf.fit(z_standardized_dataA,np_label_dataA.ravel())\n",
    "#grid_rbf.get_params().keys()\n",
    "#print(\"The best classifier is: \", clf.cv_results_)\n",
    "\n",
    "\n",
    "search = GridSearchCV(clf, param_dict, cv=5,scoring = 'accuracy').fit(x_train_dataA, y_train_dataA)"
   ]
  },
  {
   "cell_type": "code",
   "execution_count": 25,
   "metadata": {},
   "outputs": [
    {
     "data": {
      "text/plain": [
       "0.9064935064935066"
      ]
     },
     "execution_count": 25,
     "metadata": {},
     "output_type": "execute_result"
    }
   ],
   "source": [
    "search.best_score_\n",
    "    "
   ]
  },
  {
   "cell_type": "code",
   "execution_count": 26,
   "metadata": {},
   "outputs": [
    {
     "data": {
      "text/plain": [
       "{'C': 5, 'gamma': 0.01}"
      ]
     },
     "execution_count": 26,
     "metadata": {},
     "output_type": "execute_result"
    }
   ],
   "source": [
    "search.best_params_\n",
    "           "
   ]
  },
  {
   "cell_type": "markdown",
   "metadata": {},
   "source": [
    "### The best parameters are : The best Soft Margin penality 'c' is 5 and gamma is 0.01"
   ]
  },
  {
   "cell_type": "markdown",
   "metadata": {},
   "source": [
    "### 4. "
   ]
  },
  {
   "cell_type": "code",
   "execution_count": 27,
   "metadata": {},
   "outputs": [
    {
     "name": "stdout",
     "output_type": "stream",
     "text": [
      "[[-1.35289759  0.43308188 -1.37244139 ...  1.37358225 -0.41756618\n",
      "   0.44901801]\n",
      " [-1.35289759 -0.48747864  0.44920027 ...  1.37358225 -0.41756618\n",
      "  -1.39224875]\n",
      " [ 1.36525282 -1.40803915 -1.37244139 ...  0.45758317  0.49741947\n",
      "  -1.39224875]\n",
      " ...\n",
      " [-1.35289759  0.43308188  0.44920027 ... -1.37441497 -1.33255183\n",
      "  -1.39224875]\n",
      " [ 1.36525282  1.35364239 -1.37244139 ... -1.37441497 -0.41756618\n",
      "   1.36965138]\n",
      " [-1.35289759 -0.48747864 -1.37244139 ... -0.4584159  -0.41756618\n",
      "  -1.39224875]]\n",
      "[-1 -1 -1 -1  1  1  1  1 -1 -1  1  1  1  1  1 -1  1  1 -1  1 -1  1 -1 -1\n",
      "  1  1  1  1  1 -1  1  1 -1 -1 -1  1 -1  1  1 -1  1  1  1  1 -1 -1 -1  1\n",
      "  1 -1  1 -1 -1  1 -1  1  1  1  1  1 -1  1 -1 -1  1  1  1 -1 -1  1  1 -1\n",
      " -1  1 -1  1  1 -1 -1 -1 -1 -1 -1 -1 -1  1  1  1  1  1  1  1 -1  1  1 -1\n",
      "  1  1 -1  1 -1 -1  1 -1 -1 -1  1 -1 -1  1 -1 -1  1 -1 -1  1 -1  1 -1 -1\n",
      "  1 -1 -1  1  1  1 -1  1  1 -1  1  1 -1 -1  1 -1 -1  1 -1 -1 -1  1 -1 -1\n",
      "  1 -1 -1 -1 -1 -1  1  1  1 -1 -1 -1  1 -1 -1 -1 -1 -1  1  1  1 -1 -1 -1\n",
      "  1 -1  1 -1  1  1 -1  1 -1  1 -1  1 -1  1 -1  1 -1 -1 -1 -1  1  1  1 -1\n",
      "  1 -1  1 -1  1  1  1  1 -1 -1  1 -1 -1  1 -1  1 -1  1 -1  1 -1  1 -1 -1\n",
      " -1  1  1  1 -1  1  1  1 -1 -1  1 -1 -1 -1 -1 -1 -1 -1  1  1  1 -1 -1 -1\n",
      " -1 -1 -1  1 -1  1  1  1  1  1  1  1  1  1 -1 -1 -1  1  1 -1 -1 -1 -1 -1\n",
      "  1 -1  1 -1  1 -1 -1  1  1 -1  1 -1 -1  1  1 -1  1  1 -1  1  1  1  1 -1\n",
      "  1 -1  1  1 -1  1  1 -1  1  1 -1  1  1  1  1 -1  1  1 -1  1  1  1 -1  1\n",
      " -1 -1 -1 -1 -1 -1  1 -1  1  1  1 -1  1  1 -1  1  1  1 -1 -1  1 -1  1  1\n",
      " -1 -1  1 -1  1  1  1 -1  1 -1 -1 -1  1 -1 -1  1  1  1 -1 -1  1  1 -1 -1\n",
      "  1  1 -1 -1 -1 -1 -1  1 -1 -1 -1  1  1  1 -1  1 -1 -1 -1 -1 -1 -1 -1  1\n",
      "  1  1 -1  1  1 -1  1 -1  1  1  1  1  1  1  1  1 -1 -1 -1  1 -1 -1  1 -1\n",
      " -1  1 -1  1 -1 -1 -1 -1  1  1 -1 -1  1 -1 -1  1  1  1  1 -1 -1 -1  1  1\n",
      "  1 -1  1  1 -1 -1 -1  1  1 -1  1 -1 -1  1  1  1 -1 -1  1 -1  1  1 -1  1\n",
      "  1  1  1  1  1 -1 -1  1  1 -1  1  1  1 -1 -1  1  1 -1 -1  1  1 -1  1  1\n",
      "  1  1 -1  1 -1  1 -1  1  1 -1  1 -1  1  1  1  1  1 -1  1  1 -1  1  1  1\n",
      " -1  1 -1 -1 -1 -1  1 -1 -1  1 -1  1  1  1  1 -1 -1  1 -1  1  1 -1  1  1\n",
      " -1 -1 -1  1  1  1 -1  1 -1 -1  1 -1  1  1  1  1 -1  1  1 -1  1 -1  1  1\n",
      " -1  1  1  1 -1  1 -1  1  1 -1  1 -1  1 -1  1  1 -1  1  1  1 -1 -1  1  1\n",
      " -1 -1 -1  1 -1  1 -1 -1 -1 -1  1  1  1  1 -1 -1  1 -1  1  1 -1 -1  1  1\n",
      "  1  1 -1 -1 -1 -1  1 -1 -1  1 -1  1 -1  1  1 -1  1 -1  1 -1  1 -1 -1 -1\n",
      "  1  1  1  1  1  1  1  1 -1  1  1  1  1 -1  1  1  1 -1 -1  1 -1 -1  1  1\n",
      "  1 -1  1  1  1 -1  1  1 -1 -1  1  1]\n"
     ]
    }
   ],
   "source": [
    "# classify the test set\n",
    "#checking the test set\n",
    "print(x_test_dataA)\n",
    "print(y_test_dataA)"
   ]
  },
  {
   "cell_type": "code",
   "execution_count": 28,
   "metadata": {},
   "outputs": [
    {
     "name": "stdout",
     "output_type": "stream",
     "text": [
      "Accuracy is : 0.7363636363636363\n",
      "Precision is : 0.8963963963963963\n",
      "Recall is : 0.5685714285714286\n",
      "F1-Score is : 0.695804195804196\n"
     ]
    }
   ],
   "source": [
    "# For K-NN using above parameters to classify the test set \n",
    "# k=3 gave best classification accuracy\n",
    "Knn_model=KNeighborsClassifier(n_neighbors=3)\n",
    "Knn_model.fit(x_train_dataA,y_train_dataA)\n",
    "\n",
    "y_pred_KNN=Knn_model.predict(x_test_dataA)\n",
    "\n",
    "# comparison between actual and predicted response\n",
    "print(\"Accuracy is :\",metrics.accuracy_score(y_test_dataA, y_pred_KNN))\n",
    "print(\"Precision is :\",metrics.precision_score(y_test_dataA, y_pred_KNN))\n",
    "print(\"Recall is :\",metrics.recall_score(y_test_dataA, y_pred_KNN))\n",
    "print(\"F1-Score is :\",metrics.f1_score(y_test_dataA, y_pred_KNN))"
   ]
  },
  {
   "cell_type": "code",
   "execution_count": 29,
   "metadata": {},
   "outputs": [
    {
     "data": {
      "text/plain": [
       "<matplotlib.collections.PathCollection at 0x2502a5845c8>"
      ]
     },
     "execution_count": 29,
     "metadata": {},
     "output_type": "execute_result"
    },
    {
     "data": {
      "image/png": "[encoded data removed]",
      "text/plain": [
       "<Figure size 432x288 with 1 Axes>"
      ]
     },
     "metadata": {
      "needs_background": "light"
     },
     "output_type": "display_data"
    }
   ],
   "source": [
    "# Plot showing the classification with predicted values for 1st two features\n",
    "plt.scatter(x_test_dataA[:,0],x_test_dataA[:,1],c=y_pred_KNN)"
   ]
  },
  {
   "cell_type": "code",
   "execution_count": 30,
   "metadata": {},
   "outputs": [
    {
     "data": {
      "text/plain": [
       "<matplotlib.collections.PathCollection at 0x2502a5fd2c8>"
      ]
     },
     "execution_count": 30,
     "metadata": {},
     "output_type": "execute_result"
    },
    {
     "data": {
      "image/png": "[encoded data removed]",
      "text/plain": [
       "<Figure size 432x288 with 1 Axes>"
      ]
     },
     "metadata": {
      "needs_background": "light"
     },
     "output_type": "display_data"
    }
   ],
   "source": [
    "#Plot showing the classification with actual test y values for 1st two features\n",
    "plt.scatter(x_test_dataA[:,0],x_test_dataA[:,1],c=y_test_dataA)"
   ]
  },
  {
   "cell_type": "code",
   "execution_count": 31,
   "metadata": {},
   "outputs": [
    {
     "name": "stdout",
     "output_type": "stream",
     "text": [
      "Accuracy is : 0.8878787878787879\n",
      "Precision is : 0.9107142857142857\n",
      "Recall is : 0.8742857142857143\n",
      "F1-Score is : 0.892128279883382\n"
     ]
    }
   ],
   "source": [
    "# For SVM using above parameters to classify the test set\n",
    "SVN_model=SVC(C=5,gamma=0.01)\n",
    "SVN_model.fit(x_train_dataA,y_train_dataA)\n",
    "\n",
    "y_pred_SVN=SVN_model.predict(x_test_dataA)\n",
    "\n",
    "\n",
    "# comparison between actual and predicted response\n",
    "print(\"Accuracy is :\",metrics.accuracy_score(y_test_dataA, y_pred_SVN))\n",
    "print(\"Precision is :\",metrics.precision_score(y_test_dataA, y_pred_SVN))\n",
    "print(\"Recall is :\",metrics.recall_score(y_test_dataA, y_pred_SVN))\n",
    "print(\"F1-Score is :\",metrics.f1_score(y_test_dataA, y_pred_SVN))"
   ]
  },
  {
   "cell_type": "code",
   "execution_count": 32,
   "metadata": {},
   "outputs": [
    {
     "data": {
      "text/plain": [
       "<matplotlib.collections.PathCollection at 0x2502a665b48>"
      ]
     },
     "execution_count": 32,
     "metadata": {},
     "output_type": "execute_result"
    },
    {
     "data": {
      "image/png": "[encoded data removed]",
      "text/plain": [
       "<Figure size 432x288 with 1 Axes>"
      ]
     },
     "metadata": {
      "needs_background": "light"
     },
     "output_type": "display_data"
    }
   ],
   "source": [
    "# Plot showing the classification with predicted valuesfor 1st two features\n",
    "plt.scatter(x_test_dataA[:,0],x_test_dataA[:,1],c=y_pred_SVN)"
   ]
  },
  {
   "cell_type": "code",
   "execution_count": 33,
   "metadata": {},
   "outputs": [
    {
     "data": {
      "text/plain": [
       "<matplotlib.collections.PathCollection at 0x2502a6cae08>"
      ]
     },
     "execution_count": 33,
     "metadata": {},
     "output_type": "execute_result"
    },
    {
     "data": {
      "image/png": "[encoded data removed]",
      "text/plain": [
       "<Figure size 432x288 with 1 Axes>"
      ]
     },
     "metadata": {
      "needs_background": "light"
     },
     "output_type": "display_data"
    }
   ],
   "source": [
    "#Plot showing the classification with actual test y values for 1st two features\n",
    "plt.scatter(x_test_dataA[:,0],x_test_dataA[:,1],c=y_test_dataA)"
   ]
  },
  {
   "cell_type": "code",
   "execution_count": 34,
   "metadata": {},
   "outputs": [
    {
     "name": "stdout",
     "output_type": "stream",
     "text": [
      "Accuracy is : 0.853030303030303\n",
      "Precision is : 0.8666666666666667\n",
      "Recall is : 0.8542857142857143\n",
      "F1-Score is : 0.860431654676259\n"
     ]
    }
   ],
   "source": [
    "# Using default setups for Naive Bayes Classifier to classify test set\n",
    "\n",
    "#using default Gaussian Naive Bayes\n",
    "\n",
    "NB_model=GaussianNB()\n",
    "NB_model.fit(x_train_dataA,y_train_dataA)\n",
    "\n",
    "y_pred_NB=NB_model.predict(x_test_dataA)\n",
    "\n",
    "# comparison between actual and predicted response\n",
    "print(\"Accuracy is :\",metrics.accuracy_score(y_test_dataA, y_pred_NB))\n",
    "print(\"Precision is :\",metrics.precision_score(y_test_dataA, y_pred_NB))\n",
    "print(\"Recall is :\",metrics.recall_score(y_test_dataA, y_pred_NB))\n",
    "print(\"F1-Score is :\",metrics.f1_score(y_test_dataA, y_pred_NB))"
   ]
  },
  {
   "cell_type": "code",
   "execution_count": 35,
   "metadata": {},
   "outputs": [
    {
     "data": {
      "text/plain": [
       "<matplotlib.collections.PathCollection at 0x2502a730fc8>"
      ]
     },
     "execution_count": 35,
     "metadata": {},
     "output_type": "execute_result"
    },
    {
     "data": {
      "image/png": "[encoded data removed]",
      "text/plain": [
       "<Figure size 432x288 with 1 Axes>"
      ]
     },
     "metadata": {
      "needs_background": "light"
     },
     "output_type": "display_data"
    }
   ],
   "source": [
    "# Plot showing the classification with predicted valuesfor 1st two features\n",
    "plt.scatter(x_test_dataA[:,0],x_test_dataA[:,1],c=y_pred_NB)"
   ]
  },
  {
   "cell_type": "code",
   "execution_count": 36,
   "metadata": {},
   "outputs": [
    {
     "data": {
      "text/plain": [
       "<matplotlib.collections.PathCollection at 0x2502a79aac8>"
      ]
     },
     "execution_count": 36,
     "metadata": {},
     "output_type": "execute_result"
    },
    {
     "data": {
      "image/png": "[encoded data removed]",
      "text/plain": [
       "<Figure size 432x288 with 1 Axes>"
      ]
     },
     "metadata": {
      "needs_background": "light"
     },
     "output_type": "display_data"
    }
   ],
   "source": [
    "#Plot showing the classification with actual test y values for 1st two features\n",
    "plt.scatter(x_test_dataA[:,0],x_test_dataA[:,1],c=y_test_dataA)"
   ]
  },
  {
   "cell_type": "code",
   "execution_count": 37,
   "metadata": {},
   "outputs": [
    {
     "name": "stdout",
     "output_type": "stream",
     "text": [
      "Accuracy is : 0.9287878787878788\n",
      "Precision is : 0.9365994236311239\n",
      "Recall is : 0.9285714285714286\n",
      "F1-Score is : 0.9325681492109038\n"
     ]
    }
   ],
   "source": [
    "# Using default setups for Decision Trees to classify test set\n",
    "DT_model = DecisionTreeClassifier()\n",
    "DT_model.fit(x_train_dataA,y_train_dataA)\n",
    "\n",
    "y_pred_DT=DT_model.predict(x_test_dataA)\n",
    "\n",
    "# comparison between actual and predicted response\n",
    "print(\"Accuracy is :\",metrics.accuracy_score(y_test_dataA, y_pred_DT))\n",
    "print(\"Precision is :\",metrics.precision_score(y_test_dataA, y_pred_DT))\n",
    "print(\"Recall is :\",metrics.recall_score(y_test_dataA, y_pred_DT))\n",
    "print(\"F1-Score is :\",metrics.f1_score(y_test_dataA, y_pred_DT))"
   ]
  },
  {
   "cell_type": "code",
   "execution_count": 38,
   "metadata": {},
   "outputs": [
    {
     "data": {
      "text/plain": [
       "<matplotlib.collections.PathCollection at 0x2502a807148>"
      ]
     },
     "execution_count": 38,
     "metadata": {},
     "output_type": "execute_result"
    },
    {
     "data": {
      "image/png": "[encoded data removed]",
      "text/plain": [
       "<Figure size 432x288 with 1 Axes>"
      ]
     },
     "metadata": {
      "needs_background": "light"
     },
     "output_type": "display_data"
    }
   ],
   "source": [
    "# Plot showing the classification with predicted values for 1st two features\n",
    "plt.scatter(x_test_dataA[:,0],x_test_dataA[:,1],c=y_pred_DT)"
   ]
  },
  {
   "cell_type": "code",
   "execution_count": 39,
   "metadata": {},
   "outputs": [
    {
     "data": {
      "text/plain": [
       "<matplotlib.collections.PathCollection at 0x2502a86b9c8>"
      ]
     },
     "execution_count": 39,
     "metadata": {},
     "output_type": "execute_result"
    },
    {
     "data": {
      "image/png": "[encoded data removed]",
      "text/plain": [
       "<Figure size 432x288 with 1 Axes>"
      ]
     },
     "metadata": {
      "needs_background": "light"
     },
     "output_type": "display_data"
    }
   ],
   "source": [
    "#Plot showing the classification with actual test y values for 1st two features\n",
    "plt.scatter(x_test_dataA[:,0],x_test_dataA[:,1],c=y_test_dataA)"
   ]
  },
  {
   "cell_type": "code",
   "execution_count": 40,
   "metadata": {},
   "outputs": [
    {
     "name": "stdout",
     "output_type": "stream",
     "text": [
      "Test split values: 0.045\n",
      "List of test iterations [0.045]\n",
      "Train split values 0.955\n",
      "\n",
      "\n",
      "Test split values: 0.09\n",
      "List of test iterations [0.045, 0.09]\n",
      "Train split values 0.910\n",
      "\n",
      "\n",
      "Test split values: 0.135\n",
      "List of test iterations [0.045, 0.09, 0.135]\n",
      "Train split values 0.865\n",
      "\n",
      "\n",
      "Test split values: 0.18\n",
      "List of test iterations [0.045, 0.09, 0.135, 0.18]\n",
      "Train split values 0.820\n",
      "\n",
      "\n",
      "Test split values: 0.225\n",
      "List of test iterations [0.045, 0.09, 0.135, 0.18, 0.225]\n",
      "Train split values 0.775\n",
      "\n",
      "\n",
      "Test split values: 0.27\n",
      "List of test iterations [0.045, 0.09, 0.135, 0.18, 0.225, 0.27]\n",
      "Train split values 0.730\n",
      "\n",
      "\n",
      "Test split values: 0.315\n",
      "List of test iterations [0.045, 0.09, 0.135, 0.18, 0.225, 0.27, 0.315]\n",
      "Train split values 0.685\n",
      "\n",
      "\n",
      "Test split values: 0.36\n",
      "List of test iterations [0.045, 0.09, 0.135, 0.18, 0.225, 0.27, 0.315, 0.36]\n",
      "Train split values 0.640\n",
      "\n",
      "\n",
      "Test split values: 0.405\n",
      "List of test iterations [0.045, 0.09, 0.135, 0.18, 0.225, 0.27, 0.315, 0.36, 0.405]\n",
      "Train split values 0.595\n",
      "\n",
      "\n",
      "Test split values: 0.45\n",
      "List of test iterations [0.045, 0.09, 0.135, 0.18, 0.225, 0.27, 0.315, 0.36, 0.405, 0.45]\n",
      "Train split values 0.550\n",
      "\n",
      "\n",
      "Test split values: 0.495\n",
      "List of test iterations [0.045, 0.09, 0.135, 0.18, 0.225, 0.27, 0.315, 0.36, 0.405, 0.45, 0.495]\n",
      "Train split values 0.505\n",
      "\n",
      "\n",
      "Test split values: 0.54\n",
      "List of test iterations [0.045, 0.09, 0.135, 0.18, 0.225, 0.27, 0.315, 0.36, 0.405, 0.45, 0.495, 0.54]\n",
      "Train split values 0.460\n",
      "\n",
      "\n",
      "Test split values: 0.585\n",
      "List of test iterations [0.045, 0.09, 0.135, 0.18, 0.225, 0.27, 0.315, 0.36, 0.405, 0.45, 0.495, 0.54, 0.585]\n",
      "Train split values 0.415\n",
      "\n",
      "\n",
      "Test split values: 0.63\n",
      "List of test iterations [0.045, 0.09, 0.135, 0.18, 0.225, 0.27, 0.315, 0.36, 0.405, 0.45, 0.495, 0.54, 0.585, 0.63]\n",
      "Train split values 0.370\n",
      "\n",
      "\n",
      "Test split values: 0.675\n",
      "List of test iterations [0.045, 0.09, 0.135, 0.18, 0.225, 0.27, 0.315, 0.36, 0.405, 0.45, 0.495, 0.54, 0.585, 0.63, 0.675]\n",
      "Train split values 0.325\n",
      "\n",
      "\n",
      "Test split values: 0.72\n",
      "List of test iterations [0.045, 0.09, 0.135, 0.18, 0.225, 0.27, 0.315, 0.36, 0.405, 0.45, 0.495, 0.54, 0.585, 0.63, 0.675, 0.72]\n",
      "Train split values 0.280\n",
      "\n",
      "\n",
      "Test split values: 0.765\n",
      "List of test iterations [0.045, 0.09, 0.135, 0.18, 0.225, 0.27, 0.315, 0.36, 0.405, 0.45, 0.495, 0.54, 0.585, 0.63, 0.675, 0.72, 0.765]\n",
      "Train split values 0.235\n",
      "\n",
      "\n",
      "Test split values: 0.81\n",
      "List of test iterations [0.045, 0.09, 0.135, 0.18, 0.225, 0.27, 0.315, 0.36, 0.405, 0.45, 0.495, 0.54, 0.585, 0.63, 0.675, 0.72, 0.765, 0.81]\n",
      "Train split values 0.190\n",
      "\n",
      "\n",
      "Test split values: 0.855\n",
      "List of test iterations [0.045, 0.09, 0.135, 0.18, 0.225, 0.27, 0.315, 0.36, 0.405, 0.45, 0.495, 0.54, 0.585, 0.63, 0.675, 0.72, 0.765, 0.81, 0.855]\n",
      "Train split values 0.145\n",
      "\n",
      "\n",
      "Test split values: 0.9\n",
      "List of test iterations [0.045, 0.09, 0.135, 0.18, 0.225, 0.27, 0.315, 0.36, 0.405, 0.45, 0.495, 0.54, 0.585, 0.63, 0.675, 0.72, 0.765, 0.81, 0.855, 0.9]\n",
      "Train split values 0.100\n",
      "\n",
      "\n"
     ]
    }
   ],
   "source": [
    "#Custom function to create float range\n",
    "\n",
    "def frange(start,stop=None,step=None):\n",
    "    \n",
    "    if stop == None:\n",
    "        stop=start+0.0\n",
    "        start=0.0\n",
    "        \n",
    "    if step==None:\n",
    "        step=1.0\n",
    "        \n",
    "    while True:\n",
    "        if step>0 and start>=stop:\n",
    "            break\n",
    "        elif step<0 and start <=stop:\n",
    "            break\n",
    "        yield(\"%g\" % start)\n",
    "        start=start+step\n",
    "\n",
    "iterations=frange(0.045,0.91,0.045)\n",
    "test_iterations=[]\n",
    "#Function tested here\n",
    "\n",
    "for n in iterations:\n",
    "    test_iterations.append(float(n))\n",
    "    print(\"Test split values:\",n)\n",
    "    print(\"List of test iterations\",test_iterations)\n",
    "    f1=1-float(n)\n",
    "    f2=f'{f1:.3f}'\n",
    "    print(\"Train split values\",f2)\n",
    "    print(\"\\n\")"
   ]
  },
  {
   "cell_type": "code",
   "execution_count": 41,
   "metadata": {},
   "outputs": [
    {
     "name": "stdout",
     "output_type": "stream",
     "text": [
      "Acuracy list is : [0.7171717171717171, 0.7525252525252525, 0.7373737373737373, 0.7297979797979798, 0.7353535353535353, 0.7441077441077442, 0.733044733044733, 0.7462121212121212, 0.734304932735426, 0.7282828282828283, 0.721763085399449, 0.7306397306397306, 0.7233877233877234, 0.7164502164502164, 0.7117845117845117, 0.711489898989899, 0.7082590612002376, 0.704991587212563, 0.7076023391812866, 0.6732323232323232]\n",
      "\n",
      "\n",
      "Precision list is : [0.9117647058823529, 0.9152542372881356, 0.8888888888888888, 0.8833333333333333, 0.8875, 0.9030612244897959, 0.8977777777777778, 0.9029850746268657, 0.8979591836734694, 0.9047619047619048, 0.8908045977011494, 0.8642857142857143, 0.851528384279476, 0.84, 0.8185117967332124, 0.8278260869565217, 0.8105939004815409, 0.7873563218390804, 0.7719298245614035, 0.7639077340569878]\n",
      "\n",
      "\n",
      "Recall list is: [0.5535714285714286, 0.5510204081632653, 0.5405405405405406, 0.5326633165829145, 0.5568627450980392, 0.5709677419354838, 0.554945054945055, 0.580335731414868, 0.5605095541401274, 0.5438931297709924, 0.5391304347826087, 0.5798722044728435, 0.5752212389380531, 0.572987721691678, 0.5789473684210527, 0.5707434052757794, 0.5751708428246014, 0.591792656587473, 0.6260162601626016, 0.5434362934362934]\n",
      "\n",
      "\n",
      "F1-Score list is: [0.6888888888888888, 0.6878980891719745, 0.6722689075630253, 0.664576802507837, 0.6843373493975904, 0.6996047430830039, 0.6859083191850595, 0.7065693430656934, 0.6901960784313725, 0.6793802145411204, 0.6717226435536294, 0.6940726577437859, 0.6866197183098591, 0.681265206812652, 0.6781954887218046, 0.6756564939673527, 0.6728847435043305, 0.6757090012330457, 0.691358024691358, 0.6350817822899042]\n",
      "\n",
      "\n",
      "mean for accuracy in case of KNN is 0.7233887529541507\n",
      "\n",
      "\n",
      "Standard Deviation for accuracy in case of KNN is 0.01755816371250479\n"
     ]
    }
   ],
   "source": [
    "# Repeating above steps 20 times by varying the split of training-test set \n",
    "# as in Step 1\n",
    "\n",
    "#for KNN\n",
    "Knn_model2=KNeighborsClassifier(n_neighbors=3)\n",
    "#Classification based on KNN\n",
    "KNN_accuracy_list=[]\n",
    "KNN_precision_list=[]\n",
    "KNN_recall_list=[]\n",
    "KNN_f1_list=[]\n",
    "#Iteration for Retraining\n",
    "for i in test_iterations:\n",
    "    #f1=1-float(i)\n",
    "    #f2=f'{f1:.3f}'\n",
    "    #Random Dataset Split\n",
    "    x_train_dataA_KNN, x_test_dataA_KNN, y_train_dataA_KNN, y_test_dataA_KNN = train_test_split(z_standardized_dataA,np_label_dataA.ravel(),test_size =i, random_state = 40)\n",
    "    #Training the Model\n",
    "    Knn_model2.fit(x_train_dataA_KNN, y_train_dataA_KNN)\n",
    "    #Test Dataset Prediction\n",
    "    y_predict_KNN_list = Knn_model2.predict(x_test_dataA_KNN)\n",
    "    #Classification Accuracy\n",
    "    accuracy=metrics.accuracy_score(y_test_dataA_KNN, y_predict_KNN_list)\n",
    "    KNN_accuracy_list.append(accuracy)\n",
    "    \n",
    "    #Precision\n",
    "    precision=metrics.precision_score(y_test_dataA_KNN, y_predict_KNN_list)\n",
    "    KNN_precision_list.append(precision)\n",
    "                                    \n",
    "    #Recall\n",
    "    recall=metrics.recall_score(y_test_dataA_KNN, y_predict_KNN_list)\n",
    "    KNN_recall_list.append(recall)\n",
    "    \n",
    "    #F1-score\n",
    "    f1score=metrics.f1_score(y_test_dataA_KNN, y_predict_KNN_list)\n",
    "    KNN_f1_list.append(f1score)\n",
    "\n",
    "print(\"Acuracy list is :\",KNN_accuracy_list)\n",
    "print(\"\\n\")\n",
    "print(\"Precision list is :\",KNN_precision_list)\n",
    "print(\"\\n\")\n",
    "print(\"Recall list is:\",KNN_recall_list)\n",
    "print(\"\\n\")\n",
    "print(\"F1-Score list is:\",KNN_f1_list)\n",
    "print(\"\\n\")\n",
    "\n",
    "#Average and standard Deviation of Classification values\n",
    "\n",
    "mean_accuracy_list_KNN=sum(KNN_accuracy_list)/len(KNN_accuracy_list)\n",
    "variance_accuracy_list_KNN=sum([((x-mean_accuracy_list_KNN)**2) for x in KNN_accuracy_list])/len(KNN_accuracy_list)\n",
    "sd_accuracy_list_KNN=variance_accuracy_list_KNN**0.5\n",
    "\n",
    "print(\"mean for accuracy in case of KNN is\",mean_accuracy_list_KNN)\n",
    "print(\"\\n\")\n",
    "print(\"Standard Deviation for accuracy in case of KNN is\",sd_accuracy_list_KNN)"
   ]
  },
  {
   "cell_type": "code",
   "execution_count": 42,
   "metadata": {},
   "outputs": [
    {
     "name": "stdout",
     "output_type": "stream",
     "text": [
      "Acuracy list is : [0.8787878787878788, 0.8838383838383839, 0.8956228956228957, 0.9015151515151515, 0.8949494949494949, 0.8939393939393939, 0.8917748917748918, 0.9040404040404041, 0.8968609865470852, 0.896969696969697, 0.8943985307621671, 0.8838383838383839, 0.8904428904428905, 0.8737373737373737, 0.8693602693602693, 0.8693181818181818, 0.8686868686868687, 0.8614694335389792, 0.8617756512493354, 0.8151515151515152]\n",
      "\n",
      "\n",
      "Precision list is : [0.9230769230769231, 0.9032258064516129, 0.903448275862069, 0.9040404040404041, 0.9011857707509882, 0.9075907590759076, 0.9188405797101449, 0.9338422391857506, 0.9258426966292135, 0.9288617886178862, 0.9197080291970803, 0.9066666666666666, 0.9099236641221374, 0.8864265927977839, 0.8754813863928113, 0.881851400730816, 0.8815331010452961, 0.8702290076335878, 0.8731958762886598, 0.8356713426853707]\n",
      "\n",
      "\n",
      "Recall list is: [0.8571428571428571, 0.8571428571428571, 0.8851351351351351, 0.8994974874371859, 0.8941176470588236, 0.8870967741935484, 0.8708791208791209, 0.8800959232613909, 0.8747346072186837, 0.8721374045801527, 0.8765217391304347, 0.8690095846645367, 0.8790560471976401, 0.8731241473396999, 0.8754813863928113, 0.86810551558753, 0.8644646924829157, 0.8617710583153347, 0.8607723577235772, 0.805019305019305]\n",
      "\n",
      "\n",
      "F1-Score list is: [0.888888888888889, 0.8795811518324608, 0.8941979522184301, 0.9017632241813602, 0.8976377952755906, 0.8972267536704731, 0.8942172073342737, 0.9061728395061729, 0.8995633187772926, 0.8996062992125984, 0.8975957257346393, 0.8874388254486134, 0.8942235558889722, 0.879725085910653, 0.8754813863928114, 0.8749244712990937, 0.8729154686601495, 0.8659793814432989, 0.8669396110542477, 0.8200589970501475]\n",
      "\n",
      "\n",
      "mean for accuracy in case of SVM is 0.8813239138285622\n",
      "\n",
      "\n",
      "Standard Deviation for accuracy in case of SVM is 0.0200015285853467\n"
     ]
    }
   ],
   "source": [
    "#for SVM\n",
    "SVM_model2=SVC(C=5,gamma=0.01)\n",
    "\n",
    "#Classification based on SVM\n",
    "SVM_accuracy_list=[]\n",
    "SVM_precision_list=[]\n",
    "SVM_recall_list=[]\n",
    "SVM_f1_list=[]\n",
    "#Iteration for Retraining\n",
    "for i in test_iterations:\n",
    "    #f1=1-float(i)\n",
    "    #f2=f'{f1:.3f}'\n",
    "    #Random Dataset Split\n",
    "    x_train_dataA_SVM, x_test_dataA_SVM, y_train_dataA_SVM, y_test_dataA_SVM = train_test_split(z_standardized_dataA,np_label_dataA.ravel(),test_size =i, random_state = 40)\n",
    "    #Training the Model\n",
    "    SVM_model2.fit(x_train_dataA_SVM, y_train_dataA_SVM)\n",
    "    #Test Dataset Prediction\n",
    "    y_predict_SVM_list = SVM_model2.predict(x_test_dataA_SVM)\n",
    "    #Classification Accuracy\n",
    "    accuracy=metrics.accuracy_score(y_test_dataA_SVM, y_predict_SVM_list)\n",
    "    SVM_accuracy_list.append(accuracy)\n",
    "    \n",
    "    #Precision\n",
    "    precision=metrics.precision_score(y_test_dataA_SVM, y_predict_SVM_list)\n",
    "    SVM_precision_list.append(precision)\n",
    "                                    \n",
    "    #Recall\n",
    "    recall=metrics.recall_score(y_test_dataA_SVM, y_predict_SVM_list)\n",
    "    SVM_recall_list.append(recall)\n",
    "    \n",
    "    #F1-score\n",
    "    f1score=metrics.f1_score(y_test_dataA_SVM, y_predict_SVM_list)\n",
    "    SVM_f1_list.append(f1score)\n",
    "\n",
    "print(\"Acuracy list is :\",SVM_accuracy_list)\n",
    "print(\"\\n\")\n",
    "print(\"Precision list is :\",SVM_precision_list)\n",
    "print(\"\\n\")\n",
    "print(\"Recall list is:\",SVM_recall_list)\n",
    "print(\"\\n\")\n",
    "print(\"F1-Score list is:\",SVM_f1_list)\n",
    "print(\"\\n\")\n",
    "\n",
    "#Average and standard Deviation of Classification values\n",
    "\n",
    "mean_accuracy_list_SVM=sum(SVM_accuracy_list)/len(SVM_accuracy_list)\n",
    "variance_accuracy_list_SVM=sum([((x-mean_accuracy_list_SVM)**2) for x in SVM_accuracy_list])/len(SVM_accuracy_list)\n",
    "sd_accuracy_list_SVM=variance_accuracy_list_SVM**0.5\n",
    "\n",
    "print(\"mean for accuracy in case of SVM is\",mean_accuracy_list_SVM)\n",
    "print(\"\\n\")\n",
    "print(\"Standard Deviation for accuracy in case of SVM is\",sd_accuracy_list_SVM)"
   ]
  },
  {
   "cell_type": "code",
   "execution_count": 43,
   "metadata": {},
   "outputs": [
    {
     "name": "stdout",
     "output_type": "stream",
     "text": [
      "Acuracy list is : [0.8383838383838383, 0.8232323232323232, 0.8451178451178452, 0.8560606060606061, 0.8525252525252526, 0.8535353535353535, 0.8542568542568543, 0.8598484848484849, 0.8621076233183856, 0.8616161616161616, 0.8631772268135904, 0.8661616161616161, 0.8671328671328671, 0.8694083694083694, 0.8686868686868687, 0.860479797979798, 0.8597742127153892, 0.8491306786315199, 0.8633705475810739, 0.8636363636363636]\n",
      "\n",
      "\n",
      "Precision list is : [0.9, 0.8247422680412371, 0.8541666666666666, 0.8622448979591837, 0.8669354838709677, 0.8704318936877077, 0.8662952646239555, 0.8695652173913043, 0.8702127659574468, 0.8671726755218216, 0.8672413793103448, 0.8677165354330708, 0.8668596237337193, 0.8612565445026178, 0.8509615384615384, 0.8471121177802945, 0.8504366812227074, 0.8308157099697885, 0.8452041785375118, 0.850091407678245]\n",
      "\n",
      "\n",
      "Recall list is: [0.8035714285714286, 0.8163265306122449, 0.831081081081081, 0.8492462311557789, 0.8431372549019608, 0.8451612903225807, 0.8543956043956044, 0.8633093525179856, 0.8683651804670913, 0.8721374045801527, 0.8747826086956522, 0.8801916932907349, 0.883480825958702, 0.897680763983629, 0.9088575096277278, 0.8968824940047961, 0.8872437357630979, 0.8909287257019438, 0.9044715447154471, 0.8976833976833977]\n",
      "\n",
      "\n",
      "F1-Score list is: [0.8490566037735849, 0.8205128205128205, 0.8424657534246575, 0.8556962025316456, 0.8548707753479126, 0.8576104746317513, 0.8603042876901799, 0.8664259927797834, 0.869287991498406, 0.8696479543292103, 0.870995670995671, 0.8739095955590802, 0.8750913075237399, 0.8790915163660654, 0.8789571694599628, 0.8712871287128713, 0.8684503901895206, 0.859822824387702, 0.8738340697103584, 0.8732394366197184]\n",
      "\n",
      "\n",
      "mean for accuracy in case of NB is 0.856882144582128\n",
      "\n",
      "\n",
      "Standard Deviation for accuracy in case of NB is 0.010966644634587956\n"
     ]
    }
   ],
   "source": [
    "# For Naive Bayes\n",
    "#for NB\n",
    "NB_model2=GaussianNB()\n",
    "\n",
    "#Classification based on NB\n",
    "NB_accuracy_list=[]\n",
    "NB_precision_list=[]\n",
    "NB_recall_list=[]\n",
    "NB_f1_list=[]\n",
    "#Iteration for Retraining\n",
    "for i in test_iterations:\n",
    "    #f1=1-float(i)\n",
    "    #f2=f'{f1:.3f}'\n",
    "    #Random Dataset Split\n",
    "    x_train_dataA_NB, x_test_dataA_NB, y_train_dataA_NB, y_test_dataA_NB = train_test_split(z_standardized_dataA,np_label_dataA.ravel(),test_size =i, random_state = 40)\n",
    "    #Training the Model\n",
    "    NB_model2.fit(x_train_dataA_NB, y_train_dataA_NB)\n",
    "    #Test Dataset Prediction\n",
    "    y_predict_NB_list = NB_model2.predict(x_test_dataA_NB)\n",
    "    #Classification Accuracy\n",
    "    accuracy=metrics.accuracy_score(y_test_dataA_NB, y_predict_NB_list)\n",
    "    NB_accuracy_list.append(accuracy)\n",
    "    \n",
    "    #Precision\n",
    "    precision=metrics.precision_score(y_test_dataA_NB, y_predict_NB_list)\n",
    "    NB_precision_list.append(precision)\n",
    "                                    \n",
    "    #Recall\n",
    "    recall=metrics.recall_score(y_test_dataA_NB, y_predict_NB_list)\n",
    "    NB_recall_list.append(recall)\n",
    "    \n",
    "    #F1-score\n",
    "    f1score=metrics.f1_score(y_test_dataA_NB, y_predict_NB_list)\n",
    "    NB_f1_list.append(f1score)\n",
    "\n",
    "print(\"Acuracy list is :\",NB_accuracy_list)\n",
    "print(\"\\n\")\n",
    "print(\"Precision list is :\",NB_precision_list)\n",
    "print(\"\\n\")\n",
    "print(\"Recall list is:\",NB_recall_list)\n",
    "print(\"\\n\")\n",
    "print(\"F1-Score list is:\",NB_f1_list)\n",
    "print(\"\\n\")\n",
    "\n",
    "#Average and standard Deviation of Classification values\n",
    "\n",
    "mean_accuracy_list_NB=sum(NB_accuracy_list)/len(NB_accuracy_list)\n",
    "variance_accuracy_list_NB=sum([((x-mean_accuracy_list_NB)**2) for x in NB_accuracy_list])/len(NB_accuracy_list)\n",
    "sd_accuracy_list_NB=variance_accuracy_list_NB**0.5\n",
    "\n",
    "print(\"mean for accuracy in case of NB is\",mean_accuracy_list_NB)\n",
    "print(\"\\n\")\n",
    "print(\"Standard Deviation for accuracy in case of NB is\",sd_accuracy_list_NB)\n"
   ]
  },
  {
   "cell_type": "code",
   "execution_count": 44,
   "metadata": {},
   "outputs": [
    {
     "name": "stdout",
     "output_type": "stream",
     "text": [
      "Acuracy list is : [0.9191919191919192, 0.9191919191919192, 0.936026936026936, 0.9343434343434344, 0.9232323232323232, 0.936026936026936, 0.9235209235209235, 0.9305555555555556, 0.9192825112107623, 0.9030303030303031, 0.9247015610651974, 0.9065656565656566, 0.9137529137529138, 0.911976911976912, 0.9023569023569024, 0.9166666666666666, 0.8983957219251337, 0.8984856982613573, 0.9064327485380117, 0.9222222222222223]\n",
      "\n",
      "\n",
      "Precision list is : [0.9137931034482759, 0.9183673469387755, 0.9328859060402684, 0.9435897435897436, 0.9288537549407114, 0.9387096774193548, 0.9307479224376731, 0.948019801980198, 0.934640522875817, 0.9022556390977443, 0.9362831858407079, 0.9093799682034976, 0.9276018099547512, 0.9321074964639321, 0.9085051546391752, 0.9420654911838791, 0.9348093480934809, 0.9276693455797933, 0.904, 0.9584199584199584]\n",
      "\n",
      "\n",
      "Recall is list : [0.9464285714285714, 0.9183673469387755, 0.9391891891891891, 0.9246231155778895, 0.9215686274509803, 0.9387096774193548, 0.9230769230769231, 0.9184652278177458, 0.910828025477707, 0.916030534351145, 0.92, 0.9137380191693291, 0.9070796460176991, 0.8990450204638472, 0.9050064184852374, 0.8968824940047961, 0.8656036446469249, 0.8725701943844493, 0.9186991869918699, 0.88996138996139]\n",
      "\n",
      "\n",
      "F1-Score is list : [0.9298245614035087, 0.9183673469387755, 0.936026936026936, 0.934010152284264, 0.9251968503937007, 0.9387096774193548, 0.926896551724138, 0.9330085261875761, 0.9225806451612903, 0.9090909090909091, 0.9280701754385965, 0.9115537848605577, 0.9172259507829978, 0.9152777777777779, 0.9067524115755627, 0.918918918918919, 0.8988764044943821, 0.899276572064552, 0.9112903225806451, 0.9229229229229229]\n",
      "\n",
      "\n",
      "mean for accuracy in case of DT is 0.9172979882330994\n",
      "\n",
      "\n",
      "Standard Deviation for accuracy in case of DT is 0.011714283941433052\n"
     ]
    }
   ],
   "source": [
    "#for DT\n",
    "DT_model2 = DecisionTreeClassifier()\n",
    "\n",
    "#Classification based on DT\n",
    "DT_accuracy_list=[]\n",
    "DT_precision_list=[]\n",
    "DT_recall_list=[]\n",
    "DT_f1_list=[]\n",
    "#Iteration for Retraining\n",
    "for i in test_iterations:\n",
    "    #f1=1-float(i)\n",
    "    #f2=f'{f1:.3f}'\n",
    "    #Random Dataset Split\n",
    "    x_train_dataA_DT, x_test_dataA_DT, y_train_dataA_DT, y_test_dataA_DT = train_test_split(z_standardized_dataA,np_label_dataA.ravel(),test_size =i, random_state = 40)\n",
    "    #Training the Model\n",
    "    DT_model2.fit(x_train_dataA_DT, y_train_dataA_DT)\n",
    "    #Test Dataset Prediction\n",
    "    y_predict_DT_list = DT_model2.predict(x_test_dataA_DT)\n",
    "    #Classification Accuracy\n",
    "    accuracy=metrics.accuracy_score(y_test_dataA_DT, y_predict_DT_list)\n",
    "    DT_accuracy_list.append(accuracy)\n",
    "    \n",
    "    #Precision\n",
    "    precision=metrics.precision_score(y_test_dataA_DT, y_predict_DT_list)\n",
    "    DT_precision_list.append(precision)\n",
    "                                    \n",
    "    #Recall\n",
    "    recall=metrics.recall_score(y_test_dataA_DT, y_predict_DT_list)\n",
    "    DT_recall_list.append(recall)\n",
    "    \n",
    "    #F1-score\n",
    "    f1score=metrics.f1_score(y_test_dataA_DT, y_predict_DT_list)\n",
    "    DT_f1_list.append(f1score)\n",
    "\n",
    "print(\"Acuracy list is :\",DT_accuracy_list)\n",
    "print(\"\\n\")\n",
    "print(\"Precision list is :\",DT_precision_list)\n",
    "print(\"\\n\")\n",
    "print(\"Recall is list :\",DT_recall_list)\n",
    "print(\"\\n\")\n",
    "print(\"F1-Score is list :\",DT_f1_list)\n",
    "print(\"\\n\")\n",
    "\n",
    "#Average and standard Deviation of Classification values\n",
    "\n",
    "mean_accuracy_list_DT=sum(DT_accuracy_list)/len(DT_accuracy_list)\n",
    "variance_accuracy_list_DT=sum([((x-mean_accuracy_list_DT)**2) for x in DT_accuracy_list])/len(DT_accuracy_list)\n",
    "sd_accuracy_list_DT=variance_accuracy_list_DT**0.5\n",
    "\n",
    "print(\"mean for accuracy in case of DT is\",mean_accuracy_list_DT)\n",
    "print(\"\\n\")\n",
    "print(\"Standard Deviation for accuracy in case of DT is\",sd_accuracy_list_DT)"
   ]
  },
  {
   "cell_type": "markdown",
   "metadata": {},
   "source": [
    "# 5. Comment on obtained results"
   ]
  },
  {
   "cell_type": "code",
   "execution_count": null,
   "metadata": {},
   "outputs": [],
   "source": []
  }
 ],
 "metadata": {
  "kernelspec": {
   "display_name": "Python 3",
   "language": "python",
   "name": "python3"
  },
  "language_info": {
   "codemirror_mode": {
    "name": "ipython",
    "version": 3
   },
   "file_extension": ".py",
   "mimetype": "text/x-python",
   "name": "python",
   "nbconvert_exporter": "python",
   "pygments_lexer": "ipython3",
   "version": "3.7.6"
  }
 },
 "nbformat": 4,
 "nbformat_minor": 4
}
