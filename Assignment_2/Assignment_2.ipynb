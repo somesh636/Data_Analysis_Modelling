{
 "cells": [
  {
   "cell_type": "code",
   "execution_count": 1,
   "metadata": {},
   "outputs": [],
   "source": [
    "# Import Packages\n",
    "import pandas as pd \n",
    "import numpy as np \n",
    "from scipy.io import loadmat \n",
    "from sklearn.preprocessing import StandardScaler\n",
    "from sklearn.model_selection import train_test_split\n",
    "from sklearn.model_selection import KFold\n",
    "from sklearn.neighbors import KNeighborsClassifier\n",
    "from sklearn import metrics\n",
    "from sklearn.model_selection import cross_val_score\n",
    "import matplotlib.pyplot as plt\n",
    "from sklearn.model_selection import GridSearchCV\n",
    "from sklearn import svm\n",
    "from sklearn.svm import SVC\n",
    "from sklearn.naive_bayes import GaussianNB\n",
    "from sklearn.tree import DecisionTreeClassifier\n",
    "import seaborn as sns\n",
    "from sklearn.metrics import classification_report"
   ]
  },
  {
   "cell_type": "markdown",
   "metadata": {},
   "source": [
    "# Question 1"
   ]
  },
  {
   "cell_type": "code",
   "execution_count": 2,
   "metadata": {},
   "outputs": [],
   "source": [
    "# Load the Dataset DataA.mat\n",
    "mat_dataA = loadmat('Dataset/DataA.mat')\n",
    "    \n",
    "#r'C:\\Users\\tonkh\\OneDrive\\Desktop\\ECE 657A\\Assignment\\Assignment2\\Assignment2\\Datasets\\DataA.mat')\n",
    "    "
   ]
  },
  {
   "cell_type": "code",
   "execution_count": 3,
   "metadata": {
    "tags": []
   },
   "outputs": [
    {
     "output_type": "stream",
     "name": "stdout",
     "text": "Dataset A: \n {'__header__': b'MATLAB 5.0 MAT-file, Platform: PCWIN64, Created on: Tue Oct 21 15:46:48 2014', '__version__': '1.0', '__globals__': [], 'fea': array([[1, 2, 1, ..., 2, 2, 1],\n       [3, 3, 4, ..., 1, 3, 4],\n       [4, 1, 4, ..., 2, 4, 4],\n       ...,\n       [3, 4, 4, ..., 3, 1, 2],\n       [1, 4, 3, ..., 4, 3, 4],\n       [4, 3, 1, ..., 2, 4, 3]], dtype=uint8), 'gnd': array([[1],\n       [1],\n       [1],\n       ...,\n       [1],\n       [1],\n       [1]], dtype=int16)}\n"
    }
   ],
   "source": [
    "# DataA.mat\n",
    "print(\"Dataset A: \\n\", mat_dataA)"
   ]
  },
  {
   "cell_type": "code",
   "execution_count": 4,
   "metadata": {},
   "outputs": [],
   "source": [
    "# Get the Features from the matrix \n",
    "mat_features_datA = mat_dataA['fea']"
   ]
  },
  {
   "cell_type": "code",
   "execution_count": 5,
   "metadata": {},
   "outputs": [],
   "source": [
    "# Get the Labels from the Matrix \n",
    "mat_label_dataA = mat_dataA['gnd']"
   ]
  },
  {
   "cell_type": "code",
   "execution_count": 6,
   "metadata": {
    "tags": []
   },
   "outputs": [
    {
     "output_type": "stream",
     "name": "stdout",
     "text": "Features from the Dataset: \n       0   1   2   3   4   5   6   7   8   9   ...  47  48  49  50  51  52  53  \\\n0      1   2   1   2   1   2   3   3   3   3  ...   4   3   2   3   4   2   2   \n1      3   3   4   2   1   2   2   4   3   2  ...   3   1   4   3   4   4   4   \n2      4   1   4   4   4   4   1   1   2   1  ...   1   1   2   1   1   4   2   \n3      1   4   1   1   3   3   4   4   3   4  ...   2   1   3   3   4   1   3   \n4      3   4   4   3   1   1   4   4   4   1  ...   4   3   1   3   2   1   4   \n...   ..  ..  ..  ..  ..  ..  ..  ..  ..  ..  ...  ..  ..  ..  ..  ..  ..  ..   \n2195   3   3   3   4   2   2   3   3   4   4  ...   2   1   4   3   3   4   1   \n2196   3   3   1   1   2   3   3   4   3   1  ...   4   2   1   3   1   2   3   \n2197   3   4   4   3   3   3   1   2   4   3  ...   2   4   3   3   4   1   2   \n2198   1   4   3   4   1   3   4   2   4   3  ...   4   2   4   2   2   2   4   \n2199   4   3   1   2   2   3   3   3   3   4  ...   3   4   3   3   4   3   4   \n\n      54  55  56  \n0      2   2   1  \n1      1   3   4  \n2      2   4   4  \n3      3   4   2  \n4      2   1   1  \n...   ..  ..  ..  \n2195   2   1   3  \n2196   4   2   3  \n2197   3   1   2  \n2198   4   3   4  \n2199   2   4   3  \n\n[2200 rows x 57 columns]\n"
    }
   ],
   "source": [
    "# Convert the Feature Matrix data into Pandas Dataframe\n",
    "df_features_dataA = pd.DataFrame(mat_features_datA)\n",
    "print(\"Features from the Dataset: \\n\", df_features_dataA)"
   ]
  },
  {
   "cell_type": "code",
   "execution_count": 7,
   "metadata": {
    "tags": []
   },
   "outputs": [
    {
     "output_type": "stream",
     "name": "stdout",
     "text": "0            1            2            3            4   \\\ncount  2200.000000  2200.000000  2200.000000  2200.000000  2200.000000   \nmean      2.493182     2.529545     2.506818     2.526818     2.547727   \nstd       1.103943     1.086542     1.098160     1.118780     1.081699   \nmin       1.000000     1.000000     1.000000     1.000000     1.000000   \n25%       2.000000     2.000000     2.000000     2.000000     2.000000   \n50%       3.000000     3.000000     3.000000     3.000000     3.000000   \n75%       3.000000     3.000000     3.000000     4.000000     3.000000   \nmax       4.000000     4.000000     4.000000     4.000000     4.000000   \n\n                5            6            7            8           9   ...  \\\ncount  2200.000000  2200.000000  2200.000000  2200.000000  2200.00000  ...   \nmean      2.492727     2.550000     2.541364     2.553182     2.56500  ...   \nstd       1.099399     1.109818     1.103600     1.126751     1.10822  ...   \nmin       1.000000     1.000000     1.000000     1.000000     1.00000  ...   \n25%       2.000000     2.000000     2.000000     2.000000     2.00000  ...   \n50%       3.000000     3.000000     3.000000     3.000000     3.00000  ...   \n75%       3.000000     4.000000     3.000000     4.000000     4.00000  ...   \nmax       4.000000     4.000000     4.000000     4.000000     4.00000  ...   \n\n                47           48           49           50           51  \\\ncount  2200.000000  2200.000000  2200.000000  2200.000000  2200.000000   \nmean      2.475000     2.498636     2.497273     2.439091     2.495909   \nstd       1.070635     1.104786     1.070499     1.093583     1.087354   \nmin       1.000000     1.000000     1.000000     1.000000     1.000000   \n25%       2.000000     2.000000     2.000000     1.000000     2.000000   \n50%       2.000000     3.000000     2.000000     2.000000     2.000000   \n75%       3.000000     3.000000     3.000000     3.000000     3.000000   \nmax       4.000000     4.000000     4.000000     4.000000     4.000000   \n\n                52           53           54           55           56  \ncount  2200.000000  2200.000000  2200.000000  2200.000000  2200.000000  \nmean      2.482273     2.435909     2.500455     2.456364     2.512273  \nstd       1.065672     1.089652     1.091952     1.093162     1.086456  \nmin       1.000000     1.000000     1.000000     1.000000     1.000000  \n25%       2.000000     1.000000     2.000000     2.000000     2.000000  \n50%       2.000000     2.000000     3.000000     2.000000     3.000000  \n75%       3.000000     3.000000     3.000000     3.000000     3.000000  \nmax       4.000000     4.000000     4.000000     4.000000     4.000000  \n\n[8 rows x 57 columns]\n"
    }
   ],
   "source": [
    "# Statistical Description of the Dataset\n",
    "print(df_features_dataA.describe())"
   ]
  },
  {
   "cell_type": "markdown",
   "metadata": {},
   "source": [
    "## Check For Missing Values in the Dataset  "
   ]
  },
  {
   "cell_type": "code",
   "execution_count": 8,
   "metadata": {
    "tags": []
   },
   "outputs": [
    {
     "output_type": "stream",
     "name": "stdout",
     "text": "Total Number of Missing Values in the Dataset:  0\n"
    }
   ],
   "source": [
    "# Number of Missing Values in the Dataset \n",
    "print(\"Total Number of Missing Values in the Dataset: \",df_features_dataA.isna().sum().sum())\n"
   ]
  },
  {
   "cell_type": "markdown",
   "metadata": {},
   "source": [
    "#### There are no missing values in the dataset"
   ]
  },
  {
   "cell_type": "code",
   "execution_count": 9,
   "metadata": {
    "tags": []
   },
   "outputs": [
    {
     "output_type": "stream",
     "name": "stdout",
     "text": "Number of Unique Lables in the Dataset:  [ 1 -1]\n"
    }
   ],
   "source": [
    "# Convert the Labels to Dataframe and Check for Unique Values \n",
    "df_label_dataA = pd.DataFrame(mat_label_dataA)\n",
    "print(\"Number of Unique Lables in the Dataset: \", df_label_dataA[0].unique())"
   ]
  },
  {
   "cell_type": "markdown",
   "metadata": {},
   "source": [
    "#### There are two unique labels in the data set -1 and 1"
   ]
  },
  {
   "cell_type": "markdown",
   "metadata": {},
   "source": [
    "## Question 1.1: - Z-Score Normalization"
   ]
  },
  {
   "cell_type": "code",
   "execution_count": 10,
   "metadata": {},
   "outputs": [],
   "source": [
    "# Z-Score Normalization\n",
    "ss = StandardScaler()\n",
    "ss.fit(df_features_dataA)\n",
    "z_standardized_dataA = ss.transform(df_features_dataA)"
   ]
  },
  {
   "cell_type": "code",
   "execution_count": 11,
   "metadata": {
    "tags": []
   },
   "outputs": [
    {
     "output_type": "stream",
     "name": "stdout",
     "text": "Standardised DataA: \n [[-1.35289759 -0.48747864 -1.37244139 ... -0.4584159  -0.41756618\n  -1.39224875]\n [ 0.45920268  0.43308188  1.36002111 ... -1.37441497  0.49741947\n   1.36965138]\n [ 1.36525282 -1.40803915  1.36002111 ... -0.4584159   1.41240513\n   1.36965138]\n ...\n [ 0.45920268  1.35364239  1.36002111 ...  0.45758317 -1.33255183\n  -0.47161537]\n [-1.35289759  1.35364239  0.44920027 ...  1.37358225  0.49741947\n   1.36965138]\n [ 1.36525282  0.43308188 -1.37244139 ... -0.4584159   1.41240513\n   0.44901801]]\n"
    }
   ],
   "source": [
    "# Standardised Dataset \n",
    "print(\"Standardised DataA: \\n\",z_standardized_dataA)"
   ]
  },
  {
   "cell_type": "code",
   "execution_count": 12,
   "metadata": {
    "tags": []
   },
   "outputs": [
    {
     "output_type": "stream",
     "name": "stdout",
     "text": "converted array is : [[1]\n [1]\n [1]\n ...\n [1]\n [1]\n [1]]\n"
    }
   ],
   "source": [
    "# Convert Labels to numpy array\n",
    "np_label_dataA = df_label_dataA.to_numpy()\n",
    "print(\"converted array is :\",np_label_dataA)"
   ]
  },
  {
   "cell_type": "markdown",
   "metadata": {},
   "source": [
    "### Randomnly spliting the data 70% of samples for taining and other 30% for testing\n",
    "### using hold-out scheme"
   ]
  },
  {
   "cell_type": "code",
   "execution_count": 13,
   "metadata": {
    "tags": []
   },
   "outputs": [
    {
     "output_type": "stream",
     "name": "stdout",
     "text": "\n Features for Train Dataset: \n [[ 1.36525282 -0.48747864  0.44920027 ...  1.37358225  1.41240513\n   1.36965138]\n [-0.44684745 -0.48747864 -1.37244139 ...  1.37358225 -1.33255183\n   1.36965138]\n [-0.44684745  1.35364239 -1.37244139 ...  0.45758317 -1.33255183\n   0.44901801]\n ...\n [ 1.36525282 -0.48747864 -0.46162056 ... -0.4584159  -0.41756618\n   0.44901801]\n [ 0.45920268  0.43308188  0.44920027 ... -1.37441497  0.49741947\n   0.44901801]\n [-0.44684745  1.35364239 -0.46162056 ... -1.37441497 -0.41756618\n  -0.47161537]]\n \n Labels for the Train Dataset: \n [ 1  1 -1 ... -1 -1  1]\n"
    }
   ],
   "source": [
    "# Split the Dataset using Train Test Split \n",
    "x_train_dataA, x_test_dataA, y_train_dataA, y_test_dataA = train_test_split(z_standardized_dataA,np_label_dataA.ravel(),test_size = 0.3, random_state = 42)\n",
    "\n",
    "print(\" \\n Features for Train Dataset: \\n\", x_train_dataA)\n",
    "print(\" \\n Labels for the Train Dataset: \\n\", y_train_dataA)"
   ]
  },
  {
   "cell_type": "markdown",
   "metadata": {},
   "source": [
    "#### The hold out method is kind of cross validation method where the dataset is split into training and test set. Later the model is trained on only traning set and then output values are predicted using the same model for the Test set. \n",
    "\n",
    "#### Advantages:\n",
    "Easier to compute\n",
    "\n",
    "#### Disadvantage:\n",
    "1. Sometimes evaluation has higher variance\n",
    "2. It depends on what datapoints are in test set and what in training set so it depends on split heavily."
   ]
  },
  {
   "cell_type": "markdown",
   "metadata": {},
   "source": [
    "## Question 1.2: 5-fold Cross Validation on Training set to select the Parameters k for k_NN from given set and plot"
   ]
  },
  {
   "cell_type": "code",
   "execution_count": 14,
   "metadata": {
    "tags": []
   },
   "outputs": [
    {
     "output_type": "stream",
     "name": "stdout",
     "text": "Set of parameters for k value is: \n [1, 3, 5, 7, 9, 11, 13, 15, 17, 19, 21, 23, 25, 27, 29, 31]\n"
    }
   ],
   "source": [
    "# Create a list for k from 1 to 31 \n",
    "k_list=list(range(1,32,2))\n",
    "print(\"Set of parameters for k value is: \\n\",k_list)"
   ]
  },
  {
   "cell_type": "code",
   "execution_count": 15,
   "metadata": {
    "tags": []
   },
   "outputs": [
    {
     "output_type": "stream",
     "name": "stdout",
     "text": "For k: 1, Accuracies: [0.69805195 0.69805195 0.69155844 0.72077922 0.72402597]\nFor k: 3, Accuracies: [0.7012987  0.73376623 0.70779221 0.73701299 0.71753247]\nFor k: 5, Accuracies: [0.72727273 0.73376623 0.75324675 0.72402597 0.71103896]\nFor k: 7, Accuracies: [0.73701299 0.74675325 0.73376623 0.73051948 0.7012987 ]\nFor k: 9, Accuracies: [0.74675325 0.75324675 0.73701299 0.72402597 0.69805195]\nFor k: 11, Accuracies: [0.75649351 0.76298701 0.71103896 0.73051948 0.69805195]\nFor k: 13, Accuracies: [0.73701299 0.77272727 0.71103896 0.74350649 0.71428571]\nFor k: 15, Accuracies: [0.72727273 0.75324675 0.73376623 0.75324675 0.72077922]\nFor k: 17, Accuracies: [0.72077922 0.75       0.72727273 0.76298701 0.71428571]\nFor k: 19, Accuracies: [0.72077922 0.73701299 0.72077922 0.75       0.70454545]\nFor k: 21, Accuracies: [0.71103896 0.75       0.70779221 0.75974026 0.69805195]\nFor k: 23, Accuracies: [0.68831169 0.75       0.71103896 0.76623377 0.71103896]\nFor k: 25, Accuracies: [0.69155844 0.75974026 0.71428571 0.74350649 0.71103896]\nFor k: 27, Accuracies: [0.69155844 0.76298701 0.71753247 0.74025974 0.7012987 ]\nFor k: 29, Accuracies: [0.69805195 0.74025974 0.71428571 0.73701299 0.71103896]\nFor k: 31, Accuracies: [0.69805195 0.74350649 0.70454545 0.73376623 0.71103896]\nMean of accuracy scores: \n [0.7064935064935064, 0.7194805194805195, 0.7298701298701299, 0.7298701298701298, 0.7318181818181817, 0.7318181818181817, 0.7357142857142858, 0.7376623376623377, 0.7350649350649351, 0.7266233766233767, 0.7253246753246754, 0.7253246753246754, 0.724025974025974, 0.7227272727272728, 0.7201298701298702, 0.7181818181818181]\n"
    }
   ],
   "source": [
    "# empty list to store accuracy\n",
    "K_accuracy=[]\n",
    "\n",
    "# looping through given values of k\n",
    "for k in k_list:\n",
    "    # 2. KNeighborsClassifier with k neighbours\n",
    "    knn = KNeighborsClassifier(n_neighbors = k)\n",
    "    # 3. cross_val_score for KNeighborsClassifier with k neighbours\n",
    "    accuracy = cross_val_score(knn, x_train_dataA, y_train_dataA, cv=5, scoring = 'accuracy')\n",
    "    print(\"For k: {0}, Accuracies: {1}\".format(k, accuracy))\n",
    "    #4. append mean of scores for k neighbours to k_accuracy list\n",
    "    K_accuracy.append(accuracy.mean())\n",
    "\n",
    "print(\"Mean of accuracy scores: \\n\", K_accuracy)\n"
   ]
  },
  {
   "cell_type": "code",
   "execution_count": 16,
   "metadata": {},
   "outputs": [
    {
     "output_type": "display_data",
     "data": {
      "text/plain": "<Figure size 432x288 with 1 Axes>",
      "image/svg+xml": "<?xml version=\"1.0\" encoding=\"utf-8\" standalone=\"no\"?>\n<!DOCTYPE svg PUBLIC \"-//W3C//DTD SVG 1.1//EN\"\n  \"http://www.w3.org/Graphics/SVG/1.1/DTD/svg11.dtd\">\n<!-- Created with matplotlib (https://matplotlib.org/) -->\n<svg height=\"277.314375pt\" version=\"1.1\" viewBox=\"0 0 398.50625 277.314375\" width=\"398.50625pt\" xmlns=\"http://www.w3.org/2000/svg\" xmlns:xlink=\"http://www.w3.org/1999/xlink\">\n <defs>\n  <style type=\"text/css\">\n*{stroke-linecap:butt;stroke-linejoin:round;}\n  </style>\n </defs>\n <g id=\"figure_1\">\n  <g id=\"patch_1\">\n   <path d=\"M 0 277.314375 \nL 398.50625 277.314375 \nL 398.50625 0 \nL 0 0 \nz\n\" style=\"fill:none;\"/>\n  </g>\n  <g id=\"axes_1\">\n   <g id=\"patch_2\">\n    <path d=\"M 56.50625 239.758125 \nL 391.30625 239.758125 \nL 391.30625 22.318125 \nL 56.50625 22.318125 \nz\n\" style=\"fill:#ffffff;\"/>\n   </g>\n   <g id=\"matplotlib.axis_1\">\n    <g id=\"xtick_1\">\n     <g id=\"line2d_1\">\n      <defs>\n       <path d=\"M 0 0 \nL 0 3.5 \n\" id=\"m9a226fed62\" style=\"stroke:#000000;stroke-width:0.8;\"/>\n      </defs>\n      <g>\n       <use style=\"stroke:#000000;stroke-width:0.8;\" x=\"61.578977\" xlink:href=\"#m9a226fed62\" y=\"239.758125\"/>\n      </g>\n     </g>\n     <g id=\"text_1\">\n      <!-- 0 -->\n      <defs>\n       <path d=\"M 31.78125 66.40625 \nQ 24.171875 66.40625 20.328125 58.90625 \nQ 16.5 51.421875 16.5 36.375 \nQ 16.5 21.390625 20.328125 13.890625 \nQ 24.171875 6.390625 31.78125 6.390625 \nQ 39.453125 6.390625 43.28125 13.890625 \nQ 47.125 21.390625 47.125 36.375 \nQ 47.125 51.421875 43.28125 58.90625 \nQ 39.453125 66.40625 31.78125 66.40625 \nz\nM 31.78125 74.21875 \nQ 44.046875 74.21875 50.515625 64.515625 \nQ 56.984375 54.828125 56.984375 36.375 \nQ 56.984375 17.96875 50.515625 8.265625 \nQ 44.046875 -1.421875 31.78125 -1.421875 \nQ 19.53125 -1.421875 13.0625 8.265625 \nQ 6.59375 17.96875 6.59375 36.375 \nQ 6.59375 54.828125 13.0625 64.515625 \nQ 19.53125 74.21875 31.78125 74.21875 \nz\n\" id=\"DejaVuSans-48\"/>\n      </defs>\n      <g transform=\"translate(58.397727 254.356562)scale(0.1 -0.1)\">\n       <use xlink:href=\"#DejaVuSans-48\"/>\n      </g>\n     </g>\n    </g>\n    <g id=\"xtick_2\">\n     <g id=\"line2d_2\">\n      <g>\n       <use style=\"stroke:#000000;stroke-width:0.8;\" x=\"112.30625\" xlink:href=\"#m9a226fed62\" y=\"239.758125\"/>\n      </g>\n     </g>\n     <g id=\"text_2\">\n      <!-- 5 -->\n      <defs>\n       <path d=\"M 10.796875 72.90625 \nL 49.515625 72.90625 \nL 49.515625 64.59375 \nL 19.828125 64.59375 \nL 19.828125 46.734375 \nQ 21.96875 47.46875 24.109375 47.828125 \nQ 26.265625 48.1875 28.421875 48.1875 \nQ 40.625 48.1875 47.75 41.5 \nQ 54.890625 34.8125 54.890625 23.390625 \nQ 54.890625 11.625 47.5625 5.09375 \nQ 40.234375 -1.421875 26.90625 -1.421875 \nQ 22.3125 -1.421875 17.546875 -0.640625 \nQ 12.796875 0.140625 7.71875 1.703125 \nL 7.71875 11.625 \nQ 12.109375 9.234375 16.796875 8.0625 \nQ 21.484375 6.890625 26.703125 6.890625 \nQ 35.15625 6.890625 40.078125 11.328125 \nQ 45.015625 15.765625 45.015625 23.390625 \nQ 45.015625 31 40.078125 35.4375 \nQ 35.15625 39.890625 26.703125 39.890625 \nQ 22.75 39.890625 18.8125 39.015625 \nQ 14.890625 38.140625 10.796875 36.28125 \nz\n\" id=\"DejaVuSans-53\"/>\n      </defs>\n      <g transform=\"translate(109.125 254.356562)scale(0.1 -0.1)\">\n       <use xlink:href=\"#DejaVuSans-53\"/>\n      </g>\n     </g>\n    </g>\n    <g id=\"xtick_3\">\n     <g id=\"line2d_3\">\n      <g>\n       <use style=\"stroke:#000000;stroke-width:0.8;\" x=\"163.033523\" xlink:href=\"#m9a226fed62\" y=\"239.758125\"/>\n      </g>\n     </g>\n     <g id=\"text_3\">\n      <!-- 10 -->\n      <defs>\n       <path d=\"M 12.40625 8.296875 \nL 28.515625 8.296875 \nL 28.515625 63.921875 \nL 10.984375 60.40625 \nL 10.984375 69.390625 \nL 28.421875 72.90625 \nL 38.28125 72.90625 \nL 38.28125 8.296875 \nL 54.390625 8.296875 \nL 54.390625 0 \nL 12.40625 0 \nz\n\" id=\"DejaVuSans-49\"/>\n      </defs>\n      <g transform=\"translate(156.671023 254.356562)scale(0.1 -0.1)\">\n       <use xlink:href=\"#DejaVuSans-49\"/>\n       <use x=\"63.623047\" xlink:href=\"#DejaVuSans-48\"/>\n      </g>\n     </g>\n    </g>\n    <g id=\"xtick_4\">\n     <g id=\"line2d_4\">\n      <g>\n       <use style=\"stroke:#000000;stroke-width:0.8;\" x=\"213.760795\" xlink:href=\"#m9a226fed62\" y=\"239.758125\"/>\n      </g>\n     </g>\n     <g id=\"text_4\">\n      <!-- 15 -->\n      <g transform=\"translate(207.398295 254.356562)scale(0.1 -0.1)\">\n       <use xlink:href=\"#DejaVuSans-49\"/>\n       <use x=\"63.623047\" xlink:href=\"#DejaVuSans-53\"/>\n      </g>\n     </g>\n    </g>\n    <g id=\"xtick_5\">\n     <g id=\"line2d_5\">\n      <g>\n       <use style=\"stroke:#000000;stroke-width:0.8;\" x=\"264.488068\" xlink:href=\"#m9a226fed62\" y=\"239.758125\"/>\n      </g>\n     </g>\n     <g id=\"text_5\">\n      <!-- 20 -->\n      <defs>\n       <path d=\"M 19.1875 8.296875 \nL 53.609375 8.296875 \nL 53.609375 0 \nL 7.328125 0 \nL 7.328125 8.296875 \nQ 12.9375 14.109375 22.625 23.890625 \nQ 32.328125 33.6875 34.8125 36.53125 \nQ 39.546875 41.84375 41.421875 45.53125 \nQ 43.3125 49.21875 43.3125 52.78125 \nQ 43.3125 58.59375 39.234375 62.25 \nQ 35.15625 65.921875 28.609375 65.921875 \nQ 23.96875 65.921875 18.8125 64.3125 \nQ 13.671875 62.703125 7.8125 59.421875 \nL 7.8125 69.390625 \nQ 13.765625 71.78125 18.9375 73 \nQ 24.125 74.21875 28.421875 74.21875 \nQ 39.75 74.21875 46.484375 68.546875 \nQ 53.21875 62.890625 53.21875 53.421875 \nQ 53.21875 48.921875 51.53125 44.890625 \nQ 49.859375 40.875 45.40625 35.40625 \nQ 44.1875 33.984375 37.640625 27.21875 \nQ 31.109375 20.453125 19.1875 8.296875 \nz\n\" id=\"DejaVuSans-50\"/>\n      </defs>\n      <g transform=\"translate(258.125568 254.356562)scale(0.1 -0.1)\">\n       <use xlink:href=\"#DejaVuSans-50\"/>\n       <use x=\"63.623047\" xlink:href=\"#DejaVuSans-48\"/>\n      </g>\n     </g>\n    </g>\n    <g id=\"xtick_6\">\n     <g id=\"line2d_6\">\n      <g>\n       <use style=\"stroke:#000000;stroke-width:0.8;\" x=\"315.215341\" xlink:href=\"#m9a226fed62\" y=\"239.758125\"/>\n      </g>\n     </g>\n     <g id=\"text_6\">\n      <!-- 25 -->\n      <g transform=\"translate(308.852841 254.356562)scale(0.1 -0.1)\">\n       <use xlink:href=\"#DejaVuSans-50\"/>\n       <use x=\"63.623047\" xlink:href=\"#DejaVuSans-53\"/>\n      </g>\n     </g>\n    </g>\n    <g id=\"xtick_7\">\n     <g id=\"line2d_7\">\n      <g>\n       <use style=\"stroke:#000000;stroke-width:0.8;\" x=\"365.942614\" xlink:href=\"#m9a226fed62\" y=\"239.758125\"/>\n      </g>\n     </g>\n     <g id=\"text_7\">\n      <!-- 30 -->\n      <defs>\n       <path d=\"M 40.578125 39.3125 \nQ 47.65625 37.796875 51.625 33 \nQ 55.609375 28.21875 55.609375 21.1875 \nQ 55.609375 10.40625 48.1875 4.484375 \nQ 40.765625 -1.421875 27.09375 -1.421875 \nQ 22.515625 -1.421875 17.65625 -0.515625 \nQ 12.796875 0.390625 7.625 2.203125 \nL 7.625 11.71875 \nQ 11.71875 9.328125 16.59375 8.109375 \nQ 21.484375 6.890625 26.8125 6.890625 \nQ 36.078125 6.890625 40.9375 10.546875 \nQ 45.796875 14.203125 45.796875 21.1875 \nQ 45.796875 27.640625 41.28125 31.265625 \nQ 36.765625 34.90625 28.71875 34.90625 \nL 20.21875 34.90625 \nL 20.21875 43.015625 \nL 29.109375 43.015625 \nQ 36.375 43.015625 40.234375 45.921875 \nQ 44.09375 48.828125 44.09375 54.296875 \nQ 44.09375 59.90625 40.109375 62.90625 \nQ 36.140625 65.921875 28.71875 65.921875 \nQ 24.65625 65.921875 20.015625 65.03125 \nQ 15.375 64.15625 9.8125 62.3125 \nL 9.8125 71.09375 \nQ 15.4375 72.65625 20.34375 73.4375 \nQ 25.25 74.21875 29.59375 74.21875 \nQ 40.828125 74.21875 47.359375 69.109375 \nQ 53.90625 64.015625 53.90625 55.328125 \nQ 53.90625 49.265625 50.4375 45.09375 \nQ 46.96875 40.921875 40.578125 39.3125 \nz\n\" id=\"DejaVuSans-51\"/>\n      </defs>\n      <g transform=\"translate(359.580114 254.356562)scale(0.1 -0.1)\">\n       <use xlink:href=\"#DejaVuSans-51\"/>\n       <use x=\"63.623047\" xlink:href=\"#DejaVuSans-48\"/>\n      </g>\n     </g>\n    </g>\n    <g id=\"text_8\">\n     <!-- Value of K for KNN (K)  -->\n     <defs>\n      <path d=\"M 28.609375 0 \nL 0.78125 72.90625 \nL 11.078125 72.90625 \nL 34.1875 11.53125 \nL 57.328125 72.90625 \nL 67.578125 72.90625 \nL 39.796875 0 \nz\n\" id=\"DejaVuSans-86\"/>\n      <path d=\"M 34.28125 27.484375 \nQ 23.390625 27.484375 19.1875 25 \nQ 14.984375 22.515625 14.984375 16.5 \nQ 14.984375 11.71875 18.140625 8.90625 \nQ 21.296875 6.109375 26.703125 6.109375 \nQ 34.1875 6.109375 38.703125 11.40625 \nQ 43.21875 16.703125 43.21875 25.484375 \nL 43.21875 27.484375 \nz\nM 52.203125 31.203125 \nL 52.203125 0 \nL 43.21875 0 \nL 43.21875 8.296875 \nQ 40.140625 3.328125 35.546875 0.953125 \nQ 30.953125 -1.421875 24.3125 -1.421875 \nQ 15.921875 -1.421875 10.953125 3.296875 \nQ 6 8.015625 6 15.921875 \nQ 6 25.140625 12.171875 29.828125 \nQ 18.359375 34.515625 30.609375 34.515625 \nL 43.21875 34.515625 \nL 43.21875 35.40625 \nQ 43.21875 41.609375 39.140625 45 \nQ 35.0625 48.390625 27.6875 48.390625 \nQ 23 48.390625 18.546875 47.265625 \nQ 14.109375 46.140625 10.015625 43.890625 \nL 10.015625 52.203125 \nQ 14.9375 54.109375 19.578125 55.046875 \nQ 24.21875 56 28.609375 56 \nQ 40.484375 56 46.34375 49.84375 \nQ 52.203125 43.703125 52.203125 31.203125 \nz\n\" id=\"DejaVuSans-97\"/>\n      <path d=\"M 9.421875 75.984375 \nL 18.40625 75.984375 \nL 18.40625 0 \nL 9.421875 0 \nz\n\" id=\"DejaVuSans-108\"/>\n      <path d=\"M 8.5 21.578125 \nL 8.5 54.6875 \nL 17.484375 54.6875 \nL 17.484375 21.921875 \nQ 17.484375 14.15625 20.5 10.265625 \nQ 23.53125 6.390625 29.59375 6.390625 \nQ 36.859375 6.390625 41.078125 11.03125 \nQ 45.3125 15.671875 45.3125 23.6875 \nL 45.3125 54.6875 \nL 54.296875 54.6875 \nL 54.296875 0 \nL 45.3125 0 \nL 45.3125 8.40625 \nQ 42.046875 3.421875 37.71875 1 \nQ 33.40625 -1.421875 27.6875 -1.421875 \nQ 18.265625 -1.421875 13.375 4.4375 \nQ 8.5 10.296875 8.5 21.578125 \nz\nM 31.109375 56 \nz\n\" id=\"DejaVuSans-117\"/>\n      <path d=\"M 56.203125 29.59375 \nL 56.203125 25.203125 \nL 14.890625 25.203125 \nQ 15.484375 15.921875 20.484375 11.0625 \nQ 25.484375 6.203125 34.421875 6.203125 \nQ 39.59375 6.203125 44.453125 7.46875 \nQ 49.3125 8.734375 54.109375 11.28125 \nL 54.109375 2.78125 \nQ 49.265625 0.734375 44.1875 -0.34375 \nQ 39.109375 -1.421875 33.890625 -1.421875 \nQ 20.796875 -1.421875 13.15625 6.1875 \nQ 5.515625 13.8125 5.515625 26.8125 \nQ 5.515625 40.234375 12.765625 48.109375 \nQ 20.015625 56 32.328125 56 \nQ 43.359375 56 49.78125 48.890625 \nQ 56.203125 41.796875 56.203125 29.59375 \nz\nM 47.21875 32.234375 \nQ 47.125 39.59375 43.09375 43.984375 \nQ 39.0625 48.390625 32.421875 48.390625 \nQ 24.90625 48.390625 20.390625 44.140625 \nQ 15.875 39.890625 15.1875 32.171875 \nz\n\" id=\"DejaVuSans-101\"/>\n      <path id=\"DejaVuSans-32\"/>\n      <path d=\"M 30.609375 48.390625 \nQ 23.390625 48.390625 19.1875 42.75 \nQ 14.984375 37.109375 14.984375 27.296875 \nQ 14.984375 17.484375 19.15625 11.84375 \nQ 23.34375 6.203125 30.609375 6.203125 \nQ 37.796875 6.203125 41.984375 11.859375 \nQ 46.1875 17.53125 46.1875 27.296875 \nQ 46.1875 37.015625 41.984375 42.703125 \nQ 37.796875 48.390625 30.609375 48.390625 \nz\nM 30.609375 56 \nQ 42.328125 56 49.015625 48.375 \nQ 55.71875 40.765625 55.71875 27.296875 \nQ 55.71875 13.875 49.015625 6.21875 \nQ 42.328125 -1.421875 30.609375 -1.421875 \nQ 18.84375 -1.421875 12.171875 6.21875 \nQ 5.515625 13.875 5.515625 27.296875 \nQ 5.515625 40.765625 12.171875 48.375 \nQ 18.84375 56 30.609375 56 \nz\n\" id=\"DejaVuSans-111\"/>\n      <path d=\"M 37.109375 75.984375 \nL 37.109375 68.5 \nL 28.515625 68.5 \nQ 23.6875 68.5 21.796875 66.546875 \nQ 19.921875 64.59375 19.921875 59.515625 \nL 19.921875 54.6875 \nL 34.71875 54.6875 \nL 34.71875 47.703125 \nL 19.921875 47.703125 \nL 19.921875 0 \nL 10.890625 0 \nL 10.890625 47.703125 \nL 2.296875 47.703125 \nL 2.296875 54.6875 \nL 10.890625 54.6875 \nL 10.890625 58.5 \nQ 10.890625 67.625 15.140625 71.796875 \nQ 19.390625 75.984375 28.609375 75.984375 \nz\n\" id=\"DejaVuSans-102\"/>\n      <path d=\"M 9.8125 72.90625 \nL 19.671875 72.90625 \nL 19.671875 42.09375 \nL 52.390625 72.90625 \nL 65.09375 72.90625 \nL 28.90625 38.921875 \nL 67.671875 0 \nL 54.6875 0 \nL 19.671875 35.109375 \nL 19.671875 0 \nL 9.8125 0 \nz\n\" id=\"DejaVuSans-75\"/>\n      <path d=\"M 41.109375 46.296875 \nQ 39.59375 47.171875 37.8125 47.578125 \nQ 36.03125 48 33.890625 48 \nQ 26.265625 48 22.1875 43.046875 \nQ 18.109375 38.09375 18.109375 28.8125 \nL 18.109375 0 \nL 9.078125 0 \nL 9.078125 54.6875 \nL 18.109375 54.6875 \nL 18.109375 46.1875 \nQ 20.953125 51.171875 25.484375 53.578125 \nQ 30.03125 56 36.53125 56 \nQ 37.453125 56 38.578125 55.875 \nQ 39.703125 55.765625 41.0625 55.515625 \nz\n\" id=\"DejaVuSans-114\"/>\n      <path d=\"M 9.8125 72.90625 \nL 23.09375 72.90625 \nL 55.421875 11.921875 \nL 55.421875 72.90625 \nL 64.984375 72.90625 \nL 64.984375 0 \nL 51.703125 0 \nL 19.390625 60.984375 \nL 19.390625 0 \nL 9.8125 0 \nz\n\" id=\"DejaVuSans-78\"/>\n      <path d=\"M 31 75.875 \nQ 24.46875 64.65625 21.28125 53.65625 \nQ 18.109375 42.671875 18.109375 31.390625 \nQ 18.109375 20.125 21.3125 9.0625 \nQ 24.515625 -2 31 -13.1875 \nL 23.1875 -13.1875 \nQ 15.875 -1.703125 12.234375 9.375 \nQ 8.59375 20.453125 8.59375 31.390625 \nQ 8.59375 42.28125 12.203125 53.3125 \nQ 15.828125 64.359375 23.1875 75.875 \nz\n\" id=\"DejaVuSans-40\"/>\n      <path d=\"M 8.015625 75.875 \nL 15.828125 75.875 \nQ 23.140625 64.359375 26.78125 53.3125 \nQ 30.421875 42.28125 30.421875 31.390625 \nQ 30.421875 20.453125 26.78125 9.375 \nQ 23.140625 -1.703125 15.828125 -13.1875 \nL 8.015625 -13.1875 \nQ 14.5 -2 17.703125 9.0625 \nQ 20.90625 20.125 20.90625 31.390625 \nQ 20.90625 42.671875 17.703125 53.65625 \nQ 14.5 64.65625 8.015625 75.875 \nz\n\" id=\"DejaVuSans-41\"/>\n     </defs>\n     <g transform=\"translate(167.344531 268.034687)scale(0.1 -0.1)\">\n      <use xlink:href=\"#DejaVuSans-86\"/>\n      <use x=\"68.298828\" xlink:href=\"#DejaVuSans-97\"/>\n      <use x=\"129.578125\" xlink:href=\"#DejaVuSans-108\"/>\n      <use x=\"157.361328\" xlink:href=\"#DejaVuSans-117\"/>\n      <use x=\"220.740234\" xlink:href=\"#DejaVuSans-101\"/>\n      <use x=\"282.263672\" xlink:href=\"#DejaVuSans-32\"/>\n      <use x=\"314.050781\" xlink:href=\"#DejaVuSans-111\"/>\n      <use x=\"375.232422\" xlink:href=\"#DejaVuSans-102\"/>\n      <use x=\"410.4375\" xlink:href=\"#DejaVuSans-32\"/>\n      <use x=\"442.224609\" xlink:href=\"#DejaVuSans-75\"/>\n      <use x=\"507.800781\" xlink:href=\"#DejaVuSans-32\"/>\n      <use x=\"539.587891\" xlink:href=\"#DejaVuSans-102\"/>\n      <use x=\"574.792969\" xlink:href=\"#DejaVuSans-111\"/>\n      <use x=\"635.974609\" xlink:href=\"#DejaVuSans-114\"/>\n      <use x=\"677.087891\" xlink:href=\"#DejaVuSans-32\"/>\n      <use x=\"708.875\" xlink:href=\"#DejaVuSans-75\"/>\n      <use x=\"774.451172\" xlink:href=\"#DejaVuSans-78\"/>\n      <use x=\"849.255859\" xlink:href=\"#DejaVuSans-78\"/>\n      <use x=\"924.060547\" xlink:href=\"#DejaVuSans-32\"/>\n      <use x=\"955.847656\" xlink:href=\"#DejaVuSans-40\"/>\n      <use x=\"994.861328\" xlink:href=\"#DejaVuSans-75\"/>\n      <use x=\"1060.4375\" xlink:href=\"#DejaVuSans-41\"/>\n      <use x=\"1099.451172\" xlink:href=\"#DejaVuSans-32\"/>\n     </g>\n    </g>\n   </g>\n   <g id=\"matplotlib.axis_2\">\n    <g id=\"ytick_1\">\n     <g id=\"line2d_8\">\n      <defs>\n       <path d=\"M 0 0 \nL -3.5 0 \n\" id=\"m983f3748b8\" style=\"stroke:#000000;stroke-width:0.8;\"/>\n      </defs>\n      <g>\n       <use style=\"stroke:#000000;stroke-width:0.8;\" x=\"56.50625\" xlink:href=\"#m983f3748b8\" y=\"239.346307\"/>\n      </g>\n     </g>\n     <g id=\"text_9\">\n      <!-- 0.705 -->\n      <defs>\n       <path d=\"M 10.6875 12.40625 \nL 21 12.40625 \nL 21 0 \nL 10.6875 0 \nz\n\" id=\"DejaVuSans-46\"/>\n       <path d=\"M 8.203125 72.90625 \nL 55.078125 72.90625 \nL 55.078125 68.703125 \nL 28.609375 0 \nL 18.3125 0 \nL 43.21875 64.59375 \nL 8.203125 64.59375 \nz\n\" id=\"DejaVuSans-55\"/>\n      </defs>\n      <g transform=\"translate(20.878125 243.145526)scale(0.1 -0.1)\">\n       <use xlink:href=\"#DejaVuSans-48\"/>\n       <use x=\"63.623047\" xlink:href=\"#DejaVuSans-46\"/>\n       <use x=\"95.410156\" xlink:href=\"#DejaVuSans-55\"/>\n       <use x=\"159.033203\" xlink:href=\"#DejaVuSans-48\"/>\n       <use x=\"222.65625\" xlink:href=\"#DejaVuSans-53\"/>\n      </g>\n     </g>\n    </g>\n    <g id=\"ytick_2\">\n     <g id=\"line2d_9\">\n      <g>\n       <use style=\"stroke:#000000;stroke-width:0.8;\" x=\"56.50625\" xlink:href=\"#m983f3748b8\" y=\"207.636307\"/>\n      </g>\n     </g>\n     <g id=\"text_10\">\n      <!-- 0.710 -->\n      <g transform=\"translate(20.878125 211.435526)scale(0.1 -0.1)\">\n       <use xlink:href=\"#DejaVuSans-48\"/>\n       <use x=\"63.623047\" xlink:href=\"#DejaVuSans-46\"/>\n       <use x=\"95.410156\" xlink:href=\"#DejaVuSans-55\"/>\n       <use x=\"159.033203\" xlink:href=\"#DejaVuSans-49\"/>\n       <use x=\"222.65625\" xlink:href=\"#DejaVuSans-48\"/>\n      </g>\n     </g>\n    </g>\n    <g id=\"ytick_3\">\n     <g id=\"line2d_10\">\n      <g>\n       <use style=\"stroke:#000000;stroke-width:0.8;\" x=\"56.50625\" xlink:href=\"#m983f3748b8\" y=\"175.926307\"/>\n      </g>\n     </g>\n     <g id=\"text_11\">\n      <!-- 0.715 -->\n      <g transform=\"translate(20.878125 179.725526)scale(0.1 -0.1)\">\n       <use xlink:href=\"#DejaVuSans-48\"/>\n       <use x=\"63.623047\" xlink:href=\"#DejaVuSans-46\"/>\n       <use x=\"95.410156\" xlink:href=\"#DejaVuSans-55\"/>\n       <use x=\"159.033203\" xlink:href=\"#DejaVuSans-49\"/>\n       <use x=\"222.65625\" xlink:href=\"#DejaVuSans-53\"/>\n      </g>\n     </g>\n    </g>\n    <g id=\"ytick_4\">\n     <g id=\"line2d_11\">\n      <g>\n       <use style=\"stroke:#000000;stroke-width:0.8;\" x=\"56.50625\" xlink:href=\"#m983f3748b8\" y=\"144.216307\"/>\n      </g>\n     </g>\n     <g id=\"text_12\">\n      <!-- 0.720 -->\n      <g transform=\"translate(20.878125 148.015526)scale(0.1 -0.1)\">\n       <use xlink:href=\"#DejaVuSans-48\"/>\n       <use x=\"63.623047\" xlink:href=\"#DejaVuSans-46\"/>\n       <use x=\"95.410156\" xlink:href=\"#DejaVuSans-55\"/>\n       <use x=\"159.033203\" xlink:href=\"#DejaVuSans-50\"/>\n       <use x=\"222.65625\" xlink:href=\"#DejaVuSans-48\"/>\n      </g>\n     </g>\n    </g>\n    <g id=\"ytick_5\">\n     <g id=\"line2d_12\">\n      <g>\n       <use style=\"stroke:#000000;stroke-width:0.8;\" x=\"56.50625\" xlink:href=\"#m983f3748b8\" y=\"112.506307\"/>\n      </g>\n     </g>\n     <g id=\"text_13\">\n      <!-- 0.725 -->\n      <g transform=\"translate(20.878125 116.305526)scale(0.1 -0.1)\">\n       <use xlink:href=\"#DejaVuSans-48\"/>\n       <use x=\"63.623047\" xlink:href=\"#DejaVuSans-46\"/>\n       <use x=\"95.410156\" xlink:href=\"#DejaVuSans-55\"/>\n       <use x=\"159.033203\" xlink:href=\"#DejaVuSans-50\"/>\n       <use x=\"222.65625\" xlink:href=\"#DejaVuSans-53\"/>\n      </g>\n     </g>\n    </g>\n    <g id=\"ytick_6\">\n     <g id=\"line2d_13\">\n      <g>\n       <use style=\"stroke:#000000;stroke-width:0.8;\" x=\"56.50625\" xlink:href=\"#m983f3748b8\" y=\"80.796307\"/>\n      </g>\n     </g>\n     <g id=\"text_14\">\n      <!-- 0.730 -->\n      <g transform=\"translate(20.878125 84.595526)scale(0.1 -0.1)\">\n       <use xlink:href=\"#DejaVuSans-48\"/>\n       <use x=\"63.623047\" xlink:href=\"#DejaVuSans-46\"/>\n       <use x=\"95.410156\" xlink:href=\"#DejaVuSans-55\"/>\n       <use x=\"159.033203\" xlink:href=\"#DejaVuSans-51\"/>\n       <use x=\"222.65625\" xlink:href=\"#DejaVuSans-48\"/>\n      </g>\n     </g>\n    </g>\n    <g id=\"ytick_7\">\n     <g id=\"line2d_14\">\n      <g>\n       <use style=\"stroke:#000000;stroke-width:0.8;\" x=\"56.50625\" xlink:href=\"#m983f3748b8\" y=\"49.086307\"/>\n      </g>\n     </g>\n     <g id=\"text_15\">\n      <!-- 0.735 -->\n      <g transform=\"translate(20.878125 52.885526)scale(0.1 -0.1)\">\n       <use xlink:href=\"#DejaVuSans-48\"/>\n       <use x=\"63.623047\" xlink:href=\"#DejaVuSans-46\"/>\n       <use x=\"95.410156\" xlink:href=\"#DejaVuSans-55\"/>\n       <use x=\"159.033203\" xlink:href=\"#DejaVuSans-51\"/>\n       <use x=\"222.65625\" xlink:href=\"#DejaVuSans-53\"/>\n      </g>\n     </g>\n    </g>\n    <g id=\"text_16\">\n     <!-- Cross-validated Accuracy -->\n     <defs>\n      <path d=\"M 64.40625 67.28125 \nL 64.40625 56.890625 \nQ 59.421875 61.53125 53.78125 63.8125 \nQ 48.140625 66.109375 41.796875 66.109375 \nQ 29.296875 66.109375 22.65625 58.46875 \nQ 16.015625 50.828125 16.015625 36.375 \nQ 16.015625 21.96875 22.65625 14.328125 \nQ 29.296875 6.6875 41.796875 6.6875 \nQ 48.140625 6.6875 53.78125 8.984375 \nQ 59.421875 11.28125 64.40625 15.921875 \nL 64.40625 5.609375 \nQ 59.234375 2.09375 53.4375 0.328125 \nQ 47.65625 -1.421875 41.21875 -1.421875 \nQ 24.65625 -1.421875 15.125 8.703125 \nQ 5.609375 18.84375 5.609375 36.375 \nQ 5.609375 53.953125 15.125 64.078125 \nQ 24.65625 74.21875 41.21875 74.21875 \nQ 47.75 74.21875 53.53125 72.484375 \nQ 59.328125 70.75 64.40625 67.28125 \nz\n\" id=\"DejaVuSans-67\"/>\n      <path d=\"M 44.28125 53.078125 \nL 44.28125 44.578125 \nQ 40.484375 46.53125 36.375 47.5 \nQ 32.28125 48.484375 27.875 48.484375 \nQ 21.1875 48.484375 17.84375 46.4375 \nQ 14.5 44.390625 14.5 40.28125 \nQ 14.5 37.15625 16.890625 35.375 \nQ 19.28125 33.59375 26.515625 31.984375 \nL 29.59375 31.296875 \nQ 39.15625 29.25 43.1875 25.515625 \nQ 47.21875 21.78125 47.21875 15.09375 \nQ 47.21875 7.46875 41.1875 3.015625 \nQ 35.15625 -1.421875 24.609375 -1.421875 \nQ 20.21875 -1.421875 15.453125 -0.5625 \nQ 10.6875 0.296875 5.421875 2 \nL 5.421875 11.28125 \nQ 10.40625 8.6875 15.234375 7.390625 \nQ 20.0625 6.109375 24.8125 6.109375 \nQ 31.15625 6.109375 34.5625 8.28125 \nQ 37.984375 10.453125 37.984375 14.40625 \nQ 37.984375 18.0625 35.515625 20.015625 \nQ 33.0625 21.96875 24.703125 23.78125 \nL 21.578125 24.515625 \nQ 13.234375 26.265625 9.515625 29.90625 \nQ 5.8125 33.546875 5.8125 39.890625 \nQ 5.8125 47.609375 11.28125 51.796875 \nQ 16.75 56 26.8125 56 \nQ 31.78125 56 36.171875 55.265625 \nQ 40.578125 54.546875 44.28125 53.078125 \nz\n\" id=\"DejaVuSans-115\"/>\n      <path d=\"M 4.890625 31.390625 \nL 31.203125 31.390625 \nL 31.203125 23.390625 \nL 4.890625 23.390625 \nz\n\" id=\"DejaVuSans-45\"/>\n      <path d=\"M 2.984375 54.6875 \nL 12.5 54.6875 \nL 29.59375 8.796875 \nL 46.6875 54.6875 \nL 56.203125 54.6875 \nL 35.6875 0 \nL 23.484375 0 \nz\n\" id=\"DejaVuSans-118\"/>\n      <path d=\"M 9.421875 54.6875 \nL 18.40625 54.6875 \nL 18.40625 0 \nL 9.421875 0 \nz\nM 9.421875 75.984375 \nL 18.40625 75.984375 \nL 18.40625 64.59375 \nL 9.421875 64.59375 \nz\n\" id=\"DejaVuSans-105\"/>\n      <path d=\"M 45.40625 46.390625 \nL 45.40625 75.984375 \nL 54.390625 75.984375 \nL 54.390625 0 \nL 45.40625 0 \nL 45.40625 8.203125 \nQ 42.578125 3.328125 38.25 0.953125 \nQ 33.9375 -1.421875 27.875 -1.421875 \nQ 17.96875 -1.421875 11.734375 6.484375 \nQ 5.515625 14.40625 5.515625 27.296875 \nQ 5.515625 40.1875 11.734375 48.09375 \nQ 17.96875 56 27.875 56 \nQ 33.9375 56 38.25 53.625 \nQ 42.578125 51.265625 45.40625 46.390625 \nz\nM 14.796875 27.296875 \nQ 14.796875 17.390625 18.875 11.75 \nQ 22.953125 6.109375 30.078125 6.109375 \nQ 37.203125 6.109375 41.296875 11.75 \nQ 45.40625 17.390625 45.40625 27.296875 \nQ 45.40625 37.203125 41.296875 42.84375 \nQ 37.203125 48.484375 30.078125 48.484375 \nQ 22.953125 48.484375 18.875 42.84375 \nQ 14.796875 37.203125 14.796875 27.296875 \nz\n\" id=\"DejaVuSans-100\"/>\n      <path d=\"M 18.3125 70.21875 \nL 18.3125 54.6875 \nL 36.8125 54.6875 \nL 36.8125 47.703125 \nL 18.3125 47.703125 \nL 18.3125 18.015625 \nQ 18.3125 11.328125 20.140625 9.421875 \nQ 21.96875 7.515625 27.59375 7.515625 \nL 36.8125 7.515625 \nL 36.8125 0 \nL 27.59375 0 \nQ 17.1875 0 13.234375 3.875 \nQ 9.28125 7.765625 9.28125 18.015625 \nL 9.28125 47.703125 \nL 2.6875 47.703125 \nL 2.6875 54.6875 \nL 9.28125 54.6875 \nL 9.28125 70.21875 \nz\n\" id=\"DejaVuSans-116\"/>\n      <path d=\"M 34.1875 63.1875 \nL 20.796875 26.90625 \nL 47.609375 26.90625 \nz\nM 28.609375 72.90625 \nL 39.796875 72.90625 \nL 67.578125 0 \nL 57.328125 0 \nL 50.6875 18.703125 \nL 17.828125 18.703125 \nL 11.1875 0 \nL 0.78125 0 \nz\n\" id=\"DejaVuSans-65\"/>\n      <path d=\"M 48.78125 52.59375 \nL 48.78125 44.1875 \nQ 44.96875 46.296875 41.140625 47.34375 \nQ 37.3125 48.390625 33.40625 48.390625 \nQ 24.65625 48.390625 19.8125 42.84375 \nQ 14.984375 37.3125 14.984375 27.296875 \nQ 14.984375 17.28125 19.8125 11.734375 \nQ 24.65625 6.203125 33.40625 6.203125 \nQ 37.3125 6.203125 41.140625 7.25 \nQ 44.96875 8.296875 48.78125 10.40625 \nL 48.78125 2.09375 \nQ 45.015625 0.34375 40.984375 -0.53125 \nQ 36.96875 -1.421875 32.421875 -1.421875 \nQ 20.0625 -1.421875 12.78125 6.34375 \nQ 5.515625 14.109375 5.515625 27.296875 \nQ 5.515625 40.671875 12.859375 48.328125 \nQ 20.21875 56 33.015625 56 \nQ 37.15625 56 41.109375 55.140625 \nQ 45.0625 54.296875 48.78125 52.59375 \nz\n\" id=\"DejaVuSans-99\"/>\n      <path d=\"M 32.171875 -5.078125 \nQ 28.375 -14.84375 24.75 -17.8125 \nQ 21.140625 -20.796875 15.09375 -20.796875 \nL 7.90625 -20.796875 \nL 7.90625 -13.28125 \nL 13.1875 -13.28125 \nQ 16.890625 -13.28125 18.9375 -11.515625 \nQ 21 -9.765625 23.484375 -3.21875 \nL 25.09375 0.875 \nL 2.984375 54.6875 \nL 12.5 54.6875 \nL 29.59375 11.921875 \nL 46.6875 54.6875 \nL 56.203125 54.6875 \nz\n\" id=\"DejaVuSans-121\"/>\n     </defs>\n     <g transform=\"translate(14.798438 194.409219)rotate(-90)scale(0.1 -0.1)\">\n      <use xlink:href=\"#DejaVuSans-67\"/>\n      <use x=\"69.824219\" xlink:href=\"#DejaVuSans-114\"/>\n      <use x=\"110.90625\" xlink:href=\"#DejaVuSans-111\"/>\n      <use x=\"172.087891\" xlink:href=\"#DejaVuSans-115\"/>\n      <use x=\"224.1875\" xlink:href=\"#DejaVuSans-115\"/>\n      <use x=\"276.287109\" xlink:href=\"#DejaVuSans-45\"/>\n      <use x=\"312.339844\" xlink:href=\"#DejaVuSans-118\"/>\n      <use x=\"371.519531\" xlink:href=\"#DejaVuSans-97\"/>\n      <use x=\"432.798828\" xlink:href=\"#DejaVuSans-108\"/>\n      <use x=\"460.582031\" xlink:href=\"#DejaVuSans-105\"/>\n      <use x=\"488.365234\" xlink:href=\"#DejaVuSans-100\"/>\n      <use x=\"551.841797\" xlink:href=\"#DejaVuSans-97\"/>\n      <use x=\"613.121094\" xlink:href=\"#DejaVuSans-116\"/>\n      <use x=\"652.330078\" xlink:href=\"#DejaVuSans-101\"/>\n      <use x=\"713.853516\" xlink:href=\"#DejaVuSans-100\"/>\n      <use x=\"777.330078\" xlink:href=\"#DejaVuSans-32\"/>\n      <use x=\"809.117188\" xlink:href=\"#DejaVuSans-65\"/>\n      <use x=\"877.509766\" xlink:href=\"#DejaVuSans-99\"/>\n      <use x=\"932.490234\" xlink:href=\"#DejaVuSans-99\"/>\n      <use x=\"987.470703\" xlink:href=\"#DejaVuSans-117\"/>\n      <use x=\"1050.849609\" xlink:href=\"#DejaVuSans-114\"/>\n      <use x=\"1091.962891\" xlink:href=\"#DejaVuSans-97\"/>\n      <use x=\"1153.242188\" xlink:href=\"#DejaVuSans-99\"/>\n      <use x=\"1208.222656\" xlink:href=\"#DejaVuSans-121\"/>\n     </g>\n    </g>\n   </g>\n   <g id=\"line2d_15\">\n    <path clip-path=\"url(#p9d21d36d22)\" d=\"M 71.724432 229.874489 \nL 92.015341 147.510852 \nL 112.30625 81.619943 \nL 132.597159 81.619943 \nL 152.888068 69.265398 \nL 173.178977 69.265398 \nL 193.469886 44.556307 \nL 213.760795 32.201761 \nL 234.051705 48.674489 \nL 254.342614 102.210852 \nL 274.633523 110.447216 \nL 294.924432 110.447216 \nL 315.215341 118.68358 \nL 335.50625 126.919943 \nL 355.797159 143.39267 \nL 376.088068 155.747216 \n\" style=\"fill:none;stroke:#1f77b4;stroke-linecap:square;stroke-width:1.5;\"/>\n   </g>\n   <g id=\"patch_3\">\n    <path d=\"M 56.50625 239.758125 \nL 56.50625 22.318125 \n\" style=\"fill:none;stroke:#000000;stroke-linecap:square;stroke-linejoin:miter;stroke-width:0.8;\"/>\n   </g>\n   <g id=\"patch_4\">\n    <path d=\"M 391.30625 239.758125 \nL 391.30625 22.318125 \n\" style=\"fill:none;stroke:#000000;stroke-linecap:square;stroke-linejoin:miter;stroke-width:0.8;\"/>\n   </g>\n   <g id=\"patch_5\">\n    <path d=\"M 56.50625 239.758125 \nL 391.30625 239.758125 \n\" style=\"fill:none;stroke:#000000;stroke-linecap:square;stroke-linejoin:miter;stroke-width:0.8;\"/>\n   </g>\n   <g id=\"patch_6\">\n    <path d=\"M 56.50625 22.318125 \nL 391.30625 22.318125 \n\" style=\"fill:none;stroke:#000000;stroke-linecap:square;stroke-linejoin:miter;stroke-width:0.8;\"/>\n   </g>\n   <g id=\"text_17\">\n    <!-- Relationship between Accuracy and Parameter K -->\n    <defs>\n     <path d=\"M 44.390625 34.1875 \nQ 47.5625 33.109375 50.5625 29.59375 \nQ 53.5625 26.078125 56.59375 19.921875 \nL 66.609375 0 \nL 56 0 \nL 46.6875 18.703125 \nQ 43.0625 26.03125 39.671875 28.421875 \nQ 36.28125 30.8125 30.421875 30.8125 \nL 19.671875 30.8125 \nL 19.671875 0 \nL 9.8125 0 \nL 9.8125 72.90625 \nL 32.078125 72.90625 \nQ 44.578125 72.90625 50.734375 67.671875 \nQ 56.890625 62.453125 56.890625 51.90625 \nQ 56.890625 45.015625 53.6875 40.46875 \nQ 50.484375 35.9375 44.390625 34.1875 \nz\nM 19.671875 64.796875 \nL 19.671875 38.921875 \nL 32.078125 38.921875 \nQ 39.203125 38.921875 42.84375 42.21875 \nQ 46.484375 45.515625 46.484375 51.90625 \nQ 46.484375 58.296875 42.84375 61.546875 \nQ 39.203125 64.796875 32.078125 64.796875 \nz\n\" id=\"DejaVuSans-82\"/>\n     <path d=\"M 54.890625 33.015625 \nL 54.890625 0 \nL 45.90625 0 \nL 45.90625 32.71875 \nQ 45.90625 40.484375 42.875 44.328125 \nQ 39.84375 48.1875 33.796875 48.1875 \nQ 26.515625 48.1875 22.3125 43.546875 \nQ 18.109375 38.921875 18.109375 30.90625 \nL 18.109375 0 \nL 9.078125 0 \nL 9.078125 54.6875 \nL 18.109375 54.6875 \nL 18.109375 46.1875 \nQ 21.34375 51.125 25.703125 53.5625 \nQ 30.078125 56 35.796875 56 \nQ 45.21875 56 50.046875 50.171875 \nQ 54.890625 44.34375 54.890625 33.015625 \nz\n\" id=\"DejaVuSans-110\"/>\n     <path d=\"M 54.890625 33.015625 \nL 54.890625 0 \nL 45.90625 0 \nL 45.90625 32.71875 \nQ 45.90625 40.484375 42.875 44.328125 \nQ 39.84375 48.1875 33.796875 48.1875 \nQ 26.515625 48.1875 22.3125 43.546875 \nQ 18.109375 38.921875 18.109375 30.90625 \nL 18.109375 0 \nL 9.078125 0 \nL 9.078125 75.984375 \nL 18.109375 75.984375 \nL 18.109375 46.1875 \nQ 21.34375 51.125 25.703125 53.5625 \nQ 30.078125 56 35.796875 56 \nQ 45.21875 56 50.046875 50.171875 \nQ 54.890625 44.34375 54.890625 33.015625 \nz\n\" id=\"DejaVuSans-104\"/>\n     <path d=\"M 18.109375 8.203125 \nL 18.109375 -20.796875 \nL 9.078125 -20.796875 \nL 9.078125 54.6875 \nL 18.109375 54.6875 \nL 18.109375 46.390625 \nQ 20.953125 51.265625 25.265625 53.625 \nQ 29.59375 56 35.59375 56 \nQ 45.5625 56 51.78125 48.09375 \nQ 58.015625 40.1875 58.015625 27.296875 \nQ 58.015625 14.40625 51.78125 6.484375 \nQ 45.5625 -1.421875 35.59375 -1.421875 \nQ 29.59375 -1.421875 25.265625 0.953125 \nQ 20.953125 3.328125 18.109375 8.203125 \nz\nM 48.6875 27.296875 \nQ 48.6875 37.203125 44.609375 42.84375 \nQ 40.53125 48.484375 33.40625 48.484375 \nQ 26.265625 48.484375 22.1875 42.84375 \nQ 18.109375 37.203125 18.109375 27.296875 \nQ 18.109375 17.390625 22.1875 11.75 \nQ 26.265625 6.109375 33.40625 6.109375 \nQ 40.53125 6.109375 44.609375 11.75 \nQ 48.6875 17.390625 48.6875 27.296875 \nz\n\" id=\"DejaVuSans-112\"/>\n     <path d=\"M 48.6875 27.296875 \nQ 48.6875 37.203125 44.609375 42.84375 \nQ 40.53125 48.484375 33.40625 48.484375 \nQ 26.265625 48.484375 22.1875 42.84375 \nQ 18.109375 37.203125 18.109375 27.296875 \nQ 18.109375 17.390625 22.1875 11.75 \nQ 26.265625 6.109375 33.40625 6.109375 \nQ 40.53125 6.109375 44.609375 11.75 \nQ 48.6875 17.390625 48.6875 27.296875 \nz\nM 18.109375 46.390625 \nQ 20.953125 51.265625 25.265625 53.625 \nQ 29.59375 56 35.59375 56 \nQ 45.5625 56 51.78125 48.09375 \nQ 58.015625 40.1875 58.015625 27.296875 \nQ 58.015625 14.40625 51.78125 6.484375 \nQ 45.5625 -1.421875 35.59375 -1.421875 \nQ 29.59375 -1.421875 25.265625 0.953125 \nQ 20.953125 3.328125 18.109375 8.203125 \nL 18.109375 0 \nL 9.078125 0 \nL 9.078125 75.984375 \nL 18.109375 75.984375 \nz\n\" id=\"DejaVuSans-98\"/>\n     <path d=\"M 4.203125 54.6875 \nL 13.1875 54.6875 \nL 24.421875 12.015625 \nL 35.59375 54.6875 \nL 46.1875 54.6875 \nL 57.421875 12.015625 \nL 68.609375 54.6875 \nL 77.59375 54.6875 \nL 63.28125 0 \nL 52.6875 0 \nL 40.921875 44.828125 \nL 29.109375 0 \nL 18.5 0 \nz\n\" id=\"DejaVuSans-119\"/>\n     <path d=\"M 19.671875 64.796875 \nL 19.671875 37.40625 \nL 32.078125 37.40625 \nQ 38.96875 37.40625 42.71875 40.96875 \nQ 46.484375 44.53125 46.484375 51.125 \nQ 46.484375 57.671875 42.71875 61.234375 \nQ 38.96875 64.796875 32.078125 64.796875 \nz\nM 9.8125 72.90625 \nL 32.078125 72.90625 \nQ 44.34375 72.90625 50.609375 67.359375 \nQ 56.890625 61.8125 56.890625 51.125 \nQ 56.890625 40.328125 50.609375 34.8125 \nQ 44.34375 29.296875 32.078125 29.296875 \nL 19.671875 29.296875 \nL 19.671875 0 \nL 9.8125 0 \nz\n\" id=\"DejaVuSans-80\"/>\n     <path d=\"M 52 44.1875 \nQ 55.375 50.25 60.0625 53.125 \nQ 64.75 56 71.09375 56 \nQ 79.640625 56 84.28125 50.015625 \nQ 88.921875 44.046875 88.921875 33.015625 \nL 88.921875 0 \nL 79.890625 0 \nL 79.890625 32.71875 \nQ 79.890625 40.578125 77.09375 44.375 \nQ 74.3125 48.1875 68.609375 48.1875 \nQ 61.625 48.1875 57.5625 43.546875 \nQ 53.515625 38.921875 53.515625 30.90625 \nL 53.515625 0 \nL 44.484375 0 \nL 44.484375 32.71875 \nQ 44.484375 40.625 41.703125 44.40625 \nQ 38.921875 48.1875 33.109375 48.1875 \nQ 26.21875 48.1875 22.15625 43.53125 \nQ 18.109375 38.875 18.109375 30.90625 \nL 18.109375 0 \nL 9.078125 0 \nL 9.078125 54.6875 \nL 18.109375 54.6875 \nL 18.109375 46.1875 \nQ 21.1875 51.21875 25.484375 53.609375 \nQ 29.78125 56 35.6875 56 \nQ 41.65625 56 45.828125 52.96875 \nQ 50 49.953125 52 44.1875 \nz\n\" id=\"DejaVuSans-109\"/>\n    </defs>\n    <g transform=\"translate(77.125625 16.318125)scale(0.12 -0.12)\">\n     <use xlink:href=\"#DejaVuSans-82\"/>\n     <use x=\"69.419922\" xlink:href=\"#DejaVuSans-101\"/>\n     <use x=\"130.943359\" xlink:href=\"#DejaVuSans-108\"/>\n     <use x=\"158.726562\" xlink:href=\"#DejaVuSans-97\"/>\n     <use x=\"220.005859\" xlink:href=\"#DejaVuSans-116\"/>\n     <use x=\"259.214844\" xlink:href=\"#DejaVuSans-105\"/>\n     <use x=\"286.998047\" xlink:href=\"#DejaVuSans-111\"/>\n     <use x=\"348.179688\" xlink:href=\"#DejaVuSans-110\"/>\n     <use x=\"411.558594\" xlink:href=\"#DejaVuSans-115\"/>\n     <use x=\"463.658203\" xlink:href=\"#DejaVuSans-104\"/>\n     <use x=\"527.037109\" xlink:href=\"#DejaVuSans-105\"/>\n     <use x=\"554.820312\" xlink:href=\"#DejaVuSans-112\"/>\n     <use x=\"618.296875\" xlink:href=\"#DejaVuSans-32\"/>\n     <use x=\"650.083984\" xlink:href=\"#DejaVuSans-98\"/>\n     <use x=\"713.560547\" xlink:href=\"#DejaVuSans-101\"/>\n     <use x=\"775.083984\" xlink:href=\"#DejaVuSans-116\"/>\n     <use x=\"814.292969\" xlink:href=\"#DejaVuSans-119\"/>\n     <use x=\"896.080078\" xlink:href=\"#DejaVuSans-101\"/>\n     <use x=\"957.603516\" xlink:href=\"#DejaVuSans-101\"/>\n     <use x=\"1019.126953\" xlink:href=\"#DejaVuSans-110\"/>\n     <use x=\"1082.505859\" xlink:href=\"#DejaVuSans-32\"/>\n     <use x=\"1114.292969\" xlink:href=\"#DejaVuSans-65\"/>\n     <use x=\"1182.685547\" xlink:href=\"#DejaVuSans-99\"/>\n     <use x=\"1237.666016\" xlink:href=\"#DejaVuSans-99\"/>\n     <use x=\"1292.646484\" xlink:href=\"#DejaVuSans-117\"/>\n     <use x=\"1356.025391\" xlink:href=\"#DejaVuSans-114\"/>\n     <use x=\"1397.138672\" xlink:href=\"#DejaVuSans-97\"/>\n     <use x=\"1458.417969\" xlink:href=\"#DejaVuSans-99\"/>\n     <use x=\"1513.398438\" xlink:href=\"#DejaVuSans-121\"/>\n     <use x=\"1572.578125\" xlink:href=\"#DejaVuSans-32\"/>\n     <use x=\"1604.365234\" xlink:href=\"#DejaVuSans-97\"/>\n     <use x=\"1665.644531\" xlink:href=\"#DejaVuSans-110\"/>\n     <use x=\"1729.023438\" xlink:href=\"#DejaVuSans-100\"/>\n     <use x=\"1792.5\" xlink:href=\"#DejaVuSans-32\"/>\n     <use x=\"1824.287109\" xlink:href=\"#DejaVuSans-80\"/>\n     <use x=\"1884.527344\" xlink:href=\"#DejaVuSans-97\"/>\n     <use x=\"1945.806641\" xlink:href=\"#DejaVuSans-114\"/>\n     <use x=\"1986.919922\" xlink:href=\"#DejaVuSans-97\"/>\n     <use x=\"2048.199219\" xlink:href=\"#DejaVuSans-109\"/>\n     <use x=\"2145.611328\" xlink:href=\"#DejaVuSans-101\"/>\n     <use x=\"2207.134766\" xlink:href=\"#DejaVuSans-116\"/>\n     <use x=\"2246.34375\" xlink:href=\"#DejaVuSans-101\"/>\n     <use x=\"2307.867188\" xlink:href=\"#DejaVuSans-114\"/>\n     <use x=\"2348.980469\" xlink:href=\"#DejaVuSans-32\"/>\n     <use x=\"2380.767578\" xlink:href=\"#DejaVuSans-75\"/>\n    </g>\n   </g>\n   <g id=\"legend_1\">\n    <g id=\"patch_7\">\n     <path d=\"M 306.476562 44.99625 \nL 384.30625 44.99625 \nQ 386.30625 44.99625 386.30625 42.99625 \nL 386.30625 29.318125 \nQ 386.30625 27.318125 384.30625 27.318125 \nL 306.476562 27.318125 \nQ 304.476562 27.318125 304.476562 29.318125 \nL 304.476562 42.99625 \nQ 304.476562 44.99625 306.476562 44.99625 \nz\n\" style=\"fill:#ffffff;opacity:0.8;stroke:#cccccc;stroke-linejoin:miter;\"/>\n    </g>\n    <g id=\"line2d_16\">\n     <path d=\"M 308.476562 35.416562 \nL 328.476562 35.416562 \n\" style=\"fill:none;stroke:#1f77b4;stroke-linecap:square;stroke-width:1.5;\"/>\n    </g>\n    <g id=\"line2d_17\"/>\n    <g id=\"text_18\">\n     <!-- Accuracy -->\n     <g transform=\"translate(336.476562 38.916562)scale(0.1 -0.1)\">\n      <use xlink:href=\"#DejaVuSans-65\"/>\n      <use x=\"68.392578\" xlink:href=\"#DejaVuSans-99\"/>\n      <use x=\"123.373047\" xlink:href=\"#DejaVuSans-99\"/>\n      <use x=\"178.353516\" xlink:href=\"#DejaVuSans-117\"/>\n      <use x=\"241.732422\" xlink:href=\"#DejaVuSans-114\"/>\n      <use x=\"282.845703\" xlink:href=\"#DejaVuSans-97\"/>\n      <use x=\"344.125\" xlink:href=\"#DejaVuSans-99\"/>\n      <use x=\"399.105469\" xlink:href=\"#DejaVuSans-121\"/>\n     </g>\n    </g>\n   </g>\n  </g>\n </g>\n <defs>\n  <clipPath id=\"p9d21d36d22\">\n   <rect height=\"217.44\" width=\"334.8\" x=\"56.50625\" y=\"22.318125\"/>\n  </clipPath>\n </defs>\n</svg>\n",
      "image/png": "[encoded data removed]"
     },
     "metadata": {
      "needs_background": "light"
     }
    }
   ],
   "source": [
    "plt.plot(k_list, K_accuracy, label = 'Accuracy')\n",
    "plt.xlabel('Value of K for KNN (K) ')\n",
    "plt.ylabel('Cross-validated Accuracy')\n",
    "plt.title('Relationship between Accuracy and Parameter K')\n",
    "plt.legend(loc = 'best')\n",
    "plt.show()"
   ]
  },
  {
   "cell_type": "code",
   "execution_count": 17,
   "metadata": {
    "tags": []
   },
   "outputs": [
    {
     "output_type": "stream",
     "name": "stdout",
     "text": "The best Calculation accuracy is : 0.7376623376623377\n"
    }
   ],
   "source": [
    "# Get the Maximum Value of Accuracy Score \n",
    "print('The best Calculation accuracy is :' , max(K_accuracy))\n"
   ]
  },
  {
   "cell_type": "markdown",
   "metadata": {},
   "source": [
    "#### The Best Calculation accuracy of 0.7376623376623377 ie. 73.77% is best for value of K = 15\n",
    "\n",
    "#### Hence the Best K in term of Classification Accuracy is 15. "
   ]
  },
  {
   "cell_type": "markdown",
   "metadata": {},
   "source": [
    "## Question 1.3: RBF Kernel best parameter selection in terms of classification accuracy"
   ]
  },
  {
   "cell_type": "code",
   "execution_count": 18,
   "metadata": {
    "tags": []
   },
   "outputs": [
    {
     "output_type": "stream",
     "name": "stdout",
     "text": "Dicitionary of Parameters C and Gamma: \n  {'C': [0.1, 0.5, 1, 2, 5, 10, 20, 50], 'gamma': [0.01, 0.05, 0.1, 0.5, 1, 2, 5, 10]}\n"
    }
   ],
   "source": [
    "# Dicitionary of Parameters C and Gamma\n",
    "c = [0.1, 0.5, 1, 2, 5, 10, 20, 50]\n",
    "gamma = [0.01, 0.05 , 0.1, 0.5, 1, 2, 5, 10]\n",
    "param_dict = dict(C = c, gamma = gamma)\n",
    "print(\"Dicitionary of Parameters C and Gamma: \\n \",param_dict)"
   ]
  },
  {
   "cell_type": "code",
   "execution_count": 19,
   "metadata": {},
   "outputs": [],
   "source": [
    "# Data fitted with best parameters \n",
    "clf = svm.SVC(kernel = 'rbf')\n",
    "search = GridSearchCV(clf, param_dict, cv = 5, scoring = 'accuracy').fit(x_train_dataA, y_train_dataA)"
   ]
  },
  {
   "cell_type": "code",
   "execution_count": 20,
   "metadata": {
    "tags": []
   },
   "outputs": [
    {
     "output_type": "stream",
     "name": "stdout",
     "text": "Best Score from Grid Search:  0.9045454545454547\n"
    }
   ],
   "source": [
    "# Best Score for the Search \n",
    "print(\" Best Score from Grid Search: \",search.best_score_)\n",
    "    "
   ]
  },
  {
   "cell_type": "code",
   "execution_count": 21,
   "metadata": {
    "tags": []
   },
   "outputs": [
    {
     "output_type": "stream",
     "name": "stdout",
     "text": "Best Parameters from the Grid Search: \n {'C': 10, 'gamma': 0.01}\n"
    }
   ],
   "source": [
    "# Best Parameters from the Grid Search \n",
    "print(\"Best Parameters from the Grid Search: \\n\", search.best_params_)\n",
    "           "
   ]
  },
  {
   "cell_type": "markdown",
   "metadata": {},
   "source": [
    "#### The best parameters are : The best Soft Margin penality 'c' is 10 and gamma is 0.01"
   ]
  },
  {
   "cell_type": "markdown",
   "metadata": {},
   "source": [
    "## Question 1.4:  "
   ]
  },
  {
   "cell_type": "code",
   "execution_count": 22,
   "metadata": {
    "tags": []
   },
   "outputs": [
    {
     "output_type": "stream",
     "name": "stdout",
     "text": "Feature Test Set: \n [[ 1.36525282 -0.48747864 -0.46162056 ... -1.37441497 -0.41756618\n   0.44901801]\n [-1.35289759  1.35364239 -1.37244139 ...  1.37358225  0.49741947\n  -1.39224875]\n [ 0.45920268  0.43308188  1.36002111 ...  1.37358225  1.41240513\n   0.44901801]\n ...\n [ 1.36525282 -1.40803915  1.36002111 ...  1.37358225 -0.41756618\n   1.36965138]\n [ 0.45920268  1.35364239  0.44920027 ...  1.37358225  1.41240513\n   0.44901801]\n [ 1.36525282  1.35364239  0.44920027 ...  0.45758317  1.41240513\n   0.44901801]]\nLabel Test Set: \n [-1  1  1 -1  1 -1  1 -1 -1 -1 -1 -1  1  1  1 -1  1  1  1 -1 -1  1 -1 -1\n -1  1  1  1  1 -1  1 -1 -1  1 -1 -1 -1  1 -1 -1  1 -1  1 -1  1  1 -1 -1\n  1 -1  1  1  1 -1  1 -1  1  1  1 -1  1  1 -1 -1 -1  1 -1 -1  1  1  1 -1\n -1 -1  1  1  1  1 -1  1  1  1  1 -1 -1  1  1 -1 -1 -1 -1  1  1  1 -1 -1\n  1  1 -1  1  1 -1  1  1  1 -1  1 -1 -1  1 -1  1 -1  1  1 -1  1 -1  1 -1\n  1 -1 -1  1  1  1 -1 -1  1 -1  1 -1 -1 -1 -1  1  1  1  1  1  1  1  1 -1\n  1  1  1  1  1  1 -1 -1 -1  1 -1  1  1 -1 -1  1  1  1 -1  1  1 -1 -1 -1\n  1  1 -1  1  1  1 -1  1 -1 -1 -1 -1 -1 -1  1 -1  1 -1  1  1  1 -1 -1  1\n -1  1  1  1  1  1 -1  1  1  1 -1 -1 -1  1 -1  1 -1 -1  1  1  1  1 -1 -1\n -1 -1 -1  1 -1 -1  1 -1  1 -1  1 -1  1 -1  1  1 -1  1  1 -1  1 -1 -1  1\n -1 -1  1 -1  1  1  1  1 -1  1  1 -1 -1  1  1  1 -1 -1 -1 -1 -1 -1 -1 -1\n -1 -1 -1  1 -1  1  1 -1  1  1 -1 -1  1 -1  1 -1 -1 -1  1  1 -1  1 -1 -1\n  1 -1  1  1  1  1 -1 -1 -1 -1  1 -1  1  1 -1 -1  1  1  1 -1 -1 -1  1  1\n -1 -1 -1 -1  1  1 -1  1  1 -1  1 -1  1  1 -1 -1  1  1  1 -1  1  1  1 -1\n -1 -1 -1  1 -1 -1  1  1  1  1  1  1  1 -1 -1  1 -1 -1  1 -1 -1  1 -1  1\n  1 -1  1  1  1 -1  1 -1 -1  1  1 -1  1 -1 -1 -1 -1 -1 -1 -1  1 -1  1 -1\n -1  1 -1  1  1 -1 -1 -1  1 -1  1  1  1  1  1 -1 -1  1 -1  1 -1 -1  1  1\n -1  1 -1 -1  1  1  1 -1  1 -1 -1 -1 -1 -1 -1 -1 -1 -1 -1 -1  1  1 -1 -1\n -1 -1 -1 -1 -1  1 -1  1  1  1 -1 -1  1  1 -1 -1 -1 -1 -1  1 -1  1  1  1\n  1 -1 -1 -1 -1 -1 -1  1  1 -1 -1  1 -1 -1 -1  1  1 -1  1 -1 -1 -1 -1  1\n -1  1 -1  1 -1  1 -1 -1  1  1 -1 -1  1  1  1 -1  1  1  1 -1  1  1  1 -1\n -1 -1  1  1 -1 -1  1 -1  1  1 -1  1  1 -1 -1 -1  1  1  1  1  1 -1 -1 -1\n -1 -1  1  1  1 -1 -1  1 -1  1  1  1 -1 -1  1 -1 -1 -1  1  1 -1 -1  1  1\n  1 -1 -1 -1 -1 -1  1  1 -1 -1  1 -1  1  1 -1  1  1 -1 -1  1  1 -1 -1  1\n  1  1 -1  1 -1 -1  1 -1 -1 -1  1 -1  1 -1 -1  1 -1  1 -1 -1 -1 -1 -1  1\n  1 -1  1 -1  1 -1 -1 -1  1  1  1  1 -1 -1  1 -1  1  1  1 -1 -1 -1  1  1\n  1  1  1 -1  1  1 -1 -1 -1 -1  1  1 -1 -1  1 -1 -1  1  1  1  1 -1  1  1\n -1 -1 -1  1 -1 -1 -1  1 -1  1 -1  1]\n"
    }
   ],
   "source": [
    "# Feature Test set and Label Test Set \n",
    "print(\"Feature Test Set: \\n\",x_test_dataA)\n",
    "print(\"Label Test Set: \\n\",y_test_dataA)"
   ]
  },
  {
   "cell_type": "markdown",
   "metadata": {},
   "source": [
    "### KNN Classifier"
   ]
  },
  {
   "cell_type": "code",
   "execution_count": 23,
   "metadata": {
    "tags": []
   },
   "outputs": [
    {
     "output_type": "stream",
     "name": "stdout",
     "text": "Accuracy is : 0.75\nPrecision is : 0.9202127659574468\nRecall is : 0.5356037151702786\nF1-Score is : 0.6771037181996086\n"
    }
   ],
   "source": [
    "# For K-NN using above parameters to classify the test set \n",
    "# k = 15 gave best classification accuracy\n",
    "\n",
    "Knn_model = KNeighborsClassifier(n_neighbors = 15)\n",
    "Knn_model.fit(x_train_dataA,y_train_dataA)\n",
    "\n",
    "y_pred_KNN = Knn_model.predict(x_test_dataA)\n",
    "\n",
    "# comparison between actual and predicted response\n",
    "print(\"Accuracy is :\",metrics.accuracy_score(y_test_dataA, y_pred_KNN))\n",
    "print(\"Precision is :\",metrics.precision_score(y_test_dataA, y_pred_KNN))\n",
    "print(\"Recall is :\",metrics.recall_score(y_test_dataA, y_pred_KNN))\n",
    "print(\"F1-Score is :\",metrics.f1_score(y_test_dataA, y_pred_KNN))"
   ]
  },
  {
   "cell_type": "code",
   "execution_count": 24,
   "metadata": {
    "tags": []
   },
   "outputs": [
    {
     "output_type": "stream",
     "name": "stdout",
     "text": "Classification Report for KNN: \n               precision    recall  f1-score   support\n\n          -1       0.68      0.96      0.80       337\n           1       0.92      0.54      0.68       323\n\n    accuracy                           0.75       660\n   macro avg       0.80      0.75      0.74       660\nweighted avg       0.80      0.75      0.74       660\n\n"
    }
   ],
   "source": [
    "# Classification Report for Each Class for KNN\n",
    "print(\"Classification Report for KNN: \\n\", classification_report(y_test_dataA, y_pred_KNN))"
   ]
  },
  {
   "cell_type": "markdown",
   "metadata": {},
   "source": [
    "### SVM Classifier "
   ]
  },
  {
   "cell_type": "code",
   "execution_count": 25,
   "metadata": {
    "tags": []
   },
   "outputs": [
    {
     "output_type": "stream",
     "name": "stdout",
     "text": "Accuracy is : 0.9075757575757576\nPrecision is : 0.9145569620253164\nRecall is : 0.8947368421052632\nF1-Score is : 0.9045383411580594\n"
    }
   ],
   "source": [
    "# For SVM using above parameters to classify the test set\n",
    "SVN_model = SVC(C = 10,gamma = 0.01)\n",
    "SVN_model.fit(x_train_dataA,y_train_dataA)\n",
    "\n",
    "y_pred_SVN = SVN_model.predict(x_test_dataA)\n",
    "\n",
    "# comparison between actual and predicted response\n",
    "print(\"Accuracy is :\",metrics.accuracy_score(y_test_dataA, y_pred_SVN))\n",
    "print(\"Precision is :\",metrics.precision_score(y_test_dataA, y_pred_SVN))\n",
    "print(\"Recall is :\",metrics.recall_score(y_test_dataA, y_pred_SVN))\n",
    "print(\"F1-Score is :\",metrics.f1_score(y_test_dataA, y_pred_SVN))"
   ]
  },
  {
   "cell_type": "code",
   "execution_count": 26,
   "metadata": {
    "tags": []
   },
   "outputs": [
    {
     "output_type": "stream",
     "name": "stdout",
     "text": "Classification Report for SVM: \n               precision    recall  f1-score   support\n\n          -1       0.90      0.92      0.91       337\n           1       0.91      0.89      0.90       323\n\n    accuracy                           0.91       660\n   macro avg       0.91      0.91      0.91       660\nweighted avg       0.91      0.91      0.91       660\n\n"
    }
   ],
   "source": [
    "# Classification Report for Each Class for SVM\n",
    "print(\"Classification Report for SVM: \\n\", classification_report(y_test_dataA, y_pred_SVN))"
   ]
  },
  {
   "cell_type": "markdown",
   "metadata": {},
   "source": [
    "### Gaussian Naive Bayes "
   ]
  },
  {
   "cell_type": "code",
   "execution_count": 27,
   "metadata": {
    "tags": []
   },
   "outputs": [
    {
     "output_type": "stream",
     "name": "stdout",
     "text": "Accuracy is : 0.8818181818181818\nPrecision is : 0.8792569659442725\nRecall is : 0.8792569659442725\nF1-Score is : 0.8792569659442725\n"
    }
   ],
   "source": [
    "# Using default setups for Naive Bayes Classifier to classify test set\n",
    "NB_model = GaussianNB()\n",
    "NB_model.fit(x_train_dataA,y_train_dataA)\n",
    "\n",
    "y_pred_NB = NB_model.predict(x_test_dataA)\n",
    "\n",
    "# comparison between actual and predicted response\n",
    "print(\"Accuracy is :\",metrics.accuracy_score(y_test_dataA, y_pred_NB))\n",
    "print(\"Precision is :\",metrics.precision_score(y_test_dataA, y_pred_NB))\n",
    "print(\"Recall is :\",metrics.recall_score(y_test_dataA, y_pred_NB))\n",
    "print(\"F1-Score is :\",metrics.f1_score(y_test_dataA, y_pred_NB))"
   ]
  },
  {
   "cell_type": "code",
   "execution_count": 28,
   "metadata": {
    "tags": []
   },
   "outputs": [
    {
     "output_type": "stream",
     "name": "stdout",
     "text": "Classification Report for  Gaussian Naive Bayes: \n               precision    recall  f1-score   support\n\n          -1       0.88      0.88      0.88       337\n           1       0.88      0.88      0.88       323\n\n    accuracy                           0.88       660\n   macro avg       0.88      0.88      0.88       660\nweighted avg       0.88      0.88      0.88       660\n\n"
    }
   ],
   "source": [
    "# Classification Report for Each Class for Gaussian Naive Bayes\n",
    "print(\"Classification Report for  Gaussian Naive Bayes: \\n\", classification_report(y_test_dataA, y_pred_NB))"
   ]
  },
  {
   "cell_type": "markdown",
   "metadata": {},
   "source": [
    "### Decision Tree"
   ]
  },
  {
   "cell_type": "code",
   "execution_count": 29,
   "metadata": {
    "tags": []
   },
   "outputs": [
    {
     "output_type": "stream",
     "name": "stdout",
     "text": "Accuracy is : 0.9333333333333333\nPrecision is : 0.926605504587156\nRecall is : 0.9380804953560371\nF1-Score is : 0.9323076923076923\n"
    }
   ],
   "source": [
    "# Using default setups for Decision Trees to classify test set\n",
    "DT_model = DecisionTreeClassifier()\n",
    "DT_model.fit(x_train_dataA,y_train_dataA)\n",
    "\n",
    "y_pred_DT = DT_model.predict(x_test_dataA)\n",
    "\n",
    "# comparison between actual and predicted response\n",
    "print(\"Accuracy is :\",metrics.accuracy_score(y_test_dataA, y_pred_DT))\n",
    "print(\"Precision is :\",metrics.precision_score(y_test_dataA, y_pred_DT))\n",
    "print(\"Recall is :\",metrics.recall_score(y_test_dataA, y_pred_DT))\n",
    "print(\"F1-Score is :\",metrics.f1_score(y_test_dataA, y_pred_DT))"
   ]
  },
  {
   "cell_type": "code",
   "execution_count": 30,
   "metadata": {
    "tags": []
   },
   "outputs": [
    {
     "output_type": "stream",
     "name": "stdout",
     "text": "Classification Report for Decision Trees: \n               precision    recall  f1-score   support\n\n          -1       0.94      0.93      0.93       337\n           1       0.93      0.94      0.93       323\n\n    accuracy                           0.93       660\n   macro avg       0.93      0.93      0.93       660\nweighted avg       0.93      0.93      0.93       660\n\n"
    }
   ],
   "source": [
    "# Classification Report for Each Class for Decision Trees\n",
    "print(\"Classification Report for Decision Trees: \\n\", classification_report(y_test_dataA, y_pred_DT))"
   ]
  },
  {
   "cell_type": "markdown",
   "metadata": {},
   "source": [
    "### KNN Classifier with 20 Iterations"
   ]
  },
  {
   "cell_type": "code",
   "execution_count": 31,
   "metadata": {
    "tags": []
   },
   "outputs": [
    {
     "output_type": "stream",
     "name": "stdout",
     "text": "Acuracy list is : [0.7818181818181819, 0.7545454545454545, 0.7227272727272728, 0.759090909090909, 0.7575757575757576, 0.7378787878787879, 0.7803030303030303, 0.75, 0.7272727272727273, 0.7757575757575758, 0.7151515151515152, 0.7045454545454546, 0.7166666666666667, 0.7681818181818182, 0.7439393939393939, 0.7484848484848485, 0.7424242424242424, 0.7242424242424242, 0.7333333333333333, 0.746969696969697, 0.7378787878787879]\n\n\nPrecision list is : [0.9748743718592965, 0.9572192513368984, 0.9714285714285714, 0.9637305699481865, 0.9575471698113207, 0.9521276595744681, 0.9660194174757282, 0.9651741293532339, 0.9421052631578948, 0.9690721649484536, 0.9828571428571429, 0.9378531073446328, 0.9662921348314607, 0.9635416666666666, 0.9896907216494846, 0.9567567567567568, 0.9646464646464646, 0.9651162790697675, 0.9606741573033708, 0.9646464646464646, 0.9779005524861878]\n\n\nRecall list is: [0.5825825825825826, 0.5375375375375375, 0.4885057471264368, 0.5502958579881657, 0.5734463276836158, 0.521865889212828, 0.5905044510385756, 0.5511363636363636, 0.514367816091954, 0.5696969696969697, 0.48179271708683474, 0.4742857142857143, 0.48725212464589235, 0.5589123867069486, 0.5348189415041783, 0.5283582089552239, 0.53954802259887, 0.4853801169590643, 0.5029411764705882, 0.5441595441595442, 0.5115606936416185]\n\n\nF1-Score list is: [0.7293233082706767, 0.6884615384615385, 0.6500956022944551, 0.7005649717514124, 0.7173144876325089, 0.6741996233521657, 0.732965009208103, 0.7016274864376131, 0.6654275092936803, 0.717557251908397, 0.6466165413533834, 0.6299810246679318, 0.647834274952919, 0.7074569789674953, 0.6943942133815553, 0.6807692307692309, 0.6920289855072463, 0.6459143968871596, 0.6602316602316602, 0.6958105646630237, 0.6717267552182162]\n\n Mean for accuracy in case of KNN is:  0.7442279942279942\n\n Standard Deviation for accuracy in case of KNN is:  0.021132705635035186\n"
    }
   ],
   "source": [
    "# Repeating above steps 20 times by varying the split of training-test set as in Step 1\n",
    "\n",
    "# for KNN\n",
    "Knn_model2 = KNeighborsClassifier(n_neighbors=15)\n",
    "# Classification based on KNN\n",
    "random_seed_iterations = range(1,42,2)\n",
    "KNN_accuracy_list=[] \n",
    "KNN_precision_list=[]\n",
    "KNN_recall_list=[]\n",
    "KNN_f1_list=[]\n",
    "\n",
    "# Iteration for Retraining\n",
    "for i in random_seed_iterations:\n",
    "\n",
    "    # Random Dataset Split\n",
    "    x_train_dataA_KNN, x_test_dataA_KNN, y_train_dataA_KNN, y_test_dataA_KNN = train_test_split(z_standardized_dataA,np_label_dataA.ravel(),test_size =0.3, random_state = i)\n",
    "\n",
    "    # Training the Model\n",
    "    Knn_model2.fit(x_train_dataA_KNN, y_train_dataA_KNN)\n",
    "\n",
    "    # Test Dataset Prediction\n",
    "    y_predict_KNN_list = Knn_model2.predict(x_test_dataA_KNN)\n",
    "    \n",
    "    # Classification Accuracy\n",
    "    accuracy = metrics.accuracy_score(y_test_dataA_KNN, y_predict_KNN_list)\n",
    "    KNN_accuracy_list.append(accuracy)\n",
    "    \n",
    "    # Precision\n",
    "    precision = metrics.precision_score(y_test_dataA_KNN, y_predict_KNN_list)\n",
    "    KNN_precision_list.append(precision)\n",
    "                                    \n",
    "    # Recall\n",
    "    recall = metrics.recall_score(y_test_dataA_KNN, y_predict_KNN_list)\n",
    "    KNN_recall_list.append(recall)\n",
    "    \n",
    "    # F1-score\n",
    "    f1score = metrics.f1_score(y_test_dataA_KNN, y_predict_KNN_list)\n",
    "    KNN_f1_list.append(f1score)\n",
    "\n",
    "    data_KNN = pd.concat([data_KNN, knn_result], ignore_index=True)\n",
    "\n",
    "\n",
    "print(\"Acuracy list is :\",KNN_accuracy_list)\n",
    "print(\"\\n\")\n",
    "print(\"Precision list is :\",KNN_precision_list)\n",
    "print(\"\\n\")\n",
    "print(\"Recall list is:\",KNN_recall_list)\n",
    "print(\"\\n\")\n",
    "print(\"F1-Score list is:\",KNN_f1_list)\n",
    "\n",
    "# Average and standard Deviation of Classification values\n",
    "\n",
    "mean_accuracy_list_KNN = sum(KNN_accuracy_list)/len(KNN_accuracy_list)\n",
    "variance_accuracy_list_KNN = sum([((x-mean_accuracy_list_KNN)**2) for x in KNN_accuracy_list])/len(KNN_accuracy_list)\n",
    "sd_accuracy_list_KNN = variance_accuracy_list_KNN**0.5\n",
    "\n",
    "print(\"\\n Mean for accuracy in case of KNN is: \",mean_accuracy_list_KNN)\n",
    "print(\"\\n Standard Deviation for accuracy in case of KNN is: \",sd_accuracy_list_KNN)"
   ]
  },
  {
   "cell_type": "markdown",
   "metadata": {},
   "source": [
    "### SVM Classifier with 20 Iterations"
   ]
  },
  {
   "cell_type": "code",
   "execution_count": 32,
   "metadata": {
    "tags": []
   },
   "outputs": [
    {
     "output_type": "stream",
     "name": "stdout",
     "text": "Acuracy list is : [0.9227272727272727, 0.9121212121212121, 0.9121212121212121, 0.9075757575757576, 0.9, 0.8742424242424243, 0.8939393939393939, 0.9181818181818182, 0.906060606060606, 0.9136363636363637, 0.8893939393939394, 0.8893939393939394, 0.9090909090909091, 0.9166666666666666, 0.9196969696969697, 0.9136363636363637, 0.9075757575757576, 0.9, 0.8954545454545455, 0.9045454545454545, 0.9106060606060606]\n\n\nPrecision list is : [0.937888198757764, 0.8962536023054755, 0.9289940828402367, 0.9287925696594427, 0.9022346368715084, 0.8846153846153846, 0.8985074626865671, 0.9408284023668639, 0.9255952380952381, 0.9174311926605505, 0.9303030303030303, 0.9134328358208955, 0.9347181008902077, 0.9394904458598726, 0.9371428571428572, 0.9237804878048781, 0.9197707736389685, 0.8942857142857142, 0.9118541033434651, 0.9285714285714286, 0.9309309309309309]\n\n\nRecall list is: [0.9069069069069069, 0.933933933933934, 0.9022988505747126, 0.8875739644970414, 0.9124293785310734, 0.8717201166180758, 0.8931750741839762, 0.9034090909090909, 0.8936781609195402, 0.9090909090909091, 0.8599439775910365, 0.8742857142857143, 0.8923512747875354, 0.8912386706948641, 0.9136490250696379, 0.9044776119402985, 0.9067796610169492, 0.9152046783625731, 0.8823529411764706, 0.8888888888888888, 0.8959537572254336]\n\n\nF1-Score list is: [0.9221374045801528, 0.9147058823529413, 0.9154518950437318, 0.9077155824508321, 0.9073033707865168, 0.8781204111600587, 0.8958333333333333, 0.9217391304347827, 0.9093567251461988, 0.9132420091324202, 0.8937409024745271, 0.8934306569343066, 0.9130434782608695, 0.9147286821705426, 0.9252468265162199, 0.914027149321267, 0.9132290184921764, 0.9046242774566474, 0.8968609865470851, 0.9082969432314411, 0.9131075110456554]\n\n\nmean for accuracy in case of SVM is:  0.9055555555555556\n\n\nStandard Deviation for accuracy in case of SVM is:  0.011636533989453692\n"
    }
   ],
   "source": [
    "# For SVM\n",
    "SVM_model2 = SVC(C = 10,gamma = 0.01)\n",
    "\n",
    "# Classification based on SVM\n",
    "SVM_accuracy_list=[]\n",
    "SVM_precision_list=[]\n",
    "SVM_recall_list=[]\n",
    "SVM_f1_list=[]\n",
    "\n",
    "# Iteration for Retraining\n",
    "for i in random_seed_iterations:\n",
    "    # Random Dataset Split\n",
    "    x_train_dataA_SVM, x_test_dataA_SVM, y_train_dataA_SVM, y_test_dataA_SVM = train_test_split(z_standardized_dataA, np_label_dataA.ravel(), test_size =0.3, random_state = i)\n",
    "    # Training the Model\n",
    "    SVM_model2.fit(x_train_dataA_SVM, y_train_dataA_SVM)\n",
    "\n",
    "    # Test Dataset Prediction\n",
    "    y_predict_SVM_list = SVM_model2.predict(x_test_dataA_SVM)\n",
    "\n",
    "    # Classification Accuracy\n",
    "    accuracy = metrics.accuracy_score(y_test_dataA_SVM, y_predict_SVM_list)\n",
    "    SVM_accuracy_list.append(accuracy)\n",
    "    \n",
    "    #Precision\n",
    "    precision = metrics.precision_score(y_test_dataA_SVM, y_predict_SVM_list)\n",
    "    SVM_precision_list.append(precision)\n",
    "                                    \n",
    "    #Recall\n",
    "    recall = metrics.recall_score(y_test_dataA_SVM, y_predict_SVM_list)\n",
    "    SVM_recall_list.append(recall)\n",
    "    \n",
    "    #F1-score\n",
    "    f1score = metrics.f1_score(y_test_dataA_SVM, y_predict_SVM_list)\n",
    "    SVM_f1_list.append(f1score)\n",
    "\n",
    "print(\"Acuracy list is :\",SVM_accuracy_list)\n",
    "print(\"\\n\")\n",
    "print(\"Precision list is :\",SVM_precision_list)\n",
    "print(\"\\n\")\n",
    "print(\"Recall list is:\",SVM_recall_list)\n",
    "print(\"\\n\")\n",
    "print(\"F1-Score list is:\",SVM_f1_list)\n",
    "print(\"\\n\")\n",
    "\n",
    "#Average and standard Deviation of Classification values\n",
    "mean_accuracy_list_SVM = sum(SVM_accuracy_list)/len(SVM_accuracy_list)\n",
    "variance_accuracy_list_SVM = sum([((x-mean_accuracy_list_SVM)**2) for x in SVM_accuracy_list])/len(SVM_accuracy_list)\n",
    "sd_accuracy_list_SVM = variance_accuracy_list_SVM**0.5\n",
    "\n",
    "print(\"mean for accuracy in case of SVM is: \",mean_accuracy_list_SVM)\n",
    "print(\"\\n\")\n",
    "print(\"Standard Deviation for accuracy in case of SVM is: \",sd_accuracy_list_SVM)"
   ]
  },
  {
   "cell_type": "markdown",
   "metadata": {},
   "source": [
    "### Naive Bayes Classifier with 20 Iterations"
   ]
  },
  {
   "cell_type": "code",
   "execution_count": 33,
   "metadata": {
    "tags": []
   },
   "outputs": [
    {
     "output_type": "stream",
     "name": "stdout",
     "text": "Acuracy list is : [0.8772727272727273, 0.8590909090909091, 0.8787878787878788, 0.8742424242424243, 0.853030303030303, 0.8545454545454545, 0.8712121212121212, 0.8696969696969697, 0.8878787878787879, 0.8727272727272727, 0.8742424242424243, 0.8742424242424243, 0.8590909090909091, 0.8909090909090909, 0.8727272727272727, 0.8681818181818182, 0.8772727272727273, 0.8575757575757575, 0.8469696969696969, 0.8681818181818182, 0.8696969696969697]\n\n\nPrecision list is : [0.8539325842696629, 0.835195530726257, 0.8806818181818182, 0.8875379939209727, 0.8599439775910365, 0.8518518518518519, 0.8442622950819673, 0.882183908045977, 0.8914285714285715, 0.8514285714285714, 0.8870056497175142, 0.8803418803418803, 0.8611111111111112, 0.8888888888888888, 0.862796833773087, 0.8583815028901735, 0.8601583113456465, 0.8463687150837989, 0.8385269121813032, 0.8771428571428571, 0.8651685393258427]\n\n\nRecall list is: [0.9129129129129129, 0.8978978978978979, 0.8908045977011494, 0.863905325443787, 0.867231638418079, 0.8717201166180758, 0.9169139465875371, 0.8721590909090909, 0.896551724137931, 0.9030303030303031, 0.8795518207282913, 0.8828571428571429, 0.8781869688385269, 0.8942598187311178, 0.9108635097493036, 0.8865671641791045, 0.9209039548022598, 0.8859649122807017, 0.8705882352941177, 0.8746438746438746, 0.8901734104046243]\n\n\nF1-Score list is: [0.8824383164005805, 0.8654124457308249, 0.8857142857142858, 0.8755622188905547, 0.8635724331926863, 0.861671469740634, 0.8790896159317213, 0.8771428571428572, 0.8939828080229227, 0.8764705882352941, 0.8832630098452883, 0.8815977175463623, 0.8695652173913044, 0.8915662650602408, 0.8861788617886179, 0.8722466960352423, 0.8894952251023192, 0.8657142857142858, 0.8542568542568543, 0.8758915834522111, 0.8774928774928775]\n\n\nmean for accuracy in case of NB is:  0.8694083694083694\n\n\nStandard Deviation for accuracy in case of NB is:  0.01082154877878943\n"
    }
   ],
   "source": [
    "# For Naive Bayes\n",
    "NB_model2 = GaussianNB()\n",
    "\n",
    "# Classification based on NB\n",
    "NB_accuracy_list = []\n",
    "NB_precision_list = []\n",
    "NB_recall_list = []\n",
    "NB_f1_list = []\n",
    "\n",
    "# Iteration for Retraining\n",
    "for i in random_seed_iterations:\n",
    "    # Random Dataset Split\n",
    "    x_train_dataA_NB, x_test_dataA_NB, y_train_dataA_NB, y_test_dataA_NB = train_test_split(z_standardized_dataA, np_label_dataA.ravel(), test_size = 0.3, random_state = i)\n",
    "\n",
    "    #Training the Model\n",
    "    NB_model2.fit(x_train_dataA_NB, y_train_dataA_NB)\n",
    "\n",
    "    #Test Dataset Prediction\n",
    "    y_predict_NB_list = NB_model2.predict(x_test_dataA_NB)\n",
    "\n",
    "    #Classification Accuracy\n",
    "    accuracy = metrics.accuracy_score(y_test_dataA_NB, y_predict_NB_list)\n",
    "    NB_accuracy_list.append(accuracy)\n",
    "    \n",
    "    #Precision\n",
    "    precision = metrics.precision_score(y_test_dataA_NB, y_predict_NB_list)\n",
    "    NB_precision_list.append(precision)\n",
    "                                    \n",
    "    #Recall\n",
    "    recall = metrics.recall_score(y_test_dataA_NB, y_predict_NB_list)\n",
    "    NB_recall_list.append(recall)\n",
    "    \n",
    "    #F1-score\n",
    "    f1score = metrics.f1_score(y_test_dataA_NB, y_predict_NB_list)\n",
    "    NB_f1_list.append(f1score)\n",
    "\n",
    "print(\"Acuracy list is :\",NB_accuracy_list)\n",
    "print(\"\\n\")\n",
    "print(\"Precision list is :\",NB_precision_list)\n",
    "print(\"\\n\")\n",
    "print(\"Recall list is:\",NB_recall_list)\n",
    "print(\"\\n\")\n",
    "print(\"F1-Score list is:\",NB_f1_list)\n",
    "print(\"\\n\")\n",
    "\n",
    "#Average and standard Deviation of Classification values\n",
    "mean_accuracy_list_NB = sum(NB_accuracy_list)/len(NB_accuracy_list)\n",
    "variance_accuracy_list_NB = sum([((x-mean_accuracy_list_NB)**2) for x in NB_accuracy_list])/len(NB_accuracy_list)\n",
    "sd_accuracy_list_NB = variance_accuracy_list_NB**0.5\n",
    "\n",
    "print(\"mean for accuracy in case of NB is: \",mean_accuracy_list_NB)\n",
    "print(\"\\n\")\n",
    "print(\"Standard Deviation for accuracy in case of NB is: \",sd_accuracy_list_NB)\n"
   ]
  },
  {
   "cell_type": "markdown",
   "metadata": {},
   "source": [
    "### Decision Tree with 20 Iterations"
   ]
  },
  {
   "cell_type": "code",
   "execution_count": 34,
   "metadata": {
    "tags": []
   },
   "outputs": [
    {
     "output_type": "stream",
     "name": "stdout",
     "text": "Acuracy list is : [0.9393939393939394, 0.9242424242424242, 0.9393939393939394, 0.9393939393939394, 0.9151515151515152, 0.9333333333333333, 0.9181818181818182, 0.9303030303030303, 0.9287878787878788, 0.9181818181818182, 0.9378787878787879, 0.9378787878787879, 0.9363636363636364, 0.95, 0.9454545454545454, 0.9227272727272727, 0.9333333333333333, 0.9378787878787879, 0.9242424242424242, 0.9045454545454545, 0.9287878787878788]\n\n\nPrecision list is : [0.9452887537993921, 0.924924924924925, 0.9450867052023122, 0.9461077844311377, 0.9232954545454546, 0.9436201780415431, 0.9101449275362319, 0.9396551724137931, 0.9337175792507204, 0.9058823529411765, 0.9514285714285714, 0.9557522123893806, 0.9331476323119777, 0.9570552147239264, 0.9523809523809523, 0.9409937888198758, 0.9479768786127167, 0.9387755102040817, 0.9341317365269461, 0.9067796610169492, 0.9259259259259259]\n\n\nRecall is list : [0.933933933933934, 0.924924924924925, 0.9396551724137931, 0.9349112426035503, 0.9180790960451978, 0.9271137026239067, 0.9317507418397626, 0.9289772727272727, 0.9310344827586207, 0.9333333333333333, 0.9327731092436975, 0.9257142857142857, 0.9490084985835694, 0.9425981873111783, 0.947075208913649, 0.9044776119402985, 0.9265536723163842, 0.9415204678362573, 0.9176470588235294, 0.9145299145299145, 0.9393063583815029]\n\n\nF1-Score is list : [0.9395770392749244, 0.924924924924925, 0.9423631123919308, 0.9404761904761905, 0.9206798866855526, 0.9352941176470587, 0.9208211143695014, 0.9342857142857143, 0.9323741007194244, 0.9194029850746268, 0.9420084865629421, 0.9404934687953556, 0.9410112359550562, 0.949771689497717, 0.9497206703910613, 0.9223744292237445, 0.9371428571428572, 0.9401459854014599, 0.9258160237388723, 0.9106382978723404, 0.9325681492109038]\n\n\nmean for accuracy in case of Decision Tree is:  0.9307359307359307\n\n\nStandard Deviation for accuracy in case of Decision Tree is:  0.010715196661320042\n"
    }
   ],
   "source": [
    "# Initialize Decision Tree\n",
    "DT_model2 = DecisionTreeClassifier()\n",
    "\n",
    "# Classification based on DT\n",
    "DT_accuracy_list = []\n",
    "DT_precision_list = []\n",
    "DT_recall_list = []\n",
    "DT_f1_list = []\n",
    "\n",
    "#Iteration for Retraining\n",
    "for i in random_seed_iterations:\n",
    "    #Random Dataset Split\n",
    "    x_train_dataA_DT, x_test_dataA_DT, y_train_dataA_DT, y_test_dataA_DT = train_test_split(z_standardized_dataA, np_label_dataA.ravel(),test_size = 0.3, random_state = i)\n",
    "\n",
    "    # Training the Model\n",
    "    DT_model2.fit(x_train_dataA_DT, y_train_dataA_DT)\n",
    "\n",
    "    # Test Dataset Prediction\n",
    "    y_predict_DT_list = DT_model2.predict(x_test_dataA_DT)\n",
    "\n",
    "    # Classification Accuracy\n",
    "    accuracy = metrics.accuracy_score(y_test_dataA_DT, y_predict_DT_list)\n",
    "    DT_accuracy_list.append(accuracy)\n",
    "    \n",
    "    #Precision\n",
    "    precision = metrics.precision_score(y_test_dataA_DT, y_predict_DT_list)\n",
    "    DT_precision_list.append(precision)\n",
    "                                    \n",
    "    #Recall\n",
    "    recall = metrics.recall_score(y_test_dataA_DT, y_predict_DT_list)\n",
    "    DT_recall_list.append(recall)\n",
    "    \n",
    "    #F1-score\n",
    "    f1score = metrics.f1_score(y_test_dataA_DT, y_predict_DT_list)\n",
    "    DT_f1_list.append(f1score)\n",
    "\n",
    "print(\"Acuracy list is :\",DT_accuracy_list)\n",
    "print(\"\\n\")\n",
    "print(\"Precision list is :\",DT_precision_list)\n",
    "print(\"\\n\")\n",
    "print(\"Recall is list :\",DT_recall_list)\n",
    "print(\"\\n\")\n",
    "print(\"F1-Score is list :\",DT_f1_list)\n",
    "print(\"\\n\")\n",
    "\n",
    "#Average and standard Deviation of Classification values\n",
    "mean_accuracy_list_DT=sum(DT_accuracy_list)/len(DT_accuracy_list)\n",
    "variance_accuracy_list_DT=sum([((x-mean_accuracy_list_DT)**2) for x in DT_accuracy_list])/len(DT_accuracy_list)\n",
    "sd_accuracy_list_DT=variance_accuracy_list_DT**0.5\n",
    "\n",
    "print(\"mean for accuracy in case of Decision Tree is: \",mean_accuracy_list_DT)\n",
    "print(\"\\n\")\n",
    "print(\"Standard Deviation for accuracy in case of Decision Tree is: \",sd_accuracy_list_DT)"
   ]
  },
  {
   "cell_type": "markdown",
   "metadata": {},
   "source": [
    "## Question 1.5: Comment on obtained results\n",
    "\n",
    "#### In Question 1.2, the best k for k-NN from the given set is 15.    "
   ]
  },
  {
   "cell_type": "markdown",
   "metadata": {},
   "source": []
  }
 ],
 "metadata": {
  "kernelspec": {
   "display_name": "Python 3",
   "language": "python",
   "name": "python3"
  },
  "language_info": {
   "codemirror_mode": {
    "name": "ipython",
    "version": 3
   },
   "file_extension": ".py",
   "mimetype": "text/x-python",
   "name": "python",
   "nbconvert_exporter": "python",
   "pygments_lexer": "ipython3",
   "version": "3.7.6"
  }
 },
 "nbformat": 4,
 "nbformat_minor": 4
}