{
 "cells": [
  {
   "cell_type": "code",
   "execution_count": 1,
   "metadata": {
    "tags": []
   },
   "outputs": [
    {
     "output_type": "stream",
     "name": "stderr",
     "text": "\nBad key \"text.kerning_factor\" on line 4 in\n/home/somesh/anaconda3/envs/tf-gpu/lib/python3.7/site-packages/matplotlib/mpl-data/stylelib/_classic_test_patch.mplstyle.\nYou probably need to get an updated matplotlibrc file from\nhttps://github.com/matplotlib/matplotlib/blob/v3.1.3/matplotlibrc.template\nor from the matplotlib source distribution\n"
    },
    {
     "output_type": "error",
     "ename": "ModuleNotFoundError",
     "evalue": "No module named 'impyute'",
     "traceback": [
      "\u001b[0;31m---------------------------------------------------------------------------\u001b[0m",
      "\u001b[0;31mModuleNotFoundError\u001b[0m                       Traceback (most recent call last)",
      "\u001b[0;32m<ipython-input-1-303ab2204ff5>\u001b[0m in \u001b[0;36m<module>\u001b[0;34m\u001b[0m\n\u001b[1;32m      9\u001b[0m \u001b[0;32mfrom\u001b[0m \u001b[0msklearn\u001b[0m\u001b[0;34m.\u001b[0m\u001b[0mimpute\u001b[0m \u001b[0;32mimport\u001b[0m \u001b[0mIterativeImputer\u001b[0m\u001b[0;34m\u001b[0m\u001b[0;34m\u001b[0m\u001b[0m\n\u001b[1;32m     10\u001b[0m \u001b[0;32mfrom\u001b[0m \u001b[0msklearn\u001b[0m\u001b[0;34m.\u001b[0m\u001b[0mimpute\u001b[0m \u001b[0;32mimport\u001b[0m \u001b[0mKNNImputer\u001b[0m\u001b[0;34m\u001b[0m\u001b[0;34m\u001b[0m\u001b[0m\n\u001b[0;32m---> 11\u001b[0;31m \u001b[0;32mfrom\u001b[0m \u001b[0mimpyute\u001b[0m\u001b[0;34m.\u001b[0m\u001b[0mimputation\u001b[0m\u001b[0;34m.\u001b[0m\u001b[0mcs\u001b[0m \u001b[0;32mimport\u001b[0m \u001b[0mmice\u001b[0m\u001b[0;34m\u001b[0m\u001b[0;34m\u001b[0m\u001b[0m\n\u001b[0m\u001b[1;32m     12\u001b[0m \u001b[0;32mfrom\u001b[0m \u001b[0msklearn\u001b[0m\u001b[0;34m.\u001b[0m\u001b[0mpreprocessing\u001b[0m \u001b[0;32mimport\u001b[0m \u001b[0mMinMaxScaler\u001b[0m\u001b[0;34m\u001b[0m\u001b[0;34m\u001b[0m\u001b[0m\n\u001b[1;32m     13\u001b[0m \u001b[0;32mfrom\u001b[0m \u001b[0msklearn\u001b[0m\u001b[0;34m.\u001b[0m\u001b[0mpreprocessing\u001b[0m \u001b[0;32mimport\u001b[0m \u001b[0mStandardScaler\u001b[0m\u001b[0;34m\u001b[0m\u001b[0;34m\u001b[0m\u001b[0m\n",
      "\u001b[0;31mModuleNotFoundError\u001b[0m: No module named 'impyute'"
     ]
    }
   ],
   "source": [
    "import sys \n",
    "import pandas as pd \n",
    "import numpy as np \n",
    "import seaborn as sns\n",
    "import matplotlib.pyplot as plt \n",
    "from scipy import stats \n",
    "from sklearn.impute import SimpleImputer\n",
    "from sklearn.experimental import enable_iterative_imputer \n",
    "from sklearn.impute import IterativeImputer \n",
    "from sklearn.impute import KNNImputer\n",
    "from impyute.imputation.cs import mice \n",
    "from sklearn.preprocessing import MinMaxScaler\n",
    "from sklearn.preprocessing import StandardScaler\n",
    "from sklearn.ensemble import IsolationForest\n",
    "\n"
   ]
  },
  {
   "cell_type": "code",
   "execution_count": 2,
   "metadata": {},
   "outputs": [],
   "source": [
    "#Load DataA.csv \n",
    "dataA = pd.read_csv(r'C:\\Users\\tonkh\\OneDrive\\Desktop\\ECE 657A\\Assignment\\ece_657a_assignments-master\\ece_657a_assignments-master\\Assignment_1\\Datasets\\DataA.csv')"
   ]
  },
  {
   "cell_type": "code",
   "execution_count": 3,
   "metadata": {
    "tags": []
   },
   "outputs": [
    {
     "output_type": "stream",
     "name": "stdout",
     "text": "\n dataA: \n        Unnamed: 0  fea.1  fea.2  fea.3  fea.4   fea.5  fea.6  fea.7  fea.8  \\\n0               1 -153.0  414.0  939.0 -161.0  1007.0   99.0 -210.0  948.0   \n1               2 -150.0  420.0  939.0 -177.0  1008.0  103.0 -207.0  939.0   \n2               3 -160.0  432.0  941.0 -162.0   982.0   98.0 -198.0  936.0   \n3               4 -171.0  432.0  911.0 -174.0   999.0  115.0 -187.0  918.0   \n4               5 -171.0    NaN  929.0 -189.0  1004.0  104.0 -198.0  939.0   \n...           ...    ...    ...    ...    ...     ...    ...    ...    ...   \n18995       18996    NaN    NaN    NaN    NaN     NaN    NaN    NaN    NaN   \n18996       18997    NaN    NaN    NaN    NaN     NaN    NaN    NaN    NaN   \n18997       18998    NaN    NaN    NaN    NaN     NaN    NaN    NaN    NaN   \n18998       18999    NaN    NaN    NaN    NaN     NaN    NaN    NaN    NaN   \n18999       19000    NaN    NaN    NaN    NaN     NaN    NaN    NaN    NaN   \n\n       fea.9  ...  fea.72  fea.73  fea.74  fea.75  fea.76  fea.77  fea.78  \\\n0      333.0  ...   655.0  -316.0  -302.0  -617.0  -955.0  -264.0    23.0   \n1      316.0  ...   655.0  -309.0  -304.0  -619.0  -955.0  -265.0    19.0   \n2      315.0  ...   655.0  -302.0  -308.0  -621.0  -966.0  -270.0    10.0   \n3      338.0  ...   655.0  -293.0  -312.0  -622.0  -964.0  -269.0    14.0   \n4      350.0  ...   655.0  -284.0  -318.0  -624.0  -966.0  -262.0    24.0   \n...      ...  ...     ...     ...     ...     ...     ...     ...     ...   \n18995    NaN  ...     NaN     NaN     NaN     NaN     NaN     NaN     NaN   \n18996    NaN  ...     NaN     NaN     NaN     NaN     NaN     NaN     NaN   \n18997    NaN  ...     NaN     NaN     NaN     NaN     NaN     NaN     NaN   \n18998    NaN  ...     NaN     NaN     NaN     NaN     NaN     NaN     NaN   \n18999    NaN  ...     NaN     NaN     NaN     NaN     NaN     NaN     NaN   \n\n       fea.79  fea.80  fea.81  \n0       -29.0    36.0    24.0  \n1       -31.0    47.0     3.0  \n2       -38.0    20.0     0.0  \n3       -51.0    33.0    -1.0  \n4       -40.0     1.0     4.0  \n...       ...     ...     ...  \n18995     NaN     NaN     NaN  \n18996     NaN     NaN     NaN  \n18997     NaN     NaN     NaN  \n18998     NaN     NaN     NaN  \n18999     NaN     NaN     NaN  \n\n[19000 rows x 82 columns]\n"
    }
   ],
   "source": [
    "print(\"\\n dataA: \\n\", dataA)"
   ]
  },
  {
   "cell_type": "markdown",
   "metadata": {},
   "source": [
    "#### As we can see in the above dataset there are many missing values in each of the column. "
   ]
  },
  {
   "cell_type": "code",
   "execution_count": 4,
   "metadata": {},
   "outputs": [],
   "source": [
    "# Display all columns\n",
    "pd.set_option('display.max_columns', None)"
   ]
  },
  {
   "cell_type": "markdown",
   "metadata": {},
   "source": [
    "## Shape of the Dataset"
   ]
  },
  {
   "cell_type": "code",
   "execution_count": 5,
   "metadata": {
    "tags": []
   },
   "outputs": [
    {
     "output_type": "stream",
     "name": "stdout",
     "text": "\n Dimension of DataA:  (19000, 82)\n"
    }
   ],
   "source": [
    "print(\"\\n Dimension of DataA: \",dataA.shape)"
   ]
  },
  {
   "cell_type": "markdown",
   "metadata": {},
   "source": [
    "#### The Dataset has 19000 samples and 82 features. However there is a Unamed column 'Unnamed: 0' which is just the count which needs to be removed from the dataset "
   ]
  },
  {
   "cell_type": "markdown",
   "metadata": {},
   "source": [
    "## Checking all the Columns"
   ]
  },
  {
   "cell_type": "code",
   "execution_count": 6,
   "metadata": {
    "tags": []
   },
   "outputs": [
    {
     "output_type": "stream",
     "name": "stdout",
     "text": "\n Columns of DataA: \n Index(['Unnamed: 0', 'fea.1', 'fea.2', 'fea.3', 'fea.4', 'fea.5', 'fea.6',\n       'fea.7', 'fea.8', 'fea.9', 'fea.10', 'fea.11', 'fea.12', 'fea.13',\n       'fea.14', 'fea.15', 'fea.16', 'fea.17', 'fea.18', 'fea.19', 'fea.20',\n       'fea.21', 'fea.22', 'fea.23', 'fea.24', 'fea.25', 'fea.26', 'fea.27',\n       'fea.28', 'fea.29', 'fea.30', 'fea.31', 'fea.32', 'fea.33', 'fea.34',\n       'fea.35', 'fea.36', 'fea.37', 'fea.38', 'fea.39', 'fea.40', 'fea.41',\n       'fea.42', 'fea.43', 'fea.44', 'fea.45', 'fea.46', 'fea.47', 'fea.48',\n       'fea.49', 'fea.50', 'fea.51', 'fea.52', 'fea.53', 'fea.54', 'fea.55',\n       'fea.56', 'fea.57', 'fea.58', 'fea.59', 'fea.60', 'fea.61', 'fea.62',\n       'fea.63', 'fea.64', 'fea.65', 'fea.66', 'fea.67', 'fea.68', 'fea.69',\n       'fea.70', 'fea.71', 'fea.72', 'fea.73', 'fea.74', 'fea.75', 'fea.76',\n       'fea.77', 'fea.78', 'fea.79', 'fea.80', 'fea.81'],\n      dtype='object')\n"
    }
   ],
   "source": [
    "# Columns of DataA\n",
    "print(\" \\n Columns of DataA: \\n\",dataA.columns)"
   ]
  },
  {
   "cell_type": "markdown",
   "metadata": {},
   "source": [
    "#### Removing 'Unnamed: 0' columns from the dataset  "
   ]
  },
  {
   "cell_type": "code",
   "execution_count": 7,
   "metadata": {
    "tags": []
   },
   "outputs": [
    {
     "output_type": "stream",
     "name": "stdout",
     "text": "Updated Dataset after removal of 'Unnamed: 0' column: \n    fea.1  fea.2  fea.3  fea.4   fea.5  fea.6  fea.7   fea.8  fea.9  fea.10  \\\n0  -153.0  414.0  939.0 -161.0  1007.0   99.0 -210.0   948.0  333.0   -19.0   \n1  -150.0  420.0  939.0 -177.0  1008.0  103.0 -207.0   939.0  316.0     9.0   \n2  -160.0  432.0  941.0 -162.0   982.0   98.0 -198.0   936.0  315.0   -10.0   \n3  -171.0  432.0  911.0 -174.0   999.0  115.0 -187.0   918.0  338.0    34.0   \n4  -171.0    NaN  929.0 -189.0  1004.0  104.0 -198.0   939.0  350.0    60.0   \n5  -171.0  432.0  924.0 -179.0  1011.0   85.0 -204.0   945.0  336.0    94.0   \n6  -169.0  429.0  949.0 -175.0  1007.0  102.0 -188.0   914.0  322.0   154.0   \n7  -160.0  423.0  927.0 -195.0   996.0  123.0 -213.0   925.0  302.0   128.0   \n8  -163.0  432.0  929.0 -178.0   994.0  101.0 -186.0   946.0  296.0   166.0   \n9  -156.0  415.0  936.0 -186.0  1014.0  111.0 -195.0   960.0  280.0   202.0   \n10 -153.0  413.0  923.0 -187.0   993.0   91.0 -193.0   970.0  282.0   233.0   \n11 -168.0  412.0  904.0 -194.0   989.0  115.0 -198.0   960.0  269.0   267.0   \n12 -166.0  442.0  926.0 -191.0  1001.0  114.0 -199.0   950.0  296.0   360.0   \n13 -162.0  447.0  920.0 -218.0  1000.0  110.0 -235.0   948.0  256.0   339.0   \n14 -184.0  442.0  941.0 -237.0   992.0  144.0 -238.0   940.0  244.0   390.0   \n15 -157.0  427.0  925.0 -245.0   986.0  127.0 -228.0   932.0  217.0   410.0   \n16 -158.0  427.0  905.0 -218.0   990.0  111.0 -216.0   984.0  285.0   454.0   \n17 -153.0  451.0  889.0 -260.0   967.0  112.0 -213.0  1001.0  253.0   513.0   \n18 -150.0  443.0  928.0 -243.0   968.0  130.0 -242.0   959.0  309.0   586.0   \n19 -151.0  442.0  930.0 -260.0   991.0   92.0 -248.0   969.0  304.0   563.0   \n\n    fea.11  fea.12  fea.13  fea.14  fea.15  fea.16  fea.17  fea.18  fea.19  \\\n0   -587.0   810.0   902.0  -140.0  -468.0   -28.0  1016.0  -191.0   358.0   \n1   -605.0   835.0   897.0  -136.0  -473.0   -38.0   989.0  -160.0   346.0   \n2   -580.0   802.0   902.0  -139.0  -454.0   -19.0   992.0  -170.0   345.0   \n3   -579.0   849.0   910.0  -151.0  -460.0   -18.0  1015.0  -185.0   345.0   \n4   -584.0   843.0   917.0  -151.0  -463.0   -12.0   996.0  -209.0   345.0   \n5   -583.0   827.0   892.0  -140.0  -455.0   -32.0  1012.0  -204.0   345.0   \n6   -578.0   805.0   910.0  -161.0  -454.0   -26.0   996.0  -219.0   345.0   \n7   -566.0   775.0   914.0  -153.0  -466.0   -36.0   980.0  -214.0   336.0   \n8   -567.0   784.0   907.0  -159.0  -479.0   -54.0   991.0  -233.0   345.0   \n9   -549.0   810.0   908.0  -149.0  -464.0   -62.0   983.0  -232.0   345.0   \n10  -537.0   790.0   915.0  -147.0  -444.0   -74.0   981.0  -243.0   342.0   \n11  -567.0   768.0   906.0  -133.0  -463.0   -69.0   995.0  -237.0   338.0   \n12  -526.0   752.0   902.0  -148.0  -458.0   -34.0   959.0  -253.0   345.0   \n13  -491.0   767.0   914.0  -161.0  -465.0   -40.0   962.0  -264.0   349.0   \n14  -516.0   720.0   896.0  -143.0  -447.0   -89.0   994.0  -249.0   349.0   \n15  -440.0   726.0   895.0  -142.0  -446.0  -107.0  1016.0  -269.0   348.0   \n16  -391.0   702.0   916.0  -132.0  -443.0   -78.0   990.0  -260.0   359.0   \n17  -268.0   693.0   933.0  -147.0  -432.0   -97.0   970.0  -280.0   373.0   \n18  -268.0   765.0   906.0  -172.0  -465.0   -93.0   979.0  -260.0   352.0   \n19  -214.0   743.0   901.0  -170.0  -443.0   -79.0   969.0  -283.0   349.0   \n\n    fea.20  fea.21  fea.22  fea.23  fea.24  fea.25  fea.26  fea.27  fea.28  \\\n0    895.0  -189.0  -511.0  -782.0  -212.0  -241.0   472.0   938.0  -882.0   \n1    889.0  -215.0  -609.0  -773.0  -202.0  -255.0   509.0   934.0  -878.0   \n2    898.0  -200.0  -606.0  -753.0  -116.0  -272.0   492.0   919.0  -864.0   \n3    888.0  -220.0  -638.0  -718.0  -354.0  -275.0   517.0   919.0  -847.0   \n4    886.0  -204.0  -723.0  -679.0  -220.0  -271.0   525.0   923.0  -862.0   \n5    895.0  -211.0  -787.0  -687.0  -184.0  -298.0   548.0   934.0  -869.0   \n6    896.0  -212.0  -718.0  -690.0  -227.0  -279.0   541.0   890.0  -851.0   \n7    895.0  -234.0  -722.0  -611.0  -240.0  -255.0   549.0   918.0  -865.0   \n8    886.0  -227.0  -746.0  -560.0  -231.0  -263.0   539.0   899.0  -874.0   \n9    874.0  -202.0  -790.0  -653.0  -118.0  -246.0   530.0   905.0  -870.0   \n10   872.0  -213.0  -865.0  -562.0   -93.0  -268.0   531.0   858.0  -880.0   \n11   888.0  -213.0  -868.0  -486.0   -51.0  -295.0   556.0   909.0  -872.0   \n12   888.0  -223.0  -840.0  -495.0    58.0  -267.0   534.0   897.0  -872.0   \n13   895.0  -202.0  -845.0  -530.0     4.0  -241.0   523.0   871.0  -872.0   \n14   878.0  -214.0  -820.0  -483.0    42.0  -258.0   581.0   802.0  -881.0   \n15   879.0  -217.0  -778.0  -375.0    77.0  -224.0   553.0   867.0  -882.0   \n16   870.0  -215.0  -917.0  -186.0   241.0  -348.0   535.0   907.0  -893.0   \n17   874.0  -237.0  -863.0  -257.0   121.0  -366.0   562.0   781.0  -888.0   \n18   878.0  -238.0  -977.0  -248.0   144.0  -329.0   586.0   860.0  -897.0   \n19   891.0  -205.0 -1039.0  -131.0   138.0  -385.0   564.0   852.0  -914.0   \n\n    fea.29  fea.30  fea.31  fea.32  fea.33  fea.34  fea.35  fea.36  fea.37  \\\n0    -61.0   543.0   141.0  -150.0   965.0     NaN     NaN     NaN  -989.0   \n1    -50.0   515.0   130.0  -179.0   995.0     NaN     NaN     NaN  -991.0   \n2    -56.0   540.0   122.0  -162.0   946.0     NaN     NaN     NaN  -988.0   \n3    -66.0   546.0   145.0  -144.0   939.0     NaN     NaN     NaN  -994.0   \n4    -70.0   531.0   153.0  -167.0   970.0     NaN     NaN     NaN -1002.0   \n5    -53.0   534.0   138.0  -142.0   980.0     NaN     NaN     NaN  -993.0   \n6    -59.0   530.0   121.0  -147.0   955.0     NaN     NaN     NaN  -990.0   \n7    -61.0   505.0   122.0  -150.0   960.0     NaN     NaN     NaN -1011.0   \n8    -71.0   527.0   145.0  -165.0   959.0     NaN     NaN     NaN  -983.0   \n9    -56.0   512.0   136.0  -196.0   946.0     NaN     NaN     NaN  -991.0   \n10   -67.0   534.0   126.0  -178.0   967.0     NaN     NaN     NaN  -998.0   \n11   -57.0   488.0   126.0  -206.0  1021.0     NaN     NaN     NaN  -976.0   \n12   -86.0   495.0   112.0  -182.0  1006.0     NaN     NaN     NaN  -995.0   \n13   -75.0   492.0   116.0  -181.0   882.0     NaN     NaN     NaN  -984.0   \n14   -77.0   465.0   144.0  -188.0   963.0     NaN     NaN     NaN  -985.0   \n15   -76.0   453.0    89.0  -217.0   938.0     NaN     NaN     NaN  -995.0   \n16   -74.0   466.0   100.0  -193.0   956.0     NaN     NaN     NaN  -971.0   \n17   -70.0   514.0   103.0  -171.0   954.0     NaN     NaN     NaN  -999.0   \n18  -111.0   492.0   126.0  -199.0   918.0     NaN     NaN     NaN  -983.0   \n19  -120.0   491.0   117.0  -221.0   950.0     NaN     NaN     NaN  -991.0   \n\n    fea.38  fea.39  fea.40  fea.41  fea.42  fea.43  fea.44  fea.45  fea.46  \\\n0   -158.0    41.0    78.0   -49.0   -13.0   643.0   104.0   924.0  -717.0   \n1   -157.0    43.0    48.0   -85.0     1.0   644.0   107.0   922.0  -718.0   \n2   -171.0    41.0    68.0   -68.0    -8.0   642.0   109.0   919.0  -719.0   \n3   -159.0    42.0    32.0   -95.0     4.0   640.0   114.0   915.0  -720.0   \n4   -161.0    42.0    58.0  -145.0    17.0   640.0   116.0   910.0  -722.0   \n5   -163.0    51.0    79.0   -98.0     4.0   641.0   119.0   906.0  -723.0   \n6   -171.0    43.0    56.0  -111.0     0.0   643.0   120.0   902.0  -724.0   \n7   -139.0    67.0    40.0  -125.0    32.0   644.0   124.0   898.0  -725.0   \n8   -160.0    58.0    33.0  -107.0     4.0   645.0   119.0   889.0  -726.0   \n9   -157.0    45.0    -3.0  -165.0     6.0   645.0   120.0   880.0  -728.0   \n10  -144.0    54.0     8.0  -135.0    60.0   645.0   119.0   876.0  -729.0   \n11  -157.0    56.0   -13.0  -169.0    69.0   647.0   117.0   869.0  -731.0   \n12  -163.0    67.0    -8.0  -146.0    77.0   650.0   113.0   863.0  -732.0   \n13  -168.0    80.0   -24.0  -153.0    91.0   651.0   112.0   858.0  -734.0   \n14  -158.0    85.0   -33.0  -159.0    60.0   652.0   111.0   853.0  -736.0   \n15  -141.0   103.0     8.0  -175.0   128.0   654.0   109.0   849.0  -738.0   \n16  -159.0   111.0    -5.0  -150.0   112.0   655.0   106.0   843.0  -740.0   \n17  -126.0   101.0   -55.0  -162.0   133.0   657.0   104.0   837.0  -741.0   \n18  -134.0   112.0   -63.0  -149.0   122.0   660.0    97.0   836.0  -743.0   \n19  -124.0   117.0  -192.0  -107.0   118.0   661.0    90.0   831.0  -744.0   \n\n    fea.47  fea.48  fea.49  fea.50  fea.51  fea.52  fea.53  fea.54  fea.55  \\\n0     62.0  -691.0    63.0  -268.0   937.0   217.0  -249.0    29.0  -141.0   \n1     61.0  -690.0    63.0  -273.0   925.0   214.0  -344.0    45.0  -134.0   \n2     60.0  -689.0    64.0  -276.0   936.0   211.0  -393.0    97.0  -195.0   \n3     60.0  -688.0    65.0  -272.0   926.0   231.0  -446.0    75.0  -199.0   \n4     59.0  -687.0    65.0  -293.0   897.0   221.0  -510.0   142.0  -238.0   \n5     57.0  -686.0    66.0  -298.0   910.0   235.0  -531.0   149.0  -270.0   \n6     57.0  -684.0    67.0  -303.0   923.0   275.0  -579.0   196.0  -286.0   \n7     55.0  -683.0    67.0  -296.0   899.0   297.0  -596.0   207.0  -297.0   \n8     55.0  -682.0    67.0  -333.0   896.0   302.0  -529.0   218.0  -319.0   \n9     55.0  -680.0    67.0  -333.0   919.0   347.0  -506.0   190.0  -285.0   \n10    53.0  -679.0    66.0  -350.0   906.0   366.0  -607.0   109.0  -276.0   \n11    53.0  -677.0    65.0  -359.0   879.0   342.0  -497.0    75.0  -259.0   \n12    52.0  -676.0    64.0  -378.0   883.0   364.0  -430.0    51.0  -252.0   \n13    52.0  -674.0    63.0  -400.0   894.0   394.0  -486.0   -15.0  -257.0   \n14    52.0  -673.0    62.0  -396.0   857.0   361.0  -546.0   -30.0  -248.0   \n15    50.0  -671.0    60.0  -392.0   860.0   357.0  -592.0   -20.0  -317.0   \n16    49.0  -669.0    59.0  -398.0   852.0   383.0  -682.0    -4.0  -267.0   \n17    48.0  -667.0    57.0  -387.0   839.0   378.0  -713.0    48.0  -217.0   \n18    47.0  -665.0    54.0  -402.0   821.0   402.0  -688.0   136.0  -186.0   \n19    48.0  -664.0    51.0  -407.0   842.0   438.0  -679.0   177.0   -61.0   \n\n    fea.56  fea.57  fea.58  fea.59  fea.60  fea.61  fea.62  fea.63  fea.64  \\\n0   -469.0  -571.0   292.0  -314.0   -84.0  -624.0  -711.0   761.0   -63.0   \n1   -469.0  -578.0   285.0  -316.0   -80.0  -620.0  -714.0   759.0   -62.0   \n2   -465.0  -584.0   276.0  -317.0   -74.0  -616.0  -717.0   773.0   -41.0   \n3   -464.0  -593.0   265.0  -319.0   -69.0  -611.0  -721.0   761.0   -13.0   \n4   -460.0  -600.0   251.0  -320.0   -61.0  -607.0  -725.0   741.0   -11.0   \n5   -455.0  -608.0   242.0  -322.0   -54.0  -601.0  -729.0   763.0    16.0   \n6   -452.0  -619.0   228.0  -324.0   -45.0  -596.0  -734.0   756.0    50.0   \n7   -447.0  -628.0   212.0  -325.0   -37.0  -590.0  -738.0   729.0    60.0   \n8   -443.0  -637.0   193.0  -327.0   -28.0  -584.0  -742.0   758.0   105.0   \n9   -440.0  -644.0   180.0  -329.0   -20.0  -579.0  -746.0   740.0    80.0   \n10  -435.0  -651.0   168.0  -331.0   -13.0  -572.0  -750.0   724.0   111.0   \n11  -431.0  -657.0   153.0  -333.0    -6.0  -566.0  -754.0   735.0   152.0   \n12  -425.0  -663.0   141.0  -336.0    -1.0  -561.0  -757.0   722.0   153.0   \n13  -419.0  -666.0   130.0  -339.0     5.0  -555.0  -760.0   722.0   195.0   \n14  -415.0  -669.0   120.0  -341.0    10.0  -548.0  -763.0   703.0   199.0   \n15  -409.0  -674.0   108.0  -345.0    16.0  -541.0  -767.0   705.0   209.0   \n16  -403.0  -679.0    93.0  -347.0    23.0  -533.0  -771.0   696.0   280.0   \n17  -398.0  -680.0    77.0  -348.0    30.0  -525.0  -776.0   689.0   303.0   \n18  -392.0  -685.0    60.0  -348.0    37.0  -517.0  -781.0   691.0   334.0   \n19  -392.0  -684.0    43.0  -346.0    44.0  -510.0  -786.0   660.0   399.0   \n\n    fea.65  fea.66  fea.67  fea.68  fea.69  fea.70  fea.71  fea.72  fea.73  \\\n0    583.0   254.0   101.0  -205.0  -156.0   631.0  -163.0   655.0  -316.0   \n1    590.0   321.0   184.0  -242.0  -160.0   629.0  -169.0   655.0  -309.0   \n2    601.0   404.0   191.0  -311.0  -165.0   626.0  -178.0   655.0  -302.0   \n3    598.0   450.0   203.0  -283.0  -173.0   620.0  -187.0   655.0  -293.0   \n4    612.0   552.0   179.0  -334.0  -178.0   617.0  -199.0   655.0  -284.0   \n5    619.0   552.0   180.0  -365.0  -183.0   611.0  -209.0   655.0  -274.0   \n6    613.0   686.0   178.0  -373.0  -189.0   607.0  -221.0   655.0  -263.0   \n7    657.0   672.0   218.0  -388.0  -195.0   599.0  -235.0   655.0  -251.0   \n8    710.0   702.0   169.0  -412.0  -205.0   591.0  -251.0   654.0  -239.0   \n9    660.0   726.0    95.0  -444.0  -213.0   581.0  -266.0   653.0  -228.0   \n10   702.0   660.0   229.0  -539.0  -219.0   575.0  -277.0   651.0  -215.0   \n11   758.0   588.0   144.0  -656.0  -227.0   564.0  -289.0   647.0  -203.0   \n12   703.0   611.0    68.0  -712.0  -241.0   554.0  -300.0   642.0  -192.0   \n13   660.0   412.0   131.0  -864.0  -255.0   541.0  -306.0   635.0  -181.0   \n14   679.0   242.0   100.0  -975.0  -271.0   531.0  -311.0   626.0  -172.0   \n15   620.0   336.0    83.0 -1110.0  -286.0   518.0  -314.0   615.0  -162.0   \n16   646.0   301.0   119.0 -1208.0  -305.0   504.0  -319.0   603.0  -150.0   \n17   662.0   293.0    35.0 -1230.0  -322.0     NaN  -320.0   590.0  -140.0   \n18   617.0   354.0   -77.0 -1257.0  -348.0   470.0  -322.0   575.0  -130.0   \n19   562.0   338.0    68.0 -1303.0  -367.0   452.0  -324.0   561.0  -118.0   \n\n    fea.74  fea.75  fea.76  fea.77  fea.78  fea.79  fea.80  fea.81  \n0   -302.0  -617.0  -955.0  -264.0    23.0   -29.0    36.0    24.0  \n1   -304.0  -619.0  -955.0  -265.0    19.0   -31.0    47.0     3.0  \n2   -308.0  -621.0  -966.0  -270.0    10.0   -38.0    20.0     0.0  \n3   -312.0  -622.0  -964.0  -269.0    14.0   -51.0    33.0    -1.0  \n4   -318.0  -624.0  -966.0  -262.0    24.0   -40.0     1.0     4.0  \n5   -323.0  -626.0  -969.0  -267.0    27.0   -36.0    32.0     9.0  \n6   -331.0  -627.0  -975.0  -273.0    17.0   -27.0    28.0     3.0  \n7   -337.0  -628.0  -955.0  -275.0     8.0   -40.0    22.0    32.0  \n8   -343.0  -630.0  -967.0  -267.0    15.0   -34.0    -7.0    15.0  \n9   -351.0  -631.0  -964.0  -264.0     7.0   -29.0     6.0    15.0  \n10  -357.0  -634.0  -953.0  -261.0    19.0   -32.0    14.0    46.0  \n11  -363.0  -639.0  -953.0  -270.0    22.0   -51.0    10.0    58.0  \n12  -370.0  -643.0  -963.0  -275.0    15.0   -47.0   -12.0    91.0  \n13  -375.0  -651.0  -957.0  -270.0    15.0   -38.0     3.0   101.0  \n14  -379.0  -660.0  -940.0  -262.0    20.0   -72.0     1.0   112.0  \n15  -384.0  -669.0  -950.0  -259.0     7.0   -75.0    30.0   144.0  \n16  -389.0  -680.0  -964.0  -241.0     5.0  -109.0    86.0   157.0  \n17  -395.0  -690.0  -969.0  -243.0    13.0   -91.0    77.0   164.0  \n18  -403.0  -700.0  -979.0  -238.0    17.0   -76.0    80.0    90.0  \n19  -410.0  -710.0  -975.0  -234.0    15.0   -59.0    93.0    86.0  \n"
    }
   ],
   "source": [
    "dataA_updated = dataA.drop(['Unnamed: 0'], axis=1)\n",
    "print(\"Updated Dataset after removal of 'Unnamed: 0' column: \\n\", dataA_updated.head(20))"
   ]
  },
  {
   "cell_type": "code",
   "execution_count": 8,
   "metadata": {
    "tags": []
   },
   "outputs": [
    {
     "output_type": "stream",
     "name": "stdout",
     "text": "\n Dimension of Updated DataA:  (19000, 81)\n"
    }
   ],
   "source": [
    "# Dimension of the updated Dataset\n",
    "print(\"\\n Dimension of Updated DataA: \",dataA_updated.shape)"
   ]
  },
  {
   "cell_type": "markdown",
   "metadata": {},
   "source": [
    "#### The Column 'Unnamed: 0' has been removed from the dataset as we can see in the above data and now the dimension of the dataset has become (19000, 81) which means it has 19000 samples and 81 features in total"
   ]
  },
  {
   "cell_type": "markdown",
   "metadata": {},
   "source": [
    "## Checking Missing Values in the Dataset \n"
   ]
  },
  {
   "cell_type": "code",
   "execution_count": 9,
   "metadata": {
    "tags": []
   },
   "outputs": [
    {
     "output_type": "stream",
     "name": "stdout",
     "text": "\n Missing values in the DataA: \n       fea.1  fea.2  fea.3  fea.4  fea.5  fea.6  fea.7  fea.8  fea.9  fea.10  \\\n0      False  False  False  False  False  False  False  False  False   False   \n1      False  False  False  False  False  False  False  False  False   False   \n2      False  False  False  False  False  False  False  False  False   False   \n3      False  False  False  False  False  False  False  False  False   False   \n4      False   True  False  False  False  False  False  False  False   False   \n...      ...    ...    ...    ...    ...    ...    ...    ...    ...     ...   \n18995   True   True   True   True   True   True   True   True   True    True   \n18996   True   True   True   True   True   True   True   True   True    True   \n18997   True   True   True   True   True   True   True   True   True    True   \n18998   True   True   True   True   True   True   True   True   True    True   \n18999   True   True   True   True   True   True   True   True   True    True   \n\n       fea.11  fea.12  fea.13  fea.14  fea.15  fea.16  fea.17  fea.18  fea.19  \\\n0       False   False   False   False   False   False   False   False   False   \n1       False   False   False   False   False   False   False   False   False   \n2       False   False   False   False   False   False   False   False   False   \n3       False   False   False   False   False   False   False   False   False   \n4       False   False   False   False   False   False   False   False   False   \n...       ...     ...     ...     ...     ...     ...     ...     ...     ...   \n18995    True    True    True    True    True    True    True    True    True   \n18996    True    True    True    True    True    True    True    True    True   \n18997    True    True    True    True    True    True    True    True    True   \n18998    True    True    True    True    True    True    True    True    True   \n18999    True    True    True    True    True    True    True    True    True   \n\n       fea.20  fea.21  fea.22  fea.23  fea.24  fea.25  fea.26  fea.27  fea.28  \\\n0       False   False   False   False   False   False   False   False   False   \n1       False   False   False   False   False   False   False   False   False   \n2       False   False   False   False   False   False   False   False   False   \n3       False   False   False   False   False   False   False   False   False   \n4       False   False   False   False   False   False   False   False   False   \n...       ...     ...     ...     ...     ...     ...     ...     ...     ...   \n18995    True    True    True    True    True    True    True    True    True   \n18996    True    True    True    True    True    True    True    True    True   \n18997    True    True    True    True    True    True    True    True    True   \n18998    True    True    True    True    True    True    True    True    True   \n18999    True    True    True    True    True    True    True    True    True   \n\n       fea.29  fea.30  fea.31  fea.32  fea.33  fea.34  fea.35  fea.36  fea.37  \\\n0       False   False   False   False   False    True    True    True   False   \n1       False   False   False   False   False    True    True    True   False   \n2       False   False   False   False   False    True    True    True   False   \n3       False   False   False   False   False    True    True    True   False   \n4       False   False   False   False   False    True    True    True   False   \n...       ...     ...     ...     ...     ...     ...     ...     ...     ...   \n18995    True    True    True    True    True    True    True    True    True   \n18996    True    True    True    True    True    True    True    True    True   \n18997    True    True    True    True    True    True    True    True    True   \n18998    True    True    True    True    True    True    True    True    True   \n18999    True    True    True    True    True    True    True    True    True   \n\n       fea.38  fea.39  fea.40  fea.41  fea.42  fea.43  fea.44  fea.45  fea.46  \\\n0       False   False   False   False   False   False   False   False   False   \n1       False   False   False   False   False   False   False   False   False   \n2       False   False   False   False   False   False   False   False   False   \n3       False   False   False   False   False   False   False   False   False   \n4       False   False   False   False   False   False   False   False   False   \n...       ...     ...     ...     ...     ...     ...     ...     ...     ...   \n18995    True    True    True    True    True    True    True    True    True   \n18996    True    True    True    True    True    True    True    True    True   \n18997    True    True    True    True    True    True    True    True    True   \n18998    True    True    True    True    True    True    True    True    True   \n18999    True    True    True    True    True    True    True    True    True   \n\n       fea.47  fea.48  fea.49  fea.50  fea.51  fea.52  fea.53  fea.54  fea.55  \\\n0       False   False   False   False   False   False   False   False   False   \n1       False   False   False   False   False   False   False   False   False   \n2       False   False   False   False   False   False   False   False   False   \n3       False   False   False   False   False   False   False   False   False   \n4       False   False   False   False   False   False   False   False   False   \n...       ...     ...     ...     ...     ...     ...     ...     ...     ...   \n18995    True    True    True    True    True    True    True    True    True   \n18996    True    True    True    True    True    True    True    True    True   \n18997    True    True    True    True    True    True    True    True    True   \n18998    True    True    True    True    True    True    True    True    True   \n18999    True    True    True    True    True    True    True    True    True   \n\n       fea.56  fea.57  fea.58  fea.59  fea.60  fea.61  fea.62  fea.63  fea.64  \\\n0       False   False   False   False   False   False   False   False   False   \n1       False   False   False   False   False   False   False   False   False   \n2       False   False   False   False   False   False   False   False   False   \n3       False   False   False   False   False   False   False   False   False   \n4       False   False   False   False   False   False   False   False   False   \n...       ...     ...     ...     ...     ...     ...     ...     ...     ...   \n18995    True    True    True    True    True    True    True    True    True   \n18996    True    True    True    True    True    True    True    True    True   \n18997    True    True    True    True    True    True    True    True    True   \n18998    True    True    True    True    True    True    True    True    True   \n18999    True    True    True    True    True    True    True    True    True   \n\n       fea.65  fea.66  fea.67  fea.68  fea.69  fea.70  fea.71  fea.72  fea.73  \\\n0       False   False   False   False   False   False   False   False   False   \n1       False   False   False   False   False   False   False   False   False   \n2       False   False   False   False   False   False   False   False   False   \n3       False   False   False   False   False   False   False   False   False   \n4       False   False   False   False   False   False   False   False   False   \n...       ...     ...     ...     ...     ...     ...     ...     ...     ...   \n18995    True    True    True    True    True    True    True    True    True   \n18996    True    True    True    True    True    True    True    True    True   \n18997    True    True    True    True    True    True    True    True    True   \n18998    True    True    True    True    True    True    True    True    True   \n18999    True    True    True    True    True    True    True    True    True   \n\n       fea.74  fea.75  fea.76  fea.77  fea.78  fea.79  fea.80  fea.81  \n0       False   False   False   False   False   False   False   False  \n1       False   False   False   False   False   False   False   False  \n2       False   False   False   False   False   False   False   False  \n3       False   False   False   False   False   False   False   False  \n4       False   False   False   False   False   False   False   False  \n...       ...     ...     ...     ...     ...     ...     ...     ...  \n18995    True    True    True    True    True    True    True    True  \n18996    True    True    True    True    True    True    True    True  \n18997    True    True    True    True    True    True    True    True  \n18998    True    True    True    True    True    True    True    True  \n18999    True    True    True    True    True    True    True    True  \n\n[19000 rows x 81 columns]\n"
    }
   ],
   "source": [
    "# Missing Values in the Dataset\n",
    "print(\"\\n Missing values in the DataA: \\n\",dataA_updated.isnull())"
   ]
  },
  {
   "cell_type": "markdown",
   "metadata": {},
   "source": [
    "#### Here We can see in the dataset there are many missing values as the dataset contains value as 'True' in some rows and columns after applying 'dataA_updated.isnull()'. "
   ]
  },
  {
   "cell_type": "markdown",
   "metadata": {},
   "source": [
    "## Number of Missing values per columns"
   ]
  },
  {
   "cell_type": "code",
   "execution_count": 10,
   "metadata": {
    "tags": []
   },
   "outputs": [
    {
     "output_type": "stream",
     "name": "stdout",
     "text": "\n Number of missing values in each Column: \n fea.1     1187\nfea.2     1188\nfea.3     1187\nfea.4      800\nfea.5      800\n          ... \nfea.77     773\nfea.78     773\nfea.79     773\nfea.80     773\nfea.81     773\nLength: 81, dtype: int64\n"
    }
   ],
   "source": [
    "# Find the Total number of missing values in each column\n",
    "print(\"\\n Number of missing values in each Column: \\n\", dataA_updated.isnull().sum())"
   ]
  },
  {
   "cell_type": "markdown",
   "metadata": {},
   "source": [
    "#### As we can see from the above table that the dataset contains too many missing values and each feature has different number of missing values. As from the table it is clear that feature.1 has 1187 missing values, feature.2 has 1188 missing values while from feature.37 to feature.81 all have a missing value of 773 which is the lowest value missing among all the features. Whereas feature.34 to feature.36 have 18999 missing values which are highest among all the features in the entire dataset. "
   ]
  },
  {
   "cell_type": "markdown",
   "metadata": {},
   "source": [
    "## Total number of Missing values in the dataset"
   ]
  },
  {
   "cell_type": "code",
   "execution_count": 11,
   "metadata": {
    "tags": []
   },
   "outputs": [
    {
     "output_type": "stream",
     "name": "stdout",
     "text": "\n Total number of Missing values in the dataset:  124053\n"
    }
   ],
   "source": [
    "print(\"\\n Total number of Missing values in the dataset: \", dataA_updated.isnull().sum().sum())"
   ]
  },
  {
   "cell_type": "markdown",
   "metadata": {},
   "source": [
    "#### In total there are 124053 missing values in the dataset"
   ]
  },
  {
   "cell_type": "code",
   "execution_count": 12,
   "metadata": {
    "tags": []
   },
   "outputs": [],
   "source": [
    "# Heat Map showing number of Missing Values per Column\n",
    "plt.subplots(figsize=(20,10))\n",
    "sns.heatmap(dataA_updated.isnull())\n",
    "plt.show()"
   ]
  },
  {
   "cell_type": "markdown",
   "metadata": {},
   "source": [
    "#### As it can be seen from the heat map that Feature 34, 35 and 36 are missing so these features have to be removed"
   ]
  },
  {
   "cell_type": "markdown",
   "metadata": {},
   "source": [
    "## Statistical Description of the Dataset with missing values"
   ]
  },
  {
   "cell_type": "code",
   "execution_count": 13,
   "metadata": {},
   "outputs": [
    {
     "output_type": "execute_result",
     "data": {
      "text/plain": "              fea.1         fea.2         fea.3         fea.4         fea.5  \\\ncount  17813.000000  17812.000000  17813.000000  18200.000000  18200.000000   \nmean    -132.812384    698.264485    597.541402   -307.128462    909.548077   \nstd      284.183187    375.672475    396.654659    183.151634    193.963300   \nmin    -2724.000000   -855.000000  -2196.000000  -1365.000000   -245.000000   \n25%     -179.000000    360.000000    304.000000   -409.000000    860.000000   \n50%     -100.000000    811.000000    574.000000   -266.000000    969.500000   \n75%      -15.000000    984.000000    955.000000   -167.000000   1006.000000   \nmax     1887.000000   2531.000000   2941.000000    609.000000   1833.000000   \n\n              fea.6         fea.7         fea.8         fea.9        fea.10  \\\ncount  18200.000000  18099.000000  18099.000000  18099.000000  18043.000000   \nmean     -32.760824     61.974363    899.313498     81.650478    356.638752   \nstd      254.001018    317.393784    196.829252    327.904371    343.131382   \nmin     -920.000000  -1580.000000   -149.000000  -1624.000000  -1792.000000   \n25%     -144.000000   -131.000000    854.000000   -155.000000    158.000000   \n50%      -39.000000     70.000000    946.000000     41.000000    380.000000   \n75%       45.000000    251.000000    997.000000    315.000000    583.000000   \nmax     1215.000000   1490.000000   1682.000000   1096.000000   2202.000000   \n\n             fea.11        fea.12        fea.13        fea.14        fea.15  \\\ncount  18044.000000  18044.000000  17950.000000  17950.000000  17950.000000   \nmean     330.971569    584.833130    583.589861    421.624290    -38.719833   \nstd      543.517364    282.078053    307.610433    543.293018    495.913749   \nmin    -1545.000000  -1079.000000  -1710.000000  -1120.000000  -1634.000000   \n25%     -142.000000    370.000000    347.000000   -131.000000   -484.750000   \n50%      395.000000    610.000000    628.000000    524.000000    -14.000000   \n75%      786.000000    814.000000    818.000000    886.000000    274.000000   \nmax     2047.000000   2152.000000   2408.000000   2212.000000   2620.000000   \n\n             fea.16        fea.17        fea.18        fea.19        fea.20  \\\ncount  18202.000000  18202.000000  18202.000000  17964.000000  17964.000000   \nmean      71.807768    780.358257   -461.605043    274.476843    893.086451   \nstd      258.937246    291.642323    261.243774    298.191766    216.179301   \nmin    -1089.000000   -289.000000  -1379.000000  -2269.000000   -786.000000   \n25%        6.000000    696.000000   -649.000000    252.000000    878.000000   \n50%       94.000000    905.000000   -398.000000    302.000000    921.000000   \n75%      180.000000    967.000000   -282.000000    356.000000    945.000000   \nmax      878.000000   1653.000000   1292.000000   2335.000000   2466.000000   \n\n             fea.21        fea.22        fea.23        fea.24        fea.25  \\\ncount  17964.000000  17677.000000  17677.000000  17677.000000  18106.000000   \nmean     -89.299933   -622.139334    233.764044   -131.400068   -360.661825   \nstd      221.071614    359.196753    587.480524    460.080469    223.329186   \nmin    -1944.000000  -3172.000000  -2324.000000  -2734.000000  -1873.000000   \n25%     -192.000000   -876.000000   -193.000000   -468.000000   -475.000000   \n50%      -70.000000   -655.000000    267.000000   -136.000000   -342.000000   \n75%       31.000000   -371.000000    731.000000    184.000000   -205.000000   \nmax     1968.000000   2229.000000   2677.000000   2401.000000    711.000000   \n\n             fea.26        fea.27        fea.28        fea.29        fea.30  \\\ncount  18106.000000  18106.000000  18106.000000  18106.000000  18106.000000   \nmean     875.943278    269.614934   -570.500166    432.334420    427.547277   \nstd      253.761954    371.407492    307.329729    497.493607    204.477583   \nmin     -442.000000  -1430.000000  -1933.000000  -1103.000000   -765.000000   \n25%      770.000000     11.000000   -825.000000    -59.000000    280.000000   \n50%      934.000000    218.000000   -650.000000    574.000000    447.000000   \n75%     1031.000000    581.000000   -304.000000    856.000000    566.000000   \nmax     2463.000000   1570.000000    939.000000   1846.000000   1367.000000   \n\n             fea.31        fea.32        fea.33  fea.34  fea.35  fea.36  \\\ncount  18083.000000  18083.000000  18083.000000     1.0     1.0     1.0   \nmean    -124.834707    369.141625    646.348062     0.0     0.0     0.0   \nstd      369.363351    523.492523    287.282436     NaN     NaN     NaN   \nmin    -1717.000000  -1234.000000   -784.000000     0.0     0.0     0.0   \n25%     -346.500000   -114.000000    404.000000     0.0     0.0     0.0   \n50%      -98.000000    439.000000    654.000000     0.0     0.0     0.0   \n75%      153.000000    840.000000    926.000000     0.0     0.0     0.0   \nmax     1270.000000   1943.000000   1849.000000     0.0     0.0     0.0   \n\n             fea.37        fea.38        fea.39       fea.40        fea.41  \\\ncount  18227.000000  18227.000000  18227.000000  18227.00000  18227.000000   \nmean    -862.982169   -209.995885    209.005047     -0.55736     -7.673890   \nstd      204.443034    252.273113    288.117323    622.00637    328.654972   \nmin    -1578.000000   -887.000000  -1067.000000  -3322.00000  -2764.000000   \n25%     -971.000000   -321.000000     37.000000   -196.00000   -126.000000   \n50%     -941.000000   -254.000000    130.000000     -9.00000    -10.000000   \n75%     -812.000000   -164.000000    354.000000    180.00000     93.000000   \nmax      358.000000   1470.000000   1194.000000   3164.00000   2348.000000   \n\n             fea.42        fea.43        fea.44        fea.45        fea.46  \\\ncount  18227.000000  18227.000000  18227.000000  18227.000000  18227.000000   \nmean      -9.025347    489.460306     83.230153    209.654194    330.984199   \nstd      248.500906    344.436164    366.809464    552.049211    521.513609   \nmin    -1293.000000   -767.000000   -985.000000   -975.000000   -876.000000   \n25%      -95.000000    441.000000   -154.000000   -293.000000     11.000000   \n50%       -1.000000    582.000000    166.000000    303.000000    598.000000   \n75%       82.000000    653.000000    291.000000    748.000000    720.000000   \nmax     1501.000000   1291.000000   1162.000000   1214.000000    931.000000   \n\n             fea.47        fea.48        fea.49        fea.50        fea.51  \\\ncount  18227.000000  18227.000000  18227.000000  18227.000000  18227.000000   \nmean     -66.071981    290.883086      6.278762   -817.288473    140.022110   \nstd      322.307191    452.056841    470.386277    240.623758    409.226342   \nmin     -705.000000   -702.000000   -983.000000  -1884.000000  -1516.000000   \n25%     -268.000000     -4.000000   -182.000000   -966.000000   -170.000000   \n50%      -67.000000    457.000000    -74.000000   -873.000000     75.000000   \n75%       79.000000    669.000000    364.000000   -702.000000    474.000000   \nmax      700.000000    855.000000    995.000000    833.000000   1808.000000   \n\n             fea.52        fea.53        fea.54        fea.55        fea.56  \\\ncount  18227.000000  18227.000000  18227.000000  18227.000000  18227.000000   \nmean     294.320568     13.456027     -9.604268     -8.376420    279.558786   \nstd      229.603664    838.521518    518.143698    560.794366    396.007945   \nmin    -1671.000000 -12310.000000  -5226.000000  -3541.000000   -924.000000   \n25%      165.000000   -277.000000   -172.000000   -226.000000     21.000000   \n50%      264.000000     10.000000    -14.000000     -8.000000    356.000000   \n75%      395.000000    275.000000    146.000000    198.000000    537.000000   \nmax     1851.000000   7570.000000   8355.000000   3624.000000   1408.000000   \n\n             fea.57        fea.58       fea.59        fea.60        fea.61  \\\ncount  18227.000000  18227.000000  18227.00000  18227.000000  18227.000000   \nmean    -267.420091   -105.234158    204.50107   -135.484611    197.207714   \nstd      550.994437    385.236647    460.46979    337.120625    421.161877   \nmin    -1237.000000   -990.000000   -912.00000   -761.000000   -757.000000   \n25%     -772.000000   -447.000000   -111.00000   -398.000000   -129.000000   \n50%     -426.000000    -17.000000    386.00000   -142.000000    356.000000   \n75%      198.000000    203.000000    558.00000     65.000000    554.000000   \nmax     1300.000000   1476.000000    865.00000    649.000000    791.000000   \n\n             fea.62        fea.63        fea.64        fea.65        fea.66  \\\ncount  18227.000000  18227.000000  18227.000000  18227.000000  18227.000000   \nmean     299.903166   -200.212322    555.226532    443.874637      1.923355   \nstd      554.948504    573.494633    339.780793    298.892877   1020.487633   \nmin     -903.000000  -1866.000000  -1651.000000  -1265.000000 -15657.000000   \n25%     -202.000000   -713.000000    343.000000    237.000000   -309.000000   \n50%      572.000000   -246.000000    606.000000    480.000000    -10.000000   \n75%      692.000000    307.000000    793.000000    651.000000    288.000000   \nmax     1000.000000   1842.000000   1814.000000   1888.000000   9939.000000   \n\n             fea.67        fea.68        fea.69        fea.70        fea.71  \\\ncount  18227.000000  18227.000000  18227.000000  18226.000000  18227.000000   \nmean       1.402535     -3.169364    -70.556537    -90.936080   -227.353157   \nstd      700.587030    867.141376    580.008611    480.162249    379.058945   \nmin    -4610.000000  -8158.000000  -1138.000000  -2292.000000  -1345.000000   \n25%     -240.000000   -270.000000   -595.000000   -457.000000   -489.000000   \n50%        2.000000     10.000000   -167.000000    -20.000000   -182.000000   \n75%      247.000000    269.000000    402.000000    238.000000    -27.000000   \nmax     7816.000000   6600.000000   1333.000000    945.000000   1674.000000   \n\n             fea.72        fea.73        fea.74        fea.75        fea.76  \\\ncount  18227.000000  18227.000000  18227.000000  18227.000000  18227.000000   \nmean    -124.658035    -37.973391    137.400176    374.762934   -880.583804   \nstd      481.492994    355.841529    352.788441    583.792739    217.634117   \nmin     -953.000000   -853.000000   -771.000000   -984.000000  -2562.000000   \n25%     -487.000000   -323.000000   -173.000000     29.000000   -983.000000   \n50%     -223.000000     32.000000    251.000000    698.000000   -940.000000   \n75%      174.000000    179.000000    413.000000    823.000000   -840.000000   \nmax      949.000000    775.000000    759.000000    999.000000    613.000000   \n\n             fea.77        fea.78        fea.79        fea.80        fea.81  \ncount  18227.000000  18227.000000  18227.000000  18227.000000  18227.000000  \nmean     -47.607780    137.641192    -18.099523      4.671257     20.726834  \nstd      373.064609    248.988603    778.015520    480.779966    455.160604  \nmin    -5424.000000  -3133.000000  -7189.000000  -5861.000000  -3051.000000  \n25%     -276.000000     31.000000   -246.500000   -118.000000   -115.000000  \n50%        0.000000    132.000000    -29.000000      4.000000     19.000000  \n75%      225.000000    276.000000    195.000000    115.000000    169.000000  \nmax     4877.000000   3742.000000   7497.000000   8675.000000   5821.000000  ",
      "text/html": "<div>\n<style scoped>\n    .dataframe tbody tr th:only-of-type {\n        vertical-align: middle;\n    }\n\n    .dataframe tbody tr th {\n        vertical-align: top;\n    }\n\n    .dataframe thead th {\n        text-align: right;\n    }\n</style>\n<table border=\"1\" class=\"dataframe\">\n  <thead>\n    <tr style=\"text-align: right;\">\n      <th></th>\n      <th>fea.1</th>\n      <th>fea.2</th>\n      <th>fea.3</th>\n      <th>fea.4</th>\n      <th>fea.5</th>\n      <th>fea.6</th>\n      <th>fea.7</th>\n      <th>fea.8</th>\n      <th>fea.9</th>\n      <th>fea.10</th>\n      <th>fea.11</th>\n      <th>fea.12</th>\n      <th>fea.13</th>\n      <th>fea.14</th>\n      <th>fea.15</th>\n      <th>fea.16</th>\n      <th>fea.17</th>\n      <th>fea.18</th>\n      <th>fea.19</th>\n      <th>fea.20</th>\n      <th>fea.21</th>\n      <th>fea.22</th>\n      <th>fea.23</th>\n      <th>fea.24</th>\n      <th>fea.25</th>\n      <th>fea.26</th>\n      <th>fea.27</th>\n      <th>fea.28</th>\n      <th>fea.29</th>\n      <th>fea.30</th>\n      <th>fea.31</th>\n      <th>fea.32</th>\n      <th>fea.33</th>\n      <th>fea.34</th>\n      <th>fea.35</th>\n      <th>fea.36</th>\n      <th>fea.37</th>\n      <th>fea.38</th>\n      <th>fea.39</th>\n      <th>fea.40</th>\n      <th>fea.41</th>\n      <th>fea.42</th>\n      <th>fea.43</th>\n      <th>fea.44</th>\n      <th>fea.45</th>\n      <th>fea.46</th>\n      <th>fea.47</th>\n      <th>fea.48</th>\n      <th>fea.49</th>\n      <th>fea.50</th>\n      <th>fea.51</th>\n      <th>fea.52</th>\n      <th>fea.53</th>\n      <th>fea.54</th>\n      <th>fea.55</th>\n      <th>fea.56</th>\n      <th>fea.57</th>\n      <th>fea.58</th>\n      <th>fea.59</th>\n      <th>fea.60</th>\n      <th>fea.61</th>\n      <th>fea.62</th>\n      <th>fea.63</th>\n      <th>fea.64</th>\n      <th>fea.65</th>\n      <th>fea.66</th>\n      <th>fea.67</th>\n      <th>fea.68</th>\n      <th>fea.69</th>\n      <th>fea.70</th>\n      <th>fea.71</th>\n      <th>fea.72</th>\n      <th>fea.73</th>\n      <th>fea.74</th>\n      <th>fea.75</th>\n      <th>fea.76</th>\n      <th>fea.77</th>\n      <th>fea.78</th>\n      <th>fea.79</th>\n      <th>fea.80</th>\n      <th>fea.81</th>\n    </tr>\n  </thead>\n  <tbody>\n    <tr>\n      <th>count</th>\n      <td>17813.000000</td>\n      <td>17812.000000</td>\n      <td>17813.000000</td>\n      <td>18200.000000</td>\n      <td>18200.000000</td>\n      <td>18200.000000</td>\n      <td>18099.000000</td>\n      <td>18099.000000</td>\n      <td>18099.000000</td>\n      <td>18043.000000</td>\n      <td>18044.000000</td>\n      <td>18044.000000</td>\n      <td>17950.000000</td>\n      <td>17950.000000</td>\n      <td>17950.000000</td>\n      <td>18202.000000</td>\n      <td>18202.000000</td>\n      <td>18202.000000</td>\n      <td>17964.000000</td>\n      <td>17964.000000</td>\n      <td>17964.000000</td>\n      <td>17677.000000</td>\n      <td>17677.000000</td>\n      <td>17677.000000</td>\n      <td>18106.000000</td>\n      <td>18106.000000</td>\n      <td>18106.000000</td>\n      <td>18106.000000</td>\n      <td>18106.000000</td>\n      <td>18106.000000</td>\n      <td>18083.000000</td>\n      <td>18083.000000</td>\n      <td>18083.000000</td>\n      <td>1.0</td>\n      <td>1.0</td>\n      <td>1.0</td>\n      <td>18227.000000</td>\n      <td>18227.000000</td>\n      <td>18227.000000</td>\n      <td>18227.00000</td>\n      <td>18227.000000</td>\n      <td>18227.000000</td>\n      <td>18227.000000</td>\n      <td>18227.000000</td>\n      <td>18227.000000</td>\n      <td>18227.000000</td>\n      <td>18227.000000</td>\n      <td>18227.000000</td>\n      <td>18227.000000</td>\n      <td>18227.000000</td>\n      <td>18227.000000</td>\n      <td>18227.000000</td>\n      <td>18227.000000</td>\n      <td>18227.000000</td>\n      <td>18227.000000</td>\n      <td>18227.000000</td>\n      <td>18227.000000</td>\n      <td>18227.000000</td>\n      <td>18227.00000</td>\n      <td>18227.000000</td>\n      <td>18227.000000</td>\n      <td>18227.000000</td>\n      <td>18227.000000</td>\n      <td>18227.000000</td>\n      <td>18227.000000</td>\n      <td>18227.000000</td>\n      <td>18227.000000</td>\n      <td>18227.000000</td>\n      <td>18227.000000</td>\n      <td>18226.000000</td>\n      <td>18227.000000</td>\n      <td>18227.000000</td>\n      <td>18227.000000</td>\n      <td>18227.000000</td>\n      <td>18227.000000</td>\n      <td>18227.000000</td>\n      <td>18227.000000</td>\n      <td>18227.000000</td>\n      <td>18227.000000</td>\n      <td>18227.000000</td>\n      <td>18227.000000</td>\n    </tr>\n    <tr>\n      <th>mean</th>\n      <td>-132.812384</td>\n      <td>698.264485</td>\n      <td>597.541402</td>\n      <td>-307.128462</td>\n      <td>909.548077</td>\n      <td>-32.760824</td>\n      <td>61.974363</td>\n      <td>899.313498</td>\n      <td>81.650478</td>\n      <td>356.638752</td>\n      <td>330.971569</td>\n      <td>584.833130</td>\n      <td>583.589861</td>\n      <td>421.624290</td>\n      <td>-38.719833</td>\n      <td>71.807768</td>\n      <td>780.358257</td>\n      <td>-461.605043</td>\n      <td>274.476843</td>\n      <td>893.086451</td>\n      <td>-89.299933</td>\n      <td>-622.139334</td>\n      <td>233.764044</td>\n      <td>-131.400068</td>\n      <td>-360.661825</td>\n      <td>875.943278</td>\n      <td>269.614934</td>\n      <td>-570.500166</td>\n      <td>432.334420</td>\n      <td>427.547277</td>\n      <td>-124.834707</td>\n      <td>369.141625</td>\n      <td>646.348062</td>\n      <td>0.0</td>\n      <td>0.0</td>\n      <td>0.0</td>\n      <td>-862.982169</td>\n      <td>-209.995885</td>\n      <td>209.005047</td>\n      <td>-0.55736</td>\n      <td>-7.673890</td>\n      <td>-9.025347</td>\n      <td>489.460306</td>\n      <td>83.230153</td>\n      <td>209.654194</td>\n      <td>330.984199</td>\n      <td>-66.071981</td>\n      <td>290.883086</td>\n      <td>6.278762</td>\n      <td>-817.288473</td>\n      <td>140.022110</td>\n      <td>294.320568</td>\n      <td>13.456027</td>\n      <td>-9.604268</td>\n      <td>-8.376420</td>\n      <td>279.558786</td>\n      <td>-267.420091</td>\n      <td>-105.234158</td>\n      <td>204.50107</td>\n      <td>-135.484611</td>\n      <td>197.207714</td>\n      <td>299.903166</td>\n      <td>-200.212322</td>\n      <td>555.226532</td>\n      <td>443.874637</td>\n      <td>1.923355</td>\n      <td>1.402535</td>\n      <td>-3.169364</td>\n      <td>-70.556537</td>\n      <td>-90.936080</td>\n      <td>-227.353157</td>\n      <td>-124.658035</td>\n      <td>-37.973391</td>\n      <td>137.400176</td>\n      <td>374.762934</td>\n      <td>-880.583804</td>\n      <td>-47.607780</td>\n      <td>137.641192</td>\n      <td>-18.099523</td>\n      <td>4.671257</td>\n      <td>20.726834</td>\n    </tr>\n    <tr>\n      <th>std</th>\n      <td>284.183187</td>\n      <td>375.672475</td>\n      <td>396.654659</td>\n      <td>183.151634</td>\n      <td>193.963300</td>\n      <td>254.001018</td>\n      <td>317.393784</td>\n      <td>196.829252</td>\n      <td>327.904371</td>\n      <td>343.131382</td>\n      <td>543.517364</td>\n      <td>282.078053</td>\n      <td>307.610433</td>\n      <td>543.293018</td>\n      <td>495.913749</td>\n      <td>258.937246</td>\n      <td>291.642323</td>\n      <td>261.243774</td>\n      <td>298.191766</td>\n      <td>216.179301</td>\n      <td>221.071614</td>\n      <td>359.196753</td>\n      <td>587.480524</td>\n      <td>460.080469</td>\n      <td>223.329186</td>\n      <td>253.761954</td>\n      <td>371.407492</td>\n      <td>307.329729</td>\n      <td>497.493607</td>\n      <td>204.477583</td>\n      <td>369.363351</td>\n      <td>523.492523</td>\n      <td>287.282436</td>\n      <td>NaN</td>\n      <td>NaN</td>\n      <td>NaN</td>\n      <td>204.443034</td>\n      <td>252.273113</td>\n      <td>288.117323</td>\n      <td>622.00637</td>\n      <td>328.654972</td>\n      <td>248.500906</td>\n      <td>344.436164</td>\n      <td>366.809464</td>\n      <td>552.049211</td>\n      <td>521.513609</td>\n      <td>322.307191</td>\n      <td>452.056841</td>\n      <td>470.386277</td>\n      <td>240.623758</td>\n      <td>409.226342</td>\n      <td>229.603664</td>\n      <td>838.521518</td>\n      <td>518.143698</td>\n      <td>560.794366</td>\n      <td>396.007945</td>\n      <td>550.994437</td>\n      <td>385.236647</td>\n      <td>460.46979</td>\n      <td>337.120625</td>\n      <td>421.161877</td>\n      <td>554.948504</td>\n      <td>573.494633</td>\n      <td>339.780793</td>\n      <td>298.892877</td>\n      <td>1020.487633</td>\n      <td>700.587030</td>\n      <td>867.141376</td>\n      <td>580.008611</td>\n      <td>480.162249</td>\n      <td>379.058945</td>\n      <td>481.492994</td>\n      <td>355.841529</td>\n      <td>352.788441</td>\n      <td>583.792739</td>\n      <td>217.634117</td>\n      <td>373.064609</td>\n      <td>248.988603</td>\n      <td>778.015520</td>\n      <td>480.779966</td>\n      <td>455.160604</td>\n    </tr>\n    <tr>\n      <th>min</th>\n      <td>-2724.000000</td>\n      <td>-855.000000</td>\n      <td>-2196.000000</td>\n      <td>-1365.000000</td>\n      <td>-245.000000</td>\n      <td>-920.000000</td>\n      <td>-1580.000000</td>\n      <td>-149.000000</td>\n      <td>-1624.000000</td>\n      <td>-1792.000000</td>\n      <td>-1545.000000</td>\n      <td>-1079.000000</td>\n      <td>-1710.000000</td>\n      <td>-1120.000000</td>\n      <td>-1634.000000</td>\n      <td>-1089.000000</td>\n      <td>-289.000000</td>\n      <td>-1379.000000</td>\n      <td>-2269.000000</td>\n      <td>-786.000000</td>\n      <td>-1944.000000</td>\n      <td>-3172.000000</td>\n      <td>-2324.000000</td>\n      <td>-2734.000000</td>\n      <td>-1873.000000</td>\n      <td>-442.000000</td>\n      <td>-1430.000000</td>\n      <td>-1933.000000</td>\n      <td>-1103.000000</td>\n      <td>-765.000000</td>\n      <td>-1717.000000</td>\n      <td>-1234.000000</td>\n      <td>-784.000000</td>\n      <td>0.0</td>\n      <td>0.0</td>\n      <td>0.0</td>\n      <td>-1578.000000</td>\n      <td>-887.000000</td>\n      <td>-1067.000000</td>\n      <td>-3322.00000</td>\n      <td>-2764.000000</td>\n      <td>-1293.000000</td>\n      <td>-767.000000</td>\n      <td>-985.000000</td>\n      <td>-975.000000</td>\n      <td>-876.000000</td>\n      <td>-705.000000</td>\n      <td>-702.000000</td>\n      <td>-983.000000</td>\n      <td>-1884.000000</td>\n      <td>-1516.000000</td>\n      <td>-1671.000000</td>\n      <td>-12310.000000</td>\n      <td>-5226.000000</td>\n      <td>-3541.000000</td>\n      <td>-924.000000</td>\n      <td>-1237.000000</td>\n      <td>-990.000000</td>\n      <td>-912.00000</td>\n      <td>-761.000000</td>\n      <td>-757.000000</td>\n      <td>-903.000000</td>\n      <td>-1866.000000</td>\n      <td>-1651.000000</td>\n      <td>-1265.000000</td>\n      <td>-15657.000000</td>\n      <td>-4610.000000</td>\n      <td>-8158.000000</td>\n      <td>-1138.000000</td>\n      <td>-2292.000000</td>\n      <td>-1345.000000</td>\n      <td>-953.000000</td>\n      <td>-853.000000</td>\n      <td>-771.000000</td>\n      <td>-984.000000</td>\n      <td>-2562.000000</td>\n      <td>-5424.000000</td>\n      <td>-3133.000000</td>\n      <td>-7189.000000</td>\n      <td>-5861.000000</td>\n      <td>-3051.000000</td>\n    </tr>\n    <tr>\n      <th>25%</th>\n      <td>-179.000000</td>\n      <td>360.000000</td>\n      <td>304.000000</td>\n      <td>-409.000000</td>\n      <td>860.000000</td>\n      <td>-144.000000</td>\n      <td>-131.000000</td>\n      <td>854.000000</td>\n      <td>-155.000000</td>\n      <td>158.000000</td>\n      <td>-142.000000</td>\n      <td>370.000000</td>\n      <td>347.000000</td>\n      <td>-131.000000</td>\n      <td>-484.750000</td>\n      <td>6.000000</td>\n      <td>696.000000</td>\n      <td>-649.000000</td>\n      <td>252.000000</td>\n      <td>878.000000</td>\n      <td>-192.000000</td>\n      <td>-876.000000</td>\n      <td>-193.000000</td>\n      <td>-468.000000</td>\n      <td>-475.000000</td>\n      <td>770.000000</td>\n      <td>11.000000</td>\n      <td>-825.000000</td>\n      <td>-59.000000</td>\n      <td>280.000000</td>\n      <td>-346.500000</td>\n      <td>-114.000000</td>\n      <td>404.000000</td>\n      <td>0.0</td>\n      <td>0.0</td>\n      <td>0.0</td>\n      <td>-971.000000</td>\n      <td>-321.000000</td>\n      <td>37.000000</td>\n      <td>-196.00000</td>\n      <td>-126.000000</td>\n      <td>-95.000000</td>\n      <td>441.000000</td>\n      <td>-154.000000</td>\n      <td>-293.000000</td>\n      <td>11.000000</td>\n      <td>-268.000000</td>\n      <td>-4.000000</td>\n      <td>-182.000000</td>\n      <td>-966.000000</td>\n      <td>-170.000000</td>\n      <td>165.000000</td>\n      <td>-277.000000</td>\n      <td>-172.000000</td>\n      <td>-226.000000</td>\n      <td>21.000000</td>\n      <td>-772.000000</td>\n      <td>-447.000000</td>\n      <td>-111.00000</td>\n      <td>-398.000000</td>\n      <td>-129.000000</td>\n      <td>-202.000000</td>\n      <td>-713.000000</td>\n      <td>343.000000</td>\n      <td>237.000000</td>\n      <td>-309.000000</td>\n      <td>-240.000000</td>\n      <td>-270.000000</td>\n      <td>-595.000000</td>\n      <td>-457.000000</td>\n      <td>-489.000000</td>\n      <td>-487.000000</td>\n      <td>-323.000000</td>\n      <td>-173.000000</td>\n      <td>29.000000</td>\n      <td>-983.000000</td>\n      <td>-276.000000</td>\n      <td>31.000000</td>\n      <td>-246.500000</td>\n      <td>-118.000000</td>\n      <td>-115.000000</td>\n    </tr>\n    <tr>\n      <th>50%</th>\n      <td>-100.000000</td>\n      <td>811.000000</td>\n      <td>574.000000</td>\n      <td>-266.000000</td>\n      <td>969.500000</td>\n      <td>-39.000000</td>\n      <td>70.000000</td>\n      <td>946.000000</td>\n      <td>41.000000</td>\n      <td>380.000000</td>\n      <td>395.000000</td>\n      <td>610.000000</td>\n      <td>628.000000</td>\n      <td>524.000000</td>\n      <td>-14.000000</td>\n      <td>94.000000</td>\n      <td>905.000000</td>\n      <td>-398.000000</td>\n      <td>302.000000</td>\n      <td>921.000000</td>\n      <td>-70.000000</td>\n      <td>-655.000000</td>\n      <td>267.000000</td>\n      <td>-136.000000</td>\n      <td>-342.000000</td>\n      <td>934.000000</td>\n      <td>218.000000</td>\n      <td>-650.000000</td>\n      <td>574.000000</td>\n      <td>447.000000</td>\n      <td>-98.000000</td>\n      <td>439.000000</td>\n      <td>654.000000</td>\n      <td>0.0</td>\n      <td>0.0</td>\n      <td>0.0</td>\n      <td>-941.000000</td>\n      <td>-254.000000</td>\n      <td>130.000000</td>\n      <td>-9.00000</td>\n      <td>-10.000000</td>\n      <td>-1.000000</td>\n      <td>582.000000</td>\n      <td>166.000000</td>\n      <td>303.000000</td>\n      <td>598.000000</td>\n      <td>-67.000000</td>\n      <td>457.000000</td>\n      <td>-74.000000</td>\n      <td>-873.000000</td>\n      <td>75.000000</td>\n      <td>264.000000</td>\n      <td>10.000000</td>\n      <td>-14.000000</td>\n      <td>-8.000000</td>\n      <td>356.000000</td>\n      <td>-426.000000</td>\n      <td>-17.000000</td>\n      <td>386.00000</td>\n      <td>-142.000000</td>\n      <td>356.000000</td>\n      <td>572.000000</td>\n      <td>-246.000000</td>\n      <td>606.000000</td>\n      <td>480.000000</td>\n      <td>-10.000000</td>\n      <td>2.000000</td>\n      <td>10.000000</td>\n      <td>-167.000000</td>\n      <td>-20.000000</td>\n      <td>-182.000000</td>\n      <td>-223.000000</td>\n      <td>32.000000</td>\n      <td>251.000000</td>\n      <td>698.000000</td>\n      <td>-940.000000</td>\n      <td>0.000000</td>\n      <td>132.000000</td>\n      <td>-29.000000</td>\n      <td>4.000000</td>\n      <td>19.000000</td>\n    </tr>\n    <tr>\n      <th>75%</th>\n      <td>-15.000000</td>\n      <td>984.000000</td>\n      <td>955.000000</td>\n      <td>-167.000000</td>\n      <td>1006.000000</td>\n      <td>45.000000</td>\n      <td>251.000000</td>\n      <td>997.000000</td>\n      <td>315.000000</td>\n      <td>583.000000</td>\n      <td>786.000000</td>\n      <td>814.000000</td>\n      <td>818.000000</td>\n      <td>886.000000</td>\n      <td>274.000000</td>\n      <td>180.000000</td>\n      <td>967.000000</td>\n      <td>-282.000000</td>\n      <td>356.000000</td>\n      <td>945.000000</td>\n      <td>31.000000</td>\n      <td>-371.000000</td>\n      <td>731.000000</td>\n      <td>184.000000</td>\n      <td>-205.000000</td>\n      <td>1031.000000</td>\n      <td>581.000000</td>\n      <td>-304.000000</td>\n      <td>856.000000</td>\n      <td>566.000000</td>\n      <td>153.000000</td>\n      <td>840.000000</td>\n      <td>926.000000</td>\n      <td>0.0</td>\n      <td>0.0</td>\n      <td>0.0</td>\n      <td>-812.000000</td>\n      <td>-164.000000</td>\n      <td>354.000000</td>\n      <td>180.00000</td>\n      <td>93.000000</td>\n      <td>82.000000</td>\n      <td>653.000000</td>\n      <td>291.000000</td>\n      <td>748.000000</td>\n      <td>720.000000</td>\n      <td>79.000000</td>\n      <td>669.000000</td>\n      <td>364.000000</td>\n      <td>-702.000000</td>\n      <td>474.000000</td>\n      <td>395.000000</td>\n      <td>275.000000</td>\n      <td>146.000000</td>\n      <td>198.000000</td>\n      <td>537.000000</td>\n      <td>198.000000</td>\n      <td>203.000000</td>\n      <td>558.00000</td>\n      <td>65.000000</td>\n      <td>554.000000</td>\n      <td>692.000000</td>\n      <td>307.000000</td>\n      <td>793.000000</td>\n      <td>651.000000</td>\n      <td>288.000000</td>\n      <td>247.000000</td>\n      <td>269.000000</td>\n      <td>402.000000</td>\n      <td>238.000000</td>\n      <td>-27.000000</td>\n      <td>174.000000</td>\n      <td>179.000000</td>\n      <td>413.000000</td>\n      <td>823.000000</td>\n      <td>-840.000000</td>\n      <td>225.000000</td>\n      <td>276.000000</td>\n      <td>195.000000</td>\n      <td>115.000000</td>\n      <td>169.000000</td>\n    </tr>\n    <tr>\n      <th>max</th>\n      <td>1887.000000</td>\n      <td>2531.000000</td>\n      <td>2941.000000</td>\n      <td>609.000000</td>\n      <td>1833.000000</td>\n      <td>1215.000000</td>\n      <td>1490.000000</td>\n      <td>1682.000000</td>\n      <td>1096.000000</td>\n      <td>2202.000000</td>\n      <td>2047.000000</td>\n      <td>2152.000000</td>\n      <td>2408.000000</td>\n      <td>2212.000000</td>\n      <td>2620.000000</td>\n      <td>878.000000</td>\n      <td>1653.000000</td>\n      <td>1292.000000</td>\n      <td>2335.000000</td>\n      <td>2466.000000</td>\n      <td>1968.000000</td>\n      <td>2229.000000</td>\n      <td>2677.000000</td>\n      <td>2401.000000</td>\n      <td>711.000000</td>\n      <td>2463.000000</td>\n      <td>1570.000000</td>\n      <td>939.000000</td>\n      <td>1846.000000</td>\n      <td>1367.000000</td>\n      <td>1270.000000</td>\n      <td>1943.000000</td>\n      <td>1849.000000</td>\n      <td>0.0</td>\n      <td>0.0</td>\n      <td>0.0</td>\n      <td>358.000000</td>\n      <td>1470.000000</td>\n      <td>1194.000000</td>\n      <td>3164.00000</td>\n      <td>2348.000000</td>\n      <td>1501.000000</td>\n      <td>1291.000000</td>\n      <td>1162.000000</td>\n      <td>1214.000000</td>\n      <td>931.000000</td>\n      <td>700.000000</td>\n      <td>855.000000</td>\n      <td>995.000000</td>\n      <td>833.000000</td>\n      <td>1808.000000</td>\n      <td>1851.000000</td>\n      <td>7570.000000</td>\n      <td>8355.000000</td>\n      <td>3624.000000</td>\n      <td>1408.000000</td>\n      <td>1300.000000</td>\n      <td>1476.000000</td>\n      <td>865.00000</td>\n      <td>649.000000</td>\n      <td>791.000000</td>\n      <td>1000.000000</td>\n      <td>1842.000000</td>\n      <td>1814.000000</td>\n      <td>1888.000000</td>\n      <td>9939.000000</td>\n      <td>7816.000000</td>\n      <td>6600.000000</td>\n      <td>1333.000000</td>\n      <td>945.000000</td>\n      <td>1674.000000</td>\n      <td>949.000000</td>\n      <td>775.000000</td>\n      <td>759.000000</td>\n      <td>999.000000</td>\n      <td>613.000000</td>\n      <td>4877.000000</td>\n      <td>3742.000000</td>\n      <td>7497.000000</td>\n      <td>8675.000000</td>\n      <td>5821.000000</td>\n    </tr>\n  </tbody>\n</table>\n</div>"
     },
     "metadata": {},
     "execution_count": 13
    }
   ],
   "source": [
    "# Statistical analysis of the Dataset\n",
    "dataA_updated.describe()"
   ]
  },
  {
   "cell_type": "markdown",
   "metadata": {},
   "source": [
    "#### As we can see from the above statistical description of the dataset it clear that the rows of feature.34, feature.35 and feature.36 is entirely missing so there is no statistical value for those columns. We have to remove the entire feature.34, feature.35 and feature.36 from the dataset."
   ]
  },
  {
   "cell_type": "markdown",
   "metadata": {},
   "source": [
    "## Drop feature.34, feature.35 and feature.36"
   ]
  },
  {
   "cell_type": "code",
   "execution_count": 14,
   "metadata": {
    "tags": []
   },
   "outputs": [
    {
     "output_type": "stream",
     "name": "stdout",
     "text": "\n Dimension of Reduced Dataset:  (19000, 78)\n\n Reduced Dataset: \n        fea.1  fea.2  fea.3  fea.4   fea.5  fea.6  fea.7  fea.8  fea.9  fea.10  \\\n0     -153.0  414.0  939.0 -161.0  1007.0   99.0 -210.0  948.0  333.0   -19.0   \n1     -150.0  420.0  939.0 -177.0  1008.0  103.0 -207.0  939.0  316.0     9.0   \n2     -160.0  432.0  941.0 -162.0   982.0   98.0 -198.0  936.0  315.0   -10.0   \n3     -171.0  432.0  911.0 -174.0   999.0  115.0 -187.0  918.0  338.0    34.0   \n4     -171.0    NaN  929.0 -189.0  1004.0  104.0 -198.0  939.0  350.0    60.0   \n...      ...    ...    ...    ...     ...    ...    ...    ...    ...     ...   \n18995    NaN    NaN    NaN    NaN     NaN    NaN    NaN    NaN    NaN     NaN   \n18996    NaN    NaN    NaN    NaN     NaN    NaN    NaN    NaN    NaN     NaN   \n18997    NaN    NaN    NaN    NaN     NaN    NaN    NaN    NaN    NaN     NaN   \n18998    NaN    NaN    NaN    NaN     NaN    NaN    NaN    NaN    NaN     NaN   \n18999    NaN    NaN    NaN    NaN     NaN    NaN    NaN    NaN    NaN     NaN   \n\n       fea.11  fea.12  fea.13  fea.14  fea.15  fea.16  fea.17  fea.18  fea.19  \\\n0      -587.0   810.0   902.0  -140.0  -468.0   -28.0  1016.0  -191.0   358.0   \n1      -605.0   835.0   897.0  -136.0  -473.0   -38.0   989.0  -160.0   346.0   \n2      -580.0   802.0   902.0  -139.0  -454.0   -19.0   992.0  -170.0   345.0   \n3      -579.0   849.0   910.0  -151.0  -460.0   -18.0  1015.0  -185.0   345.0   \n4      -584.0   843.0   917.0  -151.0  -463.0   -12.0   996.0  -209.0   345.0   \n...       ...     ...     ...     ...     ...     ...     ...     ...     ...   \n18995     NaN     NaN     NaN     NaN     NaN     NaN     NaN     NaN     NaN   \n18996     NaN     NaN     NaN     NaN     NaN     NaN     NaN     NaN     NaN   \n18997     NaN     NaN     NaN     NaN     NaN     NaN     NaN     NaN     NaN   \n18998     NaN     NaN     NaN     NaN     NaN     NaN     NaN     NaN     NaN   \n18999     NaN     NaN     NaN     NaN     NaN     NaN     NaN     NaN     NaN   \n\n       fea.20  fea.21  fea.22  fea.23  fea.24  fea.25  fea.26  fea.27  fea.28  \\\n0       895.0  -189.0  -511.0  -782.0  -212.0  -241.0   472.0   938.0  -882.0   \n1       889.0  -215.0  -609.0  -773.0  -202.0  -255.0   509.0   934.0  -878.0   \n2       898.0  -200.0  -606.0  -753.0  -116.0  -272.0   492.0   919.0  -864.0   \n3       888.0  -220.0  -638.0  -718.0  -354.0  -275.0   517.0   919.0  -847.0   \n4       886.0  -204.0  -723.0  -679.0  -220.0  -271.0   525.0   923.0  -862.0   \n...       ...     ...     ...     ...     ...     ...     ...     ...     ...   \n18995     NaN     NaN     NaN     NaN     NaN     NaN     NaN     NaN     NaN   \n18996     NaN     NaN     NaN     NaN     NaN     NaN     NaN     NaN     NaN   \n18997     NaN     NaN     NaN     NaN     NaN     NaN     NaN     NaN     NaN   \n18998     NaN     NaN     NaN     NaN     NaN     NaN     NaN     NaN     NaN   \n18999     NaN     NaN     NaN     NaN     NaN     NaN     NaN     NaN     NaN   \n\n       fea.29  fea.30  fea.31  fea.32  fea.33  fea.37  fea.38  fea.39  fea.40  \\\n0       -61.0   543.0   141.0  -150.0   965.0  -989.0  -158.0    41.0    78.0   \n1       -50.0   515.0   130.0  -179.0   995.0  -991.0  -157.0    43.0    48.0   \n2       -56.0   540.0   122.0  -162.0   946.0  -988.0  -171.0    41.0    68.0   \n3       -66.0   546.0   145.0  -144.0   939.0  -994.0  -159.0    42.0    32.0   \n4       -70.0   531.0   153.0  -167.0   970.0 -1002.0  -161.0    42.0    58.0   \n...       ...     ...     ...     ...     ...     ...     ...     ...     ...   \n18995     NaN     NaN     NaN     NaN     NaN     NaN     NaN     NaN     NaN   \n18996     NaN     NaN     NaN     NaN     NaN     NaN     NaN     NaN     NaN   \n18997     NaN     NaN     NaN     NaN     NaN     NaN     NaN     NaN     NaN   \n18998     NaN     NaN     NaN     NaN     NaN     NaN     NaN     NaN     NaN   \n18999     NaN     NaN     NaN     NaN     NaN     NaN     NaN     NaN     NaN   \n\n       fea.41  fea.42  fea.43  fea.44  fea.45  fea.46  fea.47  fea.48  fea.49  \\\n0       -49.0   -13.0   643.0   104.0   924.0  -717.0    62.0  -691.0    63.0   \n1       -85.0     1.0   644.0   107.0   922.0  -718.0    61.0  -690.0    63.0   \n2       -68.0    -8.0   642.0   109.0   919.0  -719.0    60.0  -689.0    64.0   \n3       -95.0     4.0   640.0   114.0   915.0  -720.0    60.0  -688.0    65.0   \n4      -145.0    17.0   640.0   116.0   910.0  -722.0    59.0  -687.0    65.0   \n...       ...     ...     ...     ...     ...     ...     ...     ...     ...   \n18995     NaN     NaN     NaN     NaN     NaN     NaN     NaN     NaN     NaN   \n18996     NaN     NaN     NaN     NaN     NaN     NaN     NaN     NaN     NaN   \n18997     NaN     NaN     NaN     NaN     NaN     NaN     NaN     NaN     NaN   \n18998     NaN     NaN     NaN     NaN     NaN     NaN     NaN     NaN     NaN   \n18999     NaN     NaN     NaN     NaN     NaN     NaN     NaN     NaN     NaN   \n\n       fea.50  fea.51  fea.52  fea.53  fea.54  fea.55  fea.56  fea.57  fea.58  \\\n0      -268.0   937.0   217.0  -249.0    29.0  -141.0  -469.0  -571.0   292.0   \n1      -273.0   925.0   214.0  -344.0    45.0  -134.0  -469.0  -578.0   285.0   \n2      -276.0   936.0   211.0  -393.0    97.0  -195.0  -465.0  -584.0   276.0   \n3      -272.0   926.0   231.0  -446.0    75.0  -199.0  -464.0  -593.0   265.0   \n4      -293.0   897.0   221.0  -510.0   142.0  -238.0  -460.0  -600.0   251.0   \n...       ...     ...     ...     ...     ...     ...     ...     ...     ...   \n18995     NaN     NaN     NaN     NaN     NaN     NaN     NaN     NaN     NaN   \n18996     NaN     NaN     NaN     NaN     NaN     NaN     NaN     NaN     NaN   \n18997     NaN     NaN     NaN     NaN     NaN     NaN     NaN     NaN     NaN   \n18998     NaN     NaN     NaN     NaN     NaN     NaN     NaN     NaN     NaN   \n18999     NaN     NaN     NaN     NaN     NaN     NaN     NaN     NaN     NaN   \n\n       fea.59  fea.60  fea.61  fea.62  fea.63  fea.64  fea.65  fea.66  fea.67  \\\n0      -314.0   -84.0  -624.0  -711.0   761.0   -63.0   583.0   254.0   101.0   \n1      -316.0   -80.0  -620.0  -714.0   759.0   -62.0   590.0   321.0   184.0   \n2      -317.0   -74.0  -616.0  -717.0   773.0   -41.0   601.0   404.0   191.0   \n3      -319.0   -69.0  -611.0  -721.0   761.0   -13.0   598.0   450.0   203.0   \n4      -320.0   -61.0  -607.0  -725.0   741.0   -11.0   612.0   552.0   179.0   \n...       ...     ...     ...     ...     ...     ...     ...     ...     ...   \n18995     NaN     NaN     NaN     NaN     NaN     NaN     NaN     NaN     NaN   \n18996     NaN     NaN     NaN     NaN     NaN     NaN     NaN     NaN     NaN   \n18997     NaN     NaN     NaN     NaN     NaN     NaN     NaN     NaN     NaN   \n18998     NaN     NaN     NaN     NaN     NaN     NaN     NaN     NaN     NaN   \n18999     NaN     NaN     NaN     NaN     NaN     NaN     NaN     NaN     NaN   \n\n       fea.68  fea.69  fea.70  fea.71  fea.72  fea.73  fea.74  fea.75  fea.76  \\\n0      -205.0  -156.0   631.0  -163.0   655.0  -316.0  -302.0  -617.0  -955.0   \n1      -242.0  -160.0   629.0  -169.0   655.0  -309.0  -304.0  -619.0  -955.0   \n2      -311.0  -165.0   626.0  -178.0   655.0  -302.0  -308.0  -621.0  -966.0   \n3      -283.0  -173.0   620.0  -187.0   655.0  -293.0  -312.0  -622.0  -964.0   \n4      -334.0  -178.0   617.0  -199.0   655.0  -284.0  -318.0  -624.0  -966.0   \n...       ...     ...     ...     ...     ...     ...     ...     ...     ...   \n18995     NaN     NaN     NaN     NaN     NaN     NaN     NaN     NaN     NaN   \n18996     NaN     NaN     NaN     NaN     NaN     NaN     NaN     NaN     NaN   \n18997     NaN     NaN     NaN     NaN     NaN     NaN     NaN     NaN     NaN   \n18998     NaN     NaN     NaN     NaN     NaN     NaN     NaN     NaN     NaN   \n18999     NaN     NaN     NaN     NaN     NaN     NaN     NaN     NaN     NaN   \n\n       fea.77  fea.78  fea.79  fea.80  fea.81  \n0      -264.0    23.0   -29.0    36.0    24.0  \n1      -265.0    19.0   -31.0    47.0     3.0  \n2      -270.0    10.0   -38.0    20.0     0.0  \n3      -269.0    14.0   -51.0    33.0    -1.0  \n4      -262.0    24.0   -40.0     1.0     4.0  \n...       ...     ...     ...     ...     ...  \n18995     NaN     NaN     NaN     NaN     NaN  \n18996     NaN     NaN     NaN     NaN     NaN  \n18997     NaN     NaN     NaN     NaN     NaN  \n18998     NaN     NaN     NaN     NaN     NaN  \n18999     NaN     NaN     NaN     NaN     NaN  \n\n[19000 rows x 78 columns]\n"
    }
   ],
   "source": [
    "dataA_updated_redDim = dataA_updated.drop(['fea.34', 'fea.35', 'fea.36'], axis=1)\n",
    "print(\"\\n Dimension of Reduced Dataset: \", dataA_updated_redDim.shape)\n",
    "print(\"\\n Reduced Dataset: \\n\", dataA_updated_redDim)"
   ]
  },
  {
   "cell_type": "markdown",
   "metadata": {},
   "source": [
    "#### As it can be seen from the above dataset that the Feature.34, Feature.35 and feature.36 has been dropped from the dataset."
   ]
  },
  {
   "cell_type": "code",
   "execution_count": 15,
   "metadata": {
    "tags": []
   },
   "outputs": [
    {
     "output_type": "stream",
     "name": "stdout",
     "text": "\n Number of missing values after feature removal:  67056\n"
    }
   ],
   "source": [
    "# Total missing value check after removing the Features\n",
    "print(\"\\n Number of missing values after feature removal: \", dataA_updated_redDim.isnull().sum().sum())"
   ]
  },
  {
   "cell_type": "markdown",
   "metadata": {},
   "source": [
    "#### The dataset still contains 67056 missing values in the other Feature sets. So we will apply Imputation of missing values learned during lectures. "
   ]
  },
  {
   "cell_type": "markdown",
   "metadata": {},
   "source": [
    "# Imputing Missing Values\n",
    "### 1.A Replace missing data by Mean values for each columns"
   ]
  },
  {
   "cell_type": "code",
   "execution_count": 16,
   "metadata": {},
   "outputs": [],
   "source": [
    "# Using Simple Imputation Technique for replacing the missing values with mean values \n",
    "si = SimpleImputer(strategy='mean')\n",
    "si.fit(dataA_updated_redDim)\n",
    "dataA_Mean_SiImputation = si.transform(dataA_updated_redDim)\n"
   ]
  },
  {
   "cell_type": "code",
   "execution_count": 17,
   "metadata": {
    "tags": []
   },
   "outputs": [
    {
     "output_type": "stream",
     "name": "stdout",
     "text": "\n Data after Mean Imputation: \n [[-153.          414.          939.         ...  -29.\n    36.           24.        ]\n [-150.          420.          939.         ...  -31.\n    47.            3.        ]\n [-160.          432.          941.         ...  -38.\n    20.            0.        ]\n ...\n [-132.81238421  698.26448462  597.54140235 ...  -18.09952269\n     4.67125693   20.72683382]\n [-132.81238421  698.26448462  597.54140235 ...  -18.09952269\n     4.67125693   20.72683382]\n [-132.81238421  698.26448462  597.54140235 ...  -18.09952269\n     4.67125693   20.72683382]]\n"
    }
   ],
   "source": [
    "print(\"\\n Data after Mean Imputation: \\n\", dataA_Mean_SiImputation)"
   ]
  },
  {
   "cell_type": "markdown",
   "metadata": {},
   "source": [
    "### 1.B Using fillna for mean imputation and Checking for Missing Values after Imputation"
   ]
  },
  {
   "cell_type": "code",
   "execution_count": 18,
   "metadata": {},
   "outputs": [],
   "source": [
    "# Copy data in another variable\n",
    "data_forMeanImputing = dataA_updated_redDim.copy(deep = True)"
   ]
  },
  {
   "cell_type": "code",
   "execution_count": 19,
   "metadata": {
    "tags": []
   },
   "outputs": [
    {
     "output_type": "stream",
     "name": "stdout",
     "text": "\n Data after Mean imputation: \n             fea.1       fea.2       fea.3       fea.4        fea.5  \\\n0     -153.000000  414.000000  939.000000 -161.000000  1007.000000   \n1     -150.000000  420.000000  939.000000 -177.000000  1008.000000   \n2     -160.000000  432.000000  941.000000 -162.000000   982.000000   \n3     -171.000000  432.000000  911.000000 -174.000000   999.000000   \n4     -171.000000  698.264485  929.000000 -189.000000  1004.000000   \n...           ...         ...         ...         ...          ...   \n18995 -132.812384  698.264485  597.541402 -307.128462   909.548077   \n18996 -132.812384  698.264485  597.541402 -307.128462   909.548077   \n18997 -132.812384  698.264485  597.541402 -307.128462   909.548077   \n18998 -132.812384  698.264485  597.541402 -307.128462   909.548077   \n18999 -132.812384  698.264485  597.541402 -307.128462   909.548077   \n\n            fea.6       fea.7       fea.8       fea.9      fea.10      fea.11  \\\n0       99.000000 -210.000000  948.000000  333.000000  -19.000000 -587.000000   \n1      103.000000 -207.000000  939.000000  316.000000    9.000000 -605.000000   \n2       98.000000 -198.000000  936.000000  315.000000  -10.000000 -580.000000   \n3      115.000000 -187.000000  918.000000  338.000000   34.000000 -579.000000   \n4      104.000000 -198.000000  939.000000  350.000000   60.000000 -584.000000   \n...           ...         ...         ...         ...         ...         ...   \n18995  -32.760824   61.974363  899.313498   81.650478  356.638752  330.971569   \n18996  -32.760824   61.974363  899.313498   81.650478  356.638752  330.971569   \n18997  -32.760824   61.974363  899.313498   81.650478  356.638752  330.971569   \n18998  -32.760824   61.974363  899.313498   81.650478  356.638752  330.971569   \n18999  -32.760824   61.974363  899.313498   81.650478  356.638752  330.971569   \n\n          fea.12      fea.13     fea.14      fea.15     fea.16       fea.17  \\\n0      810.00000  902.000000 -140.00000 -468.000000 -28.000000  1016.000000   \n1      835.00000  897.000000 -136.00000 -473.000000 -38.000000   989.000000   \n2      802.00000  902.000000 -139.00000 -454.000000 -19.000000   992.000000   \n3      849.00000  910.000000 -151.00000 -460.000000 -18.000000  1015.000000   \n4      843.00000  917.000000 -151.00000 -463.000000 -12.000000   996.000000   \n...          ...         ...        ...         ...        ...          ...   \n18995  584.83313  583.589861  421.62429  -38.719833  71.807768   780.358257   \n18996  584.83313  583.589861  421.62429  -38.719833  71.807768   780.358257   \n18997  584.83313  583.589861  421.62429  -38.719833  71.807768   780.358257   \n18998  584.83313  583.589861  421.62429  -38.719833  71.807768   780.358257   \n18999  584.83313  583.589861  421.62429  -38.719833  71.807768   780.358257   \n\n           fea.18      fea.19      fea.20      fea.21      fea.22      fea.23  \\\n0     -191.000000  358.000000  895.000000 -189.000000 -511.000000 -782.000000   \n1     -160.000000  346.000000  889.000000 -215.000000 -609.000000 -773.000000   \n2     -170.000000  345.000000  898.000000 -200.000000 -606.000000 -753.000000   \n3     -185.000000  345.000000  888.000000 -220.000000 -638.000000 -718.000000   \n4     -209.000000  345.000000  886.000000 -204.000000 -723.000000 -679.000000   \n...           ...         ...         ...         ...         ...         ...   \n18995 -461.605043  274.476843  893.086451  -89.299933 -622.139334  233.764044   \n18996 -461.605043  274.476843  893.086451  -89.299933 -622.139334  233.764044   \n18997 -461.605043  274.476843  893.086451  -89.299933 -622.139334  233.764044   \n18998 -461.605043  274.476843  893.086451  -89.299933 -622.139334  233.764044   \n18999 -461.605043  274.476843  893.086451  -89.299933 -622.139334  233.764044   \n\n           fea.24      fea.25      fea.26      fea.27      fea.28     fea.29  \\\n0     -212.000000 -241.000000  472.000000  938.000000 -882.000000  -61.00000   \n1     -202.000000 -255.000000  509.000000  934.000000 -878.000000  -50.00000   \n2     -116.000000 -272.000000  492.000000  919.000000 -864.000000  -56.00000   \n3     -354.000000 -275.000000  517.000000  919.000000 -847.000000  -66.00000   \n4     -220.000000 -271.000000  525.000000  923.000000 -862.000000  -70.00000   \n...           ...         ...         ...         ...         ...        ...   \n18995 -131.400068 -360.661825  875.943278  269.614934 -570.500166  432.33442   \n18996 -131.400068 -360.661825  875.943278  269.614934 -570.500166  432.33442   \n18997 -131.400068 -360.661825  875.943278  269.614934 -570.500166  432.33442   \n18998 -131.400068 -360.661825  875.943278  269.614934 -570.500166  432.33442   \n18999 -131.400068 -360.661825  875.943278  269.614934 -570.500166  432.33442   \n\n           fea.30      fea.31      fea.32      fea.33       fea.37  \\\n0      543.000000  141.000000 -150.000000  965.000000  -989.000000   \n1      515.000000  130.000000 -179.000000  995.000000  -991.000000   \n2      540.000000  122.000000 -162.000000  946.000000  -988.000000   \n3      546.000000  145.000000 -144.000000  939.000000  -994.000000   \n4      531.000000  153.000000 -167.000000  970.000000 -1002.000000   \n...           ...         ...         ...         ...          ...   \n18995  427.547277 -124.834707  369.141625  646.348062  -862.982169   \n18996  427.547277 -124.834707  369.141625  646.348062  -862.982169   \n18997  427.547277 -124.834707  369.141625  646.348062  -862.982169   \n18998  427.547277 -124.834707  369.141625  646.348062  -862.982169   \n18999  427.547277 -124.834707  369.141625  646.348062  -862.982169   \n\n           fea.38      fea.39    fea.40     fea.41     fea.42      fea.43  \\\n0     -158.000000   41.000000  78.00000  -49.00000 -13.000000  643.000000   \n1     -157.000000   43.000000  48.00000  -85.00000   1.000000  644.000000   \n2     -171.000000   41.000000  68.00000  -68.00000  -8.000000  642.000000   \n3     -159.000000   42.000000  32.00000  -95.00000   4.000000  640.000000   \n4     -161.000000   42.000000  58.00000 -145.00000  17.000000  640.000000   \n...           ...         ...       ...        ...        ...         ...   \n18995 -209.995885  209.005047  -0.55736   -7.67389  -9.025347  489.460306   \n18996 -209.995885  209.005047  -0.55736   -7.67389  -9.025347  489.460306   \n18997 -209.995885  209.005047  -0.55736   -7.67389  -9.025347  489.460306   \n18998 -209.995885  209.005047  -0.55736   -7.67389  -9.025347  489.460306   \n18999 -209.995885  209.005047  -0.55736   -7.67389  -9.025347  489.460306   \n\n           fea.44      fea.45      fea.46     fea.47      fea.48     fea.49  \\\n0      104.000000  924.000000 -717.000000  62.000000 -691.000000  63.000000   \n1      107.000000  922.000000 -718.000000  61.000000 -690.000000  63.000000   \n2      109.000000  919.000000 -719.000000  60.000000 -689.000000  64.000000   \n3      114.000000  915.000000 -720.000000  60.000000 -688.000000  65.000000   \n4      116.000000  910.000000 -722.000000  59.000000 -687.000000  65.000000   \n...           ...         ...         ...        ...         ...        ...   \n18995   83.230153  209.654194  330.984199 -66.071981  290.883086   6.278762   \n18996   83.230153  209.654194  330.984199 -66.071981  290.883086   6.278762   \n18997   83.230153  209.654194  330.984199 -66.071981  290.883086   6.278762   \n18998   83.230153  209.654194  330.984199 -66.071981  290.883086   6.278762   \n18999   83.230153  209.654194  330.984199 -66.071981  290.883086   6.278762   \n\n           fea.50     fea.51      fea.52      fea.53      fea.54     fea.55  \\\n0     -268.000000  937.00000  217.000000 -249.000000   29.000000 -141.00000   \n1     -273.000000  925.00000  214.000000 -344.000000   45.000000 -134.00000   \n2     -276.000000  936.00000  211.000000 -393.000000   97.000000 -195.00000   \n3     -272.000000  926.00000  231.000000 -446.000000   75.000000 -199.00000   \n4     -293.000000  897.00000  221.000000 -510.000000  142.000000 -238.00000   \n...           ...        ...         ...         ...         ...        ...   \n18995 -817.288473  140.02211  294.320568   13.456027   -9.604268   -8.37642   \n18996 -817.288473  140.02211  294.320568   13.456027   -9.604268   -8.37642   \n18997 -817.288473  140.02211  294.320568   13.456027   -9.604268   -8.37642   \n18998 -817.288473  140.02211  294.320568   13.456027   -9.604268   -8.37642   \n18999 -817.288473  140.02211  294.320568   13.456027   -9.604268   -8.37642   \n\n           fea.56      fea.57      fea.58     fea.59      fea.60      fea.61  \\\n0     -469.000000 -571.000000  292.000000 -314.00000  -84.000000 -624.000000   \n1     -469.000000 -578.000000  285.000000 -316.00000  -80.000000 -620.000000   \n2     -465.000000 -584.000000  276.000000 -317.00000  -74.000000 -616.000000   \n3     -464.000000 -593.000000  265.000000 -319.00000  -69.000000 -611.000000   \n4     -460.000000 -600.000000  251.000000 -320.00000  -61.000000 -607.000000   \n...           ...         ...         ...        ...         ...         ...   \n18995  279.558786 -267.420091 -105.234158  204.50107 -135.484611  197.207714   \n18996  279.558786 -267.420091 -105.234158  204.50107 -135.484611  197.207714   \n18997  279.558786 -267.420091 -105.234158  204.50107 -135.484611  197.207714   \n18998  279.558786 -267.420091 -105.234158  204.50107 -135.484611  197.207714   \n18999  279.558786 -267.420091 -105.234158  204.50107 -135.484611  197.207714   \n\n           fea.62      fea.63      fea.64      fea.65      fea.66      fea.67  \\\n0     -711.000000  761.000000  -63.000000  583.000000  254.000000  101.000000   \n1     -714.000000  759.000000  -62.000000  590.000000  321.000000  184.000000   \n2     -717.000000  773.000000  -41.000000  601.000000  404.000000  191.000000   \n3     -721.000000  761.000000  -13.000000  598.000000  450.000000  203.000000   \n4     -725.000000  741.000000  -11.000000  612.000000  552.000000  179.000000   \n...           ...         ...         ...         ...         ...         ...   \n18995  299.903166 -200.212322  555.226532  443.874637    1.923355    1.402535   \n18996  299.903166 -200.212322  555.226532  443.874637    1.923355    1.402535   \n18997  299.903166 -200.212322  555.226532  443.874637    1.923355    1.402535   \n18998  299.903166 -200.212322  555.226532  443.874637    1.923355    1.402535   \n18999  299.903166 -200.212322  555.226532  443.874637    1.923355    1.402535   \n\n           fea.68      fea.69     fea.70      fea.71      fea.72      fea.73  \\\n0     -205.000000 -156.000000  631.00000 -163.000000  655.000000 -316.000000   \n1     -242.000000 -160.000000  629.00000 -169.000000  655.000000 -309.000000   \n2     -311.000000 -165.000000  626.00000 -178.000000  655.000000 -302.000000   \n3     -283.000000 -173.000000  620.00000 -187.000000  655.000000 -293.000000   \n4     -334.000000 -178.000000  617.00000 -199.000000  655.000000 -284.000000   \n...           ...         ...        ...         ...         ...         ...   \n18995   -3.169364  -70.556537  -90.93608 -227.353157 -124.658035  -37.973391   \n18996   -3.169364  -70.556537  -90.93608 -227.353157 -124.658035  -37.973391   \n18997   -3.169364  -70.556537  -90.93608 -227.353157 -124.658035  -37.973391   \n18998   -3.169364  -70.556537  -90.93608 -227.353157 -124.658035  -37.973391   \n18999   -3.169364  -70.556537  -90.93608 -227.353157 -124.658035  -37.973391   \n\n           fea.74      fea.75      fea.76     fea.77      fea.78     fea.79  \\\n0     -302.000000 -617.000000 -955.000000 -264.00000   23.000000 -29.000000   \n1     -304.000000 -619.000000 -955.000000 -265.00000   19.000000 -31.000000   \n2     -308.000000 -621.000000 -966.000000 -270.00000   10.000000 -38.000000   \n3     -312.000000 -622.000000 -964.000000 -269.00000   14.000000 -51.000000   \n4     -318.000000 -624.000000 -966.000000 -262.00000   24.000000 -40.000000   \n...           ...         ...         ...        ...         ...        ...   \n18995  137.400176  374.762934 -880.583804  -47.60778  137.641192 -18.099523   \n18996  137.400176  374.762934 -880.583804  -47.60778  137.641192 -18.099523   \n18997  137.400176  374.762934 -880.583804  -47.60778  137.641192 -18.099523   \n18998  137.400176  374.762934 -880.583804  -47.60778  137.641192 -18.099523   \n18999  137.400176  374.762934 -880.583804  -47.60778  137.641192 -18.099523   \n\n          fea.80     fea.81  \n0      36.000000  24.000000  \n1      47.000000   3.000000  \n2      20.000000   0.000000  \n3      33.000000  -1.000000  \n4       1.000000   4.000000  \n...          ...        ...  \n18995   4.671257  20.726834  \n18996   4.671257  20.726834  \n18997   4.671257  20.726834  \n18998   4.671257  20.726834  \n18999   4.671257  20.726834  \n\n[19000 rows x 78 columns]\n"
    }
   ],
   "source": [
    "# Mean Method for fill na \n",
    "data_forMeanImputing.fillna(data_forMeanImputing.mean(), inplace=True)\n",
    "print(\"\\n Data after Mean imputation: \\n\",data_forMeanImputing)"
   ]
  },
  {
   "cell_type": "code",
   "execution_count": 20,
   "metadata": {
    "tags": []
   },
   "outputs": [
    {
     "output_type": "stream",
     "name": "stdout",
     "text": "\n Missing Value check in the dataset:  0\n"
    }
   ],
   "source": [
    "# Check for missing values in the dataset\n",
    "print(\"\\n Missing Value check in the dataset: \", data_forMeanImputing.isnull().sum().sum())"
   ]
  },
  {
   "cell_type": "code",
   "execution_count": 21,
   "metadata": {
    "tags": []
   },
   "outputs": [
    {
     "output_type": "stream",
     "name": "stdout",
     "text": "fea.1         fea.2         fea.3         fea.4         fea.5  \\\ncount  19000.000000  19000.000000  19000.000000  19000.000000  19000.000000   \nmean    -132.812384    698.264485    597.541402   -307.128462    909.548077   \nstd      275.162567    363.737566    384.063939    179.254138    189.835729   \nmin    -2724.000000   -855.000000  -2196.000000  -1365.000000   -245.000000   \n25%     -172.000000    366.000000    322.750000   -402.000000    868.000000   \n50%     -110.000000    756.000000    597.541402   -277.000000    964.000000   \n75%      -20.000000    977.000000    950.000000   -169.000000   1005.000000   \nmax     1887.000000   2531.000000   2941.000000    609.000000   1833.000000   \n\n              fea.6         fea.7         fea.8         fea.9        fea.10  \\\ncount  19000.000000  19000.000000  19000.000000  19000.000000  19000.000000   \nmean     -32.760824     61.974363    899.313498     81.650478    356.638752   \nstd      248.595835    309.776406    192.105395    320.034742    334.377778   \nmin     -920.000000  -1580.000000   -149.000000  -1624.000000  -1792.000000   \n25%     -139.000000   -123.000000    861.000000   -143.000000    170.000000   \n50%      -32.760824     61.974363    940.000000     68.000000    359.000000   \n75%       40.000000    239.000000    994.000000    303.000000    570.000000   \nmax     1215.000000   1490.000000   1682.000000   1096.000000   2202.000000   \n\n             fea.11        fea.12        fea.13        fea.14        fea.15  \\\ncount  19000.000000  19000.000000  19000.000000  19000.000000  19000.000000   \nmean     330.971569    584.833130    583.589861    421.624290    -38.719833   \nstd      529.666403    274.889595    298.989418    528.066821    482.015391   \nmin    -1545.000000  -1079.000000  -1710.000000  -1120.000000  -1634.000000   \n25%     -125.000000    382.000000    361.000000   -110.000000   -456.000000   \n50%      337.000000    594.000000    594.000000    481.000000    -38.719833   \n75%      770.000000    804.000000    809.000000    863.000000    245.000000   \nmax     2047.000000   2152.000000   2408.000000   2212.000000   2620.000000   \n\n             fea.16        fea.17        fea.18        fea.19        fea.20  \\\ncount  19000.000000  19000.000000  19000.000000  19000.000000  19000.000000   \nmean      71.807768    780.358257   -461.605043    274.476843    893.086451   \nstd      253.440945    285.451810    255.698513    289.947729    210.202643   \nmin    -1089.000000   -289.000000  -1379.000000  -2269.000000   -786.000000   \n25%       11.000000    708.000000   -637.000000    259.000000    881.000000   \n50%       86.000000    895.000000   -412.000000    299.000000    917.000000   \n75%      174.000000    964.000000   -287.000000    352.000000    943.000000   \nmax      878.000000   1653.000000   1292.000000   2335.000000   2466.000000   \n\n             fea.21        fea.22        fea.23        fea.24        fea.25  \\\ncount  19000.000000  19000.000000  19000.000000  19000.000000  19000.000000   \nmean     -89.299933   -622.139334    233.764044   -131.400068   -360.661825   \nstd      214.959699    346.464727    566.656792    443.772537    218.011487   \nmin    -1944.000000  -3172.000000  -2324.000000  -2734.000000  -1873.000000   \n25%     -186.000000   -859.000000   -156.000000   -444.000000   -467.000000   \n50%      -81.000000   -622.139334    233.764044   -131.400068   -353.000000   \n75%       28.000000   -393.000000    695.000000    156.000000   -212.000000   \nmax     1968.000000   2229.000000   2677.000000   2401.000000    711.000000   \n\n             fea.26        fea.27        fea.28        fea.29        fea.30  \\\ncount  19000.000000  19000.000000  19000.000000  19000.000000  19000.000000   \nmean     875.943278    269.614934   -570.500166    432.334420    427.547277   \nstd      247.719619    362.563895    300.011889    485.647768    199.608760   \nmin     -442.000000  -1430.000000  -1933.000000  -1103.000000   -765.000000   \n25%      781.000000     24.000000   -819.000000    -54.000000    290.000000   \n50%      921.000000    247.000000   -623.000000    530.000000    433.000000   \n75%     1028.000000    561.000000   -318.000000    846.000000    562.000000   \nmax     2463.000000   1570.000000    939.000000   1846.000000   1367.000000   \n\n             fea.31        fea.32        fea.33        fea.37        fea.38  \\\ncount  19000.000000  19000.000000  19000.000000  19000.000000  19000.000000   \nmean    -124.834707    369.141625    646.348062   -862.982169   -209.995885   \nstd      360.339327    510.702924    280.263755    200.240826    247.087786   \nmin    -1717.000000  -1234.000000   -784.000000  -1578.000000   -887.000000   \n25%     -323.000000   -107.000000    414.000000   -970.000000   -318.000000   \n50%     -120.000000    377.000000    646.348062   -936.000000   -248.000000   \n75%      144.000000    822.000000    920.000000   -821.000000   -168.000000   \nmax     1270.000000   1943.000000   1849.000000    358.000000   1470.000000   \n\n             fea.39        fea.40       fea.41        fea.42        fea.43  \\\ncount  19000.000000  19000.000000  19000.00000  19000.000000  19000.000000   \nmean     209.005047     -0.557360     -7.67389     -9.025347    489.460306   \nstd      282.195239    609.221391    321.89966    243.393114    337.356480   \nmin    -1067.000000  -3322.000000  -2764.00000  -1293.000000   -767.000000   \n25%       42.000000   -179.000000   -117.00000    -88.000000    450.000000   \n50%      138.000000     -3.000000     -7.67389     -6.000000    575.000000   \n75%      341.000000    162.000000     86.00000     75.000000    650.000000   \nmax     1194.000000   3164.000000   2348.00000   1501.000000   1291.000000   \n\n             fea.44        fea.45        fea.46        fea.47        fea.48  \\\ncount  19000.000000  19000.000000  19000.000000  19000.000000  19000.000000   \nmean      83.230153    209.654194    330.984199    -66.071981    290.883086   \nstd      359.269909    540.702160    510.794201    315.682354    442.765076   \nmin     -985.000000   -975.000000   -876.000000   -705.000000   -702.000000   \n25%     -136.000000   -251.000000     59.000000   -230.000000     24.000000   \n50%      146.000000    249.000000    581.000000    -66.071981    434.000000   \n75%      282.000000    745.000000    719.000000     68.000000    667.000000   \nmax     1162.000000   1214.000000    931.000000    700.000000    855.000000   \n\n             fea.49        fea.50        fea.51        fea.52        fea.53  \\\ncount  19000.000000  19000.000000  19000.000000  19000.000000  19000.000000   \nmean       6.278762   -817.288473    140.022110    294.320568     13.456027   \nstd      460.717761    235.677877    400.814932    224.884294    821.286196   \nmin     -983.000000  -1884.000000  -1516.000000  -1671.000000 -12310.000000   \n25%     -169.000000   -963.000000   -160.000000    169.000000   -256.000000   \n50%      -49.000000   -863.000000    106.000000    273.000000     13.456027   \n75%      350.000000   -713.000000    459.000000    388.000000    253.250000   \nmax      995.000000    833.000000   1808.000000   1851.000000   7570.000000   \n\n             fea.54        fea.55        fea.56        fea.57        fea.58  \\\ncount  19000.000000  19000.000000  19000.000000  19000.000000  19000.000000   \nmean      -9.604268     -8.376420    279.558786   -267.420091   -105.234158   \nstd      507.493555    549.267565    387.868232    539.669067    377.318332   \nmin    -5226.000000  -3541.000000   -924.000000  -1237.000000   -990.000000   \n25%     -161.000000   -211.000000     36.000000   -765.000000   -431.000000   \n50%       -9.604268     -8.376420    342.000000   -397.000000    -48.000000   \n75%      134.000000    181.000000    524.000000    136.250000    194.000000   \nmax     8355.000000   3624.000000   1408.000000   1300.000000   1476.000000   \n\n             fea.59        fea.60        fea.61        fea.62        fea.63  \\\ncount  19000.000000  19000.000000  19000.000000  19000.000000  19000.000000   \nmean     204.501070   -135.484611    197.207714    299.903166   -200.212322   \nstd      451.005102    330.191307    412.505140    543.541861    561.706785   \nmin     -912.000000   -761.000000   -757.000000   -903.000000  -1866.000000   \n25%      -51.000000   -370.000000    -85.000000   -128.000000   -702.000000   \n50%      365.000000   -135.484611    316.000000    555.000000   -200.212322   \n75%      547.000000     49.000000    551.000000    688.000000    293.000000   \nmax      865.000000    649.000000    791.000000   1000.000000   1842.000000   \n\n             fea.64        fea.65        fea.66        fea.67        fea.68  \\\ncount  19000.000000  19000.000000  19000.000000  19000.000000  19000.000000   \nmean     555.226532    443.874637      1.923355      1.402535     -3.169364   \nstd      332.796796    292.749308    999.512103    686.186871    849.317790   \nmin    -1651.000000  -1265.000000 -15657.000000  -4610.000000  -8158.000000   \n25%      352.000000    245.000000   -286.000000   -223.000000   -249.000000   \n50%      588.000000    459.000000      1.000000      1.402535      1.000000   \n75%      784.000000    644.000000    266.000000    229.000000    250.000000   \nmax     1814.000000   1888.000000   9939.000000   7816.000000   6600.000000   \n\n             fea.69        fea.70        fea.71        fea.72        fea.73  \\\ncount  19000.000000  19000.000000  19000.000000  19000.000000  19000.000000   \nmean     -70.556537    -90.936080   -227.353157   -124.658035    -37.973391   \nstd      568.086872    470.279891    371.267609    471.596186    348.527414   \nmin    -1138.000000  -2292.000000  -1345.000000   -953.000000   -853.000000   \n25%     -582.000000   -441.000000   -486.000000   -462.000000   -303.000000   \n50%     -100.500000    -40.000000   -199.000000   -194.000000     12.000000   \n75%      385.000000    226.000000    -36.000000    124.000000    169.000000   \nmax     1333.000000    945.000000   1674.000000    949.000000    775.000000   \n\n             fea.74        fea.75        fea.76        fea.77        fea.78  \\\ncount  19000.000000  19000.000000  19000.000000  19000.000000  19000.000000   \nmean     137.400176    374.762934   -880.583804    -47.607780    137.641192   \nstd      345.537080    571.793219    213.160775    365.396483    243.870787   \nmin     -771.000000   -984.000000  -2562.000000  -5424.000000  -3133.000000   \n25%     -142.000000     69.750000   -980.000000   -270.000000     36.000000   \n50%      231.000000    687.000000   -934.000000    -23.000000    137.641192   \n75%      408.000000    817.000000   -846.000000    216.000000    269.000000   \nmax      759.000000    999.000000    613.000000   4877.000000   3742.000000   \n\n             fea.79        fea.80        fea.81  \ncount  19000.000000  19000.000000  19000.000000  \nmean     -18.099523      4.671257     20.726834  \nstd      762.023864    470.897814    445.805043  \nmin    -7189.000000  -5861.000000  -3051.000000  \n25%     -224.000000   -109.000000   -103.250000  \n50%      -23.000000      4.671257     20.726834  \n75%      173.000000    105.250000    157.000000  \nmax     7497.000000   8675.000000   5821.000000  \n"
    }
   ],
   "source": [
    "# Statistical Table for the Dataset after Mean imputation\n",
    "print(data_forMeanImputing.describe())"
   ]
  },
  {
   "cell_type": "markdown",
   "metadata": {},
   "source": [
    "#### As we can see from the above dataset that the missing values have been filled with mean values after applying simple Imputation  \n",
    "\n",
    "#### It is clear that all the missing values from the dataset are filled with mean values for each column. However there are merits and dmerits of using Imputaion with Mean values they are shown as: \n",
    "\n",
    "Merits: \n",
    "------\n",
    "1. It is easy and faster to implement.  \n",
    "2. It works well with small dataset.\n",
    "\n",
    "Demerits: \n",
    "---------\n",
    "1. It doesn't factor the correlation between the features.\n",
    "2. It doesn't encounter the Uncertainity in the imputation\n",
    "3. It is not very accurate.\n",
    "4. It is susceptible to Outliers\n",
    "\n"
   ]
  },
  {
   "cell_type": "markdown",
   "metadata": {},
   "source": [
    "## 2. Median Imputation"
   ]
  },
  {
   "cell_type": "code",
   "execution_count": 22,
   "metadata": {},
   "outputs": [],
   "source": [
    "# Copy Data for Median Imputation\n",
    "dataA_updatedForMedian = dataA_updated_redDim.copy(deep=True)"
   ]
  },
  {
   "cell_type": "code",
   "execution_count": 23,
   "metadata": {},
   "outputs": [],
   "source": [
    "si_mean = SimpleImputer(strategy='median')\n",
    "si_mean.fit(dataA_updatedForMedian)\n",
    "dataA_SiMedianImputation = si_mean.transform(dataA_updated_redDim)"
   ]
  },
  {
   "cell_type": "code",
   "execution_count": 24,
   "metadata": {
    "tags": []
   },
   "outputs": [
    {
     "output_type": "stream",
     "name": "stdout",
     "text": "\n Data after Median Imputation: \n [[-153.  414.  939. ...  -29.   36.   24.]\n [-150.  420.  939. ...  -31.   47.    3.]\n [-160.  432.  941. ...  -38.   20.    0.]\n ...\n [-100.  811.  574. ...  -29.    4.   19.]\n [-100.  811.  574. ...  -29.    4.   19.]\n [-100.  811.  574. ...  -29.    4.   19.]]\n"
    }
   ],
   "source": [
    "print(\"\\n Data after Median Imputation: \\n\", dataA_SiMedianImputation)\n"
   ]
  },
  {
   "cell_type": "markdown",
   "metadata": {},
   "source": [
    "Merits:\n",
    "-------\n",
    "#### The Median imputation is not susceptible to Outliers so it is a better way for finding missing values\n",
    "\n",
    "Demerits: \n",
    "---------\n",
    "#### It doesn't factor the correlation between the features. \n"
   ]
  },
  {
   "cell_type": "markdown",
   "metadata": {},
   "source": [
    "## 3. Imputation using KNN"
   ]
  },
  {
   "cell_type": "code",
   "execution_count": 25,
   "metadata": {},
   "outputs": [],
   "source": [
    "knnimpute = KNNImputer(n_neighbors=2)\n",
    "dataA_knnImputation = knnimpute.fit_transform(dataA_updated_redDim)"
   ]
  },
  {
   "cell_type": "code",
   "execution_count": 26,
   "metadata": {
    "tags": []
   },
   "outputs": [
    {
     "output_type": "stream",
     "name": "stdout",
     "text": "\n Data after KNN imputation for missing values: \n  [[-153.          414.          939.         ...  -29.\n    36.           24.        ]\n [-150.          420.          939.         ...  -31.\n    47.            3.        ]\n [-160.          432.          941.         ...  -38.\n    20.            0.        ]\n ...\n [-132.81238421  698.26448462  597.54140235 ...  -18.09952269\n     4.67125693   20.72683382]\n [-132.81238421  698.26448462  597.54140235 ...  -18.09952269\n     4.67125693   20.72683382]\n [-132.81238421  698.26448462  597.54140235 ...  -18.09952269\n     4.67125693   20.72683382]]\n"
    }
   ],
   "source": [
    "print(\"\\n Data after KNN imputation for missing values: \\n \", dataA_knnImputation)"
   ]
  },
  {
   "cell_type": "markdown",
   "metadata": {},
   "source": [
    "#### The Imputed Values obatined from KNN based method is very similar to the Imputed values obtained by using Mean Imputation."
   ]
  },
  {
   "cell_type": "markdown",
   "metadata": {},
   "source": [
    "Merits\n",
    "------\n",
    "1. much more accurate than Mean/Median\n",
    "\n",
    "Demerits\n",
    "--------\n",
    "1. It is sensitive to the outliers\n",
    "2. It is computaionally very Expensive \n"
   ]
  },
  {
   "cell_type": "markdown",
   "metadata": {},
   "source": [
    "## 4. Imputation using Linear Interpolation"
   ]
  },
  {
   "cell_type": "code",
   "execution_count": 27,
   "metadata": {},
   "outputs": [],
   "source": [
    "# Copy the data for Linear Interpolation \n",
    "data_linInterpolate = dataA_updated_redDim.copy(deep=True)"
   ]
  },
  {
   "cell_type": "code",
   "execution_count": 28,
   "metadata": {
    "tags": []
   },
   "outputs": [
    {
     "output_type": "stream",
     "name": "stdout",
     "text": "\n Data after Linear Interpolation: \n        fea.1  fea.2  fea.3  fea.4   fea.5  fea.6  fea.7  fea.8  fea.9  fea.10  \\\n0     -153.0  414.0  939.0 -161.0  1007.0   99.0 -210.0  948.0  333.0   -19.0   \n1     -150.0  420.0  939.0 -177.0  1008.0  103.0 -207.0  939.0  316.0     9.0   \n2     -160.0  432.0  941.0 -162.0   982.0   98.0 -198.0  936.0  315.0   -10.0   \n3     -171.0  432.0  911.0 -174.0   999.0  115.0 -187.0  918.0  338.0    34.0   \n4     -171.0  432.0  929.0 -189.0  1004.0  104.0 -198.0  939.0  350.0    60.0   \n...      ...    ...    ...    ...     ...    ...    ...    ...    ...     ...   \n18995    0.0    0.0    0.0    0.0     0.0    0.0    0.0    0.0    0.0     0.0   \n18996    0.0    0.0    0.0    0.0     0.0    0.0    0.0    0.0    0.0     0.0   \n18997    0.0    0.0    0.0    0.0     0.0    0.0    0.0    0.0    0.0     0.0   \n18998    0.0    0.0    0.0    0.0     0.0    0.0    0.0    0.0    0.0     0.0   \n18999    0.0    0.0    0.0    0.0     0.0    0.0    0.0    0.0    0.0     0.0   \n\n       fea.11  fea.12  fea.13  fea.14  fea.15  fea.16  fea.17  fea.18  fea.19  \\\n0      -587.0   810.0   902.0  -140.0  -468.0   -28.0  1016.0  -191.0   358.0   \n1      -605.0   835.0   897.0  -136.0  -473.0   -38.0   989.0  -160.0   346.0   \n2      -580.0   802.0   902.0  -139.0  -454.0   -19.0   992.0  -170.0   345.0   \n3      -579.0   849.0   910.0  -151.0  -460.0   -18.0  1015.0  -185.0   345.0   \n4      -584.0   843.0   917.0  -151.0  -463.0   -12.0   996.0  -209.0   345.0   \n...       ...     ...     ...     ...     ...     ...     ...     ...     ...   \n18995     0.0     0.0     0.0     0.0     0.0     0.0     0.0     0.0     0.0   \n18996     0.0     0.0     0.0     0.0     0.0     0.0     0.0     0.0     0.0   \n18997     0.0     0.0     0.0     0.0     0.0     0.0     0.0     0.0     0.0   \n18998     0.0     0.0     0.0     0.0     0.0     0.0     0.0     0.0     0.0   \n18999     0.0     0.0     0.0     0.0     0.0     0.0     0.0     0.0     0.0   \n\n       fea.20  fea.21  fea.22  fea.23  fea.24  fea.25  fea.26  fea.27  fea.28  \\\n0       895.0  -189.0  -511.0  -782.0  -212.0  -241.0   472.0   938.0  -882.0   \n1       889.0  -215.0  -609.0  -773.0  -202.0  -255.0   509.0   934.0  -878.0   \n2       898.0  -200.0  -606.0  -753.0  -116.0  -272.0   492.0   919.0  -864.0   \n3       888.0  -220.0  -638.0  -718.0  -354.0  -275.0   517.0   919.0  -847.0   \n4       886.0  -204.0  -723.0  -679.0  -220.0  -271.0   525.0   923.0  -862.0   \n...       ...     ...     ...     ...     ...     ...     ...     ...     ...   \n18995     0.0     0.0     0.0     0.0     0.0     0.0     0.0     0.0     0.0   \n18996     0.0     0.0     0.0     0.0     0.0     0.0     0.0     0.0     0.0   \n18997     0.0     0.0     0.0     0.0     0.0     0.0     0.0     0.0     0.0   \n18998     0.0     0.0     0.0     0.0     0.0     0.0     0.0     0.0     0.0   \n18999     0.0     0.0     0.0     0.0     0.0     0.0     0.0     0.0     0.0   \n\n       fea.29  fea.30  fea.31  fea.32  fea.33  fea.37  fea.38  fea.39  fea.40  \\\n0       -61.0   543.0   141.0  -150.0   965.0  -989.0  -158.0    41.0    78.0   \n1       -50.0   515.0   130.0  -179.0   995.0  -991.0  -157.0    43.0    48.0   \n2       -56.0   540.0   122.0  -162.0   946.0  -988.0  -171.0    41.0    68.0   \n3       -66.0   546.0   145.0  -144.0   939.0  -994.0  -159.0    42.0    32.0   \n4       -70.0   531.0   153.0  -167.0   970.0 -1002.0  -161.0    42.0    58.0   \n...       ...     ...     ...     ...     ...     ...     ...     ...     ...   \n18995     0.0     0.0     0.0     0.0     0.0  -970.0  -249.0   -79.0   -13.0   \n18996     0.0     0.0     0.0     0.0     0.0  -970.0  -249.0   -79.0   -13.0   \n18997     0.0     0.0     0.0     0.0     0.0  -970.0  -249.0   -79.0   -13.0   \n18998     0.0     0.0     0.0     0.0     0.0  -970.0  -249.0   -79.0   -13.0   \n18999     0.0     0.0     0.0     0.0     0.0  -970.0  -249.0   -79.0   -13.0   \n\n       fea.41  fea.42  fea.43  fea.44  fea.45  fea.46  fea.47  fea.48  fea.49  \\\n0       -49.0   -13.0   643.0   104.0   924.0  -717.0    62.0  -691.0    63.0   \n1       -85.0     1.0   644.0   107.0   922.0  -718.0    61.0  -690.0    63.0   \n2       -68.0    -8.0   642.0   109.0   919.0  -719.0    60.0  -689.0    64.0   \n3       -95.0     4.0   640.0   114.0   915.0  -720.0    60.0  -688.0    65.0   \n4      -145.0    17.0   640.0   116.0   910.0  -722.0    59.0  -687.0    65.0   \n...       ...     ...     ...     ...     ...     ...     ...     ...     ...   \n18995   -63.0    -3.0   634.0  -472.0   234.0   601.0  -503.0   526.0   331.0   \n18996   -63.0    -3.0   634.0  -472.0   234.0   601.0  -503.0   526.0   331.0   \n18997   -63.0    -3.0   634.0  -472.0   234.0   601.0  -503.0   526.0   331.0   \n18998   -63.0    -3.0   634.0  -472.0   234.0   601.0  -503.0   526.0   331.0   \n18999   -63.0    -3.0   634.0  -472.0   234.0   601.0  -503.0   526.0   331.0   \n\n       fea.50  fea.51  fea.52  fea.53  fea.54  fea.55  fea.56  fea.57  fea.58  \\\n0      -268.0   937.0   217.0  -249.0    29.0  -141.0  -469.0  -571.0   292.0   \n1      -273.0   925.0   214.0  -344.0    45.0  -134.0  -469.0  -578.0   285.0   \n2      -276.0   936.0   211.0  -393.0    97.0  -195.0  -465.0  -584.0   276.0   \n3      -272.0   926.0   231.0  -446.0    75.0  -199.0  -464.0  -593.0   265.0   \n4      -293.0   897.0   221.0  -510.0   142.0  -238.0  -460.0  -600.0   251.0   \n...       ...     ...     ...     ...     ...     ...     ...     ...     ...   \n18995  -999.0    29.0   166.0   -60.0   -33.0    -6.0   380.0  -437.0  -532.0   \n18996  -999.0    29.0   166.0   -60.0   -33.0    -6.0   380.0  -437.0  -532.0   \n18997  -999.0    29.0   166.0   -60.0   -33.0    -6.0   380.0  -437.0  -532.0   \n18998  -999.0    29.0   166.0   -60.0   -33.0    -6.0   380.0  -437.0  -532.0   \n18999  -999.0    29.0   166.0   -60.0   -33.0    -6.0   380.0  -437.0  -532.0   \n\n       fea.59  fea.60  fea.61  fea.62  fea.63  fea.64  fea.65  fea.66  fea.67  \\\n0      -314.0   -84.0  -624.0  -711.0   761.0   -63.0   583.0   254.0   101.0   \n1      -316.0   -80.0  -620.0  -714.0   759.0   -62.0   590.0   321.0   184.0   \n2      -317.0   -74.0  -616.0  -717.0   773.0   -41.0   601.0   404.0   191.0   \n3      -319.0   -69.0  -611.0  -721.0   761.0   -13.0   598.0   450.0   203.0   \n4      -320.0   -61.0  -607.0  -725.0   741.0   -11.0   612.0   552.0   179.0   \n...       ...     ...     ...     ...     ...     ...     ...     ...     ...   \n18995   265.0  -603.0   244.0   712.0  -930.0   310.0   255.0   -74.0    43.0   \n18996   265.0  -603.0   244.0   712.0  -930.0   310.0   255.0   -74.0    43.0   \n18997   265.0  -603.0   244.0   712.0  -930.0   310.0   255.0   -74.0    43.0   \n18998   265.0  -603.0   244.0   712.0  -930.0   310.0   255.0   -74.0    43.0   \n18999   265.0  -603.0   244.0   712.0  -930.0   310.0   255.0   -74.0    43.0   \n\n       fea.68  fea.69  fea.70  fea.71  fea.72  fea.73  fea.74  fea.75  fea.76  \\\n0      -205.0  -156.0   631.0  -163.0   655.0  -316.0  -302.0  -617.0  -955.0   \n1      -242.0  -160.0   629.0  -169.0   655.0  -309.0  -304.0  -619.0  -955.0   \n2      -311.0  -165.0   626.0  -178.0   655.0  -302.0  -308.0  -621.0  -966.0   \n3      -283.0  -173.0   620.0  -187.0   655.0  -293.0  -312.0  -622.0  -964.0   \n4      -334.0  -178.0   617.0  -199.0   655.0  -284.0  -318.0  -624.0  -966.0   \n...       ...     ...     ...     ...     ...     ...     ...     ...     ...   \n18995     4.0   247.0   -24.0  -887.0  -157.0  -611.0    74.0   772.0 -1005.0   \n18996     4.0   247.0   -24.0  -887.0  -157.0  -611.0    74.0   772.0 -1005.0   \n18997     4.0   247.0   -24.0  -887.0  -157.0  -611.0    74.0   772.0 -1005.0   \n18998     4.0   247.0   -24.0  -887.0  -157.0  -611.0    74.0   772.0 -1005.0   \n18999     4.0   247.0   -24.0  -887.0  -157.0  -611.0    74.0   772.0 -1005.0   \n\n       fea.77  fea.78  fea.79  fea.80  fea.81  \n0      -264.0    23.0   -29.0    36.0    24.0  \n1      -265.0    19.0   -31.0    47.0     3.0  \n2      -270.0    10.0   -38.0    20.0     0.0  \n3      -269.0    14.0   -51.0    33.0    -1.0  \n4      -262.0    24.0   -40.0     1.0     4.0  \n...       ...     ...     ...     ...     ...  \n18995   -26.0    16.0   -33.0    -1.0    39.0  \n18996   -26.0    16.0   -33.0    -1.0    39.0  \n18997   -26.0    16.0   -33.0    -1.0    39.0  \n18998   -26.0    16.0   -33.0    -1.0    39.0  \n18999   -26.0    16.0   -33.0    -1.0    39.0  \n\n[19000 rows x 78 columns]\n"
    }
   ],
   "source": [
    "\n",
    "dataA_interpolateImpute = data_linInterpolate.interpolate(method='linear', axis=0)\n",
    "print(\"\\n Data after Linear Interpolation: \\n\",dataA_interpolateImpute)"
   ]
  },
  {
   "cell_type": "code",
   "execution_count": 29,
   "metadata": {
    "tags": []
   },
   "outputs": [
    {
     "output_type": "stream",
     "name": "stdout",
     "text": "\n Missing values after Linear Interpolation:  0\n"
    }
   ],
   "source": [
    "# Check for missing values \n",
    "print(\"\\n Missing values after Linear Interpolation: \",dataA_interpolateImpute.isnull().sum().sum())"
   ]
  },
  {
   "cell_type": "code",
   "execution_count": 30,
   "metadata": {
    "tags": []
   },
   "outputs": [
    {
     "output_type": "stream",
     "name": "stdout",
     "text": "fea.1         fea.2         fea.3         fea.4         fea.5  \\\ncount  19000.000000  19000.000000  19000.000000  19000.000000  19000.000000   \nmean    -124.740553    679.817605    563.032474   -294.196737    871.251316   \nstd      279.158229    401.075991    408.463091    189.569822    263.449167   \nmin    -2724.000000   -855.000000  -2196.000000  -1365.000000   -245.000000   \n25%     -173.000000    334.000000    250.000000   -402.000000    836.000000   \n50%      -92.000000    794.000000    536.000000   -255.000000    964.000000   \n75%        0.000000    983.000000    950.000000   -156.000000   1005.000000   \nmax     1887.000000   2531.000000   2941.000000    609.000000   1833.000000   \n\n              fea.6         fea.7         fea.8         fea.9        fea.10  \\\ncount  19000.000000  19000.000000  19000.000000  19000.000000  19000.000000   \nmean     -31.381421     56.161263    859.519211     81.482737    341.387000   \nstd      248.682889    313.189606    264.930665    323.747494    342.941702   \nmin     -920.000000  -1580.000000   -149.000000  -1624.000000  -1792.000000   \n25%     -139.000000   -126.000000    831.000000   -143.000000    120.000000   \n50%      -30.000000     49.000000    940.000000     22.000000    362.000000   \n75%       40.000000    239.000000    994.000000    307.000000    572.000000   \nmax     1215.000000   1490.000000   1682.000000   1096.000000   2202.000000   \n\n             fea.11        fea.12        fea.13        fea.14        fea.15  \\\ncount  19000.000000  19000.000000  19000.000000  19000.000000  19000.000000   \nmean     311.822211    560.280132    555.819816    397.217289    -38.605474   \nstd      539.116818    299.208213    325.365484    545.722719    488.181989   \nmin    -1545.000000  -1079.000000  -1710.000000  -1120.000000  -1634.000000   \n25%     -132.000000    340.000000    311.000000   -123.000000   -465.000000   \n50%      339.000000    597.000000    597.000000    493.000000      0.000000   \n75%      770.000000    805.000000    811.000000    865.000000    255.000000   \nmax     2047.000000   2152.000000   2408.000000   2212.000000   2620.000000   \n\n             fea.16        fea.17        fea.18        fea.19        fea.20  \\\ncount  19000.000000  19000.000000  19000.000000  19000.000000  19000.000000   \nmean      68.791842    747.583211   -442.217632    265.354658    852.433553   \nstd      253.849945    325.555065    271.947856    296.737216    278.939594   \nmin    -1089.000000   -289.000000  -1379.000000  -2269.000000   -786.000000   \n25%        0.000000    651.000000   -637.000000    229.000000    869.000000   \n50%       86.000000    895.000000   -385.000000    300.000000    917.000000   \n75%      174.000000    964.000000   -268.750000    354.000000    943.000000   \nmax      878.000000   1653.000000   1292.000000   2335.000000   2466.000000   \n\n             fea.21        fea.22        fea.23        fea.24        fea.25  \\\ncount  19000.000000  19000.000000  19000.000000  19000.000000  19000.000000   \nmean     -85.254842   -592.546237    217.029447   -125.687132   -342.562079   \nstd      216.916468    375.072241    579.982702    449.465363    233.402454   \nmin    -1944.000000  -3172.000000  -2324.000000  -2734.000000  -1873.000000   \n25%     -188.000000   -863.000000   -180.000000   -453.000000   -467.000000   \n50%      -61.000000   -628.000000    219.000000   -111.000000   -330.000000   \n75%       29.000000   -339.000000    705.000000    167.000000   -184.000000   \nmax     1968.000000   2229.000000   2677.000000   2401.000000    711.000000   \n\n             fea.26        fea.27        fea.28        fea.29        fea.30  \\\ncount  19000.000000  19000.000000  19000.000000  19000.000000  19000.000000   \nmean     838.253211    261.187526   -546.851079    408.188342    408.774105   \nstd      303.878500    368.717572    321.540375    500.265027    217.718417   \nmin     -442.000000  -1430.000000  -1933.000000  -1103.000000   -765.000000   \n25%      726.000000      0.000000   -820.000000    -56.000000    254.000000   \n50%      922.000000    198.000000   -627.000000    530.000000    433.000000   \n75%     1028.000000    570.000000   -273.000000    846.000000    562.000000   \nmax     2463.000000   1570.000000    939.000000   1846.000000   1367.000000   \n\n             fea.31        fea.32        fea.33        fea.37        fea.38  \\\ncount  19000.000000  19000.000000  19000.000000  19000.000000  19000.000000   \nmean    -118.214237    346.969895    619.289711   -867.336105   -211.582737   \nstd      362.359966    523.044828    309.216433    201.353927    247.207914   \nmin    -1717.000000  -1234.000000   -784.000000  -1578.000000   -887.000000   \n25%     -325.000000   -111.000000    378.000000   -970.000000   -318.000000   \n50%      -82.000000    377.000000    631.000000   -945.000000   -249.000000   \n75%      146.000000    822.000000    921.000000   -821.000000   -168.000000   \nmax     1270.000000   1943.000000   1849.000000    358.000000   1470.000000   \n\n             fea.39        fea.40        fea.41        fea.42        fea.43  \\\ncount  19000.000000  19000.000000  19000.000000  19000.000000  19000.000000   \nmean     197.287789     -1.063579     -9.924789     -8.780211    495.340789   \nstd      287.874380    609.226350    322.085182    243.396025    338.562875   \nmin    -1067.000000  -3322.000000  -2764.000000  -1293.000000   -767.000000   \n25%       18.000000   -179.000000   -117.000000    -88.000000    450.000000   \n50%      122.000000    -13.000000    -15.000000     -3.000000    588.000000   \n75%      341.000000    162.000000     86.000000     75.000000    650.000000   \nmax     1194.000000   3164.000000   2348.000000   1501.000000   1291.000000   \n\n             fea.44        fea.45        fea.46        fea.47        fea.48  \\\ncount  19000.000000  19000.000000  19000.000000  19000.000000  19000.000000   \nmean      60.641053    210.644684    341.969579    -83.848053    300.448632   \nstd      375.642627    540.723553    513.572208    327.271471    445.194955   \nmin     -985.000000   -975.000000   -876.000000   -705.000000   -702.000000   \n25%     -212.000000   -251.000000     59.000000   -353.000000     24.000000   \n50%      146.000000    249.000000    601.000000    -70.000000    488.000000   \n75%      282.000000    745.000000    719.000000     68.000000    667.000000   \nmax     1162.000000   1214.000000    931.000000    700.000000    855.000000   \n\n             fea.49        fea.50        fea.51        fea.52        fea.53  \\\ncount  19000.000000  19000.000000  19000.000000  19000.000000  19000.000000   \nmean      19.489789   -824.681263    135.505263    289.099947     10.467526   \nstd      465.162812    238.396374    401.414628    226.308722    821.414401   \nmin     -983.000000  -1884.000000  -1516.000000  -1671.000000 -12310.000000   \n25%     -169.000000   -977.000000   -160.000000    166.000000   -256.000000   \n50%      -49.000000   -883.000000     48.000000    254.000000      0.000000   \n75%      350.000000   -713.000000    459.000000    388.000000    253.250000   \nmax      995.000000    833.000000   1808.000000   1851.000000   7570.000000   \n\n             fea.54        fea.55        fea.56        fea.57        fea.58  \\\ncount  19000.000000  19000.000000  19000.000000  19000.000000  19000.000000   \nmean     -10.556105     -8.279737    283.645158   -274.319316   -122.596789   \nstd      507.514604    549.267765    388.375499    540.707991    386.623609   \nmin    -5226.000000  -3541.000000   -924.000000  -1237.000000   -990.000000   \n25%     -161.000000   -211.000000     36.000000   -765.000000   -497.000000   \n50%      -21.000000     -6.000000    370.000000   -437.000000    -48.000000   \n75%      134.000000    181.000000    524.000000    136.250000    194.000000   \nmax     8355.000000   3624.000000   1408.000000   1300.000000   1476.000000   \n\n             fea.59        fea.60        fea.61        fea.62        fea.63  \\\ncount  19000.000000  19000.000000  19000.000000  19000.000000  19000.000000   \nmean     206.962421   -154.505105    199.111421    316.669000   -229.903158   \nstd      451.163452    342.866363    412.608712    549.605456    579.915568   \nmin     -912.000000   -761.000000   -757.000000   -903.000000  -1866.000000   \n25%      -51.000000   -471.000000    -85.000000   -128.000000   -734.000000   \n50%      365.000000   -166.000000    316.000000    592.000000   -297.000000   \n75%      547.000000     49.000000    551.000000    703.250000    293.000000   \nmax      865.000000    649.000000    791.000000   1000.000000   1842.000000   \n\n             fea.64        fea.65        fea.66        fea.67        fea.68  \\\ncount  19000.000000  19000.000000  19000.000000  19000.000000  19000.000000   \nmean     545.249684    436.190421     -1.165526      3.094895     -2.877684   \nstd      336.304745    295.117836    999.624646    686.236082    849.318971   \nmin    -1651.000000  -1265.000000 -15657.000000  -4610.000000  -8158.000000   \n25%      311.000000    245.000000   -286.000000   -223.000000   -249.000000   \n50%      588.000000    459.000000    -21.000000     11.000000      4.000000   \n75%      784.000000    644.000000    266.000000    229.000000    250.000000   \nmax     1814.000000   1888.000000   9939.000000   7816.000000   6600.000000   \n\n             fea.69        fea.70        fea.71        fea.72        fea.73  \\\ncount  19000.000000  19000.000000  19000.000000  19000.000000  19000.000000   \nmean     -57.637000    -88.182421   -254.190368   -125.973842    -61.286526   \nstd      571.540611    470.484289    393.476018    471.639469    366.452694   \nmin    -1138.000000  -2292.000000  -1345.000000   -953.000000   -853.000000   \n25%     -582.000000   -441.000000   -545.000000   -462.000000   -377.000000   \n50%     -100.500000    -24.000000   -199.000000   -194.000000     12.000000   \n75%      385.000000    226.000000    -36.000000    124.000000    169.000000   \nmax     1333.000000    945.000000   1674.000000    949.000000    775.000000   \n\n             fea.74        fea.75        fea.76        fea.77        fea.78  \\\ncount  19000.000000  19000.000000  19000.000000  19000.000000  19000.000000   \nmean     134.820789    390.924211   -885.645579    -46.728684    132.692316   \nstd      345.764026    577.153775    214.573281    365.421419    245.052008   \nmin     -771.000000   -984.000000  -2562.000000  -5424.000000  -3133.000000   \n25%     -142.000000     69.750000   -991.000000   -270.000000     17.000000   \n50%      231.000000    700.000000   -944.000000    -23.000000    122.000000   \n75%      408.000000    817.000000   -846.000000    216.000000    269.000000   \nmax      759.000000    999.000000    613.000000   4877.000000   3742.000000   \n\n             fea.79        fea.80        fea.81  \ncount  19000.000000  19000.000000  19000.000000  \nmean     -18.705737      4.440526     21.470263  \nstd      762.029550    470.899147    445.819660  \nmin    -7189.000000  -5861.000000  -3051.000000  \n25%     -224.000000   -109.000000   -103.250000  \n50%      -33.000000     -1.000000     26.000000  \n75%      173.000000    105.250000    157.000000  \nmax     7497.000000   8675.000000   5821.000000  \n"
    }
   ],
   "source": [
    "# Statistical Analysis for the Dataset after Linear Interpolation\n",
    "print(dataA_interpolateImpute.describe())"
   ]
  },
  {
   "cell_type": "markdown",
   "metadata": {},
   "source": [
    "#### From the Statical Analysis obtained after Imputing with Linear Iterpolation we observe that the mean and 2 standard away mean(50%) for Linear Interpolation method values are different from that obtained after Mean/Median Imputation on the dataset."
   ]
  },
  {
   "cell_type": "markdown",
   "metadata": {},
   "source": [
    "## 5. Multivariate Imputation using Iterative Imputation "
   ]
  },
  {
   "cell_type": "code",
   "execution_count": 31,
   "metadata": {},
   "outputs": [],
   "source": [
    "# Initialize the IterativeImputation\n",
    "ii = IterativeImputer(initial_strategy = 'median', random_state=42, imputation_order = 'descending', add_indicator = True)\n",
    "ii.fit(dataA_updated_redDim)\n",
    "dataA_IterImpute = ii.transform(dataA_updated_redDim)\n"
   ]
  },
  {
   "cell_type": "code",
   "execution_count": 32,
   "metadata": {
    "tags": []
   },
   "outputs": [
    {
     "output_type": "stream",
     "name": "stdout",
     "text": "\n Data after Iterative Imputation: \n [[-153.          414.          939.         ...    0.\n     0.            0.        ]\n [-150.          420.          939.         ...    0.\n     0.            0.        ]\n [-160.          432.          941.         ...    0.\n     0.            0.        ]\n ...\n [-100.08514228  729.70155501  605.13668153 ...    1.\n     1.            1.        ]\n [-100.08514228  729.70155501  605.13668153 ...    1.\n     1.            1.        ]\n [-100.08514228  729.70155501  605.13668153 ...    1.\n     1.            1.        ]]\n"
    }
   ],
   "source": [
    "print(\"\\n Data after Iterative Imputation: \\n\", dataA_IterImpute)"
   ]
  },
  {
   "cell_type": "code",
   "execution_count": 33,
   "metadata": {
    "tags": []
   },
   "outputs": [
    {
     "output_type": "stream",
     "name": "stdout",
     "text": "\n Features with missing values before Imputation:  78\n"
    }
   ],
   "source": [
    "# Number of Features with missing values \n",
    "print(\"\\n Features with missing values before Imputation: \",ii.n_features_with_missing_)"
   ]
  },
  {
   "cell_type": "markdown",
   "metadata": {},
   "source": [
    "#### It is evident from the output obtained after Multivariate Imputation using Iterative Imputation that the values are distinct from what we have obtained from Mean, Median, KNN and Linear Interpolation. "
   ]
  },
  {
   "cell_type": "markdown",
   "metadata": {},
   "source": [
    "## 6. [MICE](http://scholar.google.ca/scholar_url?url=https://www.jstatsoft.org/article/view/v045i04/v45i04.pdf&hl=en&sa=X&scisig=AAGBfm2i0J4zMPMI6FJgalzvk2DxTDu65g&nossl=1&oi=scholarr)\n",
    "\n",
    "#### It works by filling missing data multiple times. As given in the [paper](http://scholar.google.ca/scholar_url?url=https://www.jstatsoft.org/article/view/v045i04/v45i04.pdf&hl=en&sa=X&scisig=AAGBfm2i0J4zMPMI6FJgalzvk2DxTDu65g&nossl=1&oi=scholarr) Multiple Imputation is much better than that of Single Imputation as it improves the measure of Uncertainity of the missing values. \n",
    "\n",
    "#### In the library of impyute the algorithm of [MICE] uses LinearRegression for Convergence of missing values for the Dataset."
   ]
  },
  {
   "cell_type": "code",
   "execution_count": 34,
   "metadata": {},
   "outputs": [],
   "source": [
    "dataA_MICEImputation = mice(dataA_updated_redDim.values)"
   ]
  },
  {
   "cell_type": "code",
   "execution_count": 35,
   "metadata": {},
   "outputs": [],
   "source": [
    "print(\"\\n Data after MICE Imputation: \\n\", dataA_MICEImputation)"
   ]
  },
  {
   "cell_type": "markdown",
   "metadata": {},
   "source": [
    " ### Output from MICE Algorithm\n",
    "\n",
    " Data after MICE Imputation: \n",
    " [[-153.          414.          939.         ...  -29.\n",
    "    36.           24.        ]\n",
    " [-150.          420.          939.         ...  -31.\n",
    "    47.            3.        ]\n",
    " [-160.          432.          941.         ...  -38.\n",
    "    20.            0.        ]\n",
    " ...\n",
    " [-130.36492054  705.07225938  589.2263699  ...  -18.09952269\n",
    "     4.67125693   20.72683382]\n",
    " [-130.36492054  705.07225938  589.2263699  ...  -18.09952269\n",
    "     4.67125693   20.72683382]\n",
    " [-130.36492054  705.07225938  589.2263699  ...  -18.09952269\n",
    "     4.67125693   20.72683382]]"
   ]
  },
  {
   "cell_type": "markdown",
   "metadata": {},
   "source": [
    "#### The Output obtained from the above algorithm differs from that of all the above methods and since the basis of this algorithm uses LinearRegression it should have more accurate data for a given value. "
   ]
  },
  {
   "cell_type": "code",
   "execution_count": 36,
   "metadata": {},
   "outputs": [],
   "source": [
    "# Check for Missing values in the dataset using Heatmap\n",
    "plt.subplots(figsize=(20,10))\n",
    "sns.heatmap(dataA_MICEImputation.isnull())\n",
    "plt.show()\n"
   ]
  },
  {
   "cell_type": "markdown",
   "metadata": {},
   "source": [
    "#### As it can be seen from the heat map that there are no missing values in the dataset."
   ]
  },
  {
   "cell_type": "markdown",
   "metadata": {},
   "source": [
    "# Outlier Detection in the Dataset"
   ]
  },
  {
   "cell_type": "code",
   "execution_count": 37,
   "metadata": {
    "tags": []
   },
   "outputs": [
    {
     "output_type": "error",
     "ename": "NameError",
     "evalue": "name 'dataA_MICEImputation' is not defined",
     "traceback": [
      "\u001b[0;31m---------------------------------------------------------------------------\u001b[0m",
      "\u001b[0;31mNameError\u001b[0m                                 Traceback (most recent call last)",
      "\u001b[0;32m<ipython-input-37-a2347e12effb>\u001b[0m in \u001b[0;36m<module>\u001b[0;34m\u001b[0m\n\u001b[1;32m      1\u001b[0m \u001b[0;31m# Total Outlier count in the Dataset\u001b[0m\u001b[0;34m\u001b[0m\u001b[0;34m\u001b[0m\u001b[0;34m\u001b[0m\u001b[0m\n\u001b[0;32m----> 2\u001b[0;31m \u001b[0mdataA_std\u001b[0m \u001b[0;34m=\u001b[0m \u001b[0mdataA_MICEImputation\u001b[0m\u001b[0;34m.\u001b[0m\u001b[0mstd\u001b[0m\u001b[0;34m(\u001b[0m\u001b[0;34m)\u001b[0m\u001b[0;34m\u001b[0m\u001b[0;34m\u001b[0m\u001b[0m\n\u001b[0m\u001b[1;32m      3\u001b[0m \u001b[0mdataA_mean\u001b[0m \u001b[0;34m=\u001b[0m \u001b[0mdataA_MICEImputation\u001b[0m\u001b[0;34m.\u001b[0m\u001b[0mmean\u001b[0m\u001b[0;34m(\u001b[0m\u001b[0;34m)\u001b[0m\u001b[0;34m\u001b[0m\u001b[0;34m\u001b[0m\u001b[0m\n\u001b[1;32m      4\u001b[0m \u001b[0;34m\u001b[0m\u001b[0m\n\u001b[1;32m      5\u001b[0m \u001b[0mdataA_data_outliers\u001b[0m\u001b[0;34m=\u001b[0m\u001b[0mdataA_MICEImputation\u001b[0m\u001b[0;34m.\u001b[0m\u001b[0mapply\u001b[0m\u001b[0;34m(\u001b[0m\u001b[0;32mlambda\u001b[0m \u001b[0my\u001b[0m\u001b[0;34m:\u001b[0m \u001b[0mnp\u001b[0m\u001b[0;34m.\u001b[0m\u001b[0mabs\u001b[0m\u001b[0;34m(\u001b[0m\u001b[0my\u001b[0m\u001b[0;34m-\u001b[0m\u001b[0mdataA_mean\u001b[0m\u001b[0;34m)\u001b[0m\u001b[0;34m>\u001b[0m\u001b[0;34m(\u001b[0m\u001b[0;36m3\u001b[0m\u001b[0;34m*\u001b[0m\u001b[0mdataA_std\u001b[0m\u001b[0;34m)\u001b[0m\u001b[0;34m,\u001b[0m\u001b[0maxis\u001b[0m\u001b[0;34m=\u001b[0m\u001b[0;36m1\u001b[0m\u001b[0;34m)\u001b[0m\u001b[0;34m\u001b[0m\u001b[0;34m\u001b[0m\u001b[0m\n",
      "\u001b[0;31mNameError\u001b[0m: name 'dataA_MICEImputation' is not defined"
     ]
    }
   ],
   "source": [
    "# Total Outlier count in the Dataset \n",
    "dataA_std = dataA_MICEImputation.std()\n",
    "dataA_mean = dataA_MICEImputation.mean()\n",
    "\n",
    "dataA_data_outliers=dataA_MICEImputation.apply(lambda y: np.abs(y-dataA_mean)>(3*dataA_std),axis=1)\n",
    "print(\"Total number of ouliers in each feature are: \\n\",dataA_data_outliers.sum())"
   ]
  },
  {
   "cell_type": "code",
   "execution_count": 38,
   "metadata": {
    "tags": []
   },
   "outputs": [
    {
     "output_type": "error",
     "ename": "NameError",
     "evalue": "name 'dataA_data_outliers' is not defined",
     "traceback": [
      "\u001b[0;31m---------------------------------------------------------------------------\u001b[0m",
      "\u001b[0;31mNameError\u001b[0m                                 Traceback (most recent call last)",
      "\u001b[0;32m<ipython-input-38-a6bfe83679a8>\u001b[0m in \u001b[0;36m<module>\u001b[0;34m\u001b[0m\n\u001b[1;32m      1\u001b[0m \u001b[0;31m# Total Number of outlier in the dataset\u001b[0m\u001b[0;34m\u001b[0m\u001b[0;34m\u001b[0m\u001b[0;34m\u001b[0m\u001b[0m\n\u001b[0;32m----> 2\u001b[0;31m \u001b[0mprint\u001b[0m\u001b[0;34m(\u001b[0m\u001b[0;34m\"Total number of ouliers in the dataset: \"\u001b[0m\u001b[0;34m,\u001b[0m\u001b[0mdataA_data_outliers\u001b[0m\u001b[0;34m.\u001b[0m\u001b[0msum\u001b[0m\u001b[0;34m(\u001b[0m\u001b[0;34m)\u001b[0m\u001b[0;34m.\u001b[0m\u001b[0msum\u001b[0m\u001b[0;34m(\u001b[0m\u001b[0;34m)\u001b[0m\u001b[0;34m)\u001b[0m\u001b[0;34m\u001b[0m\u001b[0;34m\u001b[0m\u001b[0m\n\u001b[0m",
      "\u001b[0;31mNameError\u001b[0m: name 'dataA_data_outliers' is not defined"
     ]
    }
   ],
   "source": [
    "# Total Number of outlier in the dataset \n",
    "print(\"Total number of ouliers in the dataset: \",dataA_data_outliers.sum().sum())"
   ]
  },
  {
   "cell_type": "markdown",
   "metadata": {},
   "source": [
    "#### So as seen from the above analysis that there are exactly 16323 outlier in the dataset. In addition, a count for number of outlier in each feature is shown."
   ]
  },
  {
   "cell_type": "markdown",
   "metadata": {},
   "source": [
    "### 1. Using Z-Score for Outlier Detection"
   ]
  },
  {
   "cell_type": "code",
   "execution_count": 39,
   "metadata": {
    "tags": []
   },
   "outputs": [
    {
     "output_type": "error",
     "ename": "NameError",
     "evalue": "name 'dataA_MICEImputation' is not defined",
     "traceback": [
      "\u001b[0;31m---------------------------------------------------------------------------\u001b[0m",
      "\u001b[0;31mNameError\u001b[0m                                 Traceback (most recent call last)",
      "\u001b[0;32m<ipython-input-39-f60fde513f41>\u001b[0m in \u001b[0;36m<module>\u001b[0;34m\u001b[0m\n\u001b[1;32m      1\u001b[0m \u001b[0;31m# Detect Outlier using ZScore\u001b[0m\u001b[0;34m\u001b[0m\u001b[0;34m\u001b[0m\u001b[0;34m\u001b[0m\u001b[0m\n\u001b[0;32m----> 2\u001b[0;31m \u001b[0moutlier_value\u001b[0m \u001b[0;34m=\u001b[0m \u001b[0mnp\u001b[0m\u001b[0;34m.\u001b[0m\u001b[0mabs\u001b[0m\u001b[0;34m(\u001b[0m\u001b[0mstats\u001b[0m\u001b[0;34m.\u001b[0m\u001b[0mzscore\u001b[0m\u001b[0;34m(\u001b[0m\u001b[0mdataA_MICEImputation\u001b[0m\u001b[0;34m)\u001b[0m\u001b[0;34m)\u001b[0m\u001b[0;34m\u001b[0m\u001b[0;34m\u001b[0m\u001b[0m\n\u001b[0m\u001b[1;32m      3\u001b[0m \u001b[0mprint\u001b[0m\u001b[0;34m(\u001b[0m\u001b[0;34m\"Outlier: \\n\"\u001b[0m\u001b[0;34m,\u001b[0m\u001b[0moutlier_value\u001b[0m\u001b[0;34m)\u001b[0m\u001b[0;34m\u001b[0m\u001b[0;34m\u001b[0m\u001b[0m\n",
      "\u001b[0;31mNameError\u001b[0m: name 'dataA_MICEImputation' is not defined"
     ]
    }
   ],
   "source": [
    "# Detect Outlier using ZScore\n",
    "outlier_value = np.abs(stats.zscore(dataA_MICEImputation))\n",
    "print(\"Outlier: \\n\",outlier_value)"
   ]
  },
  {
   "cell_type": "code",
   "execution_count": 40,
   "metadata": {
    "tags": []
   },
   "outputs": [
    {
     "output_type": "error",
     "ename": "NameError",
     "evalue": "name 'outlier_value' is not defined",
     "traceback": [
      "\u001b[0;31m---------------------------------------------------------------------------\u001b[0m",
      "\u001b[0;31mNameError\u001b[0m                                 Traceback (most recent call last)",
      "\u001b[0;32m<ipython-input-40-65c019658be2>\u001b[0m in \u001b[0;36m<module>\u001b[0;34m\u001b[0m\n\u001b[1;32m      1\u001b[0m \u001b[0mstandard_thershold\u001b[0m \u001b[0;34m=\u001b[0m \u001b[0;36m3\u001b[0m\u001b[0;34m\u001b[0m\u001b[0;34m\u001b[0m\u001b[0m\n\u001b[0;32m----> 2\u001b[0;31m \u001b[0mprint\u001b[0m\u001b[0;34m(\u001b[0m\u001b[0;34m\"\\n Position of Outliers in the Dataset: \\n\"\u001b[0m\u001b[0;34m,\u001b[0m\u001b[0mnp\u001b[0m\u001b[0;34m.\u001b[0m\u001b[0mwhere\u001b[0m\u001b[0;34m(\u001b[0m\u001b[0moutlier_value\u001b[0m\u001b[0;34m>\u001b[0m\u001b[0mstandard_thershold\u001b[0m\u001b[0;34m)\u001b[0m\u001b[0;34m)\u001b[0m\u001b[0;34m\u001b[0m\u001b[0;34m\u001b[0m\u001b[0m\n\u001b[0m",
      "\u001b[0;31mNameError\u001b[0m: name 'outlier_value' is not defined"
     ]
    }
   ],
   "source": [
    "standard_thershold = 3 \n",
    "print(\"\\n Position of Outliers in the Dataset: \\n\",np.where(outlier_value>standard_thershold))"
   ]
  },
  {
   "cell_type": "code",
   "execution_count": 41,
   "metadata": {
    "tags": []
   },
   "outputs": [
    {
     "output_type": "error",
     "ename": "NameError",
     "evalue": "name 'outlier_value' is not defined",
     "traceback": [
      "\u001b[0;31m---------------------------------------------------------------------------\u001b[0m",
      "\u001b[0;31mNameError\u001b[0m                                 Traceback (most recent call last)",
      "\u001b[0;32m<ipython-input-41-ac0d781f7aba>\u001b[0m in \u001b[0;36m<module>\u001b[0;34m\u001b[0m\n\u001b[0;32m----> 1\u001b[0;31m \u001b[0mprint\u001b[0m\u001b[0;34m(\u001b[0m\u001b[0;34m\"\\n Outlier at row 60 and column 1: \"\u001b[0m\u001b[0;34m,\u001b[0m\u001b[0moutlier_value\u001b[0m\u001b[0;34m[\u001b[0m\u001b[0;36m60\u001b[0m\u001b[0;34m]\u001b[0m\u001b[0;34m[\u001b[0m\u001b[0;36m1\u001b[0m\u001b[0;34m]\u001b[0m\u001b[0;34m)\u001b[0m\u001b[0;34m\u001b[0m\u001b[0;34m\u001b[0m\u001b[0m\n\u001b[0m",
      "\u001b[0;31mNameError\u001b[0m: name 'outlier_value' is not defined"
     ]
    }
   ],
   "source": [
    "print(\"\\n Outlier at row 60 and column 1: \",outlier_value[60][1])"
   ]
  },
  {
   "cell_type": "markdown",
   "metadata": {},
   "source": [
    "#### The above says that there is an outlier at row: 60 in column: 1."
   ]
  },
  {
   "cell_type": "markdown",
   "metadata": {},
   "source": [
    "### 2. IQR Method for Outlier detection "
   ]
  },
  {
   "cell_type": "code",
   "execution_count": 42,
   "metadata": {
    "tags": []
   },
   "outputs": [
    {
     "output_type": "error",
     "ename": "NameError",
     "evalue": "name 'dataA_MICEImputation' is not defined",
     "traceback": [
      "\u001b[0;31m---------------------------------------------------------------------------\u001b[0m",
      "\u001b[0;31mNameError\u001b[0m                                 Traceback (most recent call last)",
      "\u001b[0;32m<ipython-input-42-4cb632b43379>\u001b[0m in \u001b[0;36m<module>\u001b[0;34m\u001b[0m\n\u001b[1;32m      1\u001b[0m \u001b[0;31m# find the Quartiles for the dataset\u001b[0m\u001b[0;34m\u001b[0m\u001b[0;34m\u001b[0m\u001b[0;34m\u001b[0m\u001b[0m\n\u001b[0;32m----> 2\u001b[0;31m \u001b[0mQ1\u001b[0m \u001b[0;34m=\u001b[0m \u001b[0mdataA_MICEImputation\u001b[0m\u001b[0;34m.\u001b[0m\u001b[0mquantile\u001b[0m\u001b[0;34m(\u001b[0m\u001b[0;36m0.25\u001b[0m\u001b[0;34m)\u001b[0m\u001b[0;34m\u001b[0m\u001b[0;34m\u001b[0m\u001b[0m\n\u001b[0m\u001b[1;32m      3\u001b[0m \u001b[0mQ3\u001b[0m \u001b[0;34m=\u001b[0m \u001b[0mdataA_MICEImputation\u001b[0m\u001b[0;34m.\u001b[0m\u001b[0mquantile\u001b[0m\u001b[0;34m(\u001b[0m\u001b[0;36m0.75\u001b[0m\u001b[0;34m)\u001b[0m\u001b[0;34m\u001b[0m\u001b[0;34m\u001b[0m\u001b[0m\n\u001b[1;32m      4\u001b[0m \u001b[0mIQR\u001b[0m \u001b[0;34m=\u001b[0m \u001b[0mQ3\u001b[0m \u001b[0;34m-\u001b[0m \u001b[0mQ1\u001b[0m\u001b[0;34m\u001b[0m\u001b[0;34m\u001b[0m\u001b[0m\n\u001b[1;32m      5\u001b[0m \u001b[0mprint\u001b[0m\u001b[0;34m(\u001b[0m\u001b[0;34m\"The InterQuartile Range for Each Features is: \\n \"\u001b[0m\u001b[0;34m,\u001b[0m \u001b[0mIQR\u001b[0m\u001b[0;34m)\u001b[0m\u001b[0;34m\u001b[0m\u001b[0;34m\u001b[0m\u001b[0m\n",
      "\u001b[0;31mNameError\u001b[0m: name 'dataA_MICEImputation' is not defined"
     ]
    }
   ],
   "source": [
    "# find the Quartiles for the dataset \n",
    "Q1 = dataA_MICEImputation.quantile(0.25)\n",
    "Q3 = dataA_MICEImputation.quantile(0.75)\n",
    "IQR = Q3 - Q1\n",
    "print(\"The InterQuartile Range for Each Features is: \\n \", IQR)"
   ]
  },
  {
   "cell_type": "code",
   "execution_count": 43,
   "metadata": {
    "tags": []
   },
   "outputs": [
    {
     "output_type": "error",
     "ename": "NameError",
     "evalue": "name 'dataA_MICEImputation' is not defined",
     "traceback": [
      "\u001b[0;31m---------------------------------------------------------------------------\u001b[0m",
      "\u001b[0;31mNameError\u001b[0m                                 Traceback (most recent call last)",
      "\u001b[0;32m<ipython-input-43-d8ad9941fc75>\u001b[0m in \u001b[0;36m<module>\u001b[0;34m\u001b[0m\n\u001b[1;32m      1\u001b[0m \u001b[0;31m# Detect the Oultiers using IQR technique\u001b[0m\u001b[0;34m\u001b[0m\u001b[0;34m\u001b[0m\u001b[0;34m\u001b[0m\u001b[0m\n\u001b[0;32m----> 2\u001b[0;31m \u001b[0mprint\u001b[0m\u001b[0;34m(\u001b[0m\u001b[0;34m\"\\n Outliers in the complete dataset: \\n\"\u001b[0m\u001b[0;34m,\u001b[0m \u001b[0;34m(\u001b[0m\u001b[0mdataA_MICEImputation\u001b[0m \u001b[0;34m<\u001b[0m \u001b[0;34m(\u001b[0m\u001b[0mQ1\u001b[0m \u001b[0;34m-\u001b[0m \u001b[0;36m1.5\u001b[0m \u001b[0;34m*\u001b[0m \u001b[0mIQR\u001b[0m\u001b[0;34m)\u001b[0m\u001b[0;34m)\u001b[0m\u001b[0;34m|\u001b[0m\u001b[0;34m(\u001b[0m\u001b[0mdataA_MICEImputation\u001b[0m \u001b[0;34m>\u001b[0m \u001b[0;34m(\u001b[0m\u001b[0mQ3\u001b[0m \u001b[0;34m+\u001b[0m \u001b[0;36m1.5\u001b[0m \u001b[0;34m*\u001b[0m \u001b[0mIQR\u001b[0m\u001b[0;34m)\u001b[0m\u001b[0;34m)\u001b[0m\u001b[0;34m)\u001b[0m\u001b[0;34m\u001b[0m\u001b[0;34m\u001b[0m\u001b[0m\n\u001b[0m",
      "\u001b[0;31mNameError\u001b[0m: name 'dataA_MICEImputation' is not defined"
     ]
    }
   ],
   "source": [
    "# Detect the Oultiers using IQR technique\n",
    "print(\"\\n Outliers in the complete dataset: \\n\", (dataA_MICEImputation < (Q1 - 1.5 * IQR))|(dataA_MICEImputation > (Q3 + 1.5 * IQR)))"
   ]
  },
  {
   "cell_type": "markdown",
   "metadata": {},
   "source": [
    "#### The value where there is a True label indicated the presence of an Outlier and False when there are no Outliers."
   ]
  },
  {
   "cell_type": "markdown",
   "metadata": {},
   "source": [
    "### 3. Outlier detection using IsolationForest"
   ]
  },
  {
   "cell_type": "code",
   "execution_count": 44,
   "metadata": {},
   "outputs": [
    {
     "output_type": "error",
     "ename": "NameError",
     "evalue": "name 'IsolationForest' is not defined",
     "traceback": [
      "\u001b[0;31m---------------------------------------------------------------------------\u001b[0m",
      "\u001b[0;31mNameError\u001b[0m                                 Traceback (most recent call last)",
      "\u001b[0;32m<ipython-input-44-44ed75826cee>\u001b[0m in \u001b[0;36m<module>\u001b[0;34m\u001b[0m\n\u001b[1;32m      1\u001b[0m \u001b[0;31m# IsolationForest Initialization\u001b[0m\u001b[0;34m\u001b[0m\u001b[0;34m\u001b[0m\u001b[0;34m\u001b[0m\u001b[0m\n\u001b[0;32m----> 2\u001b[0;31m \u001b[0misoforest\u001b[0m \u001b[0;34m=\u001b[0m \u001b[0mIsolationForest\u001b[0m\u001b[0;34m(\u001b[0m\u001b[0mmax_samples\u001b[0m\u001b[0;34m=\u001b[0m\u001b[0;34m\"auto\"\u001b[0m\u001b[0;34m,\u001b[0m \u001b[0mn_jobs\u001b[0m\u001b[0;34m=\u001b[0m\u001b[0;34m-\u001b[0m\u001b[0;36m1\u001b[0m\u001b[0;34m)\u001b[0m\u001b[0;34m\u001b[0m\u001b[0;34m\u001b[0m\u001b[0m\n\u001b[0m\u001b[1;32m      3\u001b[0m \u001b[0mdataA_outliers_isoforest\u001b[0m \u001b[0;34m=\u001b[0m \u001b[0misoforest\u001b[0m\u001b[0;34m.\u001b[0m\u001b[0mfit_predict\u001b[0m\u001b[0;34m(\u001b[0m\u001b[0mdataA_MICEImputation\u001b[0m\u001b[0;34m)\u001b[0m\u001b[0;34m\u001b[0m\u001b[0;34m\u001b[0m\u001b[0m\n",
      "\u001b[0;31mNameError\u001b[0m: name 'IsolationForest' is not defined"
     ]
    }
   ],
   "source": [
    "# IsolationForest Initialization \n",
    "isoforest = IsolationForest(max_samples=\"auto\", n_jobs=-1)\n",
    "dataA_outliers_isoforest = isoforest.fit_predict(dataA_MICEImputation)"
   ]
  },
  {
   "cell_type": "code",
   "execution_count": 45,
   "metadata": {
    "tags": []
   },
   "outputs": [
    {
     "output_type": "error",
     "ename": "NameError",
     "evalue": "name 'dataA_outliers_isoforest' is not defined",
     "traceback": [
      "\u001b[0;31m---------------------------------------------------------------------------\u001b[0m",
      "\u001b[0;31mNameError\u001b[0m                                 Traceback (most recent call last)",
      "\u001b[0;32m<ipython-input-45-3585bb8855bb>\u001b[0m in \u001b[0;36m<module>\u001b[0;34m\u001b[0m\n\u001b[0;32m----> 1\u001b[0;31m \u001b[0mprint\u001b[0m\u001b[0;34m(\u001b[0m\u001b[0;34m\"\\n Outliers from IsolationForest: \\n\"\u001b[0m\u001b[0;34m,\u001b[0m \u001b[0mdataA_outliers_isoforest\u001b[0m\u001b[0;34m)\u001b[0m\u001b[0;34m\u001b[0m\u001b[0;34m\u001b[0m\u001b[0m\n\u001b[0m",
      "\u001b[0;31mNameError\u001b[0m: name 'dataA_outliers_isoforest' is not defined"
     ]
    }
   ],
   "source": [
    "print(\"\\n Outliers from IsolationForest: \\n\", dataA_outliers_isoforest)"
   ]
  },
  {
   "cell_type": "code",
   "execution_count": 46,
   "metadata": {},
   "outputs": [
    {
     "output_type": "error",
     "ename": "NameError",
     "evalue": "name 'dataA_outliers_isoforest' is not defined",
     "traceback": [
      "\u001b[0;31m---------------------------------------------------------------------------\u001b[0m",
      "\u001b[0;31mNameError\u001b[0m                                 Traceback (most recent call last)",
      "\u001b[0;32m<ipython-input-46-67d0bd0401f4>\u001b[0m in \u001b[0;36m<module>\u001b[0;34m\u001b[0m\n\u001b[0;32m----> 1\u001b[0;31m \u001b[0mprint\u001b[0m\u001b[0;34m(\u001b[0m\u001b[0;34m\"Shape of IsolationForest Dataset: \"\u001b[0m\u001b[0;34m,\u001b[0m\u001b[0mdataA_outliers_isoforest\u001b[0m\u001b[0;34m.\u001b[0m\u001b[0mshape\u001b[0m\u001b[0;34m)\u001b[0m\u001b[0;34m\u001b[0m\u001b[0;34m\u001b[0m\u001b[0m\n\u001b[0m",
      "\u001b[0;31mNameError\u001b[0m: name 'dataA_outliers_isoforest' is not defined"
     ]
    }
   ],
   "source": [
    "print(\"Shape of IsolationForest Dataset: \",dataA_outliers_isoforest.shape)"
   ]
  },
  {
   "cell_type": "code",
   "execution_count": 47,
   "metadata": {
    "tags": []
   },
   "outputs": [
    {
     "output_type": "error",
     "ename": "NameError",
     "evalue": "name 'dataA_outliers_isoforest' is not defined",
     "traceback": [
      "\u001b[0;31m---------------------------------------------------------------------------\u001b[0m",
      "\u001b[0;31mNameError\u001b[0m                                 Traceback (most recent call last)",
      "\u001b[0;32m<ipython-input-47-69bd675c373e>\u001b[0m in \u001b[0;36m<module>\u001b[0;34m\u001b[0m\n\u001b[1;32m      1\u001b[0m \u001b[0;31m# Display all the labels from IsolationForest\u001b[0m\u001b[0;34m\u001b[0m\u001b[0;34m\u001b[0m\u001b[0;34m\u001b[0m\u001b[0m\n\u001b[1;32m      2\u001b[0m \u001b[0mcount\u001b[0m \u001b[0;34m=\u001b[0m \u001b[0;36m0\u001b[0m\u001b[0;34m\u001b[0m\u001b[0;34m\u001b[0m\u001b[0m\n\u001b[0;32m----> 3\u001b[0;31m \u001b[0;32mfor\u001b[0m \u001b[0mvalue\u001b[0m \u001b[0;32min\u001b[0m \u001b[0mrange\u001b[0m\u001b[0;34m(\u001b[0m\u001b[0mdataA_outliers_isoforest\u001b[0m\u001b[0;34m.\u001b[0m\u001b[0mshape\u001b[0m\u001b[0;34m[\u001b[0m\u001b[0;36m0\u001b[0m\u001b[0;34m]\u001b[0m\u001b[0;34m)\u001b[0m\u001b[0;34m:\u001b[0m\u001b[0;34m\u001b[0m\u001b[0;34m\u001b[0m\u001b[0m\n\u001b[0m\u001b[1;32m      4\u001b[0m     \u001b[0;32mif\u001b[0m \u001b[0mdataA_outliers_isoforest\u001b[0m\u001b[0;34m[\u001b[0m\u001b[0mvalue\u001b[0m\u001b[0;34m]\u001b[0m \u001b[0;34m==\u001b[0m \u001b[0;34m-\u001b[0m\u001b[0;36m1\u001b[0m\u001b[0;34m:\u001b[0m\u001b[0;34m\u001b[0m\u001b[0;34m\u001b[0m\u001b[0m\n\u001b[1;32m      5\u001b[0m         \u001b[0msys\u001b[0m\u001b[0;34m.\u001b[0m\u001b[0mstderr\u001b[0m\u001b[0;34m.\u001b[0m\u001b[0mwrite\u001b[0m\u001b[0;34m(\u001b[0m\u001b[0;34m\"\\n Outliers for each label: {0}\"\u001b[0m\u001b[0;34m.\u001b[0m\u001b[0mformat\u001b[0m\u001b[0;34m(\u001b[0m\u001b[0mdataA_outliers_isoforest\u001b[0m\u001b[0;34m[\u001b[0m\u001b[0mvalue\u001b[0m\u001b[0;34m]\u001b[0m\u001b[0;34m)\u001b[0m\u001b[0;34m)\u001b[0m\u001b[0;34m\u001b[0m\u001b[0;34m\u001b[0m\u001b[0m\n",
      "\u001b[0;31mNameError\u001b[0m: name 'dataA_outliers_isoforest' is not defined"
     ]
    }
   ],
   "source": [
    "# Display all the labels from IsolationForest\n",
    "count = 0\n",
    "for value in range(dataA_outliers_isoforest.shape[0]):\n",
    "    if dataA_outliers_isoforest[value] == -1:\n",
    "        sys.stderr.write(\"\\n Outliers for each label: {0}\".format(dataA_outliers_isoforest[value]))\n",
    "        sys.stderr.flush()\n",
    "        count += 1\n",
    "\n",
    "print(\"\\n Total number Outliers detected by IsolationForest is: \", count)"
   ]
  },
  {
   "cell_type": "markdown",
   "metadata": {},
   "source": [
    "#### The label given by Isolation Forest method gives us whether a Outlier is present or not. If the label is -1 then there is a outlier whereas when the label is +1 then there are no outlier or it is an inlier. As seen from the above analysis that IsolationForest gives us the total number of Outliers in the dataset which is 1158 and it is far less than Z-score and IQR method. "
   ]
  },
  {
   "cell_type": "markdown",
   "metadata": {},
   "source": [
    "## Removing Outliers from the Imputed Dataset"
   ]
  },
  {
   "cell_type": "code",
   "execution_count": 48,
   "metadata": {},
   "outputs": [
    {
     "output_type": "error",
     "ename": "NameError",
     "evalue": "name 'dataA_MICEImputation' is not defined",
     "traceback": [
      "\u001b[0;31m---------------------------------------------------------------------------\u001b[0m",
      "\u001b[0;31mNameError\u001b[0m                                 Traceback (most recent call last)",
      "\u001b[0;32m<ipython-input-48-f825218416ba>\u001b[0m in \u001b[0;36m<module>\u001b[0;34m\u001b[0m\n\u001b[1;32m      1\u001b[0m \u001b[0;31m# Remove outliers in the MICE Obtained Dataset\u001b[0m\u001b[0;34m\u001b[0m\u001b[0;34m\u001b[0m\u001b[0;34m\u001b[0m\u001b[0m\n\u001b[0;32m----> 2\u001b[0;31m \u001b[0mdataA_OutlierRemovedMice\u001b[0m \u001b[0;34m=\u001b[0m \u001b[0mdataA_MICEImputation\u001b[0m\u001b[0;34m[\u001b[0m\u001b[0;34m(\u001b[0m\u001b[0mz\u001b[0m \u001b[0;34m<\u001b[0m \u001b[0;36m3\u001b[0m\u001b[0;34m)\u001b[0m\u001b[0;34m.\u001b[0m\u001b[0mall\u001b[0m\u001b[0;34m(\u001b[0m\u001b[0maxis\u001b[0m\u001b[0;34m=\u001b[0m\u001b[0;36m1\u001b[0m\u001b[0;34m)\u001b[0m\u001b[0;34m]\u001b[0m\u001b[0;34m\u001b[0m\u001b[0;34m\u001b[0m\u001b[0m\n\u001b[0m",
      "\u001b[0;31mNameError\u001b[0m: name 'dataA_MICEImputation' is not defined"
     ]
    }
   ],
   "source": [
    "# Remove outliers in the MICE Obtained Dataset\n",
    "dataA_OutlierRemovedMice = dataA_MICEImputation[(z < 3).all(axis=1)]"
   ]
  },
  {
   "cell_type": "markdown",
   "metadata": {},
   "source": [
    "#### In the above code the outliers have been removed from MICE Imputed dataset."
   ]
  },
  {
   "cell_type": "markdown",
   "metadata": {},
   "source": [
    "# Feature.9 and Feature.24 plot\n",
    "### Before Normalization"
   ]
  },
  {
   "cell_type": "code",
   "execution_count": 50,
   "metadata": {},
   "outputs": [
    {
     "output_type": "error",
     "ename": "NameError",
     "evalue": "name 'dataA_OutlierRemovedMice' is not defined",
     "traceback": [
      "\u001b[0;31m---------------------------------------------------------------------------\u001b[0m",
      "\u001b[0;31mNameError\u001b[0m                                 Traceback (most recent call last)",
      "\u001b[0;32m<ipython-input-50-913edaca3d37>\u001b[0m in \u001b[0;36m<module>\u001b[0;34m\u001b[0m\n\u001b[1;32m      1\u001b[0m \u001b[0;31m# Plot of Feature.9 with Linear Interpolated imputed dataset\u001b[0m\u001b[0;34m\u001b[0m\u001b[0;34m\u001b[0m\u001b[0;34m\u001b[0m\u001b[0m\n\u001b[0;32m----> 2\u001b[0;31m \u001b[0mn\u001b[0m\u001b[0;34m,\u001b[0m \u001b[0mbins\u001b[0m\u001b[0;34m,\u001b[0m \u001b[0mpatches\u001b[0m \u001b[0;34m=\u001b[0m \u001b[0mplt\u001b[0m\u001b[0;34m.\u001b[0m\u001b[0mhist\u001b[0m\u001b[0;34m(\u001b[0m\u001b[0mx\u001b[0m\u001b[0;34m=\u001b[0m\u001b[0mdataA_OutlierRemovedMice\u001b[0m\u001b[0;34m[\u001b[0m\u001b[0;34m:\u001b[0m\u001b[0;34m,\u001b[0m \u001b[0;36m8\u001b[0m\u001b[0;34m]\u001b[0m\u001b[0;34m,\u001b[0m \u001b[0mbins\u001b[0m\u001b[0;34m=\u001b[0m\u001b[0;34m'auto'\u001b[0m\u001b[0;34m,\u001b[0m \u001b[0mcolor\u001b[0m\u001b[0;34m=\u001b[0m\u001b[0;34m'm'\u001b[0m\u001b[0;34m,\u001b[0m \u001b[0malpha\u001b[0m\u001b[0;34m=\u001b[0m\u001b[0;36m0.7\u001b[0m\u001b[0;34m,\u001b[0m \u001b[0mrwidth\u001b[0m\u001b[0;34m=\u001b[0m\u001b[0;36m0.85\u001b[0m\u001b[0;34m)\u001b[0m\u001b[0;34m\u001b[0m\u001b[0;34m\u001b[0m\u001b[0m\n\u001b[0m\u001b[1;32m      3\u001b[0m \u001b[0mplt\u001b[0m\u001b[0;34m.\u001b[0m\u001b[0mgrid\u001b[0m\u001b[0;34m(\u001b[0m\u001b[0maxis\u001b[0m\u001b[0;34m=\u001b[0m\u001b[0;34m'y'\u001b[0m\u001b[0;34m,\u001b[0m \u001b[0malpha\u001b[0m\u001b[0;34m=\u001b[0m\u001b[0;36m0.75\u001b[0m\u001b[0;34m)\u001b[0m\u001b[0;34m\u001b[0m\u001b[0;34m\u001b[0m\u001b[0m\n\u001b[1;32m      4\u001b[0m \u001b[0mplt\u001b[0m\u001b[0;34m.\u001b[0m\u001b[0mtitle\u001b[0m\u001b[0;34m(\u001b[0m\u001b[0;34m'Feature.9 Plot before Normalization'\u001b[0m\u001b[0;34m)\u001b[0m\u001b[0;34m\u001b[0m\u001b[0;34m\u001b[0m\u001b[0m\n\u001b[1;32m      5\u001b[0m \u001b[0mplt\u001b[0m\u001b[0;34m.\u001b[0m\u001b[0mtext\u001b[0m\u001b[0;34m(\u001b[0m\u001b[0;34m-\u001b[0m\u001b[0;36m1500\u001b[0m\u001b[0;34m,\u001b[0m\u001b[0;36m1200\u001b[0m\u001b[0;34m,\u001b[0m \u001b[0;34mr'$\\mu=81.650 , \\sigma= 320.035$'\u001b[0m\u001b[0;34m)\u001b[0m\u001b[0;34m\u001b[0m\u001b[0;34m\u001b[0m\u001b[0m\n",
      "\u001b[0;31mNameError\u001b[0m: name 'dataA_OutlierRemovedMice' is not defined"
     ]
    }
   ],
   "source": [
    "# Plot of Feature.9 with MICE imputed dataset\n",
    "n, bins, patches = plt.hist(x=dataA_OutlierRemovedMice[:, 8], bins='auto', color='m', alpha=0.7, rwidth=0.85)\n",
    "plt.grid(axis='y', alpha=0.75)\n",
    "plt.title('Feature.9 Plot before Normalization')\n",
    "plt.text(-1500,1200, r'$\\mu=81.650 , \\sigma= 320.035$')\n",
    "maxfreq = n.max()\n",
    "plt.ylim(ymax=np.ceil(maxfreq/10) * 10 if maxfreq % 10 else maxfreq + 10)"
   ]
  },
  {
   "cell_type": "code",
   "execution_count": 51,
   "metadata": {},
   "outputs": [
    {
     "output_type": "error",
     "ename": "NameError",
     "evalue": "name 'dataA_OutlierRemovedMice' is not defined",
     "traceback": [
      "\u001b[0;31m---------------------------------------------------------------------------\u001b[0m",
      "\u001b[0;31mNameError\u001b[0m                                 Traceback (most recent call last)",
      "\u001b[0;32m<ipython-input-51-2f75b4f343fc>\u001b[0m in \u001b[0;36m<module>\u001b[0;34m\u001b[0m\n\u001b[1;32m      1\u001b[0m \u001b[0;31m# Plot of Feature.24 with Linear Interpolated imputed dataset\u001b[0m\u001b[0;34m\u001b[0m\u001b[0;34m\u001b[0m\u001b[0;34m\u001b[0m\u001b[0m\n\u001b[0;32m----> 2\u001b[0;31m \u001b[0mn\u001b[0m\u001b[0;34m,\u001b[0m \u001b[0mbins\u001b[0m\u001b[0;34m,\u001b[0m \u001b[0mpatches\u001b[0m \u001b[0;34m=\u001b[0m \u001b[0mplt\u001b[0m\u001b[0;34m.\u001b[0m\u001b[0mhist\u001b[0m\u001b[0;34m(\u001b[0m\u001b[0mx\u001b[0m\u001b[0;34m=\u001b[0m\u001b[0mdataA_OutlierRemovedMice\u001b[0m\u001b[0;34m[\u001b[0m\u001b[0;34m:\u001b[0m\u001b[0;34m,\u001b[0m \u001b[0;36m23\u001b[0m\u001b[0;34m]\u001b[0m\u001b[0;34m,\u001b[0m \u001b[0mbins\u001b[0m\u001b[0;34m=\u001b[0m\u001b[0;34m'auto'\u001b[0m\u001b[0;34m,\u001b[0m \u001b[0mcolor\u001b[0m\u001b[0;34m=\u001b[0m\u001b[0;34m'r'\u001b[0m\u001b[0;34m,\u001b[0m \u001b[0malpha\u001b[0m\u001b[0;34m=\u001b[0m\u001b[0;36m0.7\u001b[0m\u001b[0;34m,\u001b[0m \u001b[0mrwidth\u001b[0m\u001b[0;34m=\u001b[0m\u001b[0;36m0.85\u001b[0m\u001b[0;34m)\u001b[0m\u001b[0;34m\u001b[0m\u001b[0;34m\u001b[0m\u001b[0m\n\u001b[0m\u001b[1;32m      3\u001b[0m \u001b[0mplt\u001b[0m\u001b[0;34m.\u001b[0m\u001b[0mgrid\u001b[0m\u001b[0;34m(\u001b[0m\u001b[0maxis\u001b[0m\u001b[0;34m=\u001b[0m\u001b[0;34m'y'\u001b[0m\u001b[0;34m,\u001b[0m \u001b[0malpha\u001b[0m\u001b[0;34m=\u001b[0m\u001b[0;36m0.75\u001b[0m\u001b[0;34m)\u001b[0m\u001b[0;34m\u001b[0m\u001b[0;34m\u001b[0m\u001b[0m\n\u001b[1;32m      4\u001b[0m \u001b[0mplt\u001b[0m\u001b[0;34m.\u001b[0m\u001b[0mtext\u001b[0m\u001b[0;34m(\u001b[0m\u001b[0;34m-\u001b[0m\u001b[0;36m2500\u001b[0m\u001b[0;34m,\u001b[0m\u001b[0;36m1750\u001b[0m\u001b[0;34m,\u001b[0m \u001b[0;34mr'$\\mu=-131.400, \\sigma= 443.773$'\u001b[0m\u001b[0;34m)\u001b[0m\u001b[0;34m\u001b[0m\u001b[0;34m\u001b[0m\u001b[0m\n\u001b[1;32m      5\u001b[0m \u001b[0mplt\u001b[0m\u001b[0;34m.\u001b[0m\u001b[0mtitle\u001b[0m\u001b[0;34m(\u001b[0m\u001b[0;34m'Feature.24 Plot before Normalization'\u001b[0m\u001b[0;34m)\u001b[0m\u001b[0;34m\u001b[0m\u001b[0;34m\u001b[0m\u001b[0m\n",
      "\u001b[0;31mNameError\u001b[0m: name 'dataA_OutlierRemovedMice' is not defined"
     ]
    }
   ],
   "source": [
    "# Plot of Feature.24 with MICE imputed dataset\n",
    "n, bins, patches = plt.hist(x=dataA_OutlierRemovedMice[:, 23], bins='auto', color='r', alpha=0.7, rwidth=0.85)\n",
    "plt.grid(axis='y', alpha=0.75)\n",
    "plt.text(-2500,1750, r'$\\mu=-131.400, \\sigma= 443.773$')\n",
    "plt.title('Feature.24 Plot before Normalization')\n",
    "maxfreq = n.max()\n",
    "plt.ylim(ymax=np.ceil(maxfreq/10) * 10 if maxfreq % 10 else maxfreq + 10)"
   ]
  },
  {
   "cell_type": "markdown",
   "metadata": {},
   "source": [
    "# Data Normalization\n",
    "## 1. Max-Min Normalization"
   ]
  },
  {
   "cell_type": "code",
   "execution_count": 52,
   "metadata": {},
   "outputs": [
    {
     "output_type": "error",
     "ename": "NameError",
     "evalue": "name 'MinMaxScaler' is not defined",
     "traceback": [
      "\u001b[0;31m---------------------------------------------------------------------------\u001b[0m",
      "\u001b[0;31mNameError\u001b[0m                                 Traceback (most recent call last)",
      "\u001b[0;32m<ipython-input-52-c6d7b4da0777>\u001b[0m in \u001b[0;36m<module>\u001b[0;34m\u001b[0m\n\u001b[0;32m----> 1\u001b[0;31m \u001b[0mMMscaler\u001b[0m \u001b[0;34m=\u001b[0m \u001b[0mMinMaxScaler\u001b[0m\u001b[0;34m(\u001b[0m\u001b[0;34m)\u001b[0m\u001b[0;34m\u001b[0m\u001b[0;34m\u001b[0m\u001b[0m\n\u001b[0m\u001b[1;32m      2\u001b[0m \u001b[0mMMscaler\u001b[0m\u001b[0;34m.\u001b[0m\u001b[0mfit\u001b[0m\u001b[0;34m(\u001b[0m\u001b[0mdataA_OutlierRemovedMice\u001b[0m\u001b[0;34m)\u001b[0m\u001b[0;34m\u001b[0m\u001b[0;34m\u001b[0m\u001b[0m\n\u001b[1;32m      3\u001b[0m \u001b[0mdata_normalizedMM\u001b[0m \u001b[0;34m=\u001b[0m \u001b[0mMMscaler\u001b[0m\u001b[0;34m.\u001b[0m\u001b[0mtransform\u001b[0m\u001b[0;34m(\u001b[0m\u001b[0mdataA_OutlierRemovedMice\u001b[0m\u001b[0;34m)\u001b[0m\u001b[0;34m\u001b[0m\u001b[0;34m\u001b[0m\u001b[0m\n",
      "\u001b[0;31mNameError\u001b[0m: name 'MinMaxScaler' is not defined"
     ]
    }
   ],
   "source": [
    "MMscaler = MinMaxScaler()\n",
    "MMscaler.fit(dataA_OutlierRemovedMice)\n",
    "data_normalizedMM = MMscaler.transform(dataA_OutlierRemovedMice)"
   ]
  },
  {
   "cell_type": "code",
   "execution_count": 53,
   "metadata": {
    "tags": []
   },
   "outputs": [
    {
     "output_type": "error",
     "ename": "NameError",
     "evalue": "name 'data_normalizedMM' is not defined",
     "traceback": [
      "\u001b[0;31m---------------------------------------------------------------------------\u001b[0m",
      "\u001b[0;31mNameError\u001b[0m                                 Traceback (most recent call last)",
      "\u001b[0;32m<ipython-input-53-0b5211c93d69>\u001b[0m in \u001b[0;36m<module>\u001b[0;34m\u001b[0m\n\u001b[0;32m----> 1\u001b[0;31m \u001b[0mprint\u001b[0m\u001b[0;34m(\u001b[0m\u001b[0;34m\"\\n Max-Min Normalized dataset: \\n\"\u001b[0m\u001b[0;34m,\u001b[0m \u001b[0mdata_normalizedMM\u001b[0m\u001b[0;34m)\u001b[0m\u001b[0;34m\u001b[0m\u001b[0;34m\u001b[0m\u001b[0m\n\u001b[0m",
      "\u001b[0;31mNameError\u001b[0m: name 'data_normalizedMM' is not defined"
     ]
    }
   ],
   "source": [
    "print(\"\\n Max-Min Normalized dataset: \\n\", data_normalizedMM)"
   ]
  },
  {
   "cell_type": "code",
   "execution_count": 54,
   "metadata": {
    "tags": []
   },
   "outputs": [
    {
     "output_type": "error",
     "ename": "NameError",
     "evalue": "name 'data_normalizedMM' is not defined",
     "traceback": [
      "\u001b[0;31m---------------------------------------------------------------------------\u001b[0m",
      "\u001b[0;31mNameError\u001b[0m                                 Traceback (most recent call last)",
      "\u001b[0;32m<ipython-input-54-a8063ef1d95a>\u001b[0m in \u001b[0;36m<module>\u001b[0;34m\u001b[0m\n\u001b[0;32m----> 1\u001b[0;31m \u001b[0mprint\u001b[0m\u001b[0;34m(\u001b[0m\u001b[0;34m\"Data of Feature.9: \\n\"\u001b[0m\u001b[0;34m,\u001b[0m\u001b[0mdata_normalizedMM\u001b[0m\u001b[0;34m[\u001b[0m\u001b[0;34m:\u001b[0m\u001b[0;34m,\u001b[0m\u001b[0;36m9\u001b[0m\u001b[0;34m]\u001b[0m\u001b[0;34m)\u001b[0m\u001b[0;34m\u001b[0m\u001b[0;34m\u001b[0m\u001b[0m\n\u001b[0m",
      "\u001b[0;31mNameError\u001b[0m: name 'data_normalizedMM' is not defined"
     ]
    }
   ],
   "source": [
    "print(\"Data of Feature.9: \\n\",data_normalizedMM[:,9])"
   ]
  },
  {
   "cell_type": "code",
   "execution_count": 55,
   "metadata": {},
   "outputs": [
    {
     "output_type": "error",
     "ename": "NameError",
     "evalue": "name 'data_normalizedMM' is not defined",
     "traceback": [
      "\u001b[0;31m---------------------------------------------------------------------------\u001b[0m",
      "\u001b[0;31mNameError\u001b[0m                                 Traceback (most recent call last)",
      "\u001b[0;32m<ipython-input-55-34ed6a06966d>\u001b[0m in \u001b[0;36m<module>\u001b[0;34m\u001b[0m\n\u001b[1;32m      1\u001b[0m \u001b[0;31m# Plot of Feature.9 with Linear Interpolated imputed dataset\u001b[0m\u001b[0;34m\u001b[0m\u001b[0;34m\u001b[0m\u001b[0;34m\u001b[0m\u001b[0m\n\u001b[0;32m----> 2\u001b[0;31m \u001b[0mn\u001b[0m\u001b[0;34m,\u001b[0m \u001b[0mbins\u001b[0m\u001b[0;34m,\u001b[0m \u001b[0mpatches\u001b[0m \u001b[0;34m=\u001b[0m \u001b[0mplt\u001b[0m\u001b[0;34m.\u001b[0m\u001b[0mhist\u001b[0m\u001b[0;34m(\u001b[0m\u001b[0mx\u001b[0m\u001b[0;34m=\u001b[0m\u001b[0mdata_normalizedMM\u001b[0m\u001b[0;34m[\u001b[0m\u001b[0;34m:\u001b[0m\u001b[0;34m,\u001b[0m \u001b[0;36m8\u001b[0m\u001b[0;34m]\u001b[0m\u001b[0;34m,\u001b[0m \u001b[0mbins\u001b[0m\u001b[0;34m=\u001b[0m\u001b[0;34m'auto'\u001b[0m\u001b[0;34m,\u001b[0m \u001b[0mcolor\u001b[0m\u001b[0;34m=\u001b[0m\u001b[0;34m'm'\u001b[0m\u001b[0;34m,\u001b[0m \u001b[0malpha\u001b[0m\u001b[0;34m=\u001b[0m\u001b[0;36m0.7\u001b[0m\u001b[0;34m,\u001b[0m \u001b[0mrwidth\u001b[0m\u001b[0;34m=\u001b[0m\u001b[0;36m0.85\u001b[0m\u001b[0;34m)\u001b[0m\u001b[0;34m\u001b[0m\u001b[0;34m\u001b[0m\u001b[0m\n\u001b[0m\u001b[1;32m      3\u001b[0m \u001b[0mplt\u001b[0m\u001b[0;34m.\u001b[0m\u001b[0mgrid\u001b[0m\u001b[0;34m(\u001b[0m\u001b[0maxis\u001b[0m\u001b[0;34m=\u001b[0m\u001b[0;34m'y'\u001b[0m\u001b[0;34m,\u001b[0m \u001b[0malpha\u001b[0m\u001b[0;34m=\u001b[0m\u001b[0;36m0.75\u001b[0m\u001b[0;34m)\u001b[0m\u001b[0;34m\u001b[0m\u001b[0;34m\u001b[0m\u001b[0m\n\u001b[1;32m      4\u001b[0m \u001b[0mplt\u001b[0m\u001b[0;34m.\u001b[0m\u001b[0mtitle\u001b[0m\u001b[0;34m(\u001b[0m\u001b[0;34m'Feature.9 Plot after Min-Max Normalization'\u001b[0m\u001b[0;34m)\u001b[0m\u001b[0;34m\u001b[0m\u001b[0;34m\u001b[0m\u001b[0m\n\u001b[1;32m      5\u001b[0m \u001b[0mplt\u001b[0m\u001b[0;34m.\u001b[0m\u001b[0mtext\u001b[0m\u001b[0;34m(\u001b[0m\u001b[0;36m0\u001b[0m\u001b[0;34m,\u001b[0m\u001b[0;36m1200\u001b[0m\u001b[0;34m,\u001b[0m \u001b[0;34mr'$\\mu=81.650 , \\sigma= 320.035$'\u001b[0m\u001b[0;34m)\u001b[0m\u001b[0;34m\u001b[0m\u001b[0;34m\u001b[0m\u001b[0m\n",
      "\u001b[0;31mNameError\u001b[0m: name 'data_normalizedMM' is not defined"
     ]
    }
   ],
   "source": [
    "# Plot of Feature.9 with MICE imputed dataset\n",
    "n, bins, patches = plt.hist(x=data_normalizedMM[:, 8], bins='auto', color='m', alpha=0.7, rwidth=0.85)\n",
    "plt.grid(axis='y', alpha=0.75)\n",
    "plt.title('Feature.9 Plot after Min-Max Normalization')\n",
    "plt.text(0,1200, r'$\\mu=81.650 , \\sigma= 320.035$')\n",
    "maxfreq = n.max()\n",
    "plt.ylim(ymax=np.ceil(maxfreq/10) * 10 if maxfreq % 10 else maxfreq + 10)"
   ]
  },
  {
   "cell_type": "code",
   "execution_count": 56,
   "metadata": {},
   "outputs": [
    {
     "output_type": "error",
     "ename": "NameError",
     "evalue": "name 'data_normalizedMM' is not defined",
     "traceback": [
      "\u001b[0;31m---------------------------------------------------------------------------\u001b[0m",
      "\u001b[0;31mNameError\u001b[0m                                 Traceback (most recent call last)",
      "\u001b[0;32m<ipython-input-56-b031f84dfd51>\u001b[0m in \u001b[0;36m<module>\u001b[0;34m\u001b[0m\n\u001b[1;32m      1\u001b[0m \u001b[0;31m# Plot of Feature.24 with Linear Interpolated imputed dataset\u001b[0m\u001b[0;34m\u001b[0m\u001b[0;34m\u001b[0m\u001b[0;34m\u001b[0m\u001b[0m\n\u001b[0;32m----> 2\u001b[0;31m \u001b[0mn\u001b[0m\u001b[0;34m,\u001b[0m \u001b[0mbins\u001b[0m\u001b[0;34m,\u001b[0m \u001b[0mpatches\u001b[0m \u001b[0;34m=\u001b[0m \u001b[0mplt\u001b[0m\u001b[0;34m.\u001b[0m\u001b[0mhist\u001b[0m\u001b[0;34m(\u001b[0m\u001b[0mx\u001b[0m\u001b[0;34m=\u001b[0m\u001b[0mdata_normalizedMM\u001b[0m\u001b[0;34m[\u001b[0m\u001b[0;34m:\u001b[0m\u001b[0;34m,\u001b[0m \u001b[0;36m23\u001b[0m\u001b[0;34m]\u001b[0m\u001b[0;34m,\u001b[0m \u001b[0mbins\u001b[0m\u001b[0;34m=\u001b[0m\u001b[0;34m'auto'\u001b[0m\u001b[0;34m,\u001b[0m \u001b[0mcolor\u001b[0m\u001b[0;34m=\u001b[0m\u001b[0;34m'r'\u001b[0m\u001b[0;34m,\u001b[0m \u001b[0malpha\u001b[0m\u001b[0;34m=\u001b[0m\u001b[0;36m0.7\u001b[0m\u001b[0;34m,\u001b[0m \u001b[0mrwidth\u001b[0m\u001b[0;34m=\u001b[0m\u001b[0;36m0.85\u001b[0m\u001b[0;34m)\u001b[0m\u001b[0;34m\u001b[0m\u001b[0;34m\u001b[0m\u001b[0m\n\u001b[0m\u001b[1;32m      3\u001b[0m \u001b[0mplt\u001b[0m\u001b[0;34m.\u001b[0m\u001b[0mgrid\u001b[0m\u001b[0;34m(\u001b[0m\u001b[0maxis\u001b[0m\u001b[0;34m=\u001b[0m\u001b[0;34m'y'\u001b[0m\u001b[0;34m,\u001b[0m \u001b[0malpha\u001b[0m\u001b[0;34m=\u001b[0m\u001b[0;36m0.75\u001b[0m\u001b[0;34m)\u001b[0m\u001b[0;34m\u001b[0m\u001b[0;34m\u001b[0m\u001b[0m\n\u001b[1;32m      4\u001b[0m \u001b[0mplt\u001b[0m\u001b[0;34m.\u001b[0m\u001b[0mtitle\u001b[0m\u001b[0;34m(\u001b[0m\u001b[0;34m'Feature.24 Plot after Min-Max Normalization'\u001b[0m\u001b[0;34m)\u001b[0m\u001b[0;34m\u001b[0m\u001b[0;34m\u001b[0m\u001b[0m\n\u001b[1;32m      5\u001b[0m \u001b[0mplt\u001b[0m\u001b[0;34m.\u001b[0m\u001b[0mtext\u001b[0m\u001b[0;34m(\u001b[0m\u001b[0;36m0\u001b[0m\u001b[0;34m,\u001b[0m\u001b[0;36m1200\u001b[0m\u001b[0;34m,\u001b[0m \u001b[0;34mr'$\\mu=81.650 , \\sigma= 320.035$'\u001b[0m\u001b[0;34m)\u001b[0m\u001b[0;34m\u001b[0m\u001b[0;34m\u001b[0m\u001b[0m\n",
      "\u001b[0;31mNameError\u001b[0m: name 'data_normalizedMM' is not defined"
     ]
    }
   ],
   "source": [
    "# Plot of Feature.24 with MICE imputed dataset\n",
    "n, bins, patches = plt.hist(x=data_normalizedMM[:, 23], bins='auto', color='r', alpha=0.7, rwidth=0.85)\n",
    "plt.grid(axis='y', alpha=0.75)\n",
    "plt.title('Feature.24 Plot after Min-Max Normalization')\n",
    "plt.text(0,1200, r'$\\mu=81.650 , \\sigma= 320.035$')\n",
    "maxfreq = n.max()\n",
    "plt.ylim(ymax=np.ceil(maxfreq/10) * 10 if maxfreq % 10 else maxfreq + 10)"
   ]
  },
  {
   "cell_type": "markdown",
   "metadata": {},
   "source": [
    "## 2. Z-Score Normalization (Standardization)"
   ]
  },
  {
   "cell_type": "code",
   "execution_count": 57,
   "metadata": {},
   "outputs": [
    {
     "output_type": "error",
     "ename": "NameError",
     "evalue": "name 'StandardScaler' is not defined",
     "traceback": [
      "\u001b[0;31m---------------------------------------------------------------------------\u001b[0m",
      "\u001b[0;31mNameError\u001b[0m                                 Traceback (most recent call last)",
      "\u001b[0;32m<ipython-input-57-77896aa4d035>\u001b[0m in \u001b[0;36m<module>\u001b[0;34m\u001b[0m\n\u001b[1;32m      1\u001b[0m \u001b[0;31m# Z-Score Normalization\u001b[0m\u001b[0;34m\u001b[0m\u001b[0;34m\u001b[0m\u001b[0;34m\u001b[0m\u001b[0m\n\u001b[0;32m----> 2\u001b[0;31m \u001b[0mss\u001b[0m \u001b[0;34m=\u001b[0m \u001b[0mStandardScaler\u001b[0m\u001b[0;34m(\u001b[0m\u001b[0;34m)\u001b[0m\u001b[0;34m\u001b[0m\u001b[0;34m\u001b[0m\u001b[0m\n\u001b[0m\u001b[1;32m      3\u001b[0m \u001b[0mss\u001b[0m\u001b[0;34m.\u001b[0m\u001b[0mfit\u001b[0m\u001b[0;34m(\u001b[0m\u001b[0mdataA_OutlierRemovedMice\u001b[0m\u001b[0;34m)\u001b[0m\u001b[0;34m\u001b[0m\u001b[0;34m\u001b[0m\u001b[0m\n\u001b[1;32m      4\u001b[0m \u001b[0mdataA_standardised\u001b[0m \u001b[0;34m=\u001b[0m \u001b[0mss\u001b[0m\u001b[0;34m.\u001b[0m\u001b[0mtransform\u001b[0m\u001b[0;34m(\u001b[0m\u001b[0mdataA_OutlierRemovedMice\u001b[0m\u001b[0;34m)\u001b[0m\u001b[0;34m\u001b[0m\u001b[0;34m\u001b[0m\u001b[0m\n",
      "\u001b[0;31mNameError\u001b[0m: name 'StandardScaler' is not defined"
     ]
    }
   ],
   "source": [
    "# Z-Score Normalization\n",
    "ss = StandardScaler()\n",
    "ss.fit(dataA_OutlierRemovedMice)\n",
    "dataA_standardised = ss.transform(dataA_OutlierRemovedMice)"
   ]
  },
  {
   "cell_type": "code",
   "execution_count": 58,
   "metadata": {
    "tags": []
   },
   "outputs": [
    {
     "output_type": "error",
     "ename": "NameError",
     "evalue": "name 'dataA_standardised' is not defined",
     "traceback": [
      "\u001b[0;31m---------------------------------------------------------------------------\u001b[0m",
      "\u001b[0;31mNameError\u001b[0m                                 Traceback (most recent call last)",
      "\u001b[0;32m<ipython-input-58-84be80dfa04c>\u001b[0m in \u001b[0;36m<module>\u001b[0;34m\u001b[0m\n\u001b[0;32m----> 1\u001b[0;31m \u001b[0mprint\u001b[0m\u001b[0;34m(\u001b[0m\u001b[0;34m\"Standardized Dataset: \\n\"\u001b[0m\u001b[0;34m,\u001b[0m \u001b[0mdataA_standardised\u001b[0m\u001b[0;34m)\u001b[0m\u001b[0;34m\u001b[0m\u001b[0;34m\u001b[0m\u001b[0m\n\u001b[0m",
      "\u001b[0;31mNameError\u001b[0m: name 'dataA_standardised' is not defined"
     ]
    }
   ],
   "source": [
    "print(\"Standardized Dataset: \\n\", dataA_standardised)"
   ]
  },
  {
   "cell_type": "code",
   "execution_count": 59,
   "metadata": {},
   "outputs": [
    {
     "output_type": "error",
     "ename": "NameError",
     "evalue": "name 'dataA_standardised' is not defined",
     "traceback": [
      "\u001b[0;31m---------------------------------------------------------------------------\u001b[0m",
      "\u001b[0;31mNameError\u001b[0m                                 Traceback (most recent call last)",
      "\u001b[0;32m<ipython-input-59-32b0c3ae8f1c>\u001b[0m in \u001b[0;36m<module>\u001b[0;34m\u001b[0m\n\u001b[1;32m      1\u001b[0m \u001b[0;31m# Plot of Feature.9 with Linear Interpolated imputed dataset\u001b[0m\u001b[0;34m\u001b[0m\u001b[0;34m\u001b[0m\u001b[0;34m\u001b[0m\u001b[0m\n\u001b[0;32m----> 2\u001b[0;31m \u001b[0mn\u001b[0m\u001b[0;34m,\u001b[0m \u001b[0mbins\u001b[0m\u001b[0;34m,\u001b[0m \u001b[0mpatches\u001b[0m \u001b[0;34m=\u001b[0m \u001b[0mplt\u001b[0m\u001b[0;34m.\u001b[0m\u001b[0mhist\u001b[0m\u001b[0;34m(\u001b[0m\u001b[0mx\u001b[0m\u001b[0;34m=\u001b[0m\u001b[0mdataA_standardised\u001b[0m\u001b[0;34m[\u001b[0m\u001b[0;34m:\u001b[0m\u001b[0;34m,\u001b[0m \u001b[0;36m8\u001b[0m\u001b[0;34m]\u001b[0m\u001b[0;34m,\u001b[0m \u001b[0mbins\u001b[0m\u001b[0;34m=\u001b[0m\u001b[0;34m'auto'\u001b[0m\u001b[0;34m,\u001b[0m \u001b[0mcolor\u001b[0m\u001b[0;34m=\u001b[0m\u001b[0;34m'y'\u001b[0m\u001b[0;34m,\u001b[0m \u001b[0malpha\u001b[0m\u001b[0;34m=\u001b[0m\u001b[0;36m0.7\u001b[0m\u001b[0;34m,\u001b[0m \u001b[0mrwidth\u001b[0m\u001b[0;34m=\u001b[0m\u001b[0;36m0.85\u001b[0m\u001b[0;34m)\u001b[0m\u001b[0;34m\u001b[0m\u001b[0;34m\u001b[0m\u001b[0m\n\u001b[0m\u001b[1;32m      3\u001b[0m \u001b[0mplt\u001b[0m\u001b[0;34m.\u001b[0m\u001b[0mgrid\u001b[0m\u001b[0;34m(\u001b[0m\u001b[0maxis\u001b[0m\u001b[0;34m=\u001b[0m\u001b[0;34m'y'\u001b[0m\u001b[0;34m,\u001b[0m \u001b[0malpha\u001b[0m\u001b[0;34m=\u001b[0m\u001b[0;36m0.75\u001b[0m\u001b[0;34m)\u001b[0m\u001b[0;34m\u001b[0m\u001b[0;34m\u001b[0m\u001b[0m\n\u001b[1;32m      4\u001b[0m \u001b[0mplt\u001b[0m\u001b[0;34m.\u001b[0m\u001b[0mtitle\u001b[0m\u001b[0;34m(\u001b[0m\u001b[0;34m'Feature.9 Plot after Z-Score Normalization'\u001b[0m\u001b[0;34m)\u001b[0m\u001b[0;34m\u001b[0m\u001b[0;34m\u001b[0m\u001b[0m\n\u001b[1;32m      5\u001b[0m \u001b[0mplt\u001b[0m\u001b[0;34m.\u001b[0m\u001b[0mtext\u001b[0m\u001b[0;34m(\u001b[0m\u001b[0;34m-\u001b[0m\u001b[0;36m2\u001b[0m\u001b[0;34m,\u001b[0m\u001b[0;36m1200\u001b[0m\u001b[0;34m,\u001b[0m \u001b[0;34mr'$\\mu=81.650 , \\sigma= 320.035$'\u001b[0m\u001b[0;34m)\u001b[0m\u001b[0;34m\u001b[0m\u001b[0;34m\u001b[0m\u001b[0m\n",
      "\u001b[0;31mNameError\u001b[0m: name 'dataA_standardised' is not defined"
     ]
    }
   ],
   "source": [
    "# Plot of Feature.9 with MICE imputed dataset\n",
    "n, bins, patches = plt.hist(x=dataA_standardised[:, 8], bins='auto', color='y', alpha=0.7, rwidth=0.85)\n",
    "plt.grid(axis='y', alpha=0.75)\n",
    "plt.title('Feature.9 Plot after Z-Score Normalization')\n",
    "plt.text(-2,1200, r'$\\mu=81.650 , \\sigma= 320.035$')\n",
    "maxfreq = n.max()\n",
    "plt.ylim(ymax=np.ceil(maxfreq/10) * 10 if maxfreq % 10 else maxfreq + 10)"
   ]
  },
  {
   "cell_type": "code",
   "execution_count": 60,
   "metadata": {},
   "outputs": [
    {
     "output_type": "error",
     "ename": "NameError",
     "evalue": "name 'dataA_standardised' is not defined",
     "traceback": [
      "\u001b[0;31m---------------------------------------------------------------------------\u001b[0m",
      "\u001b[0;31mNameError\u001b[0m                                 Traceback (most recent call last)",
      "\u001b[0;32m<ipython-input-60-4f0b6e6ca188>\u001b[0m in \u001b[0;36m<module>\u001b[0;34m\u001b[0m\n\u001b[1;32m      1\u001b[0m \u001b[0;31m# Plot of Feature.24 with Linear Interpolated imputed dataset\u001b[0m\u001b[0;34m\u001b[0m\u001b[0;34m\u001b[0m\u001b[0;34m\u001b[0m\u001b[0m\n\u001b[0;32m----> 2\u001b[0;31m \u001b[0mn\u001b[0m\u001b[0;34m,\u001b[0m \u001b[0mbins\u001b[0m\u001b[0;34m,\u001b[0m \u001b[0mpatches\u001b[0m \u001b[0;34m=\u001b[0m \u001b[0mplt\u001b[0m\u001b[0;34m.\u001b[0m\u001b[0mhist\u001b[0m\u001b[0;34m(\u001b[0m\u001b[0mx\u001b[0m\u001b[0;34m=\u001b[0m\u001b[0mdataA_standardised\u001b[0m\u001b[0;34m[\u001b[0m\u001b[0;34m:\u001b[0m\u001b[0;34m,\u001b[0m \u001b[0;36m23\u001b[0m\u001b[0;34m]\u001b[0m\u001b[0;34m,\u001b[0m \u001b[0mbins\u001b[0m\u001b[0;34m=\u001b[0m\u001b[0;34m'auto'\u001b[0m\u001b[0;34m,\u001b[0m \u001b[0mcolor\u001b[0m\u001b[0;34m=\u001b[0m\u001b[0;34m'k'\u001b[0m\u001b[0;34m,\u001b[0m \u001b[0malpha\u001b[0m\u001b[0;34m=\u001b[0m\u001b[0;36m0.7\u001b[0m\u001b[0;34m,\u001b[0m \u001b[0mrwidth\u001b[0m\u001b[0;34m=\u001b[0m\u001b[0;36m0.85\u001b[0m\u001b[0;34m)\u001b[0m\u001b[0;34m\u001b[0m\u001b[0;34m\u001b[0m\u001b[0m\n\u001b[0m\u001b[1;32m      3\u001b[0m \u001b[0mplt\u001b[0m\u001b[0;34m.\u001b[0m\u001b[0mgrid\u001b[0m\u001b[0;34m(\u001b[0m\u001b[0maxis\u001b[0m\u001b[0;34m=\u001b[0m\u001b[0;34m'y'\u001b[0m\u001b[0;34m,\u001b[0m \u001b[0malpha\u001b[0m\u001b[0;34m=\u001b[0m\u001b[0;36m0.75\u001b[0m\u001b[0;34m)\u001b[0m\u001b[0;34m\u001b[0m\u001b[0;34m\u001b[0m\u001b[0m\n\u001b[1;32m      4\u001b[0m \u001b[0mplt\u001b[0m\u001b[0;34m.\u001b[0m\u001b[0mtitle\u001b[0m\u001b[0;34m(\u001b[0m\u001b[0;34m'Feature.24 Plot after Z-Score Normalization'\u001b[0m\u001b[0;34m)\u001b[0m\u001b[0;34m\u001b[0m\u001b[0;34m\u001b[0m\u001b[0m\n\u001b[1;32m      5\u001b[0m \u001b[0mplt\u001b[0m\u001b[0;34m.\u001b[0m\u001b[0mtext\u001b[0m\u001b[0;34m(\u001b[0m\u001b[0;34m-\u001b[0m\u001b[0;36m6\u001b[0m\u001b[0;34m,\u001b[0m\u001b[0;36m1200\u001b[0m\u001b[0;34m,\u001b[0m \u001b[0;34mr'$\\mu=81.650 , \\sigma= 320.035$'\u001b[0m\u001b[0;34m)\u001b[0m\u001b[0;34m\u001b[0m\u001b[0;34m\u001b[0m\u001b[0m\n",
      "\u001b[0;31mNameError\u001b[0m: name 'dataA_standardised' is not defined"
     ]
    }
   ],
   "source": [
    "# Plot of Feature.24 with MICE imputed dataset\n",
    "n, bins, patches = plt.hist(x=dataA_standardised[:, 23], bins='auto', color='k', alpha=0.7, rwidth=0.85)\n",
    "plt.grid(axis='y', alpha=0.75)\n",
    "plt.title('Feature.24 Plot after Z-Score Normalization')\n",
    "plt.text(-6,1200, r'$\\mu=81.650 , \\sigma= 320.035$')\n",
    "maxfreq = n.max()\n",
    "plt.ylim(ymax=np.ceil(maxfreq/10) * 10 if maxfreq % 10 else maxfreq + 10)"
   ]
  },
  {
   "cell_type": "markdown",
   "metadata": {},
   "source": [
    "## Analysis: \n",
    "#### From the plot generated before max min and z-score normalization the x-axis for the plot by feature.9 ranges from -1500 to 1000 and that of the feature.24 ranges from -2000 to 2000. After max-min normalization the range of the x-axis changes and it becomes normalized between 0 and 1 for both the plot for feature.9 and feature.24. Where the plot generated after Z-score normalization the x-range ranges from -4 to 4 for both the features. However there is no change in the y label of the plots before and after normalization for both max-min and z-score normalization."
   ]
  }
 ],
 "metadata": {
  "kernelspec": {
   "display_name": "Python 3",
   "language": "python",
   "name": "python3"
  },
  "language_info": {
   "codemirror_mode": {
    "name": "ipython",
    "version": 3
   },
   "file_extension": ".py",
   "mimetype": "text/x-python",
   "name": "python",
   "nbconvert_exporter": "python",
   "pygments_lexer": "ipython3",
   "version": "3.7.4-final"
  }
 },
 "nbformat": 4,
 "nbformat_minor": 2
}