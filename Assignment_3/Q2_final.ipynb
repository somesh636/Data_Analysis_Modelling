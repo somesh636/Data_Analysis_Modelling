{
  "nbformat": 4,
  "nbformat_minor": 0,
  "metadata": {
    "language_info": {
      "codemirror_mode": {
        "name": "ipython",
        "version": 3
      },
      "file_extension": ".py",
      "mimetype": "text/x-python",
      "name": "python",
      "nbconvert_exporter": "python",
      "pygments_lexer": "ipython3",
      "version": 3
    },
    "orig_nbformat": 2,
    "kernelspec": {
      "name": "python_defaultSpec_1596129485814",
      "display_name": "Python 3.7.6 64-bit ('tf-gpu': conda)"
    },
    "colab": {
      "name": "Q2_final.ipynb",
      "provenance": [],
      "collapsed_sections": []
    },
    "accelerator": "GPU"
  },
  "cells": [
    {
      "cell_type": "markdown",
      "metadata": {
        "id": "pTKESJmZVZkz",
        "colab_type": "text"
      },
      "source": [
        "# Question 2.1\n",
        "#### For solving the Classification problem we have used Convolutional Neural Network (CNN). In the design used to solve this problem there are 3 Convolution layer with kernel size of (3,3). In addition to Convolutional layer there are two layer of Max Pooling that is used in conjunction with the Convolutional layer. After this the output data is flattened before passing it to the Feed Forward Neural Network. In the Feed Forward Neural Network there are three layers. The First layer has 64 Neurons and in the second layer there 32 units. The final layer of the Neural Network has 3 Neurons for the Class labels and the activation function used Softmax. This is the architecture used for Chest diesease Image Classification. \n"
      ]
    },
    {
      "cell_type": "markdown",
      "metadata": {
        "id": "RDdPkBBDVZk4",
        "colab_type": "text"
      },
      "source": [
        "# Question 2.2"
      ]
    },
    {
      "cell_type": "code",
      "metadata": {
        "tags": [],
        "id": "5hBf2nuSVZk9",
        "colab_type": "code",
        "colab": {
          "base_uri": "https://localhost:8080/",
          "height": 34
        },
        "outputId": "04b91d2a-8df2-4686-d61c-2e70ba0b7da3"
      },
      "source": [
        "# Import Necessary Packages \n",
        "import pathlib\n",
        "import timeit\n",
        "import cv2\n",
        "import sys \n",
        "import pandas as pd \n",
        "import numpy as np \n",
        "import tensorflow as tf \n",
        "import matplotlib.pyplot as plt \n",
        "from tensorflow.keras import layers, models \n",
        "from keras.utils import to_categorical\n",
        "from sklearn import svm \n",
        "from itertools import cycle\n",
        "from sklearn.metrics import roc_curve, auc\n",
        "from scipy import interp\n",
        "from sklearn.metrics import roc_auc_score\n",
        "from keras.utils.np_utils import to_categorical\n",
        "from sklearn.metrics import classification_report\n",
        "from sklearn.metrics import accuracy_score\n",
        "from sklearn.model_selection import train_test_split \n",
        "from sklearn.ensemble import RandomForestClassifier"
      ],
      "execution_count": 1,
      "outputs": [
        {
          "output_type": "stream",
          "text": [
            "Using TensorFlow backend.\n"
          ],
          "name": "stderr"
        }
      ]
    },
    {
      "cell_type": "code",
      "metadata": {
        "id": "yG4PQZpDVZlh",
        "colab_type": "code",
        "colab": {}
      },
      "source": [
        "class ChestDiseaseClassification(object):\n",
        "    \"\"\" Class For Chest Image Classification using CNN Neural Network\n",
        "    Parameter: \n",
        "    -----------\n",
        "    Normal_TrainImage_path: Path of Train folder for Normal Chest Images \n",
        "    Pneumonia_TrainImage_path: Path of Train folder for Pneumonia Chest Images \n",
        "    TB_TrainImage_path: Path of Train folder for TB Chest Images \n",
        "    epochs: Number of Epochs required for Training the Network \n",
        "    batch_size: Size of each batch required for Training the Network \n",
        "\n",
        "    Attributes: \n",
        "    ------------\n",
        "    self \n",
        "    \"\"\"\n",
        "\n",
        "    def __init__(self, Normal_TrainImage_path, Pneumonia_TrainImage_path,\n",
        "                 TB_TrainImage_path, TestImage_path, epochs = 10, batch_size = 16):\n",
        "\n",
        "        self.epochs = epochs \n",
        "        self.batch_size = batch_size \n",
        "        self.Normal_TrainImage_path = Normal_TrainImage_path\n",
        "        self.Pneumonia_TrainImage_path = Pneumonia_TrainImage_path\n",
        "        self.TB_TrainImage_path = TB_TrainImage_path\n",
        "        self.TestImage_path = TestImage_path\n",
        "\n",
        "        self.train_data = []\n",
        "        self.train_labels = []\n",
        "   \n",
        "    def Convert_Preprocess_train(self, path, label):\n",
        "        \"\"\" Convert the dataset in the required Format \n",
        "        Parameter: \n",
        "        -----------\n",
        "        path: Path with all images \n",
        "        label: Labes/Target Requried for the Image   \n",
        "\n",
        "        Attributes:\n",
        "        ------------\n",
        "        self.train_data: Processed Train Data \n",
        "        self.train_labels: Processed Train Labels as per images in the Train dataset\n",
        "        \"\"\"\n",
        "\n",
        "        for image in path:\n",
        " \n",
        "            image = cv2.imread(str(image))  \n",
        "            image = cv2.resize(image, (224, 224))\n",
        "            image = cv2.cvtColor(image, cv2.COLOR_BGR2RGB)\n",
        "            image = image.astype(np.float32)/255.\n",
        "            self.train_data.append(image)\n",
        "            self.train_labels.append(label)\n",
        "    \n",
        "        return self.train_data, self.train_labels \n",
        "\n",
        "    def Convert_Preprocess_test(self, path):\n",
        "        \"\"\" Convert the dataset in the required Format \n",
        "        Parameters: \n",
        "        ------------\n",
        "        path: Path for the Test Dataset \n",
        "\n",
        "        Attributes: \n",
        "        ------------\n",
        "        data_list: list of Test dataset\n",
        "        \"\"\"\n",
        "        data_list = []\n",
        "\n",
        "        for image in path:\n",
        " \n",
        "            image = cv2.imread(str(image))  \n",
        "            image = cv2.resize(image, (224, 224))\n",
        "            image = cv2.cvtColor(image, cv2.COLOR_BGR2RGB)\n",
        "            image = image.astype(np.float32)/255.\n",
        "            data_list.append(image)\n",
        "    \n",
        "        return data_list \n",
        "\n",
        "    def Load_Data(self):\n",
        "        \"\"\" Data Load Function for Neural Network  \n",
        "        Parameter: \n",
        "        -----------\n",
        "        self\n",
        "\n",
        "        Attributes: \n",
        "        ------------\n",
        "        train_data_arr: Train Data for Neural Networks \n",
        "        test_data_arr: Test Data for Neural Networks \n",
        "        train_labels_arr: Labels/Target of Train set \n",
        "        \"\"\"\n",
        "\n",
        "        # Load Normal Train Dataset into the Train data list\n",
        "        Normal_TrainDir_path = pathlib.Path(self.Normal_TrainImage_path)\n",
        "        normal_image_path = Normal_TrainDir_path.glob('*.jpg')\n",
        "        label_normal = 0 \n",
        "        normal_data, normal_labels = self.Convert_Preprocess_train(normal_image_path, label_normal)\n",
        "\n",
        "\n",
        "        # Pneumonia Train Data \n",
        "        Pneumonia_TrainDir_path = pathlib.Path(self.Pneumonia_TrainImage_path)\n",
        "        pneumonia_image_path = Pneumonia_TrainDir_path.glob('*.jpg')\n",
        "        label_pneumonia = 1 \n",
        "        pneumonia_data, pneumonia_labels = self.Convert_Preprocess_train(pneumonia_image_path, label_pneumonia)\n",
        "\n",
        "\n",
        "        # TB Train Data \n",
        "        TB_TrainDir_path = pathlib.Path(self.TB_TrainImage_path)\n",
        "        tb_image_path = TB_TrainDir_path.glob('*.jpg')\n",
        "        label_tb = 2 \n",
        "        tb_data, tb_labels = self.Convert_Preprocess_train(tb_image_path, label_tb)\n",
        "\n",
        "\n",
        "        # Test Data \n",
        "        TestDir_path = pathlib.Path(self.TestImage_path)\n",
        "        test_path = TestDir_path.glob('*.jpg')\n",
        "        label_normal = 0 \n",
        "        test_data = self.Convert_Preprocess_test(test_path)\n",
        "\n",
        "        # Convert list to Numpy array \n",
        "        train_data_arr = np.array(self.train_data)\n",
        "        train_labels_arr = np.array(self.train_labels)\n",
        "        test_data_arr = np.array(test_data)\n",
        "\n",
        "        return train_data_arr, test_data_arr, train_labels_arr \n",
        "\n",
        "    def CNN_Model(self): \n",
        "        \"\"\" CNN Model Initialization Function \n",
        "        Parameters:\n",
        "        ------------\n",
        "        self\n",
        "        \n",
        "        Attributes: \n",
        "        self \n",
        "        \"\"\"\n",
        "\n",
        "        self.model = models.Sequential()\n",
        "        self.model.add(layers.Conv2D(64, (3,3), activation='relu',padding='same', input_shape = (224, 224, 3)))\n",
        "        self.model.add(layers.Conv2D(64, (3,3), activation= 'relu', padding='same'))\n",
        "        self.model.add(layers.MaxPooling2D((2,2)))\n",
        "        self.model.add(layers.Conv2D(64, (3, 3), activation='relu'))\n",
        "        self.model.add(layers.MaxPooling2D((2,2)))\n",
        "        self.model.add(layers.Flatten())\n",
        "        self.model.add(layers.Dense(64, activation = 'relu'))\n",
        "        self.model.add(layers.Dense(32, activation = 'relu'))\n",
        "        self.model.add(layers.Dense(3, activation = 'softmax'))\n",
        "\n",
        "        self.model.summary()\n",
        "\n",
        "        return self \n",
        "    \n",
        "    def train_CNN(self, X_train, y_train, X_val, y_val): \n",
        "        \"\"\" Train Function for CNN \n",
        "        Parameters: \n",
        "        ------------\n",
        "        X_train: Train Data for the Model \n",
        "        y_train: Train Labels/Targets for the Model \n",
        "        X_val: Validation Set for the Model \n",
        "        y_val: Validation Labels/Targets for the Model \n",
        "\n",
        "        Attributes:\n",
        "        ------------\n",
        "        history: History of the Model \n",
        "        self.Model: Neural Network Model \n",
        "        \"\"\"\n",
        "        self.CNN_Model()\n",
        "        self.model.compile(optimizer = 'adam', loss = 'sparse_categorical_crossentropy', metrics = ['accuracy'])\n",
        "        history = self.model.fit(X_train, y_train, batch_size = self.batch_size, epochs = self.epochs, validation_data = (X_val, y_val))\n",
        "\n",
        "        return history, self.model  \n",
        "    \n",
        "    def Model_loss_Evaluation(self, history_model, model_eva):\n",
        "        \"\"\" Loss Plot for Model \n",
        "        Parameter: \n",
        "        -----------\n",
        "        history_model: history of the model \n",
        "        model_eva: Name of the Model \n",
        "\n",
        "        \"\"\"\n",
        "        plt.plot(history_model.history['loss'], color = 'm', label = 'Training Loss')\n",
        "        plt.plot(history_model.history['val_loss'], color = 'r', label = \"Val Loss\")\n",
        "        plt.xlabel('Epoch')\n",
        "        plt.ylabel('Loss')\n",
        "        plt.title('Model Evaluation for {0}'.format(model_eva))\n",
        "        plt.legend(loc = 'best')\n",
        "        plt.show()\n",
        "\n",
        "    def Model_Accuracy_Evaluation(self, history_model, model_eva):\n",
        "        \"\"\" Accracy Plot for the Model\n",
        "        Parameter: \n",
        "        -----------\n",
        "        history_model: history for the model \n",
        "        model_eva: Name of the Model   \n",
        "        \"\"\"\n",
        "        plt.plot(history_model.history['accuracy'], color = 'k', label = \" Accuracy \")\n",
        "        plt.plot(history_model.history['val_accuracy'], color = 'g', label = 'Val Accuracy')\n",
        "        plt.xlabel('Epoch')\n",
        "        plt.ylabel('Accuracy Score ')\n",
        "        plt.title('Model Accuracy Evaluation for {0}'.format(model_eva))\n",
        "        plt.legend(loc = 'best')\n",
        "        plt.show()"
      ],
      "execution_count": 2,
      "outputs": []
    },
    {
      "cell_type": "code",
      "metadata": {
        "id": "6EWVeKcaVvgV",
        "colab_type": "code",
        "colab": {
          "base_uri": "https://localhost:8080/",
          "height": 54
        },
        "outputId": "d91c2605-518e-45a9-9643-1db812ef6f8c"
      },
      "source": [
        "from google.colab import drive\n",
        "drive.mount('/content/drive')"
      ],
      "execution_count": 3,
      "outputs": [
        {
          "output_type": "stream",
          "text": [
            "Drive already mounted at /content/drive; to attempt to forcibly remount, call drive.mount(\"/content/drive\", force_remount=True).\n"
          ],
          "name": "stdout"
        }
      ]
    },
    {
      "cell_type": "code",
      "metadata": {
        "id": "MsAWpdIzVZlz",
        "colab_type": "code",
        "colab": {}
      },
      "source": [
        "# Path for the Folder \n",
        "Normal_Train_imagedir = '/content/drive/My Drive/Dataset/Dataset/train/Normal'\n",
        "Pneumonia_Train_imagedir = '/content/drive/My Drive/Dataset/Dataset/train/Pneumonia'\n",
        "TB_Train_imagedir = '/content/drive/My Drive/Dataset/Dataset/train/TB'\n",
        "Test_imagedir = '/content/drive/My Drive/Dataset/Dataset/test'\n"
      ],
      "execution_count": 4,
      "outputs": []
    },
    {
      "cell_type": "code",
      "metadata": {
        "id": "iZZKZ0DvVZmF",
        "colab_type": "code",
        "colab": {}
      },
      "source": [
        "# Initialize the Class \n",
        "cic = ChestDiseaseClassification(Normal_Train_imagedir, Pneumonia_Train_imagedir, TB_Train_imagedir, Test_imagedir, epochs = 15, batch_size=14)"
      ],
      "execution_count": 5,
      "outputs": []
    },
    {
      "cell_type": "code",
      "metadata": {
        "id": "zHzBxS_5VZmQ",
        "colab_type": "code",
        "colab": {
          "base_uri": "https://localhost:8080/",
          "height": 69
        },
        "outputId": "a475b9ca-ecc9-4f4d-b2fd-928224aaa26a"
      },
      "source": [
        "# Load the Dataset \n",
        "data_train, data_test, train_labels = cic.Load_Data()\n",
        "\n",
        "# Check the Train and Test Dataset\n",
        "print(\"Shape of X_train Set: \", data_train.shape)\n",
        "print(\"Shape of y_train set: \", train_labels.shape)\n",
        "print(\"Shape of X_test Set: \", data_test.shape)"
      ],
      "execution_count": 6,
      "outputs": [
        {
          "output_type": "stream",
          "text": [
            "Shape of X_train Set:  (251, 224, 224, 3)\n",
            "Shape of y_train set:  (251,)\n",
            "Shape of X_test Set:  (66, 224, 224, 3)\n"
          ],
          "name": "stdout"
        }
      ]
    },
    {
      "cell_type": "code",
      "metadata": {
        "id": "cLtx1J-6VZmc",
        "colab_type": "code",
        "colab": {}
      },
      "source": [
        "# Split the Dataset in 70:30 ratio \n",
        "X_train_nn, X_val_nn, y_train_nn, y_val_nn = train_test_split(data_train, train_labels, test_size = 0.30, random_state = 42)"
      ],
      "execution_count": 7,
      "outputs": []
    },
    {
      "cell_type": "code",
      "metadata": {
        "id": "tc2UM8BqVZmp",
        "colab_type": "code",
        "colab": {
          "base_uri": "https://localhost:8080/",
          "height": 1000
        },
        "outputId": "4837831e-c1a3-4f39-cd9d-63e02603e460"
      },
      "source": [
        "# Train the Model \n",
        "start = timeit.default_timer()\n",
        "history, model = cic.train_CNN(X_train_nn, y_train_nn, X_val_nn, y_val_nn)\n",
        "stop = timeit.default_timer()"
      ],
      "execution_count": 8,
      "outputs": [
        {
          "output_type": "stream",
          "text": [
            "Model: \"sequential\"\n",
            "_________________________________________________________________\n",
            "Layer (type)                 Output Shape              Param #   \n",
            "=================================================================\n",
            "conv2d (Conv2D)              (None, 224, 224, 64)      1792      \n",
            "_________________________________________________________________\n",
            "conv2d_1 (Conv2D)            (None, 224, 224, 64)      36928     \n",
            "_________________________________________________________________\n",
            "max_pooling2d (MaxPooling2D) (None, 112, 112, 64)      0         \n",
            "_________________________________________________________________\n",
            "conv2d_2 (Conv2D)            (None, 110, 110, 64)      36928     \n",
            "_________________________________________________________________\n",
            "max_pooling2d_1 (MaxPooling2 (None, 55, 55, 64)        0         \n",
            "_________________________________________________________________\n",
            "flatten (Flatten)            (None, 193600)            0         \n",
            "_________________________________________________________________\n",
            "dense (Dense)                (None, 64)                12390464  \n",
            "_________________________________________________________________\n",
            "dense_1 (Dense)              (None, 32)                2080      \n",
            "_________________________________________________________________\n",
            "dense_2 (Dense)              (None, 3)                 99        \n",
            "=================================================================\n",
            "Total params: 12,468,291\n",
            "Trainable params: 12,468,291\n",
            "Non-trainable params: 0\n",
            "_________________________________________________________________\n",
            "Epoch 1/15\n",
            "13/13 [==============================] - 1s 81ms/step - loss: 1.6320 - accuracy: 0.3771 - val_loss: 1.0199 - val_accuracy: 0.4868\n",
            "Epoch 2/15\n",
            "13/13 [==============================] - 1s 46ms/step - loss: 0.6731 - accuracy: 0.7543 - val_loss: 0.4122 - val_accuracy: 0.8158\n",
            "Epoch 3/15\n",
            "13/13 [==============================] - 1s 46ms/step - loss: 0.4411 - accuracy: 0.8286 - val_loss: 0.3103 - val_accuracy: 0.8947\n",
            "Epoch 4/15\n",
            "13/13 [==============================] - 1s 46ms/step - loss: 0.2771 - accuracy: 0.9029 - val_loss: 0.2845 - val_accuracy: 0.9211\n",
            "Epoch 5/15\n",
            "13/13 [==============================] - 1s 46ms/step - loss: 0.2044 - accuracy: 0.9257 - val_loss: 0.2717 - val_accuracy: 0.9211\n",
            "Epoch 6/15\n",
            "13/13 [==============================] - 1s 46ms/step - loss: 0.0971 - accuracy: 0.9600 - val_loss: 0.3036 - val_accuracy: 0.9342\n",
            "Epoch 7/15\n",
            "13/13 [==============================] - 1s 46ms/step - loss: 0.1132 - accuracy: 0.9600 - val_loss: 0.2820 - val_accuracy: 0.9079\n",
            "Epoch 8/15\n",
            "13/13 [==============================] - 1s 46ms/step - loss: 0.0828 - accuracy: 0.9714 - val_loss: 0.2451 - val_accuracy: 0.9342\n",
            "Epoch 9/15\n",
            "13/13 [==============================] - 1s 46ms/step - loss: 0.0866 - accuracy: 0.9600 - val_loss: 0.1884 - val_accuracy: 0.9605\n",
            "Epoch 10/15\n",
            "13/13 [==============================] - 1s 46ms/step - loss: 0.0104 - accuracy: 1.0000 - val_loss: 0.3797 - val_accuracy: 0.8684\n",
            "Epoch 11/15\n",
            "13/13 [==============================] - 1s 46ms/step - loss: 0.0051 - accuracy: 1.0000 - val_loss: 0.2227 - val_accuracy: 0.9474\n",
            "Epoch 12/15\n",
            "13/13 [==============================] - 1s 47ms/step - loss: 4.1068e-04 - accuracy: 1.0000 - val_loss: 0.2378 - val_accuracy: 0.9211\n",
            "Epoch 13/15\n",
            "13/13 [==============================] - 1s 46ms/step - loss: 1.1857e-04 - accuracy: 1.0000 - val_loss: 0.2425 - val_accuracy: 0.9211\n",
            "Epoch 14/15\n",
            "13/13 [==============================] - 1s 47ms/step - loss: 7.0794e-05 - accuracy: 1.0000 - val_loss: 0.2425 - val_accuracy: 0.9474\n",
            "Epoch 15/15\n",
            "13/13 [==============================] - 1s 46ms/step - loss: 5.3120e-05 - accuracy: 1.0000 - val_loss: 0.2434 - val_accuracy: 0.9605\n"
          ],
          "name": "stdout"
        }
      ]
    },
    {
      "cell_type": "code",
      "metadata": {
        "id": "CrAFyXIrVZmz",
        "colab_type": "code",
        "colab": {
          "base_uri": "https://localhost:8080/",
          "height": 52
        },
        "outputId": "4bf74d89-61d5-4199-93a9-227d101a69e1"
      },
      "source": [
        "sys.stderr.write(\" \\n Complete Training Time for CNN on Training Set is {0} Seconds\".format(stop - start))\n",
        "sys.stderr.flush()"
      ],
      "execution_count": 9,
      "outputs": [
        {
          "output_type": "stream",
          "text": [
            " \n",
            " Complete Training Time for CNN on Training Set is 13.074184321999837 Seconds"
          ],
          "name": "stderr"
        }
      ]
    },
    {
      "cell_type": "code",
      "metadata": {
        "id": "fJNwRelqVZm_",
        "colab_type": "code",
        "colab": {
          "base_uri": "https://localhost:8080/",
          "height": 295
        },
        "outputId": "adc2e8ce-0822-49b5-b652-8fb85cb3d5dc"
      },
      "source": [
        "# Plot for Loss for the Model \n",
        "cic.Model_loss_Evaluation(history, model_eva = 'CNN')"
      ],
      "execution_count": 10,
      "outputs": [
        {
          "output_type": "display_data",
          "data": {
            "image/png": "[encoded data removed]",
            "text/plain": [
              "<Figure size 432x288 with 1 Axes>"
            ]
          },
          "metadata": {
            "tags": [],
            "needs_background": "light"
          }
        }
      ]
    },
    {
      "cell_type": "code",
      "metadata": {
        "id": "SyAb44LDVZnX",
        "colab_type": "code",
        "colab": {
          "base_uri": "https://localhost:8080/",
          "height": 295
        },
        "outputId": "77a40903-0adf-45b2-a6a6-988b4c21eeaf"
      },
      "source": [
        "# Plot for Accucracy Score for the Model \n",
        "cic.Model_Accuracy_Evaluation(history, model_eva = 'CNN')"
      ],
      "execution_count": 11,
      "outputs": [
        {
          "output_type": "display_data",
          "data": {
            "image/png": "[encoded data removed]",
            "text/plain": [
              "<Figure size 432x288 with 1 Axes>"
            ]
          },
          "metadata": {
            "tags": [],
            "needs_background": "light"
          }
        }
      ]
    },
    {
      "cell_type": "code",
      "metadata": {
        "id": "viw_n-VHVZni",
        "colab_type": "code",
        "colab": {
          "base_uri": "https://localhost:8080/",
          "height": 34
        },
        "outputId": "2035dbbd-554c-4b89-9368-3e7923807350"
      },
      "source": [
        "# Shape of the Test Dataset \n",
        "print(\"Shape of the Test Dataset: \",data_test.shape)"
      ],
      "execution_count": 12,
      "outputs": [
        {
          "output_type": "stream",
          "text": [
            "Shape of the Test Dataset:  (66, 224, 224, 3)\n"
          ],
          "name": "stdout"
        }
      ]
    },
    {
      "cell_type": "code",
      "metadata": {
        "id": "TwC1OtVrVZnv",
        "colab_type": "code",
        "colab": {
          "base_uri": "https://localhost:8080/",
          "height": 52
        },
        "outputId": "d1f6e817-31a6-45c9-873c-4533c1cdf4a8"
      },
      "source": [
        "# Predict the Labels for the Test Set   \n",
        "start = timeit.default_timer()\n",
        "y_pred = model.predict(data_test)\n",
        "stop = timeit.default_timer()\n",
        "sys.stderr.write(\" \\n Prediction Time for CNN on Test Set is {0} Seconds\".format(stop - start))\n",
        "sys.stderr.flush()"
      ],
      "execution_count": 13,
      "outputs": [
        {
          "output_type": "stream",
          "text": [
            " \n",
            " Prediction Time for CNN on Test Set is 0.4973570069998914 Seconds"
          ],
          "name": "stderr"
        }
      ]
    },
    {
      "cell_type": "code",
      "metadata": {
        "id": "P0OhnRBTVZn8",
        "colab_type": "code",
        "colab": {
          "base_uri": "https://localhost:8080/",
          "height": 124
        },
        "outputId": "0a57715a-bdf8-44c4-cd96-c48800175160"
      },
      "source": [
        "# Get the Lables for the Test Set \n",
        "start = timeit.default_timer()\n",
        "y_pred_classes = model.predict_classes(data_test)\n",
        "stop = timeit.default_timer()\n",
        "sys.stderr.write(\" \\n Classes Prediction Time for CNN on Test Set is {0} Seconds\".format(stop - start))\n",
        "sys.stderr.flush()"
      ],
      "execution_count": 14,
      "outputs": [
        {
          "output_type": "stream",
          "text": [
            "WARNING:tensorflow:From <ipython-input-14-b76b764450ad>:3: Sequential.predict_classes (from tensorflow.python.keras.engine.sequential) is deprecated and will be removed after 2021-01-01.\n",
            "Instructions for updating:\n",
            "Please use instead:* `np.argmax(model.predict(x), axis=-1)`,   if your model does multi-class classification   (e.g. if it uses a `softmax` last-layer activation).* `(model.predict(x) > 0.5).astype(\"int32\")`,   if your model does binary classification   (e.g. if it uses a `sigmoid` last-layer activation).\n"
          ],
          "name": "stdout"
        },
        {
          "output_type": "stream",
          "text": [
            " \n",
            " Classes Prediction Time for CNN on Test Set is 0.09791132299983474 Seconds"
          ],
          "name": "stderr"
        }
      ]
    },
    {
      "cell_type": "code",
      "metadata": {
        "id": "fMPZAVPHVZoH",
        "colab_type": "code",
        "colab": {
          "base_uri": "https://localhost:8080/",
          "height": 72
        },
        "outputId": "047e85ba-19a8-4e99-c827-5f473b10b092"
      },
      "source": [
        "# Print the Class Labels of Test Set \n",
        "print(\"Predicted Class Labels from the Neural Network on the Test Set: \",y_pred_classes)"
      ],
      "execution_count": 15,
      "outputs": [
        {
          "output_type": "stream",
          "text": [
            "Predicted Class Labels from the Neural Network on the Test Set:  [2 2 1 0 2 0 2 1 0 1 2 0 0 2 1 0 1 1 1 0 2 0 2 1 0 0 0 2 2 2 2 0 2 2 1 0 1\n",
            " 1 1 2 1 2 2 2 0 2 1 2 0 2 1 1 2 1 1 2 2 0 1 1 0 2 0 2 1 1]\n"
          ],
          "name": "stdout"
        }
      ]
    },
    {
      "cell_type": "code",
      "metadata": {
        "id": "u6C8i5jiVZoR",
        "colab_type": "code",
        "colab": {
          "base_uri": "https://localhost:8080/",
          "height": 286
        },
        "outputId": "b9a72292-8747-4f4a-ed6f-e308b92fb47c"
      },
      "source": [
        "# Show the Image for Verification \n",
        "plt.imshow(data_test[62])"
      ],
      "execution_count": 19,
      "outputs": [
        {
          "output_type": "execute_result",
          "data": {
            "text/plain": [
              "<matplotlib.image.AxesImage at 0x7f60b37e3198>"
            ]
          },
          "metadata": {
            "tags": []
          },
          "execution_count": 19
        },
        {
          "output_type": "display_data",
          "data": {
            "image/png": "[encoded data removed]",
            "text/plain": [
              "<Figure size 432x288 with 1 Axes>"
            ]
          },
          "metadata": {
            "tags": [],
            "needs_background": "light"
          }
        }
      ]
    },
    {
      "cell_type": "code",
      "metadata": {
        "id": "Pgp-OAdDcT0h",
        "colab_type": "code",
        "colab": {}
      },
      "source": [
        ""
      ],
      "execution_count": 16,
      "outputs": []
    }
  ]
}